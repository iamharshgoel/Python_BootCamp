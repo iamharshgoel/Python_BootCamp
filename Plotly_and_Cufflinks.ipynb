{
 "cells": [
  {
   "cell_type": "code",
   "execution_count": 13,
   "metadata": {},
   "outputs": [],
   "source": [
    "import pandas as pd\n",
    "import numpy as np\n",
    "%matplotlib inline"
   ]
  },
  {
   "cell_type": "code",
   "execution_count": 2,
   "metadata": {},
   "outputs": [],
   "source": [
    "from plotly import __version__"
   ]
  },
  {
   "cell_type": "code",
   "execution_count": 3,
   "metadata": {},
   "outputs": [
    {
     "name": "stdout",
     "output_type": "stream",
     "text": [
      "4.5.0\n"
     ]
    }
   ],
   "source": [
    "print(__version__)"
   ]
  },
  {
   "cell_type": "code",
   "execution_count": 4,
   "metadata": {},
   "outputs": [],
   "source": [
    "import cufflinks as cf"
   ]
  },
  {
   "cell_type": "code",
   "execution_count": 5,
   "metadata": {},
   "outputs": [],
   "source": [
    "from plotly.offline import download_plotlyjs, init_notebook_mode,plot,iplot"
   ]
  },
  {
   "cell_type": "code",
   "execution_count": 6,
   "metadata": {},
   "outputs": [
    {
     "data": {
      "text/html": [
       "        <script type=\"text/javascript\">\n",
       "        window.PlotlyConfig = {MathJaxConfig: 'local'};\n",
       "        if (window.MathJax) {MathJax.Hub.Config({SVG: {font: \"STIX-Web\"}});}\n",
       "        if (typeof require !== 'undefined') {\n",
       "        require.undef(\"plotly\");\n",
       "        requirejs.config({\n",
       "            paths: {\n",
       "                'plotly': ['https://cdn.plot.ly/plotly-latest.min']\n",
       "            }\n",
       "        });\n",
       "        require(['plotly'], function(Plotly) {\n",
       "            window._Plotly = Plotly;\n",
       "        });\n",
       "        }\n",
       "        </script>\n",
       "        "
      ]
     },
     "metadata": {},
     "output_type": "display_data"
    }
   ],
   "source": [
    "init_notebook_mode(connected=True)"
   ]
  },
  {
   "cell_type": "code",
   "execution_count": 7,
   "metadata": {},
   "outputs": [
    {
     "data": {
      "text/html": [
       "        <script type=\"text/javascript\">\n",
       "        window.PlotlyConfig = {MathJaxConfig: 'local'};\n",
       "        if (window.MathJax) {MathJax.Hub.Config({SVG: {font: \"STIX-Web\"}});}\n",
       "        if (typeof require !== 'undefined') {\n",
       "        require.undef(\"plotly\");\n",
       "        requirejs.config({\n",
       "            paths: {\n",
       "                'plotly': ['https://cdn.plot.ly/plotly-latest.min']\n",
       "            }\n",
       "        });\n",
       "        require(['plotly'], function(Plotly) {\n",
       "            window._Plotly = Plotly;\n",
       "        });\n",
       "        }\n",
       "        </script>\n",
       "        "
      ]
     },
     "metadata": {},
     "output_type": "display_data"
    }
   ],
   "source": [
    "cf.go_offline()"
   ]
  },
  {
   "cell_type": "code",
   "execution_count": 9,
   "metadata": {},
   "outputs": [],
   "source": [
    "#DATA\n",
    "df = pd.DataFrame(np.random.randn(100,4),columns='A B C D'.split())"
   ]
  },
  {
   "cell_type": "code",
   "execution_count": 10,
   "metadata": {},
   "outputs": [
    {
     "data": {
      "text/html": [
       "<div>\n",
       "<style scoped>\n",
       "    .dataframe tbody tr th:only-of-type {\n",
       "        vertical-align: middle;\n",
       "    }\n",
       "\n",
       "    .dataframe tbody tr th {\n",
       "        vertical-align: top;\n",
       "    }\n",
       "\n",
       "    .dataframe thead th {\n",
       "        text-align: right;\n",
       "    }\n",
       "</style>\n",
       "<table border=\"1\" class=\"dataframe\">\n",
       "  <thead>\n",
       "    <tr style=\"text-align: right;\">\n",
       "      <th></th>\n",
       "      <th>A</th>\n",
       "      <th>B</th>\n",
       "      <th>C</th>\n",
       "      <th>D</th>\n",
       "    </tr>\n",
       "  </thead>\n",
       "  <tbody>\n",
       "    <tr>\n",
       "      <td>0</td>\n",
       "      <td>0.792135</td>\n",
       "      <td>-0.755354</td>\n",
       "      <td>1.362507</td>\n",
       "      <td>0.167869</td>\n",
       "    </tr>\n",
       "    <tr>\n",
       "      <td>1</td>\n",
       "      <td>1.946826</td>\n",
       "      <td>-0.425677</td>\n",
       "      <td>0.914495</td>\n",
       "      <td>-0.766076</td>\n",
       "    </tr>\n",
       "    <tr>\n",
       "      <td>2</td>\n",
       "      <td>1.416320</td>\n",
       "      <td>0.815778</td>\n",
       "      <td>-0.043794</td>\n",
       "      <td>-0.240340</td>\n",
       "    </tr>\n",
       "    <tr>\n",
       "      <td>3</td>\n",
       "      <td>0.116127</td>\n",
       "      <td>-2.254198</td>\n",
       "      <td>0.099263</td>\n",
       "      <td>-0.168283</td>\n",
       "    </tr>\n",
       "    <tr>\n",
       "      <td>4</td>\n",
       "      <td>0.755703</td>\n",
       "      <td>-0.723327</td>\n",
       "      <td>1.243972</td>\n",
       "      <td>-0.707118</td>\n",
       "    </tr>\n",
       "  </tbody>\n",
       "</table>\n",
       "</div>"
      ],
      "text/plain": [
       "          A         B         C         D\n",
       "0  0.792135 -0.755354  1.362507  0.167869\n",
       "1  1.946826 -0.425677  0.914495 -0.766076\n",
       "2  1.416320  0.815778 -0.043794 -0.240340\n",
       "3  0.116127 -2.254198  0.099263 -0.168283\n",
       "4  0.755703 -0.723327  1.243972 -0.707118"
      ]
     },
     "execution_count": 10,
     "metadata": {},
     "output_type": "execute_result"
    }
   ],
   "source": [
    "df.head()"
   ]
  },
  {
   "cell_type": "code",
   "execution_count": 11,
   "metadata": {},
   "outputs": [],
   "source": [
    "df2 = pd.DataFrame({'Category':['A','B','C'],'Values':[32,43,50]})"
   ]
  },
  {
   "cell_type": "code",
   "execution_count": 12,
   "metadata": {},
   "outputs": [
    {
     "data": {
      "text/html": [
       "<div>\n",
       "<style scoped>\n",
       "    .dataframe tbody tr th:only-of-type {\n",
       "        vertical-align: middle;\n",
       "    }\n",
       "\n",
       "    .dataframe tbody tr th {\n",
       "        vertical-align: top;\n",
       "    }\n",
       "\n",
       "    .dataframe thead th {\n",
       "        text-align: right;\n",
       "    }\n",
       "</style>\n",
       "<table border=\"1\" class=\"dataframe\">\n",
       "  <thead>\n",
       "    <tr style=\"text-align: right;\">\n",
       "      <th></th>\n",
       "      <th>Category</th>\n",
       "      <th>Values</th>\n",
       "    </tr>\n",
       "  </thead>\n",
       "  <tbody>\n",
       "    <tr>\n",
       "      <td>0</td>\n",
       "      <td>A</td>\n",
       "      <td>32</td>\n",
       "    </tr>\n",
       "    <tr>\n",
       "      <td>1</td>\n",
       "      <td>B</td>\n",
       "      <td>43</td>\n",
       "    </tr>\n",
       "    <tr>\n",
       "      <td>2</td>\n",
       "      <td>C</td>\n",
       "      <td>50</td>\n",
       "    </tr>\n",
       "  </tbody>\n",
       "</table>\n",
       "</div>"
      ],
      "text/plain": [
       "  Category  Values\n",
       "0        A      32\n",
       "1        B      43\n",
       "2        C      50"
      ]
     },
     "execution_count": 12,
     "metadata": {},
     "output_type": "execute_result"
    }
   ],
   "source": [
    "df2.head()"
   ]
  },
  {
   "cell_type": "code",
   "execution_count": 14,
   "metadata": {},
   "outputs": [
    {
     "data": {
      "text/plain": [
       "<matplotlib.axes._subplots.AxesSubplot at 0x1f6d6d49548>"
      ]
     },
     "execution_count": 14,
     "metadata": {},
     "output_type": "execute_result"
    },
    {
     "data": {
      "image/png": "[encoded data removed]",
      "text/plain": [
       "<Figure size 432x288 with 1 Axes>"
      ]
     },
     "metadata": {
      "needs_background": "light"
     },
     "output_type": "display_data"
    }
   ],
   "source": [
    "df.plot()"
   ]
  },
  {
   "cell_type": "code",
   "execution_count": 15,
   "metadata": {},
   "outputs": [
    {
     "data": {
      "application/vnd.plotly.v1+json": {
       "config": {
        "linkText": "Export to plot.ly",
        "plotlyServerURL": "https://plot.ly",
        "showLink": true
       },
       "data": [
        {
         "line": {
          "color": "rgba(255, 153, 51, 1.0)",
          "dash": "solid",
          "shape": "linear",
          "width": 1.3
         },
         "mode": "lines",
         "name": "A",
         "text": "",
         "type": "scatter",
         "x": [
          0,
          1,
          2,
          3,
          4,
          5,
          6,
          7,
          8,
          9,
          10,
          11,
          12,
          13,
          14,
          15,
          16,
          17,
          18,
          19,
          20,
          21,
          22,
          23,
          24,
          25,
          26,
          27,
          28,
          29,
          30,
          31,
          32,
          33,
          34,
          35,
          36,
          37,
          38,
          39,
          40,
          41,
          42,
          43,
          44,
          45,
          46,
          47,
          48,
          49,
          50,
          51,
          52,
          53,
          54,
          55,
          56,
          57,
          58,
          59,
          60,
          61,
          62,
          63,
          64,
          65,
          66,
          67,
          68,
          69,
          70,
          71,
          72,
          73,
          74,
          75,
          76,
          77,
          78,
          79,
          80,
          81,
          82,
          83,
          84,
          85,
          86,
          87,
          88,
          89,
          90,
          91,
          92,
          93,
          94,
          95,
          96,
          97,
          98,
          99
         ],
         "y": [
          0.7921346859019157,
          1.946825695054702,
          1.4163203147173689,
          0.1161272154136565,
          0.7557025036279604,
          -0.7350872131145143,
          1.6071158265686813,
          -0.6369620656059007,
          0.8497778207394941,
          -0.33749859130626686,
          1.2280973838411833,
          0.036716134725273894,
          -0.3037665937695192,
          0.8239925184967525,
          -1.3538724565017246,
          -0.45194949085156416,
          -1.913074905602045,
          0.17762581698740607,
          -0.7004150163916316,
          0.03188946476696092,
          -0.7719163151332366,
          0.2905161338207252,
          1.4934765893559856,
          1.1517359541867793,
          1.4005117647742198,
          -0.6275397842825213,
          0.8926363946884873,
          -1.0677207378979978,
          -0.19471466043106184,
          0.1529956333359573,
          -0.8218180765611363,
          -0.8503299315540951,
          2.746705232928189,
          0.8121025992904255,
          2.1918060723428723,
          0.1828701452483579,
          0.4455028799628107,
          -0.5193802210214439,
          1.104547831058544,
          0.6594367637087866,
          -1.313520282034992,
          1.190998233995262,
          -0.49647494111496654,
          0.06890857086669673,
          0.8211669474128339,
          -0.6181956721468078,
          -0.31902044193029055,
          -0.19023723733723844,
          0.6886533928938934,
          -0.9332439063027611,
          -0.17051026893912857,
          0.051544294241111815,
          -0.4159263649641647,
          0.8566264197567114,
          0.29402607091862265,
          -1.099818139175731,
          -1.1314940858303717,
          0.9281480352753586,
          -0.13439689942833424,
          0.045604618865690276,
          -0.9979314517757257,
          -0.07269042102427148,
          -0.5356990006428285,
          -1.1990026834526482,
          0.1976306802793206,
          -0.6760867737177405,
          -0.4370643149105769,
          1.7123117467895295,
          1.8799972780063177,
          -0.07036592754360131,
          1.903342736762849,
          -0.7909243457034956,
          -0.21648795712901556,
          -0.18759480763157985,
          -0.17191582545359513,
          1.2163634807475439,
          1.1517611276683175,
          -0.7984270716400544,
          0.7817741035366015,
          2.2456629185031023,
          1.389344614456707,
          0.5726770872579274,
          -0.05996906126751653,
          0.3420213779390641,
          -0.2379680007605113,
          0.3649105284334666,
          0.263804800291932,
          0.3277197543628306,
          -0.2530061140131053,
          1.1758363314661346,
          -0.08852367242694675,
          -0.22481209189451987,
          0.15802992649044043,
          -1.5061386445028795,
          0.6729920524858238,
          -0.3211746441519791,
          1.018943249519832,
          -1.7824913063580343,
          0.891561971167367,
          -1.1815199382522332
         ]
        },
        {
         "line": {
          "color": "rgba(55, 128, 191, 1.0)",
          "dash": "solid",
          "shape": "linear",
          "width": 1.3
         },
         "mode": "lines",
         "name": "B",
         "text": "",
         "type": "scatter",
         "x": [
          0,
          1,
          2,
          3,
          4,
          5,
          6,
          7,
          8,
          9,
          10,
          11,
          12,
          13,
          14,
          15,
          16,
          17,
          18,
          19,
          20,
          21,
          22,
          23,
          24,
          25,
          26,
          27,
          28,
          29,
          30,
          31,
          32,
          33,
          34,
          35,
          36,
          37,
          38,
          39,
          40,
          41,
          42,
          43,
          44,
          45,
          46,
          47,
          48,
          49,
          50,
          51,
          52,
          53,
          54,
          55,
          56,
          57,
          58,
          59,
          60,
          61,
          62,
          63,
          64,
          65,
          66,
          67,
          68,
          69,
          70,
          71,
          72,
          73,
          74,
          75,
          76,
          77,
          78,
          79,
          80,
          81,
          82,
          83,
          84,
          85,
          86,
          87,
          88,
          89,
          90,
          91,
          92,
          93,
          94,
          95,
          96,
          97,
          98,
          99
         ],
         "y": [
          -0.755353873179904,
          -0.4256767679096191,
          0.8157780024246971,
          -2.2541977161527247,
          -0.7233269440454809,
          -0.3786556373601695,
          -0.4195600810812267,
          -1.0793100455317586,
          0.8220363590786557,
          0.48768333438156214,
          1.3906112268818829,
          -1.660562236233282,
          1.2811839261911535,
          -0.8915535733622445,
          -0.42391847699293117,
          0.1113894103911496,
          1.141630830605558,
          -1.2483726382556115,
          0.8449777733211241,
          -0.5021909158980505,
          1.8137801708054053,
          -1.0325995855976582,
          1.2385329606445827,
          0.2742951614108968,
          -0.04380311529890623,
          -0.3111212097926691,
          0.21211975876158917,
          1.3149102153503898,
          2.4643229801701025,
          -0.619603592493676,
          -0.747113629066319,
          0.5431806643475502,
          -0.2734201992074562,
          -1.3360418266526963,
          0.8090919933441999,
          -0.031279339706645655,
          -0.037058879582681205,
          1.0157389257755776,
          -0.48043568443838675,
          0.31485240310950013,
          -0.7130777817802696,
          0.5197397848035694,
          -1.418160664078292,
          1.1033388571762677,
          0.9979752730335754,
          2.83369159311136,
          1.9073160281621018,
          0.38186024604961033,
          -1.1806003432890024,
          -0.5143575584503659,
          -0.3957816536562888,
          -0.5268066455809626,
          -0.15014706606849018,
          0.13173277087200919,
          1.93981894214876,
          -0.3902593736360637,
          1.6358481423378353,
          0.8115150249350609,
          -0.8555629872017407,
          0.18761674013119092,
          -0.7905156503572589,
          -0.4615672762918858,
          0.34482776614752947,
          0.19434981423092712,
          0.8244631807844324,
          0.1701337758593794,
          1.8909263075644804,
          -0.6636415622048087,
          0.6314810168714927,
          0.36476490047848975,
          0.47866952971355303,
          1.2887293734556127,
          -0.266023327476621,
          -0.1502322605674205,
          -1.1503150530123967,
          0.08230965925441752,
          -0.562349929195335,
          -1.9553643072289255,
          0.5447662913675482,
          0.8458391678364608,
          -0.3923223744037829,
          -0.4830673950348278,
          0.9697117616204505,
          -0.6558959572087942,
          -0.1786710138083607,
          0.4673075927125077,
          0.5895188619517944,
          -1.644346405559177,
          1.018096940218595,
          0.3002176019003145,
          -0.26036541607405717,
          -0.3552758805482968,
          1.138262275081289,
          0.16586658168269822,
          -1.5356808881214654,
          -2.525725571839549,
          1.3261952687937644,
          0.3440020565671146,
          -1.024023927456685,
          -0.026135700939124245
         ]
        },
        {
         "line": {
          "color": "rgba(50, 171, 96, 1.0)",
          "dash": "solid",
          "shape": "linear",
          "width": 1.3
         },
         "mode": "lines",
         "name": "C",
         "text": "",
         "type": "scatter",
         "x": [
          0,
          1,
          2,
          3,
          4,
          5,
          6,
          7,
          8,
          9,
          10,
          11,
          12,
          13,
          14,
          15,
          16,
          17,
          18,
          19,
          20,
          21,
          22,
          23,
          24,
          25,
          26,
          27,
          28,
          29,
          30,
          31,
          32,
          33,
          34,
          35,
          36,
          37,
          38,
          39,
          40,
          41,
          42,
          43,
          44,
          45,
          46,
          47,
          48,
          49,
          50,
          51,
          52,
          53,
          54,
          55,
          56,
          57,
          58,
          59,
          60,
          61,
          62,
          63,
          64,
          65,
          66,
          67,
          68,
          69,
          70,
          71,
          72,
          73,
          74,
          75,
          76,
          77,
          78,
          79,
          80,
          81,
          82,
          83,
          84,
          85,
          86,
          87,
          88,
          89,
          90,
          91,
          92,
          93,
          94,
          95,
          96,
          97,
          98,
          99
         ],
         "y": [
          1.3625069996408685,
          0.9144952248887764,
          -0.04379371033273974,
          0.09926340152837985,
          1.2439724798159724,
          1.1541745177710157,
          0.8903331224676148,
          -0.266292290561748,
          -0.04175051493955355,
          1.0301172806259171,
          -0.5928166169608095,
          -1.7103241908806828,
          1.5518485422560453,
          -0.8470507769567207,
          1.2270784178865735,
          0.5965754556850948,
          -0.4758371563683018,
          0.872427010018932,
          -1.792956333172518,
          -0.38186421963418965,
          -2.1181936570248463,
          0.04830933305814722,
          -0.2377517243843703,
          1.180649111475662,
          0.750538260223122,
          0.9987999439705197,
          -0.3746257593686016,
          1.67463871096551,
          -0.7603667656154767,
          -0.07638038847929986,
          0.4166224532956056,
          -0.6113448167098882,
          -0.5619164790482407,
          -0.5299474677729248,
          -0.6454235969449024,
          -1.5844963110045438,
          1.7958848004195698,
          0.05725658047593841,
          0.2721754274360363,
          1.2775937537343836,
          -1.090054521555069,
          -0.42179786795174207,
          1.2423180080467975,
          -0.010861564683631282,
          0.15506944960313332,
          -0.17041242917319238,
          -0.40178919529776935,
          0.31202362583184595,
          0.9130877026457608,
          0.6979280217528265,
          -0.3744751044346249,
          -0.3356760147211475,
          0.48003599789582946,
          0.519507398890785,
          -1.3585467086201315,
          -1.3681957134473788,
          0.5749568613249194,
          0.6692379140807965,
          1.377450523387284,
          1.9966917262315202,
          0.5426288454362674,
          0.8272004758045935,
          -0.4366866732935288,
          -0.30638253901940254,
          1.1722894324864024,
          0.6870803694725929,
          -1.5676196674203213,
          1.4476838161089778,
          -1.68998241695538,
          -0.6374153838701762,
          -0.4442773346777854,
          0.34665700385127446,
          -0.9714136879825543,
          -0.306819209481289,
          -0.9333384010003253,
          -0.15705929393017123,
          -0.8621365632898269,
          1.8982151081219376,
          -1.9557762436737225,
          -0.45832500451598934,
          0.9914760514765695,
          0.320091570765724,
          0.8031181822203135,
          -0.3923864355104031,
          -0.45168071389999304,
          0.22009011992701982,
          0.5955333007411939,
          -0.18003516240607267,
          -1.0297839283237813,
          -0.35674347150142727,
          0.5010231233276244,
          3.0244816886034616,
          -1.4518354545370757,
          -0.7238706064189212,
          -1.9546467592720356,
          1.6750188451554895,
          0.9591556681989486,
          -0.5368549291145766,
          0.8130714085694476,
          -0.31847863880302585
         ]
        },
        {
         "line": {
          "color": "rgba(128, 0, 128, 1.0)",
          "dash": "solid",
          "shape": "linear",
          "width": 1.3
         },
         "mode": "lines",
         "name": "D",
         "text": "",
         "type": "scatter",
         "x": [
          0,
          1,
          2,
          3,
          4,
          5,
          6,
          7,
          8,
          9,
          10,
          11,
          12,
          13,
          14,
          15,
          16,
          17,
          18,
          19,
          20,
          21,
          22,
          23,
          24,
          25,
          26,
          27,
          28,
          29,
          30,
          31,
          32,
          33,
          34,
          35,
          36,
          37,
          38,
          39,
          40,
          41,
          42,
          43,
          44,
          45,
          46,
          47,
          48,
          49,
          50,
          51,
          52,
          53,
          54,
          55,
          56,
          57,
          58,
          59,
          60,
          61,
          62,
          63,
          64,
          65,
          66,
          67,
          68,
          69,
          70,
          71,
          72,
          73,
          74,
          75,
          76,
          77,
          78,
          79,
          80,
          81,
          82,
          83,
          84,
          85,
          86,
          87,
          88,
          89,
          90,
          91,
          92,
          93,
          94,
          95,
          96,
          97,
          98,
          99
         ],
         "y": [
          0.1678688456852729,
          -0.7660755490375207,
          -0.24033995622475704,
          -0.1682834967212138,
          -0.7071182614203896,
          -0.7681995890374017,
          -2.033746607587051,
          -0.13645665960025008,
          0.8853957116965118,
          0.7684011089760281,
          1.3331923437966315,
          -0.6313108008149433,
          -0.1990810753545615,
          -0.9362029443403491,
          -0.48602397477900594,
          0.6943936691591144,
          -1.3138802802680032,
          0.2392164800781996,
          1.0907698280119023,
          1.8965747576752692,
          0.442885360234719,
          -0.6864410326378556,
          -0.8427733927849178,
          1.879280752642242,
          -0.8766615576635849,
          -0.7968093327132704,
          0.48471521549216495,
          0.6680262768318319,
          0.928831286436281,
          -0.3097847577236534,
          0.11246450934781085,
          -1.3215886940461292,
          0.08853158506239107,
          1.1598699817635334,
          1.466549647872314,
          -1.1640330918656165,
          -1.61767356039815,
          -1.609374924580595,
          -0.3678068225477947,
          0.6721842330036858,
          -0.5394995077186759,
          -0.6191387319020631,
          0.23897827009090414,
          -0.4560648370029805,
          -0.5130532625487461,
          0.04869945067598958,
          0.7945450847747928,
          0.9463268407815968,
          -0.056612104084040674,
          -0.8617504834866899,
          1.4845618102402878,
          3.145860220342536,
          -1.9041065545592328,
          1.5350121393448692,
          0.6627933498060756,
          0.09675705889637655,
          -0.8923072027447188,
          -0.5525401182438261,
          0.8290980738948833,
          1.470022690133724,
          -0.8860840655185193,
          -0.09681710155206424,
          0.30865486290318156,
          0.21943714014526172,
          0.11341629867977683,
          -1.2266711866065867,
          0.22103297889399115,
          0.06725162810266645,
          0.5580915971155165,
          1.0105818532027613,
          -0.15753228208829775,
          0.3938749268228596,
          1.08155031642873,
          -0.04125426043324729,
          -0.4169155318556582,
          1.2679845140404256,
          0.08705806488006085,
          0.21120171595670129,
          0.15821498663748168,
          -0.5356086125675361,
          3.251672425388064,
          1.4102313844205876,
          0.24108712582044428,
          -0.5686913122244588,
          0.7059547425843715,
          -0.29410301722008786,
          -0.537492381963061,
          -0.4583903711628853,
          0.31492293193018556,
          0.5599066087163566,
          1.0843010187485178,
          0.020497693627848947,
          0.5921960317117614,
          -0.7774516166862487,
          1.050757571631062,
          2.6606214337424148,
          0.4164070043407307,
          1.058442534293066,
          0.7592181641268156,
          0.41374422308068587
         ]
        }
       ],
       "layout": {
        "legend": {
         "bgcolor": "#F5F6F9",
         "font": {
          "color": "#4D5663"
         }
        },
        "paper_bgcolor": "#F5F6F9",
        "plot_bgcolor": "#F5F6F9",
        "template": {
         "data": {
          "bar": [
           {
            "error_x": {
             "color": "#2a3f5f"
            },
            "error_y": {
             "color": "#2a3f5f"
            },
            "marker": {
             "line": {
              "color": "#E5ECF6",
              "width": 0.5
             }
            },
            "type": "bar"
           }
          ],
          "barpolar": [
           {
            "marker": {
             "line": {
              "color": "#E5ECF6",
              "width": 0.5
             }
            },
            "type": "barpolar"
           }
          ],
          "carpet": [
           {
            "aaxis": {
             "endlinecolor": "#2a3f5f",
             "gridcolor": "white",
             "linecolor": "white",
             "minorgridcolor": "white",
             "startlinecolor": "#2a3f5f"
            },
            "baxis": {
             "endlinecolor": "#2a3f5f",
             "gridcolor": "white",
             "linecolor": "white",
             "minorgridcolor": "white",
             "startlinecolor": "#2a3f5f"
            },
            "type": "carpet"
           }
          ],
          "choropleth": [
           {
            "colorbar": {
             "outlinewidth": 0,
             "ticks": ""
            },
            "type": "choropleth"
           }
          ],
          "contour": [
           {
            "colorbar": {
             "outlinewidth": 0,
             "ticks": ""
            },
            "colorscale": [
             [
              0,
              "#0d0887"
             ],
             [
              0.1111111111111111,
              "#46039f"
             ],
             [
              0.2222222222222222,
              "#7201a8"
             ],
             [
              0.3333333333333333,
              "#9c179e"
             ],
             [
              0.4444444444444444,
              "#bd3786"
             ],
             [
              0.5555555555555556,
              "#d8576b"
             ],
             [
              0.6666666666666666,
              "#ed7953"
             ],
             [
              0.7777777777777778,
              "#fb9f3a"
             ],
             [
              0.8888888888888888,
              "#fdca26"
             ],
             [
              1,
              "#f0f921"
             ]
            ],
            "type": "contour"
           }
          ],
          "contourcarpet": [
           {
            "colorbar": {
             "outlinewidth": 0,
             "ticks": ""
            },
            "type": "contourcarpet"
           }
          ],
          "heatmap": [
           {
            "colorbar": {
             "outlinewidth": 0,
             "ticks": ""
            },
            "colorscale": [
             [
              0,
              "#0d0887"
             ],
             [
              0.1111111111111111,
              "#46039f"
             ],
             [
              0.2222222222222222,
              "#7201a8"
             ],
             [
              0.3333333333333333,
              "#9c179e"
             ],
             [
              0.4444444444444444,
              "#bd3786"
             ],
             [
              0.5555555555555556,
              "#d8576b"
             ],
             [
              0.6666666666666666,
              "#ed7953"
             ],
             [
              0.7777777777777778,
              "#fb9f3a"
             ],
             [
              0.8888888888888888,
              "#fdca26"
             ],
             [
              1,
              "#f0f921"
             ]
            ],
            "type": "heatmap"
           }
          ],
          "heatmapgl": [
           {
            "colorbar": {
             "outlinewidth": 0,
             "ticks": ""
            },
            "colorscale": [
             [
              0,
              "#0d0887"
             ],
             [
              0.1111111111111111,
              "#46039f"
             ],
             [
              0.2222222222222222,
              "#7201a8"
             ],
             [
              0.3333333333333333,
              "#9c179e"
             ],
             [
              0.4444444444444444,
              "#bd3786"
             ],
             [
              0.5555555555555556,
              "#d8576b"
             ],
             [
              0.6666666666666666,
              "#ed7953"
             ],
             [
              0.7777777777777778,
              "#fb9f3a"
             ],
             [
              0.8888888888888888,
              "#fdca26"
             ],
             [
              1,
              "#f0f921"
             ]
            ],
            "type": "heatmapgl"
           }
          ],
          "histogram": [
           {
            "marker": {
             "colorbar": {
              "outlinewidth": 0,
              "ticks": ""
             }
            },
            "type": "histogram"
           }
          ],
          "histogram2d": [
           {
            "colorbar": {
             "outlinewidth": 0,
             "ticks": ""
            },
            "colorscale": [
             [
              0,
              "#0d0887"
             ],
             [
              0.1111111111111111,
              "#46039f"
             ],
             [
              0.2222222222222222,
              "#7201a8"
             ],
             [
              0.3333333333333333,
              "#9c179e"
             ],
             [
              0.4444444444444444,
              "#bd3786"
             ],
             [
              0.5555555555555556,
              "#d8576b"
             ],
             [
              0.6666666666666666,
              "#ed7953"
             ],
             [
              0.7777777777777778,
              "#fb9f3a"
             ],
             [
              0.8888888888888888,
              "#fdca26"
             ],
             [
              1,
              "#f0f921"
             ]
            ],
            "type": "histogram2d"
           }
          ],
          "histogram2dcontour": [
           {
            "colorbar": {
             "outlinewidth": 0,
             "ticks": ""
            },
            "colorscale": [
             [
              0,
              "#0d0887"
             ],
             [
              0.1111111111111111,
              "#46039f"
             ],
             [
              0.2222222222222222,
              "#7201a8"
             ],
             [
              0.3333333333333333,
              "#9c179e"
             ],
             [
              0.4444444444444444,
              "#bd3786"
             ],
             [
              0.5555555555555556,
              "#d8576b"
             ],
             [
              0.6666666666666666,
              "#ed7953"
             ],
             [
              0.7777777777777778,
              "#fb9f3a"
             ],
             [
              0.8888888888888888,
              "#fdca26"
             ],
             [
              1,
              "#f0f921"
             ]
            ],
            "type": "histogram2dcontour"
           }
          ],
          "mesh3d": [
           {
            "colorbar": {
             "outlinewidth": 0,
             "ticks": ""
            },
            "type": "mesh3d"
           }
          ],
          "parcoords": [
           {
            "line": {
             "colorbar": {
              "outlinewidth": 0,
              "ticks": ""
             }
            },
            "type": "parcoords"
           }
          ],
          "pie": [
           {
            "automargin": true,
            "type": "pie"
           }
          ],
          "scatter": [
           {
            "marker": {
             "colorbar": {
              "outlinewidth": 0,
              "ticks": ""
             }
            },
            "type": "scatter"
           }
          ],
          "scatter3d": [
           {
            "line": {
             "colorbar": {
              "outlinewidth": 0,
              "ticks": ""
             }
            },
            "marker": {
             "colorbar": {
              "outlinewidth": 0,
              "ticks": ""
             }
            },
            "type": "scatter3d"
           }
          ],
          "scattercarpet": [
           {
            "marker": {
             "colorbar": {
              "outlinewidth": 0,
              "ticks": ""
             }
            },
            "type": "scattercarpet"
           }
          ],
          "scattergeo": [
           {
            "marker": {
             "colorbar": {
              "outlinewidth": 0,
              "ticks": ""
             }
            },
            "type": "scattergeo"
           }
          ],
          "scattergl": [
           {
            "marker": {
             "colorbar": {
              "outlinewidth": 0,
              "ticks": ""
             }
            },
            "type": "scattergl"
           }
          ],
          "scattermapbox": [
           {
            "marker": {
             "colorbar": {
              "outlinewidth": 0,
              "ticks": ""
             }
            },
            "type": "scattermapbox"
           }
          ],
          "scatterpolar": [
           {
            "marker": {
             "colorbar": {
              "outlinewidth": 0,
              "ticks": ""
             }
            },
            "type": "scatterpolar"
           }
          ],
          "scatterpolargl": [
           {
            "marker": {
             "colorbar": {
              "outlinewidth": 0,
              "ticks": ""
             }
            },
            "type": "scatterpolargl"
           }
          ],
          "scatterternary": [
           {
            "marker": {
             "colorbar": {
              "outlinewidth": 0,
              "ticks": ""
             }
            },
            "type": "scatterternary"
           }
          ],
          "surface": [
           {
            "colorbar": {
             "outlinewidth": 0,
             "ticks": ""
            },
            "colorscale": [
             [
              0,
              "#0d0887"
             ],
             [
              0.1111111111111111,
              "#46039f"
             ],
             [
              0.2222222222222222,
              "#7201a8"
             ],
             [
              0.3333333333333333,
              "#9c179e"
             ],
             [
              0.4444444444444444,
              "#bd3786"
             ],
             [
              0.5555555555555556,
              "#d8576b"
             ],
             [
              0.6666666666666666,
              "#ed7953"
             ],
             [
              0.7777777777777778,
              "#fb9f3a"
             ],
             [
              0.8888888888888888,
              "#fdca26"
             ],
             [
              1,
              "#f0f921"
             ]
            ],
            "type": "surface"
           }
          ],
          "table": [
           {
            "cells": {
             "fill": {
              "color": "#EBF0F8"
             },
             "line": {
              "color": "white"
             }
            },
            "header": {
             "fill": {
              "color": "#C8D4E3"
             },
             "line": {
              "color": "white"
             }
            },
            "type": "table"
           }
          ]
         },
         "layout": {
          "annotationdefaults": {
           "arrowcolor": "#2a3f5f",
           "arrowhead": 0,
           "arrowwidth": 1
          },
          "coloraxis": {
           "colorbar": {
            "outlinewidth": 0,
            "ticks": ""
           }
          },
          "colorscale": {
           "diverging": [
            [
             0,
             "#8e0152"
            ],
            [
             0.1,
             "#c51b7d"
            ],
            [
             0.2,
             "#de77ae"
            ],
            [
             0.3,
             "#f1b6da"
            ],
            [
             0.4,
             "#fde0ef"
            ],
            [
             0.5,
             "#f7f7f7"
            ],
            [
             0.6,
             "#e6f5d0"
            ],
            [
             0.7,
             "#b8e186"
            ],
            [
             0.8,
             "#7fbc41"
            ],
            [
             0.9,
             "#4d9221"
            ],
            [
             1,
             "#276419"
            ]
           ],
           "sequential": [
            [
             0,
             "#0d0887"
            ],
            [
             0.1111111111111111,
             "#46039f"
            ],
            [
             0.2222222222222222,
             "#7201a8"
            ],
            [
             0.3333333333333333,
             "#9c179e"
            ],
            [
             0.4444444444444444,
             "#bd3786"
            ],
            [
             0.5555555555555556,
             "#d8576b"
            ],
            [
             0.6666666666666666,
             "#ed7953"
            ],
            [
             0.7777777777777778,
             "#fb9f3a"
            ],
            [
             0.8888888888888888,
             "#fdca26"
            ],
            [
             1,
             "#f0f921"
            ]
           ],
           "sequentialminus": [
            [
             0,
             "#0d0887"
            ],
            [
             0.1111111111111111,
             "#46039f"
            ],
            [
             0.2222222222222222,
             "#7201a8"
            ],
            [
             0.3333333333333333,
             "#9c179e"
            ],
            [
             0.4444444444444444,
             "#bd3786"
            ],
            [
             0.5555555555555556,
             "#d8576b"
            ],
            [
             0.6666666666666666,
             "#ed7953"
            ],
            [
             0.7777777777777778,
             "#fb9f3a"
            ],
            [
             0.8888888888888888,
             "#fdca26"
            ],
            [
             1,
             "#f0f921"
            ]
           ]
          },
          "colorway": [
           "#636efa",
           "#EF553B",
           "#00cc96",
           "#ab63fa",
           "#FFA15A",
           "#19d3f3",
           "#FF6692",
           "#B6E880",
           "#FF97FF",
           "#FECB52"
          ],
          "font": {
           "color": "#2a3f5f"
          },
          "geo": {
           "bgcolor": "white",
           "lakecolor": "white",
           "landcolor": "#E5ECF6",
           "showlakes": true,
           "showland": true,
           "subunitcolor": "white"
          },
          "hoverlabel": {
           "align": "left"
          },
          "hovermode": "closest",
          "mapbox": {
           "style": "light"
          },
          "paper_bgcolor": "white",
          "plot_bgcolor": "#E5ECF6",
          "polar": {
           "angularaxis": {
            "gridcolor": "white",
            "linecolor": "white",
            "ticks": ""
           },
           "bgcolor": "#E5ECF6",
           "radialaxis": {
            "gridcolor": "white",
            "linecolor": "white",
            "ticks": ""
           }
          },
          "scene": {
           "xaxis": {
            "backgroundcolor": "#E5ECF6",
            "gridcolor": "white",
            "gridwidth": 2,
            "linecolor": "white",
            "showbackground": true,
            "ticks": "",
            "zerolinecolor": "white"
           },
           "yaxis": {
            "backgroundcolor": "#E5ECF6",
            "gridcolor": "white",
            "gridwidth": 2,
            "linecolor": "white",
            "showbackground": true,
            "ticks": "",
            "zerolinecolor": "white"
           },
           "zaxis": {
            "backgroundcolor": "#E5ECF6",
            "gridcolor": "white",
            "gridwidth": 2,
            "linecolor": "white",
            "showbackground": true,
            "ticks": "",
            "zerolinecolor": "white"
           }
          },
          "shapedefaults": {
           "line": {
            "color": "#2a3f5f"
           }
          },
          "ternary": {
           "aaxis": {
            "gridcolor": "white",
            "linecolor": "white",
            "ticks": ""
           },
           "baxis": {
            "gridcolor": "white",
            "linecolor": "white",
            "ticks": ""
           },
           "bgcolor": "#E5ECF6",
           "caxis": {
            "gridcolor": "white",
            "linecolor": "white",
            "ticks": ""
           }
          },
          "title": {
           "x": 0.05
          },
          "xaxis": {
           "automargin": true,
           "gridcolor": "white",
           "linecolor": "white",
           "ticks": "",
           "title": {
            "standoff": 15
           },
           "zerolinecolor": "white",
           "zerolinewidth": 2
          },
          "yaxis": {
           "automargin": true,
           "gridcolor": "white",
           "linecolor": "white",
           "ticks": "",
           "title": {
            "standoff": 15
           },
           "zerolinecolor": "white",
           "zerolinewidth": 2
          }
         }
        },
        "title": {
         "font": {
          "color": "#4D5663"
         }
        },
        "xaxis": {
         "gridcolor": "#E1E5ED",
         "showgrid": true,
         "tickfont": {
          "color": "#4D5663"
         },
         "title": {
          "font": {
           "color": "#4D5663"
          },
          "text": ""
         },
         "zerolinecolor": "#E1E5ED"
        },
        "yaxis": {
         "gridcolor": "#E1E5ED",
         "showgrid": true,
         "tickfont": {
          "color": "#4D5663"
         },
         "title": {
          "font": {
           "color": "#4D5663"
          },
          "text": ""
         },
         "zerolinecolor": "#E1E5ED"
        }
       }
      },
      "text/html": [
       "<div>\n",
       "        \n",
       "        \n",
       "            <div id=\"dee1ad2b-9b99-4190-b757-5aa387ddd936\" class=\"plotly-graph-div\" style=\"height:525px; width:100%;\"></div>\n",
       "            <script type=\"text/javascript\">\n",
       "                require([\"plotly\"], function(Plotly) {\n",
       "                    window.PLOTLYENV=window.PLOTLYENV || {};\n",
       "                    window.PLOTLYENV.BASE_URL='https://plot.ly';\n",
       "                    \n",
       "                if (document.getElementById(\"dee1ad2b-9b99-4190-b757-5aa387ddd936\")) {\n",
       "                    Plotly.newPlot(\n",
       "                        'dee1ad2b-9b99-4190-b757-5aa387ddd936',\n",
       "                        [{\"line\": {\"color\": \"rgba(255, 153, 51, 1.0)\", \"dash\": \"solid\", \"shape\": \"linear\", \"width\": 1.3}, \"mode\": \"lines\", \"name\": \"A\", \"text\": \"\", \"type\": \"scatter\", \"x\": [0, 1, 2, 3, 4, 5, 6, 7, 8, 9, 10, 11, 12, 13, 14, 15, 16, 17, 18, 19, 20, 21, 22, 23, 24, 25, 26, 27, 28, 29, 30, 31, 32, 33, 34, 35, 36, 37, 38, 39, 40, 41, 42, 43, 44, 45, 46, 47, 48, 49, 50, 51, 52, 53, 54, 55, 56, 57, 58, 59, 60, 61, 62, 63, 64, 65, 66, 67, 68, 69, 70, 71, 72, 73, 74, 75, 76, 77, 78, 79, 80, 81, 82, 83, 84, 85, 86, 87, 88, 89, 90, 91, 92, 93, 94, 95, 96, 97, 98, 99], \"y\": [0.7921346859019157, 1.946825695054702, 1.4163203147173689, 0.1161272154136565, 0.7557025036279604, -0.7350872131145143, 1.6071158265686813, -0.6369620656059007, 0.8497778207394941, -0.33749859130626686, 1.2280973838411833, 0.036716134725273894, -0.3037665937695192, 0.8239925184967525, -1.3538724565017246, -0.45194949085156416, -1.913074905602045, 0.17762581698740607, -0.7004150163916316, 0.03188946476696092, -0.7719163151332366, 0.2905161338207252, 1.4934765893559856, 1.1517359541867793, 1.4005117647742198, -0.6275397842825213, 0.8926363946884873, -1.0677207378979978, -0.19471466043106184, 0.1529956333359573, -0.8218180765611363, -0.8503299315540951, 2.746705232928189, 0.8121025992904255, 2.1918060723428723, 0.1828701452483579, 0.4455028799628107, -0.5193802210214439, 1.104547831058544, 0.6594367637087866, -1.313520282034992, 1.190998233995262, -0.49647494111496654, 0.06890857086669673, 0.8211669474128339, -0.6181956721468078, -0.31902044193029055, -0.19023723733723844, 0.6886533928938934, -0.9332439063027611, -0.17051026893912857, 0.051544294241111815, -0.4159263649641647, 0.8566264197567114, 0.29402607091862265, -1.099818139175731, -1.1314940858303717, 0.9281480352753586, -0.13439689942833424, 0.045604618865690276, -0.9979314517757257, -0.07269042102427148, -0.5356990006428285, -1.1990026834526482, 0.1976306802793206, -0.6760867737177405, -0.4370643149105769, 1.7123117467895295, 1.8799972780063177, -0.07036592754360131, 1.903342736762849, -0.7909243457034956, -0.21648795712901556, -0.18759480763157985, -0.17191582545359513, 1.2163634807475439, 1.1517611276683175, -0.7984270716400544, 0.7817741035366015, 2.2456629185031023, 1.389344614456707, 0.5726770872579274, -0.05996906126751653, 0.3420213779390641, -0.2379680007605113, 0.3649105284334666, 0.263804800291932, 0.3277197543628306, -0.2530061140131053, 1.1758363314661346, -0.08852367242694675, -0.22481209189451987, 0.15802992649044043, -1.5061386445028795, 0.6729920524858238, -0.3211746441519791, 1.018943249519832, -1.7824913063580343, 0.891561971167367, -1.1815199382522332]}, {\"line\": {\"color\": \"rgba(55, 128, 191, 1.0)\", \"dash\": \"solid\", \"shape\": \"linear\", \"width\": 1.3}, \"mode\": \"lines\", \"name\": \"B\", \"text\": \"\", \"type\": \"scatter\", \"x\": [0, 1, 2, 3, 4, 5, 6, 7, 8, 9, 10, 11, 12, 13, 14, 15, 16, 17, 18, 19, 20, 21, 22, 23, 24, 25, 26, 27, 28, 29, 30, 31, 32, 33, 34, 35, 36, 37, 38, 39, 40, 41, 42, 43, 44, 45, 46, 47, 48, 49, 50, 51, 52, 53, 54, 55, 56, 57, 58, 59, 60, 61, 62, 63, 64, 65, 66, 67, 68, 69, 70, 71, 72, 73, 74, 75, 76, 77, 78, 79, 80, 81, 82, 83, 84, 85, 86, 87, 88, 89, 90, 91, 92, 93, 94, 95, 96, 97, 98, 99], \"y\": [-0.755353873179904, -0.4256767679096191, 0.8157780024246971, -2.2541977161527247, -0.7233269440454809, -0.3786556373601695, -0.4195600810812267, -1.0793100455317586, 0.8220363590786557, 0.48768333438156214, 1.3906112268818829, -1.660562236233282, 1.2811839261911535, -0.8915535733622445, -0.42391847699293117, 0.1113894103911496, 1.141630830605558, -1.2483726382556115, 0.8449777733211241, -0.5021909158980505, 1.8137801708054053, -1.0325995855976582, 1.2385329606445827, 0.2742951614108968, -0.04380311529890623, -0.3111212097926691, 0.21211975876158917, 1.3149102153503898, 2.4643229801701025, -0.619603592493676, -0.747113629066319, 0.5431806643475502, -0.2734201992074562, -1.3360418266526963, 0.8090919933441999, -0.031279339706645655, -0.037058879582681205, 1.0157389257755776, -0.48043568443838675, 0.31485240310950013, -0.7130777817802696, 0.5197397848035694, -1.418160664078292, 1.1033388571762677, 0.9979752730335754, 2.83369159311136, 1.9073160281621018, 0.38186024604961033, -1.1806003432890024, -0.5143575584503659, -0.3957816536562888, -0.5268066455809626, -0.15014706606849018, 0.13173277087200919, 1.93981894214876, -0.3902593736360637, 1.6358481423378353, 0.8115150249350609, -0.8555629872017407, 0.18761674013119092, -0.7905156503572589, -0.4615672762918858, 0.34482776614752947, 0.19434981423092712, 0.8244631807844324, 0.1701337758593794, 1.8909263075644804, -0.6636415622048087, 0.6314810168714927, 0.36476490047848975, 0.47866952971355303, 1.2887293734556127, -0.266023327476621, -0.1502322605674205, -1.1503150530123967, 0.08230965925441752, -0.562349929195335, -1.9553643072289255, 0.5447662913675482, 0.8458391678364608, -0.3923223744037829, -0.4830673950348278, 0.9697117616204505, -0.6558959572087942, -0.1786710138083607, 0.4673075927125077, 0.5895188619517944, -1.644346405559177, 1.018096940218595, 0.3002176019003145, -0.26036541607405717, -0.3552758805482968, 1.138262275081289, 0.16586658168269822, -1.5356808881214654, -2.525725571839549, 1.3261952687937644, 0.3440020565671146, -1.024023927456685, -0.026135700939124245]}, {\"line\": {\"color\": \"rgba(50, 171, 96, 1.0)\", \"dash\": \"solid\", \"shape\": \"linear\", \"width\": 1.3}, \"mode\": \"lines\", \"name\": \"C\", \"text\": \"\", \"type\": \"scatter\", \"x\": [0, 1, 2, 3, 4, 5, 6, 7, 8, 9, 10, 11, 12, 13, 14, 15, 16, 17, 18, 19, 20, 21, 22, 23, 24, 25, 26, 27, 28, 29, 30, 31, 32, 33, 34, 35, 36, 37, 38, 39, 40, 41, 42, 43, 44, 45, 46, 47, 48, 49, 50, 51, 52, 53, 54, 55, 56, 57, 58, 59, 60, 61, 62, 63, 64, 65, 66, 67, 68, 69, 70, 71, 72, 73, 74, 75, 76, 77, 78, 79, 80, 81, 82, 83, 84, 85, 86, 87, 88, 89, 90, 91, 92, 93, 94, 95, 96, 97, 98, 99], \"y\": [1.3625069996408685, 0.9144952248887764, -0.04379371033273974, 0.09926340152837985, 1.2439724798159724, 1.1541745177710157, 0.8903331224676148, -0.266292290561748, -0.04175051493955355, 1.0301172806259171, -0.5928166169608095, -1.7103241908806828, 1.5518485422560453, -0.8470507769567207, 1.2270784178865735, 0.5965754556850948, -0.4758371563683018, 0.872427010018932, -1.792956333172518, -0.38186421963418965, -2.1181936570248463, 0.04830933305814722, -0.2377517243843703, 1.180649111475662, 0.750538260223122, 0.9987999439705197, -0.3746257593686016, 1.67463871096551, -0.7603667656154767, -0.07638038847929986, 0.4166224532956056, -0.6113448167098882, -0.5619164790482407, -0.5299474677729248, -0.6454235969449024, -1.5844963110045438, 1.7958848004195698, 0.05725658047593841, 0.2721754274360363, 1.2775937537343836, -1.090054521555069, -0.42179786795174207, 1.2423180080467975, -0.010861564683631282, 0.15506944960313332, -0.17041242917319238, -0.40178919529776935, 0.31202362583184595, 0.9130877026457608, 0.6979280217528265, -0.3744751044346249, -0.3356760147211475, 0.48003599789582946, 0.519507398890785, -1.3585467086201315, -1.3681957134473788, 0.5749568613249194, 0.6692379140807965, 1.377450523387284, 1.9966917262315202, 0.5426288454362674, 0.8272004758045935, -0.4366866732935288, -0.30638253901940254, 1.1722894324864024, 0.6870803694725929, -1.5676196674203213, 1.4476838161089778, -1.68998241695538, -0.6374153838701762, -0.4442773346777854, 0.34665700385127446, -0.9714136879825543, -0.306819209481289, -0.9333384010003253, -0.15705929393017123, -0.8621365632898269, 1.8982151081219376, -1.9557762436737225, -0.45832500451598934, 0.9914760514765695, 0.320091570765724, 0.8031181822203135, -0.3923864355104031, -0.45168071389999304, 0.22009011992701982, 0.5955333007411939, -0.18003516240607267, -1.0297839283237813, -0.35674347150142727, 0.5010231233276244, 3.0244816886034616, -1.4518354545370757, -0.7238706064189212, -1.9546467592720356, 1.6750188451554895, 0.9591556681989486, -0.5368549291145766, 0.8130714085694476, -0.31847863880302585]}, {\"line\": {\"color\": \"rgba(128, 0, 128, 1.0)\", \"dash\": \"solid\", \"shape\": \"linear\", \"width\": 1.3}, \"mode\": \"lines\", \"name\": \"D\", \"text\": \"\", \"type\": \"scatter\", \"x\": [0, 1, 2, 3, 4, 5, 6, 7, 8, 9, 10, 11, 12, 13, 14, 15, 16, 17, 18, 19, 20, 21, 22, 23, 24, 25, 26, 27, 28, 29, 30, 31, 32, 33, 34, 35, 36, 37, 38, 39, 40, 41, 42, 43, 44, 45, 46, 47, 48, 49, 50, 51, 52, 53, 54, 55, 56, 57, 58, 59, 60, 61, 62, 63, 64, 65, 66, 67, 68, 69, 70, 71, 72, 73, 74, 75, 76, 77, 78, 79, 80, 81, 82, 83, 84, 85, 86, 87, 88, 89, 90, 91, 92, 93, 94, 95, 96, 97, 98, 99], \"y\": [0.1678688456852729, -0.7660755490375207, -0.24033995622475704, -0.1682834967212138, -0.7071182614203896, -0.7681995890374017, -2.033746607587051, -0.13645665960025008, 0.8853957116965118, 0.7684011089760281, 1.3331923437966315, -0.6313108008149433, -0.1990810753545615, -0.9362029443403491, -0.48602397477900594, 0.6943936691591144, -1.3138802802680032, 0.2392164800781996, 1.0907698280119023, 1.8965747576752692, 0.442885360234719, -0.6864410326378556, -0.8427733927849178, 1.879280752642242, -0.8766615576635849, -0.7968093327132704, 0.48471521549216495, 0.6680262768318319, 0.928831286436281, -0.3097847577236534, 0.11246450934781085, -1.3215886940461292, 0.08853158506239107, 1.1598699817635334, 1.466549647872314, -1.1640330918656165, -1.61767356039815, -1.609374924580595, -0.3678068225477947, 0.6721842330036858, -0.5394995077186759, -0.6191387319020631, 0.23897827009090414, -0.4560648370029805, -0.5130532625487461, 0.04869945067598958, 0.7945450847747928, 0.9463268407815968, -0.056612104084040674, -0.8617504834866899, 1.4845618102402878, 3.145860220342536, -1.9041065545592328, 1.5350121393448692, 0.6627933498060756, 0.09675705889637655, -0.8923072027447188, -0.5525401182438261, 0.8290980738948833, 1.470022690133724, -0.8860840655185193, -0.09681710155206424, 0.30865486290318156, 0.21943714014526172, 0.11341629867977683, -1.2266711866065867, 0.22103297889399115, 0.06725162810266645, 0.5580915971155165, 1.0105818532027613, -0.15753228208829775, 0.3938749268228596, 1.08155031642873, -0.04125426043324729, -0.4169155318556582, 1.2679845140404256, 0.08705806488006085, 0.21120171595670129, 0.15821498663748168, -0.5356086125675361, 3.251672425388064, 1.4102313844205876, 0.24108712582044428, -0.5686913122244588, 0.7059547425843715, -0.29410301722008786, -0.537492381963061, -0.4583903711628853, 0.31492293193018556, 0.5599066087163566, 1.0843010187485178, 0.020497693627848947, 0.5921960317117614, -0.7774516166862487, 1.050757571631062, 2.6606214337424148, 0.4164070043407307, 1.058442534293066, 0.7592181641268156, 0.41374422308068587]}],\n",
       "                        {\"legend\": {\"bgcolor\": \"#F5F6F9\", \"font\": {\"color\": \"#4D5663\"}}, \"paper_bgcolor\": \"#F5F6F9\", \"plot_bgcolor\": \"#F5F6F9\", \"template\": {\"data\": {\"bar\": [{\"error_x\": {\"color\": \"#2a3f5f\"}, \"error_y\": {\"color\": \"#2a3f5f\"}, \"marker\": {\"line\": {\"color\": \"#E5ECF6\", \"width\": 0.5}}, \"type\": \"bar\"}], \"barpolar\": [{\"marker\": {\"line\": {\"color\": \"#E5ECF6\", \"width\": 0.5}}, \"type\": \"barpolar\"}], \"carpet\": [{\"aaxis\": {\"endlinecolor\": \"#2a3f5f\", \"gridcolor\": \"white\", \"linecolor\": \"white\", \"minorgridcolor\": \"white\", \"startlinecolor\": \"#2a3f5f\"}, \"baxis\": {\"endlinecolor\": \"#2a3f5f\", \"gridcolor\": \"white\", \"linecolor\": \"white\", \"minorgridcolor\": \"white\", \"startlinecolor\": \"#2a3f5f\"}, \"type\": \"carpet\"}], \"choropleth\": [{\"colorbar\": {\"outlinewidth\": 0, \"ticks\": \"\"}, \"type\": \"choropleth\"}], \"contour\": [{\"colorbar\": {\"outlinewidth\": 0, \"ticks\": \"\"}, \"colorscale\": [[0.0, \"#0d0887\"], [0.1111111111111111, \"#46039f\"], [0.2222222222222222, \"#7201a8\"], [0.3333333333333333, \"#9c179e\"], [0.4444444444444444, \"#bd3786\"], [0.5555555555555556, \"#d8576b\"], [0.6666666666666666, \"#ed7953\"], [0.7777777777777778, \"#fb9f3a\"], [0.8888888888888888, \"#fdca26\"], [1.0, \"#f0f921\"]], \"type\": \"contour\"}], \"contourcarpet\": [{\"colorbar\": {\"outlinewidth\": 0, \"ticks\": \"\"}, \"type\": \"contourcarpet\"}], \"heatmap\": [{\"colorbar\": {\"outlinewidth\": 0, \"ticks\": \"\"}, \"colorscale\": [[0.0, \"#0d0887\"], [0.1111111111111111, \"#46039f\"], [0.2222222222222222, \"#7201a8\"], [0.3333333333333333, \"#9c179e\"], [0.4444444444444444, \"#bd3786\"], [0.5555555555555556, \"#d8576b\"], [0.6666666666666666, \"#ed7953\"], [0.7777777777777778, \"#fb9f3a\"], [0.8888888888888888, \"#fdca26\"], [1.0, \"#f0f921\"]], \"type\": \"heatmap\"}], \"heatmapgl\": [{\"colorbar\": {\"outlinewidth\": 0, \"ticks\": \"\"}, \"colorscale\": [[0.0, \"#0d0887\"], [0.1111111111111111, \"#46039f\"], [0.2222222222222222, \"#7201a8\"], [0.3333333333333333, \"#9c179e\"], [0.4444444444444444, \"#bd3786\"], [0.5555555555555556, \"#d8576b\"], [0.6666666666666666, \"#ed7953\"], [0.7777777777777778, \"#fb9f3a\"], [0.8888888888888888, \"#fdca26\"], [1.0, \"#f0f921\"]], \"type\": \"heatmapgl\"}], \"histogram\": [{\"marker\": {\"colorbar\": {\"outlinewidth\": 0, \"ticks\": \"\"}}, \"type\": \"histogram\"}], \"histogram2d\": [{\"colorbar\": {\"outlinewidth\": 0, \"ticks\": \"\"}, \"colorscale\": [[0.0, \"#0d0887\"], [0.1111111111111111, \"#46039f\"], [0.2222222222222222, \"#7201a8\"], [0.3333333333333333, \"#9c179e\"], [0.4444444444444444, \"#bd3786\"], [0.5555555555555556, \"#d8576b\"], [0.6666666666666666, \"#ed7953\"], [0.7777777777777778, \"#fb9f3a\"], [0.8888888888888888, \"#fdca26\"], [1.0, \"#f0f921\"]], \"type\": \"histogram2d\"}], \"histogram2dcontour\": [{\"colorbar\": {\"outlinewidth\": 0, \"ticks\": \"\"}, \"colorscale\": [[0.0, \"#0d0887\"], [0.1111111111111111, \"#46039f\"], [0.2222222222222222, \"#7201a8\"], [0.3333333333333333, \"#9c179e\"], [0.4444444444444444, \"#bd3786\"], [0.5555555555555556, \"#d8576b\"], [0.6666666666666666, \"#ed7953\"], [0.7777777777777778, \"#fb9f3a\"], [0.8888888888888888, \"#fdca26\"], [1.0, \"#f0f921\"]], \"type\": \"histogram2dcontour\"}], \"mesh3d\": [{\"colorbar\": {\"outlinewidth\": 0, \"ticks\": \"\"}, \"type\": \"mesh3d\"}], \"parcoords\": [{\"line\": {\"colorbar\": {\"outlinewidth\": 0, \"ticks\": \"\"}}, \"type\": \"parcoords\"}], \"pie\": [{\"automargin\": true, \"type\": \"pie\"}], \"scatter\": [{\"marker\": {\"colorbar\": {\"outlinewidth\": 0, \"ticks\": \"\"}}, \"type\": \"scatter\"}], \"scatter3d\": [{\"line\": {\"colorbar\": {\"outlinewidth\": 0, \"ticks\": \"\"}}, \"marker\": {\"colorbar\": {\"outlinewidth\": 0, \"ticks\": \"\"}}, \"type\": \"scatter3d\"}], \"scattercarpet\": [{\"marker\": {\"colorbar\": {\"outlinewidth\": 0, \"ticks\": \"\"}}, \"type\": \"scattercarpet\"}], \"scattergeo\": [{\"marker\": {\"colorbar\": {\"outlinewidth\": 0, \"ticks\": \"\"}}, \"type\": \"scattergeo\"}], \"scattergl\": [{\"marker\": {\"colorbar\": {\"outlinewidth\": 0, \"ticks\": \"\"}}, \"type\": \"scattergl\"}], \"scattermapbox\": [{\"marker\": {\"colorbar\": {\"outlinewidth\": 0, \"ticks\": \"\"}}, \"type\": \"scattermapbox\"}], \"scatterpolar\": [{\"marker\": {\"colorbar\": {\"outlinewidth\": 0, \"ticks\": \"\"}}, \"type\": \"scatterpolar\"}], \"scatterpolargl\": [{\"marker\": {\"colorbar\": {\"outlinewidth\": 0, \"ticks\": \"\"}}, \"type\": \"scatterpolargl\"}], \"scatterternary\": [{\"marker\": {\"colorbar\": {\"outlinewidth\": 0, \"ticks\": \"\"}}, \"type\": \"scatterternary\"}], \"surface\": [{\"colorbar\": {\"outlinewidth\": 0, \"ticks\": \"\"}, \"colorscale\": [[0.0, \"#0d0887\"], [0.1111111111111111, \"#46039f\"], [0.2222222222222222, \"#7201a8\"], [0.3333333333333333, \"#9c179e\"], [0.4444444444444444, \"#bd3786\"], [0.5555555555555556, \"#d8576b\"], [0.6666666666666666, \"#ed7953\"], [0.7777777777777778, \"#fb9f3a\"], [0.8888888888888888, \"#fdca26\"], [1.0, \"#f0f921\"]], \"type\": \"surface\"}], \"table\": [{\"cells\": {\"fill\": {\"color\": \"#EBF0F8\"}, \"line\": {\"color\": \"white\"}}, \"header\": {\"fill\": {\"color\": \"#C8D4E3\"}, \"line\": {\"color\": \"white\"}}, \"type\": \"table\"}]}, \"layout\": {\"annotationdefaults\": {\"arrowcolor\": \"#2a3f5f\", \"arrowhead\": 0, \"arrowwidth\": 1}, \"coloraxis\": {\"colorbar\": {\"outlinewidth\": 0, \"ticks\": \"\"}}, \"colorscale\": {\"diverging\": [[0, \"#8e0152\"], [0.1, \"#c51b7d\"], [0.2, \"#de77ae\"], [0.3, \"#f1b6da\"], [0.4, \"#fde0ef\"], [0.5, \"#f7f7f7\"], [0.6, \"#e6f5d0\"], [0.7, \"#b8e186\"], [0.8, \"#7fbc41\"], [0.9, \"#4d9221\"], [1, \"#276419\"]], \"sequential\": [[0.0, \"#0d0887\"], [0.1111111111111111, \"#46039f\"], [0.2222222222222222, \"#7201a8\"], [0.3333333333333333, \"#9c179e\"], [0.4444444444444444, \"#bd3786\"], [0.5555555555555556, \"#d8576b\"], [0.6666666666666666, \"#ed7953\"], [0.7777777777777778, \"#fb9f3a\"], [0.8888888888888888, \"#fdca26\"], [1.0, \"#f0f921\"]], \"sequentialminus\": [[0.0, \"#0d0887\"], [0.1111111111111111, \"#46039f\"], [0.2222222222222222, \"#7201a8\"], [0.3333333333333333, \"#9c179e\"], [0.4444444444444444, \"#bd3786\"], [0.5555555555555556, \"#d8576b\"], [0.6666666666666666, \"#ed7953\"], [0.7777777777777778, \"#fb9f3a\"], [0.8888888888888888, \"#fdca26\"], [1.0, \"#f0f921\"]]}, \"colorway\": [\"#636efa\", \"#EF553B\", \"#00cc96\", \"#ab63fa\", \"#FFA15A\", \"#19d3f3\", \"#FF6692\", \"#B6E880\", \"#FF97FF\", \"#FECB52\"], \"font\": {\"color\": \"#2a3f5f\"}, \"geo\": {\"bgcolor\": \"white\", \"lakecolor\": \"white\", \"landcolor\": \"#E5ECF6\", \"showlakes\": true, \"showland\": true, \"subunitcolor\": \"white\"}, \"hoverlabel\": {\"align\": \"left\"}, \"hovermode\": \"closest\", \"mapbox\": {\"style\": \"light\"}, \"paper_bgcolor\": \"white\", \"plot_bgcolor\": \"#E5ECF6\", \"polar\": {\"angularaxis\": {\"gridcolor\": \"white\", \"linecolor\": \"white\", \"ticks\": \"\"}, \"bgcolor\": \"#E5ECF6\", \"radialaxis\": {\"gridcolor\": \"white\", \"linecolor\": \"white\", \"ticks\": \"\"}}, \"scene\": {\"xaxis\": {\"backgroundcolor\": \"#E5ECF6\", \"gridcolor\": \"white\", \"gridwidth\": 2, \"linecolor\": \"white\", \"showbackground\": true, \"ticks\": \"\", \"zerolinecolor\": \"white\"}, \"yaxis\": {\"backgroundcolor\": \"#E5ECF6\", \"gridcolor\": \"white\", \"gridwidth\": 2, \"linecolor\": \"white\", \"showbackground\": true, \"ticks\": \"\", \"zerolinecolor\": \"white\"}, \"zaxis\": {\"backgroundcolor\": \"#E5ECF6\", \"gridcolor\": \"white\", \"gridwidth\": 2, \"linecolor\": \"white\", \"showbackground\": true, \"ticks\": \"\", \"zerolinecolor\": \"white\"}}, \"shapedefaults\": {\"line\": {\"color\": \"#2a3f5f\"}}, \"ternary\": {\"aaxis\": {\"gridcolor\": \"white\", \"linecolor\": \"white\", \"ticks\": \"\"}, \"baxis\": {\"gridcolor\": \"white\", \"linecolor\": \"white\", \"ticks\": \"\"}, \"bgcolor\": \"#E5ECF6\", \"caxis\": {\"gridcolor\": \"white\", \"linecolor\": \"white\", \"ticks\": \"\"}}, \"title\": {\"x\": 0.05}, \"xaxis\": {\"automargin\": true, \"gridcolor\": \"white\", \"linecolor\": \"white\", \"ticks\": \"\", \"title\": {\"standoff\": 15}, \"zerolinecolor\": \"white\", \"zerolinewidth\": 2}, \"yaxis\": {\"automargin\": true, \"gridcolor\": \"white\", \"linecolor\": \"white\", \"ticks\": \"\", \"title\": {\"standoff\": 15}, \"zerolinecolor\": \"white\", \"zerolinewidth\": 2}}}, \"title\": {\"font\": {\"color\": \"#4D5663\"}}, \"xaxis\": {\"gridcolor\": \"#E1E5ED\", \"showgrid\": true, \"tickfont\": {\"color\": \"#4D5663\"}, \"title\": {\"font\": {\"color\": \"#4D5663\"}, \"text\": \"\"}, \"zerolinecolor\": \"#E1E5ED\"}, \"yaxis\": {\"gridcolor\": \"#E1E5ED\", \"showgrid\": true, \"tickfont\": {\"color\": \"#4D5663\"}, \"title\": {\"font\": {\"color\": \"#4D5663\"}, \"text\": \"\"}, \"zerolinecolor\": \"#E1E5ED\"}},\n",
       "                        {\"showLink\": true, \"linkText\": \"Export to plot.ly\", \"plotlyServerURL\": \"https://plot.ly\", \"responsive\": true}\n",
       "                    ).then(function(){\n",
       "                            \n",
       "var gd = document.getElementById('dee1ad2b-9b99-4190-b757-5aa387ddd936');\n",
       "var x = new MutationObserver(function (mutations, observer) {{\n",
       "        var display = window.getComputedStyle(gd).display;\n",
       "        if (!display || display === 'none') {{\n",
       "            console.log([gd, 'removed!']);\n",
       "            Plotly.purge(gd);\n",
       "            observer.disconnect();\n",
       "        }}\n",
       "}});\n",
       "\n",
       "// Listen for the removal of the full notebook cells\n",
       "var notebookContainer = gd.closest('#notebook-container');\n",
       "if (notebookContainer) {{\n",
       "    x.observe(notebookContainer, {childList: true});\n",
       "}}\n",
       "\n",
       "// Listen for the clearing of the current output cell\n",
       "var outputEl = gd.closest('.output');\n",
       "if (outputEl) {{\n",
       "    x.observe(outputEl, {childList: true});\n",
       "}}\n",
       "\n",
       "                        })\n",
       "                };\n",
       "                });\n",
       "            </script>\n",
       "        </div>"
      ]
     },
     "metadata": {},
     "output_type": "display_data"
    }
   ],
   "source": [
    "df.iplot()"
   ]
  },
  {
   "cell_type": "code",
   "execution_count": 18,
   "metadata": {},
   "outputs": [
    {
     "data": {
      "application/vnd.plotly.v1+json": {
       "config": {
        "linkText": "Export to plot.ly",
        "plotlyServerURL": "https://plot.ly",
        "showLink": true
       },
       "data": [
        {
         "line": {
          "color": "rgba(255, 153, 51, 1.0)",
          "dash": "solid",
          "shape": "linear",
          "width": 1.3
         },
         "marker": {
          "size": 12,
          "symbol": "circle"
         },
         "mode": "markers",
         "name": "B",
         "text": "",
         "type": "scatter",
         "x": [
          0.7921346859019157,
          1.946825695054702,
          1.4163203147173689,
          0.1161272154136565,
          0.7557025036279604,
          -0.7350872131145143,
          1.6071158265686813,
          -0.6369620656059007,
          0.8497778207394941,
          -0.33749859130626686,
          1.2280973838411833,
          0.036716134725273894,
          -0.3037665937695192,
          0.8239925184967525,
          -1.3538724565017246,
          -0.45194949085156416,
          -1.913074905602045,
          0.17762581698740607,
          -0.7004150163916316,
          0.03188946476696092,
          -0.7719163151332366,
          0.2905161338207252,
          1.4934765893559856,
          1.1517359541867793,
          1.4005117647742198,
          -0.6275397842825213,
          0.8926363946884873,
          -1.0677207378979978,
          -0.19471466043106184,
          0.1529956333359573,
          -0.8218180765611363,
          -0.8503299315540951,
          2.746705232928189,
          0.8121025992904255,
          2.1918060723428723,
          0.1828701452483579,
          0.4455028799628107,
          -0.5193802210214439,
          1.104547831058544,
          0.6594367637087866,
          -1.313520282034992,
          1.190998233995262,
          -0.49647494111496654,
          0.06890857086669673,
          0.8211669474128339,
          -0.6181956721468078,
          -0.31902044193029055,
          -0.19023723733723844,
          0.6886533928938934,
          -0.9332439063027611,
          -0.17051026893912857,
          0.051544294241111815,
          -0.4159263649641647,
          0.8566264197567114,
          0.29402607091862265,
          -1.099818139175731,
          -1.1314940858303717,
          0.9281480352753586,
          -0.13439689942833424,
          0.045604618865690276,
          -0.9979314517757257,
          -0.07269042102427148,
          -0.5356990006428285,
          -1.1990026834526482,
          0.1976306802793206,
          -0.6760867737177405,
          -0.4370643149105769,
          1.7123117467895295,
          1.8799972780063177,
          -0.07036592754360131,
          1.903342736762849,
          -0.7909243457034956,
          -0.21648795712901556,
          -0.18759480763157985,
          -0.17191582545359513,
          1.2163634807475439,
          1.1517611276683175,
          -0.7984270716400544,
          0.7817741035366015,
          2.2456629185031023,
          1.389344614456707,
          0.5726770872579274,
          -0.05996906126751653,
          0.3420213779390641,
          -0.2379680007605113,
          0.3649105284334666,
          0.263804800291932,
          0.3277197543628306,
          -0.2530061140131053,
          1.1758363314661346,
          -0.08852367242694675,
          -0.22481209189451987,
          0.15802992649044043,
          -1.5061386445028795,
          0.6729920524858238,
          -0.3211746441519791,
          1.018943249519832,
          -1.7824913063580343,
          0.891561971167367,
          -1.1815199382522332
         ],
         "y": [
          -0.755353873179904,
          -0.4256767679096191,
          0.8157780024246971,
          -2.2541977161527247,
          -0.7233269440454809,
          -0.3786556373601695,
          -0.4195600810812267,
          -1.0793100455317586,
          0.8220363590786557,
          0.48768333438156214,
          1.3906112268818829,
          -1.660562236233282,
          1.2811839261911535,
          -0.8915535733622445,
          -0.42391847699293117,
          0.1113894103911496,
          1.141630830605558,
          -1.2483726382556115,
          0.8449777733211241,
          -0.5021909158980505,
          1.8137801708054053,
          -1.0325995855976582,
          1.2385329606445827,
          0.2742951614108968,
          -0.04380311529890623,
          -0.3111212097926691,
          0.21211975876158917,
          1.3149102153503898,
          2.4643229801701025,
          -0.619603592493676,
          -0.747113629066319,
          0.5431806643475502,
          -0.2734201992074562,
          -1.3360418266526963,
          0.8090919933441999,
          -0.031279339706645655,
          -0.037058879582681205,
          1.0157389257755776,
          -0.48043568443838675,
          0.31485240310950013,
          -0.7130777817802696,
          0.5197397848035694,
          -1.418160664078292,
          1.1033388571762677,
          0.9979752730335754,
          2.83369159311136,
          1.9073160281621018,
          0.38186024604961033,
          -1.1806003432890024,
          -0.5143575584503659,
          -0.3957816536562888,
          -0.5268066455809626,
          -0.15014706606849018,
          0.13173277087200919,
          1.93981894214876,
          -0.3902593736360637,
          1.6358481423378353,
          0.8115150249350609,
          -0.8555629872017407,
          0.18761674013119092,
          -0.7905156503572589,
          -0.4615672762918858,
          0.34482776614752947,
          0.19434981423092712,
          0.8244631807844324,
          0.1701337758593794,
          1.8909263075644804,
          -0.6636415622048087,
          0.6314810168714927,
          0.36476490047848975,
          0.47866952971355303,
          1.2887293734556127,
          -0.266023327476621,
          -0.1502322605674205,
          -1.1503150530123967,
          0.08230965925441752,
          -0.562349929195335,
          -1.9553643072289255,
          0.5447662913675482,
          0.8458391678364608,
          -0.3923223744037829,
          -0.4830673950348278,
          0.9697117616204505,
          -0.6558959572087942,
          -0.1786710138083607,
          0.4673075927125077,
          0.5895188619517944,
          -1.644346405559177,
          1.018096940218595,
          0.3002176019003145,
          -0.26036541607405717,
          -0.3552758805482968,
          1.138262275081289,
          0.16586658168269822,
          -1.5356808881214654,
          -2.525725571839549,
          1.3261952687937644,
          0.3440020565671146,
          -1.024023927456685,
          -0.026135700939124245
         ]
        }
       ],
       "layout": {
        "legend": {
         "bgcolor": "#F5F6F9",
         "font": {
          "color": "#4D5663"
         }
        },
        "paper_bgcolor": "#F5F6F9",
        "plot_bgcolor": "#F5F6F9",
        "template": {
         "data": {
          "bar": [
           {
            "error_x": {
             "color": "#2a3f5f"
            },
            "error_y": {
             "color": "#2a3f5f"
            },
            "marker": {
             "line": {
              "color": "#E5ECF6",
              "width": 0.5
             }
            },
            "type": "bar"
           }
          ],
          "barpolar": [
           {
            "marker": {
             "line": {
              "color": "#E5ECF6",
              "width": 0.5
             }
            },
            "type": "barpolar"
           }
          ],
          "carpet": [
           {
            "aaxis": {
             "endlinecolor": "#2a3f5f",
             "gridcolor": "white",
             "linecolor": "white",
             "minorgridcolor": "white",
             "startlinecolor": "#2a3f5f"
            },
            "baxis": {
             "endlinecolor": "#2a3f5f",
             "gridcolor": "white",
             "linecolor": "white",
             "minorgridcolor": "white",
             "startlinecolor": "#2a3f5f"
            },
            "type": "carpet"
           }
          ],
          "choropleth": [
           {
            "colorbar": {
             "outlinewidth": 0,
             "ticks": ""
            },
            "type": "choropleth"
           }
          ],
          "contour": [
           {
            "colorbar": {
             "outlinewidth": 0,
             "ticks": ""
            },
            "colorscale": [
             [
              0,
              "#0d0887"
             ],
             [
              0.1111111111111111,
              "#46039f"
             ],
             [
              0.2222222222222222,
              "#7201a8"
             ],
             [
              0.3333333333333333,
              "#9c179e"
             ],
             [
              0.4444444444444444,
              "#bd3786"
             ],
             [
              0.5555555555555556,
              "#d8576b"
             ],
             [
              0.6666666666666666,
              "#ed7953"
             ],
             [
              0.7777777777777778,
              "#fb9f3a"
             ],
             [
              0.8888888888888888,
              "#fdca26"
             ],
             [
              1,
              "#f0f921"
             ]
            ],
            "type": "contour"
           }
          ],
          "contourcarpet": [
           {
            "colorbar": {
             "outlinewidth": 0,
             "ticks": ""
            },
            "type": "contourcarpet"
           }
          ],
          "heatmap": [
           {
            "colorbar": {
             "outlinewidth": 0,
             "ticks": ""
            },
            "colorscale": [
             [
              0,
              "#0d0887"
             ],
             [
              0.1111111111111111,
              "#46039f"
             ],
             [
              0.2222222222222222,
              "#7201a8"
             ],
             [
              0.3333333333333333,
              "#9c179e"
             ],
             [
              0.4444444444444444,
              "#bd3786"
             ],
             [
              0.5555555555555556,
              "#d8576b"
             ],
             [
              0.6666666666666666,
              "#ed7953"
             ],
             [
              0.7777777777777778,
              "#fb9f3a"
             ],
             [
              0.8888888888888888,
              "#fdca26"
             ],
             [
              1,
              "#f0f921"
             ]
            ],
            "type": "heatmap"
           }
          ],
          "heatmapgl": [
           {
            "colorbar": {
             "outlinewidth": 0,
             "ticks": ""
            },
            "colorscale": [
             [
              0,
              "#0d0887"
             ],
             [
              0.1111111111111111,
              "#46039f"
             ],
             [
              0.2222222222222222,
              "#7201a8"
             ],
             [
              0.3333333333333333,
              "#9c179e"
             ],
             [
              0.4444444444444444,
              "#bd3786"
             ],
             [
              0.5555555555555556,
              "#d8576b"
             ],
             [
              0.6666666666666666,
              "#ed7953"
             ],
             [
              0.7777777777777778,
              "#fb9f3a"
             ],
             [
              0.8888888888888888,
              "#fdca26"
             ],
             [
              1,
              "#f0f921"
             ]
            ],
            "type": "heatmapgl"
           }
          ],
          "histogram": [
           {
            "marker": {
             "colorbar": {
              "outlinewidth": 0,
              "ticks": ""
             }
            },
            "type": "histogram"
           }
          ],
          "histogram2d": [
           {
            "colorbar": {
             "outlinewidth": 0,
             "ticks": ""
            },
            "colorscale": [
             [
              0,
              "#0d0887"
             ],
             [
              0.1111111111111111,
              "#46039f"
             ],
             [
              0.2222222222222222,
              "#7201a8"
             ],
             [
              0.3333333333333333,
              "#9c179e"
             ],
             [
              0.4444444444444444,
              "#bd3786"
             ],
             [
              0.5555555555555556,
              "#d8576b"
             ],
             [
              0.6666666666666666,
              "#ed7953"
             ],
             [
              0.7777777777777778,
              "#fb9f3a"
             ],
             [
              0.8888888888888888,
              "#fdca26"
             ],
             [
              1,
              "#f0f921"
             ]
            ],
            "type": "histogram2d"
           }
          ],
          "histogram2dcontour": [
           {
            "colorbar": {
             "outlinewidth": 0,
             "ticks": ""
            },
            "colorscale": [
             [
              0,
              "#0d0887"
             ],
             [
              0.1111111111111111,
              "#46039f"
             ],
             [
              0.2222222222222222,
              "#7201a8"
             ],
             [
              0.3333333333333333,
              "#9c179e"
             ],
             [
              0.4444444444444444,
              "#bd3786"
             ],
             [
              0.5555555555555556,
              "#d8576b"
             ],
             [
              0.6666666666666666,
              "#ed7953"
             ],
             [
              0.7777777777777778,
              "#fb9f3a"
             ],
             [
              0.8888888888888888,
              "#fdca26"
             ],
             [
              1,
              "#f0f921"
             ]
            ],
            "type": "histogram2dcontour"
           }
          ],
          "mesh3d": [
           {
            "colorbar": {
             "outlinewidth": 0,
             "ticks": ""
            },
            "type": "mesh3d"
           }
          ],
          "parcoords": [
           {
            "line": {
             "colorbar": {
              "outlinewidth": 0,
              "ticks": ""
             }
            },
            "type": "parcoords"
           }
          ],
          "pie": [
           {
            "automargin": true,
            "type": "pie"
           }
          ],
          "scatter": [
           {
            "marker": {
             "colorbar": {
              "outlinewidth": 0,
              "ticks": ""
             }
            },
            "type": "scatter"
           }
          ],
          "scatter3d": [
           {
            "line": {
             "colorbar": {
              "outlinewidth": 0,
              "ticks": ""
             }
            },
            "marker": {
             "colorbar": {
              "outlinewidth": 0,
              "ticks": ""
             }
            },
            "type": "scatter3d"
           }
          ],
          "scattercarpet": [
           {
            "marker": {
             "colorbar": {
              "outlinewidth": 0,
              "ticks": ""
             }
            },
            "type": "scattercarpet"
           }
          ],
          "scattergeo": [
           {
            "marker": {
             "colorbar": {
              "outlinewidth": 0,
              "ticks": ""
             }
            },
            "type": "scattergeo"
           }
          ],
          "scattergl": [
           {
            "marker": {
             "colorbar": {
              "outlinewidth": 0,
              "ticks": ""
             }
            },
            "type": "scattergl"
           }
          ],
          "scattermapbox": [
           {
            "marker": {
             "colorbar": {
              "outlinewidth": 0,
              "ticks": ""
             }
            },
            "type": "scattermapbox"
           }
          ],
          "scatterpolar": [
           {
            "marker": {
             "colorbar": {
              "outlinewidth": 0,
              "ticks": ""
             }
            },
            "type": "scatterpolar"
           }
          ],
          "scatterpolargl": [
           {
            "marker": {
             "colorbar": {
              "outlinewidth": 0,
              "ticks": ""
             }
            },
            "type": "scatterpolargl"
           }
          ],
          "scatterternary": [
           {
            "marker": {
             "colorbar": {
              "outlinewidth": 0,
              "ticks": ""
             }
            },
            "type": "scatterternary"
           }
          ],
          "surface": [
           {
            "colorbar": {
             "outlinewidth": 0,
             "ticks": ""
            },
            "colorscale": [
             [
              0,
              "#0d0887"
             ],
             [
              0.1111111111111111,
              "#46039f"
             ],
             [
              0.2222222222222222,
              "#7201a8"
             ],
             [
              0.3333333333333333,
              "#9c179e"
             ],
             [
              0.4444444444444444,
              "#bd3786"
             ],
             [
              0.5555555555555556,
              "#d8576b"
             ],
             [
              0.6666666666666666,
              "#ed7953"
             ],
             [
              0.7777777777777778,
              "#fb9f3a"
             ],
             [
              0.8888888888888888,
              "#fdca26"
             ],
             [
              1,
              "#f0f921"
             ]
            ],
            "type": "surface"
           }
          ],
          "table": [
           {
            "cells": {
             "fill": {
              "color": "#EBF0F8"
             },
             "line": {
              "color": "white"
             }
            },
            "header": {
             "fill": {
              "color": "#C8D4E3"
             },
             "line": {
              "color": "white"
             }
            },
            "type": "table"
           }
          ]
         },
         "layout": {
          "annotationdefaults": {
           "arrowcolor": "#2a3f5f",
           "arrowhead": 0,
           "arrowwidth": 1
          },
          "coloraxis": {
           "colorbar": {
            "outlinewidth": 0,
            "ticks": ""
           }
          },
          "colorscale": {
           "diverging": [
            [
             0,
             "#8e0152"
            ],
            [
             0.1,
             "#c51b7d"
            ],
            [
             0.2,
             "#de77ae"
            ],
            [
             0.3,
             "#f1b6da"
            ],
            [
             0.4,
             "#fde0ef"
            ],
            [
             0.5,
             "#f7f7f7"
            ],
            [
             0.6,
             "#e6f5d0"
            ],
            [
             0.7,
             "#b8e186"
            ],
            [
             0.8,
             "#7fbc41"
            ],
            [
             0.9,
             "#4d9221"
            ],
            [
             1,
             "#276419"
            ]
           ],
           "sequential": [
            [
             0,
             "#0d0887"
            ],
            [
             0.1111111111111111,
             "#46039f"
            ],
            [
             0.2222222222222222,
             "#7201a8"
            ],
            [
             0.3333333333333333,
             "#9c179e"
            ],
            [
             0.4444444444444444,
             "#bd3786"
            ],
            [
             0.5555555555555556,
             "#d8576b"
            ],
            [
             0.6666666666666666,
             "#ed7953"
            ],
            [
             0.7777777777777778,
             "#fb9f3a"
            ],
            [
             0.8888888888888888,
             "#fdca26"
            ],
            [
             1,
             "#f0f921"
            ]
           ],
           "sequentialminus": [
            [
             0,
             "#0d0887"
            ],
            [
             0.1111111111111111,
             "#46039f"
            ],
            [
             0.2222222222222222,
             "#7201a8"
            ],
            [
             0.3333333333333333,
             "#9c179e"
            ],
            [
             0.4444444444444444,
             "#bd3786"
            ],
            [
             0.5555555555555556,
             "#d8576b"
            ],
            [
             0.6666666666666666,
             "#ed7953"
            ],
            [
             0.7777777777777778,
             "#fb9f3a"
            ],
            [
             0.8888888888888888,
             "#fdca26"
            ],
            [
             1,
             "#f0f921"
            ]
           ]
          },
          "colorway": [
           "#636efa",
           "#EF553B",
           "#00cc96",
           "#ab63fa",
           "#FFA15A",
           "#19d3f3",
           "#FF6692",
           "#B6E880",
           "#FF97FF",
           "#FECB52"
          ],
          "font": {
           "color": "#2a3f5f"
          },
          "geo": {
           "bgcolor": "white",
           "lakecolor": "white",
           "landcolor": "#E5ECF6",
           "showlakes": true,
           "showland": true,
           "subunitcolor": "white"
          },
          "hoverlabel": {
           "align": "left"
          },
          "hovermode": "closest",
          "mapbox": {
           "style": "light"
          },
          "paper_bgcolor": "white",
          "plot_bgcolor": "#E5ECF6",
          "polar": {
           "angularaxis": {
            "gridcolor": "white",
            "linecolor": "white",
            "ticks": ""
           },
           "bgcolor": "#E5ECF6",
           "radialaxis": {
            "gridcolor": "white",
            "linecolor": "white",
            "ticks": ""
           }
          },
          "scene": {
           "xaxis": {
            "backgroundcolor": "#E5ECF6",
            "gridcolor": "white",
            "gridwidth": 2,
            "linecolor": "white",
            "showbackground": true,
            "ticks": "",
            "zerolinecolor": "white"
           },
           "yaxis": {
            "backgroundcolor": "#E5ECF6",
            "gridcolor": "white",
            "gridwidth": 2,
            "linecolor": "white",
            "showbackground": true,
            "ticks": "",
            "zerolinecolor": "white"
           },
           "zaxis": {
            "backgroundcolor": "#E5ECF6",
            "gridcolor": "white",
            "gridwidth": 2,
            "linecolor": "white",
            "showbackground": true,
            "ticks": "",
            "zerolinecolor": "white"
           }
          },
          "shapedefaults": {
           "line": {
            "color": "#2a3f5f"
           }
          },
          "ternary": {
           "aaxis": {
            "gridcolor": "white",
            "linecolor": "white",
            "ticks": ""
           },
           "baxis": {
            "gridcolor": "white",
            "linecolor": "white",
            "ticks": ""
           },
           "bgcolor": "#E5ECF6",
           "caxis": {
            "gridcolor": "white",
            "linecolor": "white",
            "ticks": ""
           }
          },
          "title": {
           "x": 0.05
          },
          "xaxis": {
           "automargin": true,
           "gridcolor": "white",
           "linecolor": "white",
           "ticks": "",
           "title": {
            "standoff": 15
           },
           "zerolinecolor": "white",
           "zerolinewidth": 2
          },
          "yaxis": {
           "automargin": true,
           "gridcolor": "white",
           "linecolor": "white",
           "ticks": "",
           "title": {
            "standoff": 15
           },
           "zerolinecolor": "white",
           "zerolinewidth": 2
          }
         }
        },
        "title": {
         "font": {
          "color": "#4D5663"
         }
        },
        "xaxis": {
         "gridcolor": "#E1E5ED",
         "showgrid": true,
         "tickfont": {
          "color": "#4D5663"
         },
         "title": {
          "font": {
           "color": "#4D5663"
          },
          "text": ""
         },
         "zerolinecolor": "#E1E5ED"
        },
        "yaxis": {
         "gridcolor": "#E1E5ED",
         "showgrid": true,
         "tickfont": {
          "color": "#4D5663"
         },
         "title": {
          "font": {
           "color": "#4D5663"
          },
          "text": ""
         },
         "zerolinecolor": "#E1E5ED"
        }
       }
      },
      "text/html": [
       "<div>\n",
       "        \n",
       "        \n",
       "            <div id=\"3ff00a60-ec7e-4947-8874-670307fe31a4\" class=\"plotly-graph-div\" style=\"height:525px; width:100%;\"></div>\n",
       "            <script type=\"text/javascript\">\n",
       "                require([\"plotly\"], function(Plotly) {\n",
       "                    window.PLOTLYENV=window.PLOTLYENV || {};\n",
       "                    window.PLOTLYENV.BASE_URL='https://plot.ly';\n",
       "                    \n",
       "                if (document.getElementById(\"3ff00a60-ec7e-4947-8874-670307fe31a4\")) {\n",
       "                    Plotly.newPlot(\n",
       "                        '3ff00a60-ec7e-4947-8874-670307fe31a4',\n",
       "                        [{\"line\": {\"color\": \"rgba(255, 153, 51, 1.0)\", \"dash\": \"solid\", \"shape\": \"linear\", \"width\": 1.3}, \"marker\": {\"size\": 12, \"symbol\": \"circle\"}, \"mode\": \"markers\", \"name\": \"B\", \"text\": \"\", \"type\": \"scatter\", \"x\": [0.7921346859019157, 1.946825695054702, 1.4163203147173689, 0.1161272154136565, 0.7557025036279604, -0.7350872131145143, 1.6071158265686813, -0.6369620656059007, 0.8497778207394941, -0.33749859130626686, 1.2280973838411833, 0.036716134725273894, -0.3037665937695192, 0.8239925184967525, -1.3538724565017246, -0.45194949085156416, -1.913074905602045, 0.17762581698740607, -0.7004150163916316, 0.03188946476696092, -0.7719163151332366, 0.2905161338207252, 1.4934765893559856, 1.1517359541867793, 1.4005117647742198, -0.6275397842825213, 0.8926363946884873, -1.0677207378979978, -0.19471466043106184, 0.1529956333359573, -0.8218180765611363, -0.8503299315540951, 2.746705232928189, 0.8121025992904255, 2.1918060723428723, 0.1828701452483579, 0.4455028799628107, -0.5193802210214439, 1.104547831058544, 0.6594367637087866, -1.313520282034992, 1.190998233995262, -0.49647494111496654, 0.06890857086669673, 0.8211669474128339, -0.6181956721468078, -0.31902044193029055, -0.19023723733723844, 0.6886533928938934, -0.9332439063027611, -0.17051026893912857, 0.051544294241111815, -0.4159263649641647, 0.8566264197567114, 0.29402607091862265, -1.099818139175731, -1.1314940858303717, 0.9281480352753586, -0.13439689942833424, 0.045604618865690276, -0.9979314517757257, -0.07269042102427148, -0.5356990006428285, -1.1990026834526482, 0.1976306802793206, -0.6760867737177405, -0.4370643149105769, 1.7123117467895295, 1.8799972780063177, -0.07036592754360131, 1.903342736762849, -0.7909243457034956, -0.21648795712901556, -0.18759480763157985, -0.17191582545359513, 1.2163634807475439, 1.1517611276683175, -0.7984270716400544, 0.7817741035366015, 2.2456629185031023, 1.389344614456707, 0.5726770872579274, -0.05996906126751653, 0.3420213779390641, -0.2379680007605113, 0.3649105284334666, 0.263804800291932, 0.3277197543628306, -0.2530061140131053, 1.1758363314661346, -0.08852367242694675, -0.22481209189451987, 0.15802992649044043, -1.5061386445028795, 0.6729920524858238, -0.3211746441519791, 1.018943249519832, -1.7824913063580343, 0.891561971167367, -1.1815199382522332], \"y\": [-0.755353873179904, -0.4256767679096191, 0.8157780024246971, -2.2541977161527247, -0.7233269440454809, -0.3786556373601695, -0.4195600810812267, -1.0793100455317586, 0.8220363590786557, 0.48768333438156214, 1.3906112268818829, -1.660562236233282, 1.2811839261911535, -0.8915535733622445, -0.42391847699293117, 0.1113894103911496, 1.141630830605558, -1.2483726382556115, 0.8449777733211241, -0.5021909158980505, 1.8137801708054053, -1.0325995855976582, 1.2385329606445827, 0.2742951614108968, -0.04380311529890623, -0.3111212097926691, 0.21211975876158917, 1.3149102153503898, 2.4643229801701025, -0.619603592493676, -0.747113629066319, 0.5431806643475502, -0.2734201992074562, -1.3360418266526963, 0.8090919933441999, -0.031279339706645655, -0.037058879582681205, 1.0157389257755776, -0.48043568443838675, 0.31485240310950013, -0.7130777817802696, 0.5197397848035694, -1.418160664078292, 1.1033388571762677, 0.9979752730335754, 2.83369159311136, 1.9073160281621018, 0.38186024604961033, -1.1806003432890024, -0.5143575584503659, -0.3957816536562888, -0.5268066455809626, -0.15014706606849018, 0.13173277087200919, 1.93981894214876, -0.3902593736360637, 1.6358481423378353, 0.8115150249350609, -0.8555629872017407, 0.18761674013119092, -0.7905156503572589, -0.4615672762918858, 0.34482776614752947, 0.19434981423092712, 0.8244631807844324, 0.1701337758593794, 1.8909263075644804, -0.6636415622048087, 0.6314810168714927, 0.36476490047848975, 0.47866952971355303, 1.2887293734556127, -0.266023327476621, -0.1502322605674205, -1.1503150530123967, 0.08230965925441752, -0.562349929195335, -1.9553643072289255, 0.5447662913675482, 0.8458391678364608, -0.3923223744037829, -0.4830673950348278, 0.9697117616204505, -0.6558959572087942, -0.1786710138083607, 0.4673075927125077, 0.5895188619517944, -1.644346405559177, 1.018096940218595, 0.3002176019003145, -0.26036541607405717, -0.3552758805482968, 1.138262275081289, 0.16586658168269822, -1.5356808881214654, -2.525725571839549, 1.3261952687937644, 0.3440020565671146, -1.024023927456685, -0.026135700939124245]}],\n",
       "                        {\"legend\": {\"bgcolor\": \"#F5F6F9\", \"font\": {\"color\": \"#4D5663\"}}, \"paper_bgcolor\": \"#F5F6F9\", \"plot_bgcolor\": \"#F5F6F9\", \"template\": {\"data\": {\"bar\": [{\"error_x\": {\"color\": \"#2a3f5f\"}, \"error_y\": {\"color\": \"#2a3f5f\"}, \"marker\": {\"line\": {\"color\": \"#E5ECF6\", \"width\": 0.5}}, \"type\": \"bar\"}], \"barpolar\": [{\"marker\": {\"line\": {\"color\": \"#E5ECF6\", \"width\": 0.5}}, \"type\": \"barpolar\"}], \"carpet\": [{\"aaxis\": {\"endlinecolor\": \"#2a3f5f\", \"gridcolor\": \"white\", \"linecolor\": \"white\", \"minorgridcolor\": \"white\", \"startlinecolor\": \"#2a3f5f\"}, \"baxis\": {\"endlinecolor\": \"#2a3f5f\", \"gridcolor\": \"white\", \"linecolor\": \"white\", \"minorgridcolor\": \"white\", \"startlinecolor\": \"#2a3f5f\"}, \"type\": \"carpet\"}], \"choropleth\": [{\"colorbar\": {\"outlinewidth\": 0, \"ticks\": \"\"}, \"type\": \"choropleth\"}], \"contour\": [{\"colorbar\": {\"outlinewidth\": 0, \"ticks\": \"\"}, \"colorscale\": [[0.0, \"#0d0887\"], [0.1111111111111111, \"#46039f\"], [0.2222222222222222, \"#7201a8\"], [0.3333333333333333, \"#9c179e\"], [0.4444444444444444, \"#bd3786\"], [0.5555555555555556, \"#d8576b\"], [0.6666666666666666, \"#ed7953\"], [0.7777777777777778, \"#fb9f3a\"], [0.8888888888888888, \"#fdca26\"], [1.0, \"#f0f921\"]], \"type\": \"contour\"}], \"contourcarpet\": [{\"colorbar\": {\"outlinewidth\": 0, \"ticks\": \"\"}, \"type\": \"contourcarpet\"}], \"heatmap\": [{\"colorbar\": {\"outlinewidth\": 0, \"ticks\": \"\"}, \"colorscale\": [[0.0, \"#0d0887\"], [0.1111111111111111, \"#46039f\"], [0.2222222222222222, \"#7201a8\"], [0.3333333333333333, \"#9c179e\"], [0.4444444444444444, \"#bd3786\"], [0.5555555555555556, \"#d8576b\"], [0.6666666666666666, \"#ed7953\"], [0.7777777777777778, \"#fb9f3a\"], [0.8888888888888888, \"#fdca26\"], [1.0, \"#f0f921\"]], \"type\": \"heatmap\"}], \"heatmapgl\": [{\"colorbar\": {\"outlinewidth\": 0, \"ticks\": \"\"}, \"colorscale\": [[0.0, \"#0d0887\"], [0.1111111111111111, \"#46039f\"], [0.2222222222222222, \"#7201a8\"], [0.3333333333333333, \"#9c179e\"], [0.4444444444444444, \"#bd3786\"], [0.5555555555555556, \"#d8576b\"], [0.6666666666666666, \"#ed7953\"], [0.7777777777777778, \"#fb9f3a\"], [0.8888888888888888, \"#fdca26\"], [1.0, \"#f0f921\"]], \"type\": \"heatmapgl\"}], \"histogram\": [{\"marker\": {\"colorbar\": {\"outlinewidth\": 0, \"ticks\": \"\"}}, \"type\": \"histogram\"}], \"histogram2d\": [{\"colorbar\": {\"outlinewidth\": 0, \"ticks\": \"\"}, \"colorscale\": [[0.0, \"#0d0887\"], [0.1111111111111111, \"#46039f\"], [0.2222222222222222, \"#7201a8\"], [0.3333333333333333, \"#9c179e\"], [0.4444444444444444, \"#bd3786\"], [0.5555555555555556, \"#d8576b\"], [0.6666666666666666, \"#ed7953\"], [0.7777777777777778, \"#fb9f3a\"], [0.8888888888888888, \"#fdca26\"], [1.0, \"#f0f921\"]], \"type\": \"histogram2d\"}], \"histogram2dcontour\": [{\"colorbar\": {\"outlinewidth\": 0, \"ticks\": \"\"}, \"colorscale\": [[0.0, \"#0d0887\"], [0.1111111111111111, \"#46039f\"], [0.2222222222222222, \"#7201a8\"], [0.3333333333333333, \"#9c179e\"], [0.4444444444444444, \"#bd3786\"], [0.5555555555555556, \"#d8576b\"], [0.6666666666666666, \"#ed7953\"], [0.7777777777777778, \"#fb9f3a\"], [0.8888888888888888, \"#fdca26\"], [1.0, \"#f0f921\"]], \"type\": \"histogram2dcontour\"}], \"mesh3d\": [{\"colorbar\": {\"outlinewidth\": 0, \"ticks\": \"\"}, \"type\": \"mesh3d\"}], \"parcoords\": [{\"line\": {\"colorbar\": {\"outlinewidth\": 0, \"ticks\": \"\"}}, \"type\": \"parcoords\"}], \"pie\": [{\"automargin\": true, \"type\": \"pie\"}], \"scatter\": [{\"marker\": {\"colorbar\": {\"outlinewidth\": 0, \"ticks\": \"\"}}, \"type\": \"scatter\"}], \"scatter3d\": [{\"line\": {\"colorbar\": {\"outlinewidth\": 0, \"ticks\": \"\"}}, \"marker\": {\"colorbar\": {\"outlinewidth\": 0, \"ticks\": \"\"}}, \"type\": \"scatter3d\"}], \"scattercarpet\": [{\"marker\": {\"colorbar\": {\"outlinewidth\": 0, \"ticks\": \"\"}}, \"type\": \"scattercarpet\"}], \"scattergeo\": [{\"marker\": {\"colorbar\": {\"outlinewidth\": 0, \"ticks\": \"\"}}, \"type\": \"scattergeo\"}], \"scattergl\": [{\"marker\": {\"colorbar\": {\"outlinewidth\": 0, \"ticks\": \"\"}}, \"type\": \"scattergl\"}], \"scattermapbox\": [{\"marker\": {\"colorbar\": {\"outlinewidth\": 0, \"ticks\": \"\"}}, \"type\": \"scattermapbox\"}], \"scatterpolar\": [{\"marker\": {\"colorbar\": {\"outlinewidth\": 0, \"ticks\": \"\"}}, \"type\": \"scatterpolar\"}], \"scatterpolargl\": [{\"marker\": {\"colorbar\": {\"outlinewidth\": 0, \"ticks\": \"\"}}, \"type\": \"scatterpolargl\"}], \"scatterternary\": [{\"marker\": {\"colorbar\": {\"outlinewidth\": 0, \"ticks\": \"\"}}, \"type\": \"scatterternary\"}], \"surface\": [{\"colorbar\": {\"outlinewidth\": 0, \"ticks\": \"\"}, \"colorscale\": [[0.0, \"#0d0887\"], [0.1111111111111111, \"#46039f\"], [0.2222222222222222, \"#7201a8\"], [0.3333333333333333, \"#9c179e\"], [0.4444444444444444, \"#bd3786\"], [0.5555555555555556, \"#d8576b\"], [0.6666666666666666, \"#ed7953\"], [0.7777777777777778, \"#fb9f3a\"], [0.8888888888888888, \"#fdca26\"], [1.0, \"#f0f921\"]], \"type\": \"surface\"}], \"table\": [{\"cells\": {\"fill\": {\"color\": \"#EBF0F8\"}, \"line\": {\"color\": \"white\"}}, \"header\": {\"fill\": {\"color\": \"#C8D4E3\"}, \"line\": {\"color\": \"white\"}}, \"type\": \"table\"}]}, \"layout\": {\"annotationdefaults\": {\"arrowcolor\": \"#2a3f5f\", \"arrowhead\": 0, \"arrowwidth\": 1}, \"coloraxis\": {\"colorbar\": {\"outlinewidth\": 0, \"ticks\": \"\"}}, \"colorscale\": {\"diverging\": [[0, \"#8e0152\"], [0.1, \"#c51b7d\"], [0.2, \"#de77ae\"], [0.3, \"#f1b6da\"], [0.4, \"#fde0ef\"], [0.5, \"#f7f7f7\"], [0.6, \"#e6f5d0\"], [0.7, \"#b8e186\"], [0.8, \"#7fbc41\"], [0.9, \"#4d9221\"], [1, \"#276419\"]], \"sequential\": [[0.0, \"#0d0887\"], [0.1111111111111111, \"#46039f\"], [0.2222222222222222, \"#7201a8\"], [0.3333333333333333, \"#9c179e\"], [0.4444444444444444, \"#bd3786\"], [0.5555555555555556, \"#d8576b\"], [0.6666666666666666, \"#ed7953\"], [0.7777777777777778, \"#fb9f3a\"], [0.8888888888888888, \"#fdca26\"], [1.0, \"#f0f921\"]], \"sequentialminus\": [[0.0, \"#0d0887\"], [0.1111111111111111, \"#46039f\"], [0.2222222222222222, \"#7201a8\"], [0.3333333333333333, \"#9c179e\"], [0.4444444444444444, \"#bd3786\"], [0.5555555555555556, \"#d8576b\"], [0.6666666666666666, \"#ed7953\"], [0.7777777777777778, \"#fb9f3a\"], [0.8888888888888888, \"#fdca26\"], [1.0, \"#f0f921\"]]}, \"colorway\": [\"#636efa\", \"#EF553B\", \"#00cc96\", \"#ab63fa\", \"#FFA15A\", \"#19d3f3\", \"#FF6692\", \"#B6E880\", \"#FF97FF\", \"#FECB52\"], \"font\": {\"color\": \"#2a3f5f\"}, \"geo\": {\"bgcolor\": \"white\", \"lakecolor\": \"white\", \"landcolor\": \"#E5ECF6\", \"showlakes\": true, \"showland\": true, \"subunitcolor\": \"white\"}, \"hoverlabel\": {\"align\": \"left\"}, \"hovermode\": \"closest\", \"mapbox\": {\"style\": \"light\"}, \"paper_bgcolor\": \"white\", \"plot_bgcolor\": \"#E5ECF6\", \"polar\": {\"angularaxis\": {\"gridcolor\": \"white\", \"linecolor\": \"white\", \"ticks\": \"\"}, \"bgcolor\": \"#E5ECF6\", \"radialaxis\": {\"gridcolor\": \"white\", \"linecolor\": \"white\", \"ticks\": \"\"}}, \"scene\": {\"xaxis\": {\"backgroundcolor\": \"#E5ECF6\", \"gridcolor\": \"white\", \"gridwidth\": 2, \"linecolor\": \"white\", \"showbackground\": true, \"ticks\": \"\", \"zerolinecolor\": \"white\"}, \"yaxis\": {\"backgroundcolor\": \"#E5ECF6\", \"gridcolor\": \"white\", \"gridwidth\": 2, \"linecolor\": \"white\", \"showbackground\": true, \"ticks\": \"\", \"zerolinecolor\": \"white\"}, \"zaxis\": {\"backgroundcolor\": \"#E5ECF6\", \"gridcolor\": \"white\", \"gridwidth\": 2, \"linecolor\": \"white\", \"showbackground\": true, \"ticks\": \"\", \"zerolinecolor\": \"white\"}}, \"shapedefaults\": {\"line\": {\"color\": \"#2a3f5f\"}}, \"ternary\": {\"aaxis\": {\"gridcolor\": \"white\", \"linecolor\": \"white\", \"ticks\": \"\"}, \"baxis\": {\"gridcolor\": \"white\", \"linecolor\": \"white\", \"ticks\": \"\"}, \"bgcolor\": \"#E5ECF6\", \"caxis\": {\"gridcolor\": \"white\", \"linecolor\": \"white\", \"ticks\": \"\"}}, \"title\": {\"x\": 0.05}, \"xaxis\": {\"automargin\": true, \"gridcolor\": \"white\", \"linecolor\": \"white\", \"ticks\": \"\", \"title\": {\"standoff\": 15}, \"zerolinecolor\": \"white\", \"zerolinewidth\": 2}, \"yaxis\": {\"automargin\": true, \"gridcolor\": \"white\", \"linecolor\": \"white\", \"ticks\": \"\", \"title\": {\"standoff\": 15}, \"zerolinecolor\": \"white\", \"zerolinewidth\": 2}}}, \"title\": {\"font\": {\"color\": \"#4D5663\"}}, \"xaxis\": {\"gridcolor\": \"#E1E5ED\", \"showgrid\": true, \"tickfont\": {\"color\": \"#4D5663\"}, \"title\": {\"font\": {\"color\": \"#4D5663\"}, \"text\": \"\"}, \"zerolinecolor\": \"#E1E5ED\"}, \"yaxis\": {\"gridcolor\": \"#E1E5ED\", \"showgrid\": true, \"tickfont\": {\"color\": \"#4D5663\"}, \"title\": {\"font\": {\"color\": \"#4D5663\"}, \"text\": \"\"}, \"zerolinecolor\": \"#E1E5ED\"}},\n",
       "                        {\"showLink\": true, \"linkText\": \"Export to plot.ly\", \"plotlyServerURL\": \"https://plot.ly\", \"responsive\": true}\n",
       "                    ).then(function(){\n",
       "                            \n",
       "var gd = document.getElementById('3ff00a60-ec7e-4947-8874-670307fe31a4');\n",
       "var x = new MutationObserver(function (mutations, observer) {{\n",
       "        var display = window.getComputedStyle(gd).display;\n",
       "        if (!display || display === 'none') {{\n",
       "            console.log([gd, 'removed!']);\n",
       "            Plotly.purge(gd);\n",
       "            observer.disconnect();\n",
       "        }}\n",
       "}});\n",
       "\n",
       "// Listen for the removal of the full notebook cells\n",
       "var notebookContainer = gd.closest('#notebook-container');\n",
       "if (notebookContainer) {{\n",
       "    x.observe(notebookContainer, {childList: true});\n",
       "}}\n",
       "\n",
       "// Listen for the clearing of the current output cell\n",
       "var outputEl = gd.closest('.output');\n",
       "if (outputEl) {{\n",
       "    x.observe(outputEl, {childList: true});\n",
       "}}\n",
       "\n",
       "                        })\n",
       "                };\n",
       "                });\n",
       "            </script>\n",
       "        </div>"
      ]
     },
     "metadata": {},
     "output_type": "display_data"
    }
   ],
   "source": [
    "df.iplot(kind='scatter',x='A',y='B',mode='markers')"
   ]
  },
  {
   "cell_type": "code",
   "execution_count": 20,
   "metadata": {},
   "outputs": [
    {
     "data": {
      "application/vnd.plotly.v1+json": {
       "config": {
        "linkText": "Export to plot.ly",
        "plotlyServerURL": "https://plot.ly",
        "showLink": true
       },
       "data": [
        {
         "marker": {
          "color": "rgba(255, 153, 51, 0.6)",
          "line": {
           "color": "rgba(255, 153, 51, 1.0)",
           "width": 1
          }
         },
         "name": "Values",
         "orientation": "v",
         "text": "",
         "type": "bar",
         "x": [
          "A",
          "B",
          "C"
         ],
         "y": [
          32,
          43,
          50
         ]
        }
       ],
       "layout": {
        "legend": {
         "bgcolor": "#F5F6F9",
         "font": {
          "color": "#4D5663"
         }
        },
        "paper_bgcolor": "#F5F6F9",
        "plot_bgcolor": "#F5F6F9",
        "template": {
         "data": {
          "bar": [
           {
            "error_x": {
             "color": "#2a3f5f"
            },
            "error_y": {
             "color": "#2a3f5f"
            },
            "marker": {
             "line": {
              "color": "#E5ECF6",
              "width": 0.5
             }
            },
            "type": "bar"
           }
          ],
          "barpolar": [
           {
            "marker": {
             "line": {
              "color": "#E5ECF6",
              "width": 0.5
             }
            },
            "type": "barpolar"
           }
          ],
          "carpet": [
           {
            "aaxis": {
             "endlinecolor": "#2a3f5f",
             "gridcolor": "white",
             "linecolor": "white",
             "minorgridcolor": "white",
             "startlinecolor": "#2a3f5f"
            },
            "baxis": {
             "endlinecolor": "#2a3f5f",
             "gridcolor": "white",
             "linecolor": "white",
             "minorgridcolor": "white",
             "startlinecolor": "#2a3f5f"
            },
            "type": "carpet"
           }
          ],
          "choropleth": [
           {
            "colorbar": {
             "outlinewidth": 0,
             "ticks": ""
            },
            "type": "choropleth"
           }
          ],
          "contour": [
           {
            "colorbar": {
             "outlinewidth": 0,
             "ticks": ""
            },
            "colorscale": [
             [
              0,
              "#0d0887"
             ],
             [
              0.1111111111111111,
              "#46039f"
             ],
             [
              0.2222222222222222,
              "#7201a8"
             ],
             [
              0.3333333333333333,
              "#9c179e"
             ],
             [
              0.4444444444444444,
              "#bd3786"
             ],
             [
              0.5555555555555556,
              "#d8576b"
             ],
             [
              0.6666666666666666,
              "#ed7953"
             ],
             [
              0.7777777777777778,
              "#fb9f3a"
             ],
             [
              0.8888888888888888,
              "#fdca26"
             ],
             [
              1,
              "#f0f921"
             ]
            ],
            "type": "contour"
           }
          ],
          "contourcarpet": [
           {
            "colorbar": {
             "outlinewidth": 0,
             "ticks": ""
            },
            "type": "contourcarpet"
           }
          ],
          "heatmap": [
           {
            "colorbar": {
             "outlinewidth": 0,
             "ticks": ""
            },
            "colorscale": [
             [
              0,
              "#0d0887"
             ],
             [
              0.1111111111111111,
              "#46039f"
             ],
             [
              0.2222222222222222,
              "#7201a8"
             ],
             [
              0.3333333333333333,
              "#9c179e"
             ],
             [
              0.4444444444444444,
              "#bd3786"
             ],
             [
              0.5555555555555556,
              "#d8576b"
             ],
             [
              0.6666666666666666,
              "#ed7953"
             ],
             [
              0.7777777777777778,
              "#fb9f3a"
             ],
             [
              0.8888888888888888,
              "#fdca26"
             ],
             [
              1,
              "#f0f921"
             ]
            ],
            "type": "heatmap"
           }
          ],
          "heatmapgl": [
           {
            "colorbar": {
             "outlinewidth": 0,
             "ticks": ""
            },
            "colorscale": [
             [
              0,
              "#0d0887"
             ],
             [
              0.1111111111111111,
              "#46039f"
             ],
             [
              0.2222222222222222,
              "#7201a8"
             ],
             [
              0.3333333333333333,
              "#9c179e"
             ],
             [
              0.4444444444444444,
              "#bd3786"
             ],
             [
              0.5555555555555556,
              "#d8576b"
             ],
             [
              0.6666666666666666,
              "#ed7953"
             ],
             [
              0.7777777777777778,
              "#fb9f3a"
             ],
             [
              0.8888888888888888,
              "#fdca26"
             ],
             [
              1,
              "#f0f921"
             ]
            ],
            "type": "heatmapgl"
           }
          ],
          "histogram": [
           {
            "marker": {
             "colorbar": {
              "outlinewidth": 0,
              "ticks": ""
             }
            },
            "type": "histogram"
           }
          ],
          "histogram2d": [
           {
            "colorbar": {
             "outlinewidth": 0,
             "ticks": ""
            },
            "colorscale": [
             [
              0,
              "#0d0887"
             ],
             [
              0.1111111111111111,
              "#46039f"
             ],
             [
              0.2222222222222222,
              "#7201a8"
             ],
             [
              0.3333333333333333,
              "#9c179e"
             ],
             [
              0.4444444444444444,
              "#bd3786"
             ],
             [
              0.5555555555555556,
              "#d8576b"
             ],
             [
              0.6666666666666666,
              "#ed7953"
             ],
             [
              0.7777777777777778,
              "#fb9f3a"
             ],
             [
              0.8888888888888888,
              "#fdca26"
             ],
             [
              1,
              "#f0f921"
             ]
            ],
            "type": "histogram2d"
           }
          ],
          "histogram2dcontour": [
           {
            "colorbar": {
             "outlinewidth": 0,
             "ticks": ""
            },
            "colorscale": [
             [
              0,
              "#0d0887"
             ],
             [
              0.1111111111111111,
              "#46039f"
             ],
             [
              0.2222222222222222,
              "#7201a8"
             ],
             [
              0.3333333333333333,
              "#9c179e"
             ],
             [
              0.4444444444444444,
              "#bd3786"
             ],
             [
              0.5555555555555556,
              "#d8576b"
             ],
             [
              0.6666666666666666,
              "#ed7953"
             ],
             [
              0.7777777777777778,
              "#fb9f3a"
             ],
             [
              0.8888888888888888,
              "#fdca26"
             ],
             [
              1,
              "#f0f921"
             ]
            ],
            "type": "histogram2dcontour"
           }
          ],
          "mesh3d": [
           {
            "colorbar": {
             "outlinewidth": 0,
             "ticks": ""
            },
            "type": "mesh3d"
           }
          ],
          "parcoords": [
           {
            "line": {
             "colorbar": {
              "outlinewidth": 0,
              "ticks": ""
             }
            },
            "type": "parcoords"
           }
          ],
          "pie": [
           {
            "automargin": true,
            "type": "pie"
           }
          ],
          "scatter": [
           {
            "marker": {
             "colorbar": {
              "outlinewidth": 0,
              "ticks": ""
             }
            },
            "type": "scatter"
           }
          ],
          "scatter3d": [
           {
            "line": {
             "colorbar": {
              "outlinewidth": 0,
              "ticks": ""
             }
            },
            "marker": {
             "colorbar": {
              "outlinewidth": 0,
              "ticks": ""
             }
            },
            "type": "scatter3d"
           }
          ],
          "scattercarpet": [
           {
            "marker": {
             "colorbar": {
              "outlinewidth": 0,
              "ticks": ""
             }
            },
            "type": "scattercarpet"
           }
          ],
          "scattergeo": [
           {
            "marker": {
             "colorbar": {
              "outlinewidth": 0,
              "ticks": ""
             }
            },
            "type": "scattergeo"
           }
          ],
          "scattergl": [
           {
            "marker": {
             "colorbar": {
              "outlinewidth": 0,
              "ticks": ""
             }
            },
            "type": "scattergl"
           }
          ],
          "scattermapbox": [
           {
            "marker": {
             "colorbar": {
              "outlinewidth": 0,
              "ticks": ""
             }
            },
            "type": "scattermapbox"
           }
          ],
          "scatterpolar": [
           {
            "marker": {
             "colorbar": {
              "outlinewidth": 0,
              "ticks": ""
             }
            },
            "type": "scatterpolar"
           }
          ],
          "scatterpolargl": [
           {
            "marker": {
             "colorbar": {
              "outlinewidth": 0,
              "ticks": ""
             }
            },
            "type": "scatterpolargl"
           }
          ],
          "scatterternary": [
           {
            "marker": {
             "colorbar": {
              "outlinewidth": 0,
              "ticks": ""
             }
            },
            "type": "scatterternary"
           }
          ],
          "surface": [
           {
            "colorbar": {
             "outlinewidth": 0,
             "ticks": ""
            },
            "colorscale": [
             [
              0,
              "#0d0887"
             ],
             [
              0.1111111111111111,
              "#46039f"
             ],
             [
              0.2222222222222222,
              "#7201a8"
             ],
             [
              0.3333333333333333,
              "#9c179e"
             ],
             [
              0.4444444444444444,
              "#bd3786"
             ],
             [
              0.5555555555555556,
              "#d8576b"
             ],
             [
              0.6666666666666666,
              "#ed7953"
             ],
             [
              0.7777777777777778,
              "#fb9f3a"
             ],
             [
              0.8888888888888888,
              "#fdca26"
             ],
             [
              1,
              "#f0f921"
             ]
            ],
            "type": "surface"
           }
          ],
          "table": [
           {
            "cells": {
             "fill": {
              "color": "#EBF0F8"
             },
             "line": {
              "color": "white"
             }
            },
            "header": {
             "fill": {
              "color": "#C8D4E3"
             },
             "line": {
              "color": "white"
             }
            },
            "type": "table"
           }
          ]
         },
         "layout": {
          "annotationdefaults": {
           "arrowcolor": "#2a3f5f",
           "arrowhead": 0,
           "arrowwidth": 1
          },
          "coloraxis": {
           "colorbar": {
            "outlinewidth": 0,
            "ticks": ""
           }
          },
          "colorscale": {
           "diverging": [
            [
             0,
             "#8e0152"
            ],
            [
             0.1,
             "#c51b7d"
            ],
            [
             0.2,
             "#de77ae"
            ],
            [
             0.3,
             "#f1b6da"
            ],
            [
             0.4,
             "#fde0ef"
            ],
            [
             0.5,
             "#f7f7f7"
            ],
            [
             0.6,
             "#e6f5d0"
            ],
            [
             0.7,
             "#b8e186"
            ],
            [
             0.8,
             "#7fbc41"
            ],
            [
             0.9,
             "#4d9221"
            ],
            [
             1,
             "#276419"
            ]
           ],
           "sequential": [
            [
             0,
             "#0d0887"
            ],
            [
             0.1111111111111111,
             "#46039f"
            ],
            [
             0.2222222222222222,
             "#7201a8"
            ],
            [
             0.3333333333333333,
             "#9c179e"
            ],
            [
             0.4444444444444444,
             "#bd3786"
            ],
            [
             0.5555555555555556,
             "#d8576b"
            ],
            [
             0.6666666666666666,
             "#ed7953"
            ],
            [
             0.7777777777777778,
             "#fb9f3a"
            ],
            [
             0.8888888888888888,
             "#fdca26"
            ],
            [
             1,
             "#f0f921"
            ]
           ],
           "sequentialminus": [
            [
             0,
             "#0d0887"
            ],
            [
             0.1111111111111111,
             "#46039f"
            ],
            [
             0.2222222222222222,
             "#7201a8"
            ],
            [
             0.3333333333333333,
             "#9c179e"
            ],
            [
             0.4444444444444444,
             "#bd3786"
            ],
            [
             0.5555555555555556,
             "#d8576b"
            ],
            [
             0.6666666666666666,
             "#ed7953"
            ],
            [
             0.7777777777777778,
             "#fb9f3a"
            ],
            [
             0.8888888888888888,
             "#fdca26"
            ],
            [
             1,
             "#f0f921"
            ]
           ]
          },
          "colorway": [
           "#636efa",
           "#EF553B",
           "#00cc96",
           "#ab63fa",
           "#FFA15A",
           "#19d3f3",
           "#FF6692",
           "#B6E880",
           "#FF97FF",
           "#FECB52"
          ],
          "font": {
           "color": "#2a3f5f"
          },
          "geo": {
           "bgcolor": "white",
           "lakecolor": "white",
           "landcolor": "#E5ECF6",
           "showlakes": true,
           "showland": true,
           "subunitcolor": "white"
          },
          "hoverlabel": {
           "align": "left"
          },
          "hovermode": "closest",
          "mapbox": {
           "style": "light"
          },
          "paper_bgcolor": "white",
          "plot_bgcolor": "#E5ECF6",
          "polar": {
           "angularaxis": {
            "gridcolor": "white",
            "linecolor": "white",
            "ticks": ""
           },
           "bgcolor": "#E5ECF6",
           "radialaxis": {
            "gridcolor": "white",
            "linecolor": "white",
            "ticks": ""
           }
          },
          "scene": {
           "xaxis": {
            "backgroundcolor": "#E5ECF6",
            "gridcolor": "white",
            "gridwidth": 2,
            "linecolor": "white",
            "showbackground": true,
            "ticks": "",
            "zerolinecolor": "white"
           },
           "yaxis": {
            "backgroundcolor": "#E5ECF6",
            "gridcolor": "white",
            "gridwidth": 2,
            "linecolor": "white",
            "showbackground": true,
            "ticks": "",
            "zerolinecolor": "white"
           },
           "zaxis": {
            "backgroundcolor": "#E5ECF6",
            "gridcolor": "white",
            "gridwidth": 2,
            "linecolor": "white",
            "showbackground": true,
            "ticks": "",
            "zerolinecolor": "white"
           }
          },
          "shapedefaults": {
           "line": {
            "color": "#2a3f5f"
           }
          },
          "ternary": {
           "aaxis": {
            "gridcolor": "white",
            "linecolor": "white",
            "ticks": ""
           },
           "baxis": {
            "gridcolor": "white",
            "linecolor": "white",
            "ticks": ""
           },
           "bgcolor": "#E5ECF6",
           "caxis": {
            "gridcolor": "white",
            "linecolor": "white",
            "ticks": ""
           }
          },
          "title": {
           "x": 0.05
          },
          "xaxis": {
           "automargin": true,
           "gridcolor": "white",
           "linecolor": "white",
           "ticks": "",
           "title": {
            "standoff": 15
           },
           "zerolinecolor": "white",
           "zerolinewidth": 2
          },
          "yaxis": {
           "automargin": true,
           "gridcolor": "white",
           "linecolor": "white",
           "ticks": "",
           "title": {
            "standoff": 15
           },
           "zerolinecolor": "white",
           "zerolinewidth": 2
          }
         }
        },
        "title": {
         "font": {
          "color": "#4D5663"
         }
        },
        "xaxis": {
         "gridcolor": "#E1E5ED",
         "showgrid": true,
         "tickfont": {
          "color": "#4D5663"
         },
         "title": {
          "font": {
           "color": "#4D5663"
          },
          "text": ""
         },
         "zerolinecolor": "#E1E5ED"
        },
        "yaxis": {
         "gridcolor": "#E1E5ED",
         "showgrid": true,
         "tickfont": {
          "color": "#4D5663"
         },
         "title": {
          "font": {
           "color": "#4D5663"
          },
          "text": ""
         },
         "zerolinecolor": "#E1E5ED"
        }
       }
      },
      "text/html": [
       "<div>\n",
       "        \n",
       "        \n",
       "            <div id=\"c432f811-a992-4e56-a149-22c1684bbd11\" class=\"plotly-graph-div\" style=\"height:525px; width:100%;\"></div>\n",
       "            <script type=\"text/javascript\">\n",
       "                require([\"plotly\"], function(Plotly) {\n",
       "                    window.PLOTLYENV=window.PLOTLYENV || {};\n",
       "                    window.PLOTLYENV.BASE_URL='https://plot.ly';\n",
       "                    \n",
       "                if (document.getElementById(\"c432f811-a992-4e56-a149-22c1684bbd11\")) {\n",
       "                    Plotly.newPlot(\n",
       "                        'c432f811-a992-4e56-a149-22c1684bbd11',\n",
       "                        [{\"marker\": {\"color\": \"rgba(255, 153, 51, 0.6)\", \"line\": {\"color\": \"rgba(255, 153, 51, 1.0)\", \"width\": 1}}, \"name\": \"Values\", \"orientation\": \"v\", \"text\": \"\", \"type\": \"bar\", \"x\": [\"A\", \"B\", \"C\"], \"y\": [32, 43, 50]}],\n",
       "                        {\"legend\": {\"bgcolor\": \"#F5F6F9\", \"font\": {\"color\": \"#4D5663\"}}, \"paper_bgcolor\": \"#F5F6F9\", \"plot_bgcolor\": \"#F5F6F9\", \"template\": {\"data\": {\"bar\": [{\"error_x\": {\"color\": \"#2a3f5f\"}, \"error_y\": {\"color\": \"#2a3f5f\"}, \"marker\": {\"line\": {\"color\": \"#E5ECF6\", \"width\": 0.5}}, \"type\": \"bar\"}], \"barpolar\": [{\"marker\": {\"line\": {\"color\": \"#E5ECF6\", \"width\": 0.5}}, \"type\": \"barpolar\"}], \"carpet\": [{\"aaxis\": {\"endlinecolor\": \"#2a3f5f\", \"gridcolor\": \"white\", \"linecolor\": \"white\", \"minorgridcolor\": \"white\", \"startlinecolor\": \"#2a3f5f\"}, \"baxis\": {\"endlinecolor\": \"#2a3f5f\", \"gridcolor\": \"white\", \"linecolor\": \"white\", \"minorgridcolor\": \"white\", \"startlinecolor\": \"#2a3f5f\"}, \"type\": \"carpet\"}], \"choropleth\": [{\"colorbar\": {\"outlinewidth\": 0, \"ticks\": \"\"}, \"type\": \"choropleth\"}], \"contour\": [{\"colorbar\": {\"outlinewidth\": 0, \"ticks\": \"\"}, \"colorscale\": [[0.0, \"#0d0887\"], [0.1111111111111111, \"#46039f\"], [0.2222222222222222, \"#7201a8\"], [0.3333333333333333, \"#9c179e\"], [0.4444444444444444, \"#bd3786\"], [0.5555555555555556, \"#d8576b\"], [0.6666666666666666, \"#ed7953\"], [0.7777777777777778, \"#fb9f3a\"], [0.8888888888888888, \"#fdca26\"], [1.0, \"#f0f921\"]], \"type\": \"contour\"}], \"contourcarpet\": [{\"colorbar\": {\"outlinewidth\": 0, \"ticks\": \"\"}, \"type\": \"contourcarpet\"}], \"heatmap\": [{\"colorbar\": {\"outlinewidth\": 0, \"ticks\": \"\"}, \"colorscale\": [[0.0, \"#0d0887\"], [0.1111111111111111, \"#46039f\"], [0.2222222222222222, \"#7201a8\"], [0.3333333333333333, \"#9c179e\"], [0.4444444444444444, \"#bd3786\"], [0.5555555555555556, \"#d8576b\"], [0.6666666666666666, \"#ed7953\"], [0.7777777777777778, \"#fb9f3a\"], [0.8888888888888888, \"#fdca26\"], [1.0, \"#f0f921\"]], \"type\": \"heatmap\"}], \"heatmapgl\": [{\"colorbar\": {\"outlinewidth\": 0, \"ticks\": \"\"}, \"colorscale\": [[0.0, \"#0d0887\"], [0.1111111111111111, \"#46039f\"], [0.2222222222222222, \"#7201a8\"], [0.3333333333333333, \"#9c179e\"], [0.4444444444444444, \"#bd3786\"], [0.5555555555555556, \"#d8576b\"], [0.6666666666666666, \"#ed7953\"], [0.7777777777777778, \"#fb9f3a\"], [0.8888888888888888, \"#fdca26\"], [1.0, \"#f0f921\"]], \"type\": \"heatmapgl\"}], \"histogram\": [{\"marker\": {\"colorbar\": {\"outlinewidth\": 0, \"ticks\": \"\"}}, \"type\": \"histogram\"}], \"histogram2d\": [{\"colorbar\": {\"outlinewidth\": 0, \"ticks\": \"\"}, \"colorscale\": [[0.0, \"#0d0887\"], [0.1111111111111111, \"#46039f\"], [0.2222222222222222, \"#7201a8\"], [0.3333333333333333, \"#9c179e\"], [0.4444444444444444, \"#bd3786\"], [0.5555555555555556, \"#d8576b\"], [0.6666666666666666, \"#ed7953\"], [0.7777777777777778, \"#fb9f3a\"], [0.8888888888888888, \"#fdca26\"], [1.0, \"#f0f921\"]], \"type\": \"histogram2d\"}], \"histogram2dcontour\": [{\"colorbar\": {\"outlinewidth\": 0, \"ticks\": \"\"}, \"colorscale\": [[0.0, \"#0d0887\"], [0.1111111111111111, \"#46039f\"], [0.2222222222222222, \"#7201a8\"], [0.3333333333333333, \"#9c179e\"], [0.4444444444444444, \"#bd3786\"], [0.5555555555555556, \"#d8576b\"], [0.6666666666666666, \"#ed7953\"], [0.7777777777777778, \"#fb9f3a\"], [0.8888888888888888, \"#fdca26\"], [1.0, \"#f0f921\"]], \"type\": \"histogram2dcontour\"}], \"mesh3d\": [{\"colorbar\": {\"outlinewidth\": 0, \"ticks\": \"\"}, \"type\": \"mesh3d\"}], \"parcoords\": [{\"line\": {\"colorbar\": {\"outlinewidth\": 0, \"ticks\": \"\"}}, \"type\": \"parcoords\"}], \"pie\": [{\"automargin\": true, \"type\": \"pie\"}], \"scatter\": [{\"marker\": {\"colorbar\": {\"outlinewidth\": 0, \"ticks\": \"\"}}, \"type\": \"scatter\"}], \"scatter3d\": [{\"line\": {\"colorbar\": {\"outlinewidth\": 0, \"ticks\": \"\"}}, \"marker\": {\"colorbar\": {\"outlinewidth\": 0, \"ticks\": \"\"}}, \"type\": \"scatter3d\"}], \"scattercarpet\": [{\"marker\": {\"colorbar\": {\"outlinewidth\": 0, \"ticks\": \"\"}}, \"type\": \"scattercarpet\"}], \"scattergeo\": [{\"marker\": {\"colorbar\": {\"outlinewidth\": 0, \"ticks\": \"\"}}, \"type\": \"scattergeo\"}], \"scattergl\": [{\"marker\": {\"colorbar\": {\"outlinewidth\": 0, \"ticks\": \"\"}}, \"type\": \"scattergl\"}], \"scattermapbox\": [{\"marker\": {\"colorbar\": {\"outlinewidth\": 0, \"ticks\": \"\"}}, \"type\": \"scattermapbox\"}], \"scatterpolar\": [{\"marker\": {\"colorbar\": {\"outlinewidth\": 0, \"ticks\": \"\"}}, \"type\": \"scatterpolar\"}], \"scatterpolargl\": [{\"marker\": {\"colorbar\": {\"outlinewidth\": 0, \"ticks\": \"\"}}, \"type\": \"scatterpolargl\"}], \"scatterternary\": [{\"marker\": {\"colorbar\": {\"outlinewidth\": 0, \"ticks\": \"\"}}, \"type\": \"scatterternary\"}], \"surface\": [{\"colorbar\": {\"outlinewidth\": 0, \"ticks\": \"\"}, \"colorscale\": [[0.0, \"#0d0887\"], [0.1111111111111111, \"#46039f\"], [0.2222222222222222, \"#7201a8\"], [0.3333333333333333, \"#9c179e\"], [0.4444444444444444, \"#bd3786\"], [0.5555555555555556, \"#d8576b\"], [0.6666666666666666, \"#ed7953\"], [0.7777777777777778, \"#fb9f3a\"], [0.8888888888888888, \"#fdca26\"], [1.0, \"#f0f921\"]], \"type\": \"surface\"}], \"table\": [{\"cells\": {\"fill\": {\"color\": \"#EBF0F8\"}, \"line\": {\"color\": \"white\"}}, \"header\": {\"fill\": {\"color\": \"#C8D4E3\"}, \"line\": {\"color\": \"white\"}}, \"type\": \"table\"}]}, \"layout\": {\"annotationdefaults\": {\"arrowcolor\": \"#2a3f5f\", \"arrowhead\": 0, \"arrowwidth\": 1}, \"coloraxis\": {\"colorbar\": {\"outlinewidth\": 0, \"ticks\": \"\"}}, \"colorscale\": {\"diverging\": [[0, \"#8e0152\"], [0.1, \"#c51b7d\"], [0.2, \"#de77ae\"], [0.3, \"#f1b6da\"], [0.4, \"#fde0ef\"], [0.5, \"#f7f7f7\"], [0.6, \"#e6f5d0\"], [0.7, \"#b8e186\"], [0.8, \"#7fbc41\"], [0.9, \"#4d9221\"], [1, \"#276419\"]], \"sequential\": [[0.0, \"#0d0887\"], [0.1111111111111111, \"#46039f\"], [0.2222222222222222, \"#7201a8\"], [0.3333333333333333, \"#9c179e\"], [0.4444444444444444, \"#bd3786\"], [0.5555555555555556, \"#d8576b\"], [0.6666666666666666, \"#ed7953\"], [0.7777777777777778, \"#fb9f3a\"], [0.8888888888888888, \"#fdca26\"], [1.0, \"#f0f921\"]], \"sequentialminus\": [[0.0, \"#0d0887\"], [0.1111111111111111, \"#46039f\"], [0.2222222222222222, \"#7201a8\"], [0.3333333333333333, \"#9c179e\"], [0.4444444444444444, \"#bd3786\"], [0.5555555555555556, \"#d8576b\"], [0.6666666666666666, \"#ed7953\"], [0.7777777777777778, \"#fb9f3a\"], [0.8888888888888888, \"#fdca26\"], [1.0, \"#f0f921\"]]}, \"colorway\": [\"#636efa\", \"#EF553B\", \"#00cc96\", \"#ab63fa\", \"#FFA15A\", \"#19d3f3\", \"#FF6692\", \"#B6E880\", \"#FF97FF\", \"#FECB52\"], \"font\": {\"color\": \"#2a3f5f\"}, \"geo\": {\"bgcolor\": \"white\", \"lakecolor\": \"white\", \"landcolor\": \"#E5ECF6\", \"showlakes\": true, \"showland\": true, \"subunitcolor\": \"white\"}, \"hoverlabel\": {\"align\": \"left\"}, \"hovermode\": \"closest\", \"mapbox\": {\"style\": \"light\"}, \"paper_bgcolor\": \"white\", \"plot_bgcolor\": \"#E5ECF6\", \"polar\": {\"angularaxis\": {\"gridcolor\": \"white\", \"linecolor\": \"white\", \"ticks\": \"\"}, \"bgcolor\": \"#E5ECF6\", \"radialaxis\": {\"gridcolor\": \"white\", \"linecolor\": \"white\", \"ticks\": \"\"}}, \"scene\": {\"xaxis\": {\"backgroundcolor\": \"#E5ECF6\", \"gridcolor\": \"white\", \"gridwidth\": 2, \"linecolor\": \"white\", \"showbackground\": true, \"ticks\": \"\", \"zerolinecolor\": \"white\"}, \"yaxis\": {\"backgroundcolor\": \"#E5ECF6\", \"gridcolor\": \"white\", \"gridwidth\": 2, \"linecolor\": \"white\", \"showbackground\": true, \"ticks\": \"\", \"zerolinecolor\": \"white\"}, \"zaxis\": {\"backgroundcolor\": \"#E5ECF6\", \"gridcolor\": \"white\", \"gridwidth\": 2, \"linecolor\": \"white\", \"showbackground\": true, \"ticks\": \"\", \"zerolinecolor\": \"white\"}}, \"shapedefaults\": {\"line\": {\"color\": \"#2a3f5f\"}}, \"ternary\": {\"aaxis\": {\"gridcolor\": \"white\", \"linecolor\": \"white\", \"ticks\": \"\"}, \"baxis\": {\"gridcolor\": \"white\", \"linecolor\": \"white\", \"ticks\": \"\"}, \"bgcolor\": \"#E5ECF6\", \"caxis\": {\"gridcolor\": \"white\", \"linecolor\": \"white\", \"ticks\": \"\"}}, \"title\": {\"x\": 0.05}, \"xaxis\": {\"automargin\": true, \"gridcolor\": \"white\", \"linecolor\": \"white\", \"ticks\": \"\", \"title\": {\"standoff\": 15}, \"zerolinecolor\": \"white\", \"zerolinewidth\": 2}, \"yaxis\": {\"automargin\": true, \"gridcolor\": \"white\", \"linecolor\": \"white\", \"ticks\": \"\", \"title\": {\"standoff\": 15}, \"zerolinecolor\": \"white\", \"zerolinewidth\": 2}}}, \"title\": {\"font\": {\"color\": \"#4D5663\"}}, \"xaxis\": {\"gridcolor\": \"#E1E5ED\", \"showgrid\": true, \"tickfont\": {\"color\": \"#4D5663\"}, \"title\": {\"font\": {\"color\": \"#4D5663\"}, \"text\": \"\"}, \"zerolinecolor\": \"#E1E5ED\"}, \"yaxis\": {\"gridcolor\": \"#E1E5ED\", \"showgrid\": true, \"tickfont\": {\"color\": \"#4D5663\"}, \"title\": {\"font\": {\"color\": \"#4D5663\"}, \"text\": \"\"}, \"zerolinecolor\": \"#E1E5ED\"}},\n",
       "                        {\"showLink\": true, \"linkText\": \"Export to plot.ly\", \"plotlyServerURL\": \"https://plot.ly\", \"responsive\": true}\n",
       "                    ).then(function(){\n",
       "                            \n",
       "var gd = document.getElementById('c432f811-a992-4e56-a149-22c1684bbd11');\n",
       "var x = new MutationObserver(function (mutations, observer) {{\n",
       "        var display = window.getComputedStyle(gd).display;\n",
       "        if (!display || display === 'none') {{\n",
       "            console.log([gd, 'removed!']);\n",
       "            Plotly.purge(gd);\n",
       "            observer.disconnect();\n",
       "        }}\n",
       "}});\n",
       "\n",
       "// Listen for the removal of the full notebook cells\n",
       "var notebookContainer = gd.closest('#notebook-container');\n",
       "if (notebookContainer) {{\n",
       "    x.observe(notebookContainer, {childList: true});\n",
       "}}\n",
       "\n",
       "// Listen for the clearing of the current output cell\n",
       "var outputEl = gd.closest('.output');\n",
       "if (outputEl) {{\n",
       "    x.observe(outputEl, {childList: true});\n",
       "}}\n",
       "\n",
       "                        })\n",
       "                };\n",
       "                });\n",
       "            </script>\n",
       "        </div>"
      ]
     },
     "metadata": {},
     "output_type": "display_data"
    }
   ],
   "source": [
    "df2.iplot(kind='bar',x='Category',y='Values')"
   ]
  },
  {
   "cell_type": "code",
   "execution_count": 21,
   "metadata": {},
   "outputs": [
    {
     "data": {
      "application/vnd.plotly.v1+json": {
       "config": {
        "linkText": "Export to plot.ly",
        "plotlyServerURL": "https://plot.ly",
        "showLink": true
       },
       "data": [
        {
         "marker": {
          "color": "rgba(255, 153, 51, 0.6)",
          "line": {
           "color": "rgba(255, 153, 51, 1.0)",
           "width": 1
          }
         },
         "name": "A",
         "orientation": "v",
         "text": "",
         "type": "bar",
         "x": [
          0,
          1,
          2,
          3,
          4,
          5,
          6,
          7,
          8,
          9,
          10,
          11,
          12,
          13,
          14,
          15,
          16,
          17,
          18,
          19,
          20,
          21,
          22,
          23,
          24,
          25,
          26,
          27,
          28,
          29,
          30,
          31,
          32,
          33,
          34,
          35,
          36,
          37,
          38,
          39,
          40,
          41,
          42,
          43,
          44,
          45,
          46,
          47,
          48,
          49,
          50,
          51,
          52,
          53,
          54,
          55,
          56,
          57,
          58,
          59,
          60,
          61,
          62,
          63,
          64,
          65,
          66,
          67,
          68,
          69,
          70,
          71,
          72,
          73,
          74,
          75,
          76,
          77,
          78,
          79,
          80,
          81,
          82,
          83,
          84,
          85,
          86,
          87,
          88,
          89,
          90,
          91,
          92,
          93,
          94,
          95,
          96,
          97,
          98,
          99
         ],
         "y": [
          0.7921346859019157,
          1.946825695054702,
          1.4163203147173689,
          0.1161272154136565,
          0.7557025036279604,
          -0.7350872131145143,
          1.6071158265686813,
          -0.6369620656059007,
          0.8497778207394941,
          -0.33749859130626686,
          1.2280973838411833,
          0.036716134725273894,
          -0.3037665937695192,
          0.8239925184967525,
          -1.3538724565017246,
          -0.45194949085156416,
          -1.913074905602045,
          0.17762581698740607,
          -0.7004150163916316,
          0.03188946476696092,
          -0.7719163151332366,
          0.2905161338207252,
          1.4934765893559856,
          1.1517359541867793,
          1.4005117647742198,
          -0.6275397842825213,
          0.8926363946884873,
          -1.0677207378979978,
          -0.19471466043106184,
          0.1529956333359573,
          -0.8218180765611363,
          -0.8503299315540951,
          2.746705232928189,
          0.8121025992904255,
          2.1918060723428723,
          0.1828701452483579,
          0.4455028799628107,
          -0.5193802210214439,
          1.104547831058544,
          0.6594367637087866,
          -1.313520282034992,
          1.190998233995262,
          -0.49647494111496654,
          0.06890857086669673,
          0.8211669474128339,
          -0.6181956721468078,
          -0.31902044193029055,
          -0.19023723733723844,
          0.6886533928938934,
          -0.9332439063027611,
          -0.17051026893912857,
          0.051544294241111815,
          -0.4159263649641647,
          0.8566264197567114,
          0.29402607091862265,
          -1.099818139175731,
          -1.1314940858303717,
          0.9281480352753586,
          -0.13439689942833424,
          0.045604618865690276,
          -0.9979314517757257,
          -0.07269042102427148,
          -0.5356990006428285,
          -1.1990026834526482,
          0.1976306802793206,
          -0.6760867737177405,
          -0.4370643149105769,
          1.7123117467895295,
          1.8799972780063177,
          -0.07036592754360131,
          1.903342736762849,
          -0.7909243457034956,
          -0.21648795712901556,
          -0.18759480763157985,
          -0.17191582545359513,
          1.2163634807475439,
          1.1517611276683175,
          -0.7984270716400544,
          0.7817741035366015,
          2.2456629185031023,
          1.389344614456707,
          0.5726770872579274,
          -0.05996906126751653,
          0.3420213779390641,
          -0.2379680007605113,
          0.3649105284334666,
          0.263804800291932,
          0.3277197543628306,
          -0.2530061140131053,
          1.1758363314661346,
          -0.08852367242694675,
          -0.22481209189451987,
          0.15802992649044043,
          -1.5061386445028795,
          0.6729920524858238,
          -0.3211746441519791,
          1.018943249519832,
          -1.7824913063580343,
          0.891561971167367,
          -1.1815199382522332
         ]
        },
        {
         "marker": {
          "color": "rgba(55, 128, 191, 0.6)",
          "line": {
           "color": "rgba(55, 128, 191, 1.0)",
           "width": 1
          }
         },
         "name": "B",
         "orientation": "v",
         "text": "",
         "type": "bar",
         "x": [
          0,
          1,
          2,
          3,
          4,
          5,
          6,
          7,
          8,
          9,
          10,
          11,
          12,
          13,
          14,
          15,
          16,
          17,
          18,
          19,
          20,
          21,
          22,
          23,
          24,
          25,
          26,
          27,
          28,
          29,
          30,
          31,
          32,
          33,
          34,
          35,
          36,
          37,
          38,
          39,
          40,
          41,
          42,
          43,
          44,
          45,
          46,
          47,
          48,
          49,
          50,
          51,
          52,
          53,
          54,
          55,
          56,
          57,
          58,
          59,
          60,
          61,
          62,
          63,
          64,
          65,
          66,
          67,
          68,
          69,
          70,
          71,
          72,
          73,
          74,
          75,
          76,
          77,
          78,
          79,
          80,
          81,
          82,
          83,
          84,
          85,
          86,
          87,
          88,
          89,
          90,
          91,
          92,
          93,
          94,
          95,
          96,
          97,
          98,
          99
         ],
         "y": [
          -0.755353873179904,
          -0.4256767679096191,
          0.8157780024246971,
          -2.2541977161527247,
          -0.7233269440454809,
          -0.3786556373601695,
          -0.4195600810812267,
          -1.0793100455317586,
          0.8220363590786557,
          0.48768333438156214,
          1.3906112268818829,
          -1.660562236233282,
          1.2811839261911535,
          -0.8915535733622445,
          -0.42391847699293117,
          0.1113894103911496,
          1.141630830605558,
          -1.2483726382556115,
          0.8449777733211241,
          -0.5021909158980505,
          1.8137801708054053,
          -1.0325995855976582,
          1.2385329606445827,
          0.2742951614108968,
          -0.04380311529890623,
          -0.3111212097926691,
          0.21211975876158917,
          1.3149102153503898,
          2.4643229801701025,
          -0.619603592493676,
          -0.747113629066319,
          0.5431806643475502,
          -0.2734201992074562,
          -1.3360418266526963,
          0.8090919933441999,
          -0.031279339706645655,
          -0.037058879582681205,
          1.0157389257755776,
          -0.48043568443838675,
          0.31485240310950013,
          -0.7130777817802696,
          0.5197397848035694,
          -1.418160664078292,
          1.1033388571762677,
          0.9979752730335754,
          2.83369159311136,
          1.9073160281621018,
          0.38186024604961033,
          -1.1806003432890024,
          -0.5143575584503659,
          -0.3957816536562888,
          -0.5268066455809626,
          -0.15014706606849018,
          0.13173277087200919,
          1.93981894214876,
          -0.3902593736360637,
          1.6358481423378353,
          0.8115150249350609,
          -0.8555629872017407,
          0.18761674013119092,
          -0.7905156503572589,
          -0.4615672762918858,
          0.34482776614752947,
          0.19434981423092712,
          0.8244631807844324,
          0.1701337758593794,
          1.8909263075644804,
          -0.6636415622048087,
          0.6314810168714927,
          0.36476490047848975,
          0.47866952971355303,
          1.2887293734556127,
          -0.266023327476621,
          -0.1502322605674205,
          -1.1503150530123967,
          0.08230965925441752,
          -0.562349929195335,
          -1.9553643072289255,
          0.5447662913675482,
          0.8458391678364608,
          -0.3923223744037829,
          -0.4830673950348278,
          0.9697117616204505,
          -0.6558959572087942,
          -0.1786710138083607,
          0.4673075927125077,
          0.5895188619517944,
          -1.644346405559177,
          1.018096940218595,
          0.3002176019003145,
          -0.26036541607405717,
          -0.3552758805482968,
          1.138262275081289,
          0.16586658168269822,
          -1.5356808881214654,
          -2.525725571839549,
          1.3261952687937644,
          0.3440020565671146,
          -1.024023927456685,
          -0.026135700939124245
         ]
        },
        {
         "marker": {
          "color": "rgba(50, 171, 96, 0.6)",
          "line": {
           "color": "rgba(50, 171, 96, 1.0)",
           "width": 1
          }
         },
         "name": "C",
         "orientation": "v",
         "text": "",
         "type": "bar",
         "x": [
          0,
          1,
          2,
          3,
          4,
          5,
          6,
          7,
          8,
          9,
          10,
          11,
          12,
          13,
          14,
          15,
          16,
          17,
          18,
          19,
          20,
          21,
          22,
          23,
          24,
          25,
          26,
          27,
          28,
          29,
          30,
          31,
          32,
          33,
          34,
          35,
          36,
          37,
          38,
          39,
          40,
          41,
          42,
          43,
          44,
          45,
          46,
          47,
          48,
          49,
          50,
          51,
          52,
          53,
          54,
          55,
          56,
          57,
          58,
          59,
          60,
          61,
          62,
          63,
          64,
          65,
          66,
          67,
          68,
          69,
          70,
          71,
          72,
          73,
          74,
          75,
          76,
          77,
          78,
          79,
          80,
          81,
          82,
          83,
          84,
          85,
          86,
          87,
          88,
          89,
          90,
          91,
          92,
          93,
          94,
          95,
          96,
          97,
          98,
          99
         ],
         "y": [
          1.3625069996408685,
          0.9144952248887764,
          -0.04379371033273974,
          0.09926340152837985,
          1.2439724798159724,
          1.1541745177710157,
          0.8903331224676148,
          -0.266292290561748,
          -0.04175051493955355,
          1.0301172806259171,
          -0.5928166169608095,
          -1.7103241908806828,
          1.5518485422560453,
          -0.8470507769567207,
          1.2270784178865735,
          0.5965754556850948,
          -0.4758371563683018,
          0.872427010018932,
          -1.792956333172518,
          -0.38186421963418965,
          -2.1181936570248463,
          0.04830933305814722,
          -0.2377517243843703,
          1.180649111475662,
          0.750538260223122,
          0.9987999439705197,
          -0.3746257593686016,
          1.67463871096551,
          -0.7603667656154767,
          -0.07638038847929986,
          0.4166224532956056,
          -0.6113448167098882,
          -0.5619164790482407,
          -0.5299474677729248,
          -0.6454235969449024,
          -1.5844963110045438,
          1.7958848004195698,
          0.05725658047593841,
          0.2721754274360363,
          1.2775937537343836,
          -1.090054521555069,
          -0.42179786795174207,
          1.2423180080467975,
          -0.010861564683631282,
          0.15506944960313332,
          -0.17041242917319238,
          -0.40178919529776935,
          0.31202362583184595,
          0.9130877026457608,
          0.6979280217528265,
          -0.3744751044346249,
          -0.3356760147211475,
          0.48003599789582946,
          0.519507398890785,
          -1.3585467086201315,
          -1.3681957134473788,
          0.5749568613249194,
          0.6692379140807965,
          1.377450523387284,
          1.9966917262315202,
          0.5426288454362674,
          0.8272004758045935,
          -0.4366866732935288,
          -0.30638253901940254,
          1.1722894324864024,
          0.6870803694725929,
          -1.5676196674203213,
          1.4476838161089778,
          -1.68998241695538,
          -0.6374153838701762,
          -0.4442773346777854,
          0.34665700385127446,
          -0.9714136879825543,
          -0.306819209481289,
          -0.9333384010003253,
          -0.15705929393017123,
          -0.8621365632898269,
          1.8982151081219376,
          -1.9557762436737225,
          -0.45832500451598934,
          0.9914760514765695,
          0.320091570765724,
          0.8031181822203135,
          -0.3923864355104031,
          -0.45168071389999304,
          0.22009011992701982,
          0.5955333007411939,
          -0.18003516240607267,
          -1.0297839283237813,
          -0.35674347150142727,
          0.5010231233276244,
          3.0244816886034616,
          -1.4518354545370757,
          -0.7238706064189212,
          -1.9546467592720356,
          1.6750188451554895,
          0.9591556681989486,
          -0.5368549291145766,
          0.8130714085694476,
          -0.31847863880302585
         ]
        },
        {
         "marker": {
          "color": "rgba(128, 0, 128, 0.6)",
          "line": {
           "color": "rgba(128, 0, 128, 1.0)",
           "width": 1
          }
         },
         "name": "D",
         "orientation": "v",
         "text": "",
         "type": "bar",
         "x": [
          0,
          1,
          2,
          3,
          4,
          5,
          6,
          7,
          8,
          9,
          10,
          11,
          12,
          13,
          14,
          15,
          16,
          17,
          18,
          19,
          20,
          21,
          22,
          23,
          24,
          25,
          26,
          27,
          28,
          29,
          30,
          31,
          32,
          33,
          34,
          35,
          36,
          37,
          38,
          39,
          40,
          41,
          42,
          43,
          44,
          45,
          46,
          47,
          48,
          49,
          50,
          51,
          52,
          53,
          54,
          55,
          56,
          57,
          58,
          59,
          60,
          61,
          62,
          63,
          64,
          65,
          66,
          67,
          68,
          69,
          70,
          71,
          72,
          73,
          74,
          75,
          76,
          77,
          78,
          79,
          80,
          81,
          82,
          83,
          84,
          85,
          86,
          87,
          88,
          89,
          90,
          91,
          92,
          93,
          94,
          95,
          96,
          97,
          98,
          99
         ],
         "y": [
          0.1678688456852729,
          -0.7660755490375207,
          -0.24033995622475704,
          -0.1682834967212138,
          -0.7071182614203896,
          -0.7681995890374017,
          -2.033746607587051,
          -0.13645665960025008,
          0.8853957116965118,
          0.7684011089760281,
          1.3331923437966315,
          -0.6313108008149433,
          -0.1990810753545615,
          -0.9362029443403491,
          -0.48602397477900594,
          0.6943936691591144,
          -1.3138802802680032,
          0.2392164800781996,
          1.0907698280119023,
          1.8965747576752692,
          0.442885360234719,
          -0.6864410326378556,
          -0.8427733927849178,
          1.879280752642242,
          -0.8766615576635849,
          -0.7968093327132704,
          0.48471521549216495,
          0.6680262768318319,
          0.928831286436281,
          -0.3097847577236534,
          0.11246450934781085,
          -1.3215886940461292,
          0.08853158506239107,
          1.1598699817635334,
          1.466549647872314,
          -1.1640330918656165,
          -1.61767356039815,
          -1.609374924580595,
          -0.3678068225477947,
          0.6721842330036858,
          -0.5394995077186759,
          -0.6191387319020631,
          0.23897827009090414,
          -0.4560648370029805,
          -0.5130532625487461,
          0.04869945067598958,
          0.7945450847747928,
          0.9463268407815968,
          -0.056612104084040674,
          -0.8617504834866899,
          1.4845618102402878,
          3.145860220342536,
          -1.9041065545592328,
          1.5350121393448692,
          0.6627933498060756,
          0.09675705889637655,
          -0.8923072027447188,
          -0.5525401182438261,
          0.8290980738948833,
          1.470022690133724,
          -0.8860840655185193,
          -0.09681710155206424,
          0.30865486290318156,
          0.21943714014526172,
          0.11341629867977683,
          -1.2266711866065867,
          0.22103297889399115,
          0.06725162810266645,
          0.5580915971155165,
          1.0105818532027613,
          -0.15753228208829775,
          0.3938749268228596,
          1.08155031642873,
          -0.04125426043324729,
          -0.4169155318556582,
          1.2679845140404256,
          0.08705806488006085,
          0.21120171595670129,
          0.15821498663748168,
          -0.5356086125675361,
          3.251672425388064,
          1.4102313844205876,
          0.24108712582044428,
          -0.5686913122244588,
          0.7059547425843715,
          -0.29410301722008786,
          -0.537492381963061,
          -0.4583903711628853,
          0.31492293193018556,
          0.5599066087163566,
          1.0843010187485178,
          0.020497693627848947,
          0.5921960317117614,
          -0.7774516166862487,
          1.050757571631062,
          2.6606214337424148,
          0.4164070043407307,
          1.058442534293066,
          0.7592181641268156,
          0.41374422308068587
         ]
        }
       ],
       "layout": {
        "legend": {
         "bgcolor": "#F5F6F9",
         "font": {
          "color": "#4D5663"
         }
        },
        "paper_bgcolor": "#F5F6F9",
        "plot_bgcolor": "#F5F6F9",
        "template": {
         "data": {
          "bar": [
           {
            "error_x": {
             "color": "#2a3f5f"
            },
            "error_y": {
             "color": "#2a3f5f"
            },
            "marker": {
             "line": {
              "color": "#E5ECF6",
              "width": 0.5
             }
            },
            "type": "bar"
           }
          ],
          "barpolar": [
           {
            "marker": {
             "line": {
              "color": "#E5ECF6",
              "width": 0.5
             }
            },
            "type": "barpolar"
           }
          ],
          "carpet": [
           {
            "aaxis": {
             "endlinecolor": "#2a3f5f",
             "gridcolor": "white",
             "linecolor": "white",
             "minorgridcolor": "white",
             "startlinecolor": "#2a3f5f"
            },
            "baxis": {
             "endlinecolor": "#2a3f5f",
             "gridcolor": "white",
             "linecolor": "white",
             "minorgridcolor": "white",
             "startlinecolor": "#2a3f5f"
            },
            "type": "carpet"
           }
          ],
          "choropleth": [
           {
            "colorbar": {
             "outlinewidth": 0,
             "ticks": ""
            },
            "type": "choropleth"
           }
          ],
          "contour": [
           {
            "colorbar": {
             "outlinewidth": 0,
             "ticks": ""
            },
            "colorscale": [
             [
              0,
              "#0d0887"
             ],
             [
              0.1111111111111111,
              "#46039f"
             ],
             [
              0.2222222222222222,
              "#7201a8"
             ],
             [
              0.3333333333333333,
              "#9c179e"
             ],
             [
              0.4444444444444444,
              "#bd3786"
             ],
             [
              0.5555555555555556,
              "#d8576b"
             ],
             [
              0.6666666666666666,
              "#ed7953"
             ],
             [
              0.7777777777777778,
              "#fb9f3a"
             ],
             [
              0.8888888888888888,
              "#fdca26"
             ],
             [
              1,
              "#f0f921"
             ]
            ],
            "type": "contour"
           }
          ],
          "contourcarpet": [
           {
            "colorbar": {
             "outlinewidth": 0,
             "ticks": ""
            },
            "type": "contourcarpet"
           }
          ],
          "heatmap": [
           {
            "colorbar": {
             "outlinewidth": 0,
             "ticks": ""
            },
            "colorscale": [
             [
              0,
              "#0d0887"
             ],
             [
              0.1111111111111111,
              "#46039f"
             ],
             [
              0.2222222222222222,
              "#7201a8"
             ],
             [
              0.3333333333333333,
              "#9c179e"
             ],
             [
              0.4444444444444444,
              "#bd3786"
             ],
             [
              0.5555555555555556,
              "#d8576b"
             ],
             [
              0.6666666666666666,
              "#ed7953"
             ],
             [
              0.7777777777777778,
              "#fb9f3a"
             ],
             [
              0.8888888888888888,
              "#fdca26"
             ],
             [
              1,
              "#f0f921"
             ]
            ],
            "type": "heatmap"
           }
          ],
          "heatmapgl": [
           {
            "colorbar": {
             "outlinewidth": 0,
             "ticks": ""
            },
            "colorscale": [
             [
              0,
              "#0d0887"
             ],
             [
              0.1111111111111111,
              "#46039f"
             ],
             [
              0.2222222222222222,
              "#7201a8"
             ],
             [
              0.3333333333333333,
              "#9c179e"
             ],
             [
              0.4444444444444444,
              "#bd3786"
             ],
             [
              0.5555555555555556,
              "#d8576b"
             ],
             [
              0.6666666666666666,
              "#ed7953"
             ],
             [
              0.7777777777777778,
              "#fb9f3a"
             ],
             [
              0.8888888888888888,
              "#fdca26"
             ],
             [
              1,
              "#f0f921"
             ]
            ],
            "type": "heatmapgl"
           }
          ],
          "histogram": [
           {
            "marker": {
             "colorbar": {
              "outlinewidth": 0,
              "ticks": ""
             }
            },
            "type": "histogram"
           }
          ],
          "histogram2d": [
           {
            "colorbar": {
             "outlinewidth": 0,
             "ticks": ""
            },
            "colorscale": [
             [
              0,
              "#0d0887"
             ],
             [
              0.1111111111111111,
              "#46039f"
             ],
             [
              0.2222222222222222,
              "#7201a8"
             ],
             [
              0.3333333333333333,
              "#9c179e"
             ],
             [
              0.4444444444444444,
              "#bd3786"
             ],
             [
              0.5555555555555556,
              "#d8576b"
             ],
             [
              0.6666666666666666,
              "#ed7953"
             ],
             [
              0.7777777777777778,
              "#fb9f3a"
             ],
             [
              0.8888888888888888,
              "#fdca26"
             ],
             [
              1,
              "#f0f921"
             ]
            ],
            "type": "histogram2d"
           }
          ],
          "histogram2dcontour": [
           {
            "colorbar": {
             "outlinewidth": 0,
             "ticks": ""
            },
            "colorscale": [
             [
              0,
              "#0d0887"
             ],
             [
              0.1111111111111111,
              "#46039f"
             ],
             [
              0.2222222222222222,
              "#7201a8"
             ],
             [
              0.3333333333333333,
              "#9c179e"
             ],
             [
              0.4444444444444444,
              "#bd3786"
             ],
             [
              0.5555555555555556,
              "#d8576b"
             ],
             [
              0.6666666666666666,
              "#ed7953"
             ],
             [
              0.7777777777777778,
              "#fb9f3a"
             ],
             [
              0.8888888888888888,
              "#fdca26"
             ],
             [
              1,
              "#f0f921"
             ]
            ],
            "type": "histogram2dcontour"
           }
          ],
          "mesh3d": [
           {
            "colorbar": {
             "outlinewidth": 0,
             "ticks": ""
            },
            "type": "mesh3d"
           }
          ],
          "parcoords": [
           {
            "line": {
             "colorbar": {
              "outlinewidth": 0,
              "ticks": ""
             }
            },
            "type": "parcoords"
           }
          ],
          "pie": [
           {
            "automargin": true,
            "type": "pie"
           }
          ],
          "scatter": [
           {
            "marker": {
             "colorbar": {
              "outlinewidth": 0,
              "ticks": ""
             }
            },
            "type": "scatter"
           }
          ],
          "scatter3d": [
           {
            "line": {
             "colorbar": {
              "outlinewidth": 0,
              "ticks": ""
             }
            },
            "marker": {
             "colorbar": {
              "outlinewidth": 0,
              "ticks": ""
             }
            },
            "type": "scatter3d"
           }
          ],
          "scattercarpet": [
           {
            "marker": {
             "colorbar": {
              "outlinewidth": 0,
              "ticks": ""
             }
            },
            "type": "scattercarpet"
           }
          ],
          "scattergeo": [
           {
            "marker": {
             "colorbar": {
              "outlinewidth": 0,
              "ticks": ""
             }
            },
            "type": "scattergeo"
           }
          ],
          "scattergl": [
           {
            "marker": {
             "colorbar": {
              "outlinewidth": 0,
              "ticks": ""
             }
            },
            "type": "scattergl"
           }
          ],
          "scattermapbox": [
           {
            "marker": {
             "colorbar": {
              "outlinewidth": 0,
              "ticks": ""
             }
            },
            "type": "scattermapbox"
           }
          ],
          "scatterpolar": [
           {
            "marker": {
             "colorbar": {
              "outlinewidth": 0,
              "ticks": ""
             }
            },
            "type": "scatterpolar"
           }
          ],
          "scatterpolargl": [
           {
            "marker": {
             "colorbar": {
              "outlinewidth": 0,
              "ticks": ""
             }
            },
            "type": "scatterpolargl"
           }
          ],
          "scatterternary": [
           {
            "marker": {
             "colorbar": {
              "outlinewidth": 0,
              "ticks": ""
             }
            },
            "type": "scatterternary"
           }
          ],
          "surface": [
           {
            "colorbar": {
             "outlinewidth": 0,
             "ticks": ""
            },
            "colorscale": [
             [
              0,
              "#0d0887"
             ],
             [
              0.1111111111111111,
              "#46039f"
             ],
             [
              0.2222222222222222,
              "#7201a8"
             ],
             [
              0.3333333333333333,
              "#9c179e"
             ],
             [
              0.4444444444444444,
              "#bd3786"
             ],
             [
              0.5555555555555556,
              "#d8576b"
             ],
             [
              0.6666666666666666,
              "#ed7953"
             ],
             [
              0.7777777777777778,
              "#fb9f3a"
             ],
             [
              0.8888888888888888,
              "#fdca26"
             ],
             [
              1,
              "#f0f921"
             ]
            ],
            "type": "surface"
           }
          ],
          "table": [
           {
            "cells": {
             "fill": {
              "color": "#EBF0F8"
             },
             "line": {
              "color": "white"
             }
            },
            "header": {
             "fill": {
              "color": "#C8D4E3"
             },
             "line": {
              "color": "white"
             }
            },
            "type": "table"
           }
          ]
         },
         "layout": {
          "annotationdefaults": {
           "arrowcolor": "#2a3f5f",
           "arrowhead": 0,
           "arrowwidth": 1
          },
          "coloraxis": {
           "colorbar": {
            "outlinewidth": 0,
            "ticks": ""
           }
          },
          "colorscale": {
           "diverging": [
            [
             0,
             "#8e0152"
            ],
            [
             0.1,
             "#c51b7d"
            ],
            [
             0.2,
             "#de77ae"
            ],
            [
             0.3,
             "#f1b6da"
            ],
            [
             0.4,
             "#fde0ef"
            ],
            [
             0.5,
             "#f7f7f7"
            ],
            [
             0.6,
             "#e6f5d0"
            ],
            [
             0.7,
             "#b8e186"
            ],
            [
             0.8,
             "#7fbc41"
            ],
            [
             0.9,
             "#4d9221"
            ],
            [
             1,
             "#276419"
            ]
           ],
           "sequential": [
            [
             0,
             "#0d0887"
            ],
            [
             0.1111111111111111,
             "#46039f"
            ],
            [
             0.2222222222222222,
             "#7201a8"
            ],
            [
             0.3333333333333333,
             "#9c179e"
            ],
            [
             0.4444444444444444,
             "#bd3786"
            ],
            [
             0.5555555555555556,
             "#d8576b"
            ],
            [
             0.6666666666666666,
             "#ed7953"
            ],
            [
             0.7777777777777778,
             "#fb9f3a"
            ],
            [
             0.8888888888888888,
             "#fdca26"
            ],
            [
             1,
             "#f0f921"
            ]
           ],
           "sequentialminus": [
            [
             0,
             "#0d0887"
            ],
            [
             0.1111111111111111,
             "#46039f"
            ],
            [
             0.2222222222222222,
             "#7201a8"
            ],
            [
             0.3333333333333333,
             "#9c179e"
            ],
            [
             0.4444444444444444,
             "#bd3786"
            ],
            [
             0.5555555555555556,
             "#d8576b"
            ],
            [
             0.6666666666666666,
             "#ed7953"
            ],
            [
             0.7777777777777778,
             "#fb9f3a"
            ],
            [
             0.8888888888888888,
             "#fdca26"
            ],
            [
             1,
             "#f0f921"
            ]
           ]
          },
          "colorway": [
           "#636efa",
           "#EF553B",
           "#00cc96",
           "#ab63fa",
           "#FFA15A",
           "#19d3f3",
           "#FF6692",
           "#B6E880",
           "#FF97FF",
           "#FECB52"
          ],
          "font": {
           "color": "#2a3f5f"
          },
          "geo": {
           "bgcolor": "white",
           "lakecolor": "white",
           "landcolor": "#E5ECF6",
           "showlakes": true,
           "showland": true,
           "subunitcolor": "white"
          },
          "hoverlabel": {
           "align": "left"
          },
          "hovermode": "closest",
          "mapbox": {
           "style": "light"
          },
          "paper_bgcolor": "white",
          "plot_bgcolor": "#E5ECF6",
          "polar": {
           "angularaxis": {
            "gridcolor": "white",
            "linecolor": "white",
            "ticks": ""
           },
           "bgcolor": "#E5ECF6",
           "radialaxis": {
            "gridcolor": "white",
            "linecolor": "white",
            "ticks": ""
           }
          },
          "scene": {
           "xaxis": {
            "backgroundcolor": "#E5ECF6",
            "gridcolor": "white",
            "gridwidth": 2,
            "linecolor": "white",
            "showbackground": true,
            "ticks": "",
            "zerolinecolor": "white"
           },
           "yaxis": {
            "backgroundcolor": "#E5ECF6",
            "gridcolor": "white",
            "gridwidth": 2,
            "linecolor": "white",
            "showbackground": true,
            "ticks": "",
            "zerolinecolor": "white"
           },
           "zaxis": {
            "backgroundcolor": "#E5ECF6",
            "gridcolor": "white",
            "gridwidth": 2,
            "linecolor": "white",
            "showbackground": true,
            "ticks": "",
            "zerolinecolor": "white"
           }
          },
          "shapedefaults": {
           "line": {
            "color": "#2a3f5f"
           }
          },
          "ternary": {
           "aaxis": {
            "gridcolor": "white",
            "linecolor": "white",
            "ticks": ""
           },
           "baxis": {
            "gridcolor": "white",
            "linecolor": "white",
            "ticks": ""
           },
           "bgcolor": "#E5ECF6",
           "caxis": {
            "gridcolor": "white",
            "linecolor": "white",
            "ticks": ""
           }
          },
          "title": {
           "x": 0.05
          },
          "xaxis": {
           "automargin": true,
           "gridcolor": "white",
           "linecolor": "white",
           "ticks": "",
           "title": {
            "standoff": 15
           },
           "zerolinecolor": "white",
           "zerolinewidth": 2
          },
          "yaxis": {
           "automargin": true,
           "gridcolor": "white",
           "linecolor": "white",
           "ticks": "",
           "title": {
            "standoff": 15
           },
           "zerolinecolor": "white",
           "zerolinewidth": 2
          }
         }
        },
        "title": {
         "font": {
          "color": "#4D5663"
         }
        },
        "xaxis": {
         "gridcolor": "#E1E5ED",
         "showgrid": true,
         "tickfont": {
          "color": "#4D5663"
         },
         "title": {
          "font": {
           "color": "#4D5663"
          },
          "text": ""
         },
         "zerolinecolor": "#E1E5ED"
        },
        "yaxis": {
         "gridcolor": "#E1E5ED",
         "showgrid": true,
         "tickfont": {
          "color": "#4D5663"
         },
         "title": {
          "font": {
           "color": "#4D5663"
          },
          "text": ""
         },
         "zerolinecolor": "#E1E5ED"
        }
       }
      },
      "text/html": [
       "<div>\n",
       "        \n",
       "        \n",
       "            <div id=\"204ce8e0-55a7-4fc3-9858-a1698d2df5b6\" class=\"plotly-graph-div\" style=\"height:525px; width:100%;\"></div>\n",
       "            <script type=\"text/javascript\">\n",
       "                require([\"plotly\"], function(Plotly) {\n",
       "                    window.PLOTLYENV=window.PLOTLYENV || {};\n",
       "                    window.PLOTLYENV.BASE_URL='https://plot.ly';\n",
       "                    \n",
       "                if (document.getElementById(\"204ce8e0-55a7-4fc3-9858-a1698d2df5b6\")) {\n",
       "                    Plotly.newPlot(\n",
       "                        '204ce8e0-55a7-4fc3-9858-a1698d2df5b6',\n",
       "                        [{\"marker\": {\"color\": \"rgba(255, 153, 51, 0.6)\", \"line\": {\"color\": \"rgba(255, 153, 51, 1.0)\", \"width\": 1}}, \"name\": \"A\", \"orientation\": \"v\", \"text\": \"\", \"type\": \"bar\", \"x\": [0, 1, 2, 3, 4, 5, 6, 7, 8, 9, 10, 11, 12, 13, 14, 15, 16, 17, 18, 19, 20, 21, 22, 23, 24, 25, 26, 27, 28, 29, 30, 31, 32, 33, 34, 35, 36, 37, 38, 39, 40, 41, 42, 43, 44, 45, 46, 47, 48, 49, 50, 51, 52, 53, 54, 55, 56, 57, 58, 59, 60, 61, 62, 63, 64, 65, 66, 67, 68, 69, 70, 71, 72, 73, 74, 75, 76, 77, 78, 79, 80, 81, 82, 83, 84, 85, 86, 87, 88, 89, 90, 91, 92, 93, 94, 95, 96, 97, 98, 99], \"y\": [0.7921346859019157, 1.946825695054702, 1.4163203147173689, 0.1161272154136565, 0.7557025036279604, -0.7350872131145143, 1.6071158265686813, -0.6369620656059007, 0.8497778207394941, -0.33749859130626686, 1.2280973838411833, 0.036716134725273894, -0.3037665937695192, 0.8239925184967525, -1.3538724565017246, -0.45194949085156416, -1.913074905602045, 0.17762581698740607, -0.7004150163916316, 0.03188946476696092, -0.7719163151332366, 0.2905161338207252, 1.4934765893559856, 1.1517359541867793, 1.4005117647742198, -0.6275397842825213, 0.8926363946884873, -1.0677207378979978, -0.19471466043106184, 0.1529956333359573, -0.8218180765611363, -0.8503299315540951, 2.746705232928189, 0.8121025992904255, 2.1918060723428723, 0.1828701452483579, 0.4455028799628107, -0.5193802210214439, 1.104547831058544, 0.6594367637087866, -1.313520282034992, 1.190998233995262, -0.49647494111496654, 0.06890857086669673, 0.8211669474128339, -0.6181956721468078, -0.31902044193029055, -0.19023723733723844, 0.6886533928938934, -0.9332439063027611, -0.17051026893912857, 0.051544294241111815, -0.4159263649641647, 0.8566264197567114, 0.29402607091862265, -1.099818139175731, -1.1314940858303717, 0.9281480352753586, -0.13439689942833424, 0.045604618865690276, -0.9979314517757257, -0.07269042102427148, -0.5356990006428285, -1.1990026834526482, 0.1976306802793206, -0.6760867737177405, -0.4370643149105769, 1.7123117467895295, 1.8799972780063177, -0.07036592754360131, 1.903342736762849, -0.7909243457034956, -0.21648795712901556, -0.18759480763157985, -0.17191582545359513, 1.2163634807475439, 1.1517611276683175, -0.7984270716400544, 0.7817741035366015, 2.2456629185031023, 1.389344614456707, 0.5726770872579274, -0.05996906126751653, 0.3420213779390641, -0.2379680007605113, 0.3649105284334666, 0.263804800291932, 0.3277197543628306, -0.2530061140131053, 1.1758363314661346, -0.08852367242694675, -0.22481209189451987, 0.15802992649044043, -1.5061386445028795, 0.6729920524858238, -0.3211746441519791, 1.018943249519832, -1.7824913063580343, 0.891561971167367, -1.1815199382522332]}, {\"marker\": {\"color\": \"rgba(55, 128, 191, 0.6)\", \"line\": {\"color\": \"rgba(55, 128, 191, 1.0)\", \"width\": 1}}, \"name\": \"B\", \"orientation\": \"v\", \"text\": \"\", \"type\": \"bar\", \"x\": [0, 1, 2, 3, 4, 5, 6, 7, 8, 9, 10, 11, 12, 13, 14, 15, 16, 17, 18, 19, 20, 21, 22, 23, 24, 25, 26, 27, 28, 29, 30, 31, 32, 33, 34, 35, 36, 37, 38, 39, 40, 41, 42, 43, 44, 45, 46, 47, 48, 49, 50, 51, 52, 53, 54, 55, 56, 57, 58, 59, 60, 61, 62, 63, 64, 65, 66, 67, 68, 69, 70, 71, 72, 73, 74, 75, 76, 77, 78, 79, 80, 81, 82, 83, 84, 85, 86, 87, 88, 89, 90, 91, 92, 93, 94, 95, 96, 97, 98, 99], \"y\": [-0.755353873179904, -0.4256767679096191, 0.8157780024246971, -2.2541977161527247, -0.7233269440454809, -0.3786556373601695, -0.4195600810812267, -1.0793100455317586, 0.8220363590786557, 0.48768333438156214, 1.3906112268818829, -1.660562236233282, 1.2811839261911535, -0.8915535733622445, -0.42391847699293117, 0.1113894103911496, 1.141630830605558, -1.2483726382556115, 0.8449777733211241, -0.5021909158980505, 1.8137801708054053, -1.0325995855976582, 1.2385329606445827, 0.2742951614108968, -0.04380311529890623, -0.3111212097926691, 0.21211975876158917, 1.3149102153503898, 2.4643229801701025, -0.619603592493676, -0.747113629066319, 0.5431806643475502, -0.2734201992074562, -1.3360418266526963, 0.8090919933441999, -0.031279339706645655, -0.037058879582681205, 1.0157389257755776, -0.48043568443838675, 0.31485240310950013, -0.7130777817802696, 0.5197397848035694, -1.418160664078292, 1.1033388571762677, 0.9979752730335754, 2.83369159311136, 1.9073160281621018, 0.38186024604961033, -1.1806003432890024, -0.5143575584503659, -0.3957816536562888, -0.5268066455809626, -0.15014706606849018, 0.13173277087200919, 1.93981894214876, -0.3902593736360637, 1.6358481423378353, 0.8115150249350609, -0.8555629872017407, 0.18761674013119092, -0.7905156503572589, -0.4615672762918858, 0.34482776614752947, 0.19434981423092712, 0.8244631807844324, 0.1701337758593794, 1.8909263075644804, -0.6636415622048087, 0.6314810168714927, 0.36476490047848975, 0.47866952971355303, 1.2887293734556127, -0.266023327476621, -0.1502322605674205, -1.1503150530123967, 0.08230965925441752, -0.562349929195335, -1.9553643072289255, 0.5447662913675482, 0.8458391678364608, -0.3923223744037829, -0.4830673950348278, 0.9697117616204505, -0.6558959572087942, -0.1786710138083607, 0.4673075927125077, 0.5895188619517944, -1.644346405559177, 1.018096940218595, 0.3002176019003145, -0.26036541607405717, -0.3552758805482968, 1.138262275081289, 0.16586658168269822, -1.5356808881214654, -2.525725571839549, 1.3261952687937644, 0.3440020565671146, -1.024023927456685, -0.026135700939124245]}, {\"marker\": {\"color\": \"rgba(50, 171, 96, 0.6)\", \"line\": {\"color\": \"rgba(50, 171, 96, 1.0)\", \"width\": 1}}, \"name\": \"C\", \"orientation\": \"v\", \"text\": \"\", \"type\": \"bar\", \"x\": [0, 1, 2, 3, 4, 5, 6, 7, 8, 9, 10, 11, 12, 13, 14, 15, 16, 17, 18, 19, 20, 21, 22, 23, 24, 25, 26, 27, 28, 29, 30, 31, 32, 33, 34, 35, 36, 37, 38, 39, 40, 41, 42, 43, 44, 45, 46, 47, 48, 49, 50, 51, 52, 53, 54, 55, 56, 57, 58, 59, 60, 61, 62, 63, 64, 65, 66, 67, 68, 69, 70, 71, 72, 73, 74, 75, 76, 77, 78, 79, 80, 81, 82, 83, 84, 85, 86, 87, 88, 89, 90, 91, 92, 93, 94, 95, 96, 97, 98, 99], \"y\": [1.3625069996408685, 0.9144952248887764, -0.04379371033273974, 0.09926340152837985, 1.2439724798159724, 1.1541745177710157, 0.8903331224676148, -0.266292290561748, -0.04175051493955355, 1.0301172806259171, -0.5928166169608095, -1.7103241908806828, 1.5518485422560453, -0.8470507769567207, 1.2270784178865735, 0.5965754556850948, -0.4758371563683018, 0.872427010018932, -1.792956333172518, -0.38186421963418965, -2.1181936570248463, 0.04830933305814722, -0.2377517243843703, 1.180649111475662, 0.750538260223122, 0.9987999439705197, -0.3746257593686016, 1.67463871096551, -0.7603667656154767, -0.07638038847929986, 0.4166224532956056, -0.6113448167098882, -0.5619164790482407, -0.5299474677729248, -0.6454235969449024, -1.5844963110045438, 1.7958848004195698, 0.05725658047593841, 0.2721754274360363, 1.2775937537343836, -1.090054521555069, -0.42179786795174207, 1.2423180080467975, -0.010861564683631282, 0.15506944960313332, -0.17041242917319238, -0.40178919529776935, 0.31202362583184595, 0.9130877026457608, 0.6979280217528265, -0.3744751044346249, -0.3356760147211475, 0.48003599789582946, 0.519507398890785, -1.3585467086201315, -1.3681957134473788, 0.5749568613249194, 0.6692379140807965, 1.377450523387284, 1.9966917262315202, 0.5426288454362674, 0.8272004758045935, -0.4366866732935288, -0.30638253901940254, 1.1722894324864024, 0.6870803694725929, -1.5676196674203213, 1.4476838161089778, -1.68998241695538, -0.6374153838701762, -0.4442773346777854, 0.34665700385127446, -0.9714136879825543, -0.306819209481289, -0.9333384010003253, -0.15705929393017123, -0.8621365632898269, 1.8982151081219376, -1.9557762436737225, -0.45832500451598934, 0.9914760514765695, 0.320091570765724, 0.8031181822203135, -0.3923864355104031, -0.45168071389999304, 0.22009011992701982, 0.5955333007411939, -0.18003516240607267, -1.0297839283237813, -0.35674347150142727, 0.5010231233276244, 3.0244816886034616, -1.4518354545370757, -0.7238706064189212, -1.9546467592720356, 1.6750188451554895, 0.9591556681989486, -0.5368549291145766, 0.8130714085694476, -0.31847863880302585]}, {\"marker\": {\"color\": \"rgba(128, 0, 128, 0.6)\", \"line\": {\"color\": \"rgba(128, 0, 128, 1.0)\", \"width\": 1}}, \"name\": \"D\", \"orientation\": \"v\", \"text\": \"\", \"type\": \"bar\", \"x\": [0, 1, 2, 3, 4, 5, 6, 7, 8, 9, 10, 11, 12, 13, 14, 15, 16, 17, 18, 19, 20, 21, 22, 23, 24, 25, 26, 27, 28, 29, 30, 31, 32, 33, 34, 35, 36, 37, 38, 39, 40, 41, 42, 43, 44, 45, 46, 47, 48, 49, 50, 51, 52, 53, 54, 55, 56, 57, 58, 59, 60, 61, 62, 63, 64, 65, 66, 67, 68, 69, 70, 71, 72, 73, 74, 75, 76, 77, 78, 79, 80, 81, 82, 83, 84, 85, 86, 87, 88, 89, 90, 91, 92, 93, 94, 95, 96, 97, 98, 99], \"y\": [0.1678688456852729, -0.7660755490375207, -0.24033995622475704, -0.1682834967212138, -0.7071182614203896, -0.7681995890374017, -2.033746607587051, -0.13645665960025008, 0.8853957116965118, 0.7684011089760281, 1.3331923437966315, -0.6313108008149433, -0.1990810753545615, -0.9362029443403491, -0.48602397477900594, 0.6943936691591144, -1.3138802802680032, 0.2392164800781996, 1.0907698280119023, 1.8965747576752692, 0.442885360234719, -0.6864410326378556, -0.8427733927849178, 1.879280752642242, -0.8766615576635849, -0.7968093327132704, 0.48471521549216495, 0.6680262768318319, 0.928831286436281, -0.3097847577236534, 0.11246450934781085, -1.3215886940461292, 0.08853158506239107, 1.1598699817635334, 1.466549647872314, -1.1640330918656165, -1.61767356039815, -1.609374924580595, -0.3678068225477947, 0.6721842330036858, -0.5394995077186759, -0.6191387319020631, 0.23897827009090414, -0.4560648370029805, -0.5130532625487461, 0.04869945067598958, 0.7945450847747928, 0.9463268407815968, -0.056612104084040674, -0.8617504834866899, 1.4845618102402878, 3.145860220342536, -1.9041065545592328, 1.5350121393448692, 0.6627933498060756, 0.09675705889637655, -0.8923072027447188, -0.5525401182438261, 0.8290980738948833, 1.470022690133724, -0.8860840655185193, -0.09681710155206424, 0.30865486290318156, 0.21943714014526172, 0.11341629867977683, -1.2266711866065867, 0.22103297889399115, 0.06725162810266645, 0.5580915971155165, 1.0105818532027613, -0.15753228208829775, 0.3938749268228596, 1.08155031642873, -0.04125426043324729, -0.4169155318556582, 1.2679845140404256, 0.08705806488006085, 0.21120171595670129, 0.15821498663748168, -0.5356086125675361, 3.251672425388064, 1.4102313844205876, 0.24108712582044428, -0.5686913122244588, 0.7059547425843715, -0.29410301722008786, -0.537492381963061, -0.4583903711628853, 0.31492293193018556, 0.5599066087163566, 1.0843010187485178, 0.020497693627848947, 0.5921960317117614, -0.7774516166862487, 1.050757571631062, 2.6606214337424148, 0.4164070043407307, 1.058442534293066, 0.7592181641268156, 0.41374422308068587]}],\n",
       "                        {\"legend\": {\"bgcolor\": \"#F5F6F9\", \"font\": {\"color\": \"#4D5663\"}}, \"paper_bgcolor\": \"#F5F6F9\", \"plot_bgcolor\": \"#F5F6F9\", \"template\": {\"data\": {\"bar\": [{\"error_x\": {\"color\": \"#2a3f5f\"}, \"error_y\": {\"color\": \"#2a3f5f\"}, \"marker\": {\"line\": {\"color\": \"#E5ECF6\", \"width\": 0.5}}, \"type\": \"bar\"}], \"barpolar\": [{\"marker\": {\"line\": {\"color\": \"#E5ECF6\", \"width\": 0.5}}, \"type\": \"barpolar\"}], \"carpet\": [{\"aaxis\": {\"endlinecolor\": \"#2a3f5f\", \"gridcolor\": \"white\", \"linecolor\": \"white\", \"minorgridcolor\": \"white\", \"startlinecolor\": \"#2a3f5f\"}, \"baxis\": {\"endlinecolor\": \"#2a3f5f\", \"gridcolor\": \"white\", \"linecolor\": \"white\", \"minorgridcolor\": \"white\", \"startlinecolor\": \"#2a3f5f\"}, \"type\": \"carpet\"}], \"choropleth\": [{\"colorbar\": {\"outlinewidth\": 0, \"ticks\": \"\"}, \"type\": \"choropleth\"}], \"contour\": [{\"colorbar\": {\"outlinewidth\": 0, \"ticks\": \"\"}, \"colorscale\": [[0.0, \"#0d0887\"], [0.1111111111111111, \"#46039f\"], [0.2222222222222222, \"#7201a8\"], [0.3333333333333333, \"#9c179e\"], [0.4444444444444444, \"#bd3786\"], [0.5555555555555556, \"#d8576b\"], [0.6666666666666666, \"#ed7953\"], [0.7777777777777778, \"#fb9f3a\"], [0.8888888888888888, \"#fdca26\"], [1.0, \"#f0f921\"]], \"type\": \"contour\"}], \"contourcarpet\": [{\"colorbar\": {\"outlinewidth\": 0, \"ticks\": \"\"}, \"type\": \"contourcarpet\"}], \"heatmap\": [{\"colorbar\": {\"outlinewidth\": 0, \"ticks\": \"\"}, \"colorscale\": [[0.0, \"#0d0887\"], [0.1111111111111111, \"#46039f\"], [0.2222222222222222, \"#7201a8\"], [0.3333333333333333, \"#9c179e\"], [0.4444444444444444, \"#bd3786\"], [0.5555555555555556, \"#d8576b\"], [0.6666666666666666, \"#ed7953\"], [0.7777777777777778, \"#fb9f3a\"], [0.8888888888888888, \"#fdca26\"], [1.0, \"#f0f921\"]], \"type\": \"heatmap\"}], \"heatmapgl\": [{\"colorbar\": {\"outlinewidth\": 0, \"ticks\": \"\"}, \"colorscale\": [[0.0, \"#0d0887\"], [0.1111111111111111, \"#46039f\"], [0.2222222222222222, \"#7201a8\"], [0.3333333333333333, \"#9c179e\"], [0.4444444444444444, \"#bd3786\"], [0.5555555555555556, \"#d8576b\"], [0.6666666666666666, \"#ed7953\"], [0.7777777777777778, \"#fb9f3a\"], [0.8888888888888888, \"#fdca26\"], [1.0, \"#f0f921\"]], \"type\": \"heatmapgl\"}], \"histogram\": [{\"marker\": {\"colorbar\": {\"outlinewidth\": 0, \"ticks\": \"\"}}, \"type\": \"histogram\"}], \"histogram2d\": [{\"colorbar\": {\"outlinewidth\": 0, \"ticks\": \"\"}, \"colorscale\": [[0.0, \"#0d0887\"], [0.1111111111111111, \"#46039f\"], [0.2222222222222222, \"#7201a8\"], [0.3333333333333333, \"#9c179e\"], [0.4444444444444444, \"#bd3786\"], [0.5555555555555556, \"#d8576b\"], [0.6666666666666666, \"#ed7953\"], [0.7777777777777778, \"#fb9f3a\"], [0.8888888888888888, \"#fdca26\"], [1.0, \"#f0f921\"]], \"type\": \"histogram2d\"}], \"histogram2dcontour\": [{\"colorbar\": {\"outlinewidth\": 0, \"ticks\": \"\"}, \"colorscale\": [[0.0, \"#0d0887\"], [0.1111111111111111, \"#46039f\"], [0.2222222222222222, \"#7201a8\"], [0.3333333333333333, \"#9c179e\"], [0.4444444444444444, \"#bd3786\"], [0.5555555555555556, \"#d8576b\"], [0.6666666666666666, \"#ed7953\"], [0.7777777777777778, \"#fb9f3a\"], [0.8888888888888888, \"#fdca26\"], [1.0, \"#f0f921\"]], \"type\": \"histogram2dcontour\"}], \"mesh3d\": [{\"colorbar\": {\"outlinewidth\": 0, \"ticks\": \"\"}, \"type\": \"mesh3d\"}], \"parcoords\": [{\"line\": {\"colorbar\": {\"outlinewidth\": 0, \"ticks\": \"\"}}, \"type\": \"parcoords\"}], \"pie\": [{\"automargin\": true, \"type\": \"pie\"}], \"scatter\": [{\"marker\": {\"colorbar\": {\"outlinewidth\": 0, \"ticks\": \"\"}}, \"type\": \"scatter\"}], \"scatter3d\": [{\"line\": {\"colorbar\": {\"outlinewidth\": 0, \"ticks\": \"\"}}, \"marker\": {\"colorbar\": {\"outlinewidth\": 0, \"ticks\": \"\"}}, \"type\": \"scatter3d\"}], \"scattercarpet\": [{\"marker\": {\"colorbar\": {\"outlinewidth\": 0, \"ticks\": \"\"}}, \"type\": \"scattercarpet\"}], \"scattergeo\": [{\"marker\": {\"colorbar\": {\"outlinewidth\": 0, \"ticks\": \"\"}}, \"type\": \"scattergeo\"}], \"scattergl\": [{\"marker\": {\"colorbar\": {\"outlinewidth\": 0, \"ticks\": \"\"}}, \"type\": \"scattergl\"}], \"scattermapbox\": [{\"marker\": {\"colorbar\": {\"outlinewidth\": 0, \"ticks\": \"\"}}, \"type\": \"scattermapbox\"}], \"scatterpolar\": [{\"marker\": {\"colorbar\": {\"outlinewidth\": 0, \"ticks\": \"\"}}, \"type\": \"scatterpolar\"}], \"scatterpolargl\": [{\"marker\": {\"colorbar\": {\"outlinewidth\": 0, \"ticks\": \"\"}}, \"type\": \"scatterpolargl\"}], \"scatterternary\": [{\"marker\": {\"colorbar\": {\"outlinewidth\": 0, \"ticks\": \"\"}}, \"type\": \"scatterternary\"}], \"surface\": [{\"colorbar\": {\"outlinewidth\": 0, \"ticks\": \"\"}, \"colorscale\": [[0.0, \"#0d0887\"], [0.1111111111111111, \"#46039f\"], [0.2222222222222222, \"#7201a8\"], [0.3333333333333333, \"#9c179e\"], [0.4444444444444444, \"#bd3786\"], [0.5555555555555556, \"#d8576b\"], [0.6666666666666666, \"#ed7953\"], [0.7777777777777778, \"#fb9f3a\"], [0.8888888888888888, \"#fdca26\"], [1.0, \"#f0f921\"]], \"type\": \"surface\"}], \"table\": [{\"cells\": {\"fill\": {\"color\": \"#EBF0F8\"}, \"line\": {\"color\": \"white\"}}, \"header\": {\"fill\": {\"color\": \"#C8D4E3\"}, \"line\": {\"color\": \"white\"}}, \"type\": \"table\"}]}, \"layout\": {\"annotationdefaults\": {\"arrowcolor\": \"#2a3f5f\", \"arrowhead\": 0, \"arrowwidth\": 1}, \"coloraxis\": {\"colorbar\": {\"outlinewidth\": 0, \"ticks\": \"\"}}, \"colorscale\": {\"diverging\": [[0, \"#8e0152\"], [0.1, \"#c51b7d\"], [0.2, \"#de77ae\"], [0.3, \"#f1b6da\"], [0.4, \"#fde0ef\"], [0.5, \"#f7f7f7\"], [0.6, \"#e6f5d0\"], [0.7, \"#b8e186\"], [0.8, \"#7fbc41\"], [0.9, \"#4d9221\"], [1, \"#276419\"]], \"sequential\": [[0.0, \"#0d0887\"], [0.1111111111111111, \"#46039f\"], [0.2222222222222222, \"#7201a8\"], [0.3333333333333333, \"#9c179e\"], [0.4444444444444444, \"#bd3786\"], [0.5555555555555556, \"#d8576b\"], [0.6666666666666666, \"#ed7953\"], [0.7777777777777778, \"#fb9f3a\"], [0.8888888888888888, \"#fdca26\"], [1.0, \"#f0f921\"]], \"sequentialminus\": [[0.0, \"#0d0887\"], [0.1111111111111111, \"#46039f\"], [0.2222222222222222, \"#7201a8\"], [0.3333333333333333, \"#9c179e\"], [0.4444444444444444, \"#bd3786\"], [0.5555555555555556, \"#d8576b\"], [0.6666666666666666, \"#ed7953\"], [0.7777777777777778, \"#fb9f3a\"], [0.8888888888888888, \"#fdca26\"], [1.0, \"#f0f921\"]]}, \"colorway\": [\"#636efa\", \"#EF553B\", \"#00cc96\", \"#ab63fa\", \"#FFA15A\", \"#19d3f3\", \"#FF6692\", \"#B6E880\", \"#FF97FF\", \"#FECB52\"], \"font\": {\"color\": \"#2a3f5f\"}, \"geo\": {\"bgcolor\": \"white\", \"lakecolor\": \"white\", \"landcolor\": \"#E5ECF6\", \"showlakes\": true, \"showland\": true, \"subunitcolor\": \"white\"}, \"hoverlabel\": {\"align\": \"left\"}, \"hovermode\": \"closest\", \"mapbox\": {\"style\": \"light\"}, \"paper_bgcolor\": \"white\", \"plot_bgcolor\": \"#E5ECF6\", \"polar\": {\"angularaxis\": {\"gridcolor\": \"white\", \"linecolor\": \"white\", \"ticks\": \"\"}, \"bgcolor\": \"#E5ECF6\", \"radialaxis\": {\"gridcolor\": \"white\", \"linecolor\": \"white\", \"ticks\": \"\"}}, \"scene\": {\"xaxis\": {\"backgroundcolor\": \"#E5ECF6\", \"gridcolor\": \"white\", \"gridwidth\": 2, \"linecolor\": \"white\", \"showbackground\": true, \"ticks\": \"\", \"zerolinecolor\": \"white\"}, \"yaxis\": {\"backgroundcolor\": \"#E5ECF6\", \"gridcolor\": \"white\", \"gridwidth\": 2, \"linecolor\": \"white\", \"showbackground\": true, \"ticks\": \"\", \"zerolinecolor\": \"white\"}, \"zaxis\": {\"backgroundcolor\": \"#E5ECF6\", \"gridcolor\": \"white\", \"gridwidth\": 2, \"linecolor\": \"white\", \"showbackground\": true, \"ticks\": \"\", \"zerolinecolor\": \"white\"}}, \"shapedefaults\": {\"line\": {\"color\": \"#2a3f5f\"}}, \"ternary\": {\"aaxis\": {\"gridcolor\": \"white\", \"linecolor\": \"white\", \"ticks\": \"\"}, \"baxis\": {\"gridcolor\": \"white\", \"linecolor\": \"white\", \"ticks\": \"\"}, \"bgcolor\": \"#E5ECF6\", \"caxis\": {\"gridcolor\": \"white\", \"linecolor\": \"white\", \"ticks\": \"\"}}, \"title\": {\"x\": 0.05}, \"xaxis\": {\"automargin\": true, \"gridcolor\": \"white\", \"linecolor\": \"white\", \"ticks\": \"\", \"title\": {\"standoff\": 15}, \"zerolinecolor\": \"white\", \"zerolinewidth\": 2}, \"yaxis\": {\"automargin\": true, \"gridcolor\": \"white\", \"linecolor\": \"white\", \"ticks\": \"\", \"title\": {\"standoff\": 15}, \"zerolinecolor\": \"white\", \"zerolinewidth\": 2}}}, \"title\": {\"font\": {\"color\": \"#4D5663\"}}, \"xaxis\": {\"gridcolor\": \"#E1E5ED\", \"showgrid\": true, \"tickfont\": {\"color\": \"#4D5663\"}, \"title\": {\"font\": {\"color\": \"#4D5663\"}, \"text\": \"\"}, \"zerolinecolor\": \"#E1E5ED\"}, \"yaxis\": {\"gridcolor\": \"#E1E5ED\", \"showgrid\": true, \"tickfont\": {\"color\": \"#4D5663\"}, \"title\": {\"font\": {\"color\": \"#4D5663\"}, \"text\": \"\"}, \"zerolinecolor\": \"#E1E5ED\"}},\n",
       "                        {\"showLink\": true, \"linkText\": \"Export to plot.ly\", \"plotlyServerURL\": \"https://plot.ly\", \"responsive\": true}\n",
       "                    ).then(function(){\n",
       "                            \n",
       "var gd = document.getElementById('204ce8e0-55a7-4fc3-9858-a1698d2df5b6');\n",
       "var x = new MutationObserver(function (mutations, observer) {{\n",
       "        var display = window.getComputedStyle(gd).display;\n",
       "        if (!display || display === 'none') {{\n",
       "            console.log([gd, 'removed!']);\n",
       "            Plotly.purge(gd);\n",
       "            observer.disconnect();\n",
       "        }}\n",
       "}});\n",
       "\n",
       "// Listen for the removal of the full notebook cells\n",
       "var notebookContainer = gd.closest('#notebook-container');\n",
       "if (notebookContainer) {{\n",
       "    x.observe(notebookContainer, {childList: true});\n",
       "}}\n",
       "\n",
       "// Listen for the clearing of the current output cell\n",
       "var outputEl = gd.closest('.output');\n",
       "if (outputEl) {{\n",
       "    x.observe(outputEl, {childList: true});\n",
       "}}\n",
       "\n",
       "                        })\n",
       "                };\n",
       "                });\n",
       "            </script>\n",
       "        </div>"
      ]
     },
     "metadata": {},
     "output_type": "display_data"
    }
   ],
   "source": [
    "df.iplot(kind='bar')"
   ]
  },
  {
   "cell_type": "code",
   "execution_count": 22,
   "metadata": {},
   "outputs": [
    {
     "data": {
      "application/vnd.plotly.v1+json": {
       "config": {
        "linkText": "Export to plot.ly",
        "plotlyServerURL": "https://plot.ly",
        "showLink": true
       },
       "data": [
        {
         "marker": {
          "color": "rgba(255, 153, 51, 0.6)",
          "line": {
           "color": "rgba(255, 153, 51, 1.0)",
           "width": 1
          }
         },
         "name": "None",
         "orientation": "v",
         "text": "",
         "type": "bar",
         "x": [
          "A",
          "B",
          "C",
          "D"
         ],
         "y": [
          100,
          100,
          100,
          100
         ]
        }
       ],
       "layout": {
        "legend": {
         "bgcolor": "#F5F6F9",
         "font": {
          "color": "#4D5663"
         }
        },
        "paper_bgcolor": "#F5F6F9",
        "plot_bgcolor": "#F5F6F9",
        "template": {
         "data": {
          "bar": [
           {
            "error_x": {
             "color": "#2a3f5f"
            },
            "error_y": {
             "color": "#2a3f5f"
            },
            "marker": {
             "line": {
              "color": "#E5ECF6",
              "width": 0.5
             }
            },
            "type": "bar"
           }
          ],
          "barpolar": [
           {
            "marker": {
             "line": {
              "color": "#E5ECF6",
              "width": 0.5
             }
            },
            "type": "barpolar"
           }
          ],
          "carpet": [
           {
            "aaxis": {
             "endlinecolor": "#2a3f5f",
             "gridcolor": "white",
             "linecolor": "white",
             "minorgridcolor": "white",
             "startlinecolor": "#2a3f5f"
            },
            "baxis": {
             "endlinecolor": "#2a3f5f",
             "gridcolor": "white",
             "linecolor": "white",
             "minorgridcolor": "white",
             "startlinecolor": "#2a3f5f"
            },
            "type": "carpet"
           }
          ],
          "choropleth": [
           {
            "colorbar": {
             "outlinewidth": 0,
             "ticks": ""
            },
            "type": "choropleth"
           }
          ],
          "contour": [
           {
            "colorbar": {
             "outlinewidth": 0,
             "ticks": ""
            },
            "colorscale": [
             [
              0,
              "#0d0887"
             ],
             [
              0.1111111111111111,
              "#46039f"
             ],
             [
              0.2222222222222222,
              "#7201a8"
             ],
             [
              0.3333333333333333,
              "#9c179e"
             ],
             [
              0.4444444444444444,
              "#bd3786"
             ],
             [
              0.5555555555555556,
              "#d8576b"
             ],
             [
              0.6666666666666666,
              "#ed7953"
             ],
             [
              0.7777777777777778,
              "#fb9f3a"
             ],
             [
              0.8888888888888888,
              "#fdca26"
             ],
             [
              1,
              "#f0f921"
             ]
            ],
            "type": "contour"
           }
          ],
          "contourcarpet": [
           {
            "colorbar": {
             "outlinewidth": 0,
             "ticks": ""
            },
            "type": "contourcarpet"
           }
          ],
          "heatmap": [
           {
            "colorbar": {
             "outlinewidth": 0,
             "ticks": ""
            },
            "colorscale": [
             [
              0,
              "#0d0887"
             ],
             [
              0.1111111111111111,
              "#46039f"
             ],
             [
              0.2222222222222222,
              "#7201a8"
             ],
             [
              0.3333333333333333,
              "#9c179e"
             ],
             [
              0.4444444444444444,
              "#bd3786"
             ],
             [
              0.5555555555555556,
              "#d8576b"
             ],
             [
              0.6666666666666666,
              "#ed7953"
             ],
             [
              0.7777777777777778,
              "#fb9f3a"
             ],
             [
              0.8888888888888888,
              "#fdca26"
             ],
             [
              1,
              "#f0f921"
             ]
            ],
            "type": "heatmap"
           }
          ],
          "heatmapgl": [
           {
            "colorbar": {
             "outlinewidth": 0,
             "ticks": ""
            },
            "colorscale": [
             [
              0,
              "#0d0887"
             ],
             [
              0.1111111111111111,
              "#46039f"
             ],
             [
              0.2222222222222222,
              "#7201a8"
             ],
             [
              0.3333333333333333,
              "#9c179e"
             ],
             [
              0.4444444444444444,
              "#bd3786"
             ],
             [
              0.5555555555555556,
              "#d8576b"
             ],
             [
              0.6666666666666666,
              "#ed7953"
             ],
             [
              0.7777777777777778,
              "#fb9f3a"
             ],
             [
              0.8888888888888888,
              "#fdca26"
             ],
             [
              1,
              "#f0f921"
             ]
            ],
            "type": "heatmapgl"
           }
          ],
          "histogram": [
           {
            "marker": {
             "colorbar": {
              "outlinewidth": 0,
              "ticks": ""
             }
            },
            "type": "histogram"
           }
          ],
          "histogram2d": [
           {
            "colorbar": {
             "outlinewidth": 0,
             "ticks": ""
            },
            "colorscale": [
             [
              0,
              "#0d0887"
             ],
             [
              0.1111111111111111,
              "#46039f"
             ],
             [
              0.2222222222222222,
              "#7201a8"
             ],
             [
              0.3333333333333333,
              "#9c179e"
             ],
             [
              0.4444444444444444,
              "#bd3786"
             ],
             [
              0.5555555555555556,
              "#d8576b"
             ],
             [
              0.6666666666666666,
              "#ed7953"
             ],
             [
              0.7777777777777778,
              "#fb9f3a"
             ],
             [
              0.8888888888888888,
              "#fdca26"
             ],
             [
              1,
              "#f0f921"
             ]
            ],
            "type": "histogram2d"
           }
          ],
          "histogram2dcontour": [
           {
            "colorbar": {
             "outlinewidth": 0,
             "ticks": ""
            },
            "colorscale": [
             [
              0,
              "#0d0887"
             ],
             [
              0.1111111111111111,
              "#46039f"
             ],
             [
              0.2222222222222222,
              "#7201a8"
             ],
             [
              0.3333333333333333,
              "#9c179e"
             ],
             [
              0.4444444444444444,
              "#bd3786"
             ],
             [
              0.5555555555555556,
              "#d8576b"
             ],
             [
              0.6666666666666666,
              "#ed7953"
             ],
             [
              0.7777777777777778,
              "#fb9f3a"
             ],
             [
              0.8888888888888888,
              "#fdca26"
             ],
             [
              1,
              "#f0f921"
             ]
            ],
            "type": "histogram2dcontour"
           }
          ],
          "mesh3d": [
           {
            "colorbar": {
             "outlinewidth": 0,
             "ticks": ""
            },
            "type": "mesh3d"
           }
          ],
          "parcoords": [
           {
            "line": {
             "colorbar": {
              "outlinewidth": 0,
              "ticks": ""
             }
            },
            "type": "parcoords"
           }
          ],
          "pie": [
           {
            "automargin": true,
            "type": "pie"
           }
          ],
          "scatter": [
           {
            "marker": {
             "colorbar": {
              "outlinewidth": 0,
              "ticks": ""
             }
            },
            "type": "scatter"
           }
          ],
          "scatter3d": [
           {
            "line": {
             "colorbar": {
              "outlinewidth": 0,
              "ticks": ""
             }
            },
            "marker": {
             "colorbar": {
              "outlinewidth": 0,
              "ticks": ""
             }
            },
            "type": "scatter3d"
           }
          ],
          "scattercarpet": [
           {
            "marker": {
             "colorbar": {
              "outlinewidth": 0,
              "ticks": ""
             }
            },
            "type": "scattercarpet"
           }
          ],
          "scattergeo": [
           {
            "marker": {
             "colorbar": {
              "outlinewidth": 0,
              "ticks": ""
             }
            },
            "type": "scattergeo"
           }
          ],
          "scattergl": [
           {
            "marker": {
             "colorbar": {
              "outlinewidth": 0,
              "ticks": ""
             }
            },
            "type": "scattergl"
           }
          ],
          "scattermapbox": [
           {
            "marker": {
             "colorbar": {
              "outlinewidth": 0,
              "ticks": ""
             }
            },
            "type": "scattermapbox"
           }
          ],
          "scatterpolar": [
           {
            "marker": {
             "colorbar": {
              "outlinewidth": 0,
              "ticks": ""
             }
            },
            "type": "scatterpolar"
           }
          ],
          "scatterpolargl": [
           {
            "marker": {
             "colorbar": {
              "outlinewidth": 0,
              "ticks": ""
             }
            },
            "type": "scatterpolargl"
           }
          ],
          "scatterternary": [
           {
            "marker": {
             "colorbar": {
              "outlinewidth": 0,
              "ticks": ""
             }
            },
            "type": "scatterternary"
           }
          ],
          "surface": [
           {
            "colorbar": {
             "outlinewidth": 0,
             "ticks": ""
            },
            "colorscale": [
             [
              0,
              "#0d0887"
             ],
             [
              0.1111111111111111,
              "#46039f"
             ],
             [
              0.2222222222222222,
              "#7201a8"
             ],
             [
              0.3333333333333333,
              "#9c179e"
             ],
             [
              0.4444444444444444,
              "#bd3786"
             ],
             [
              0.5555555555555556,
              "#d8576b"
             ],
             [
              0.6666666666666666,
              "#ed7953"
             ],
             [
              0.7777777777777778,
              "#fb9f3a"
             ],
             [
              0.8888888888888888,
              "#fdca26"
             ],
             [
              1,
              "#f0f921"
             ]
            ],
            "type": "surface"
           }
          ],
          "table": [
           {
            "cells": {
             "fill": {
              "color": "#EBF0F8"
             },
             "line": {
              "color": "white"
             }
            },
            "header": {
             "fill": {
              "color": "#C8D4E3"
             },
             "line": {
              "color": "white"
             }
            },
            "type": "table"
           }
          ]
         },
         "layout": {
          "annotationdefaults": {
           "arrowcolor": "#2a3f5f",
           "arrowhead": 0,
           "arrowwidth": 1
          },
          "coloraxis": {
           "colorbar": {
            "outlinewidth": 0,
            "ticks": ""
           }
          },
          "colorscale": {
           "diverging": [
            [
             0,
             "#8e0152"
            ],
            [
             0.1,
             "#c51b7d"
            ],
            [
             0.2,
             "#de77ae"
            ],
            [
             0.3,
             "#f1b6da"
            ],
            [
             0.4,
             "#fde0ef"
            ],
            [
             0.5,
             "#f7f7f7"
            ],
            [
             0.6,
             "#e6f5d0"
            ],
            [
             0.7,
             "#b8e186"
            ],
            [
             0.8,
             "#7fbc41"
            ],
            [
             0.9,
             "#4d9221"
            ],
            [
             1,
             "#276419"
            ]
           ],
           "sequential": [
            [
             0,
             "#0d0887"
            ],
            [
             0.1111111111111111,
             "#46039f"
            ],
            [
             0.2222222222222222,
             "#7201a8"
            ],
            [
             0.3333333333333333,
             "#9c179e"
            ],
            [
             0.4444444444444444,
             "#bd3786"
            ],
            [
             0.5555555555555556,
             "#d8576b"
            ],
            [
             0.6666666666666666,
             "#ed7953"
            ],
            [
             0.7777777777777778,
             "#fb9f3a"
            ],
            [
             0.8888888888888888,
             "#fdca26"
            ],
            [
             1,
             "#f0f921"
            ]
           ],
           "sequentialminus": [
            [
             0,
             "#0d0887"
            ],
            [
             0.1111111111111111,
             "#46039f"
            ],
            [
             0.2222222222222222,
             "#7201a8"
            ],
            [
             0.3333333333333333,
             "#9c179e"
            ],
            [
             0.4444444444444444,
             "#bd3786"
            ],
            [
             0.5555555555555556,
             "#d8576b"
            ],
            [
             0.6666666666666666,
             "#ed7953"
            ],
            [
             0.7777777777777778,
             "#fb9f3a"
            ],
            [
             0.8888888888888888,
             "#fdca26"
            ],
            [
             1,
             "#f0f921"
            ]
           ]
          },
          "colorway": [
           "#636efa",
           "#EF553B",
           "#00cc96",
           "#ab63fa",
           "#FFA15A",
           "#19d3f3",
           "#FF6692",
           "#B6E880",
           "#FF97FF",
           "#FECB52"
          ],
          "font": {
           "color": "#2a3f5f"
          },
          "geo": {
           "bgcolor": "white",
           "lakecolor": "white",
           "landcolor": "#E5ECF6",
           "showlakes": true,
           "showland": true,
           "subunitcolor": "white"
          },
          "hoverlabel": {
           "align": "left"
          },
          "hovermode": "closest",
          "mapbox": {
           "style": "light"
          },
          "paper_bgcolor": "white",
          "plot_bgcolor": "#E5ECF6",
          "polar": {
           "angularaxis": {
            "gridcolor": "white",
            "linecolor": "white",
            "ticks": ""
           },
           "bgcolor": "#E5ECF6",
           "radialaxis": {
            "gridcolor": "white",
            "linecolor": "white",
            "ticks": ""
           }
          },
          "scene": {
           "xaxis": {
            "backgroundcolor": "#E5ECF6",
            "gridcolor": "white",
            "gridwidth": 2,
            "linecolor": "white",
            "showbackground": true,
            "ticks": "",
            "zerolinecolor": "white"
           },
           "yaxis": {
            "backgroundcolor": "#E5ECF6",
            "gridcolor": "white",
            "gridwidth": 2,
            "linecolor": "white",
            "showbackground": true,
            "ticks": "",
            "zerolinecolor": "white"
           },
           "zaxis": {
            "backgroundcolor": "#E5ECF6",
            "gridcolor": "white",
            "gridwidth": 2,
            "linecolor": "white",
            "showbackground": true,
            "ticks": "",
            "zerolinecolor": "white"
           }
          },
          "shapedefaults": {
           "line": {
            "color": "#2a3f5f"
           }
          },
          "ternary": {
           "aaxis": {
            "gridcolor": "white",
            "linecolor": "white",
            "ticks": ""
           },
           "baxis": {
            "gridcolor": "white",
            "linecolor": "white",
            "ticks": ""
           },
           "bgcolor": "#E5ECF6",
           "caxis": {
            "gridcolor": "white",
            "linecolor": "white",
            "ticks": ""
           }
          },
          "title": {
           "x": 0.05
          },
          "xaxis": {
           "automargin": true,
           "gridcolor": "white",
           "linecolor": "white",
           "ticks": "",
           "title": {
            "standoff": 15
           },
           "zerolinecolor": "white",
           "zerolinewidth": 2
          },
          "yaxis": {
           "automargin": true,
           "gridcolor": "white",
           "linecolor": "white",
           "ticks": "",
           "title": {
            "standoff": 15
           },
           "zerolinecolor": "white",
           "zerolinewidth": 2
          }
         }
        },
        "title": {
         "font": {
          "color": "#4D5663"
         }
        },
        "xaxis": {
         "gridcolor": "#E1E5ED",
         "showgrid": true,
         "tickfont": {
          "color": "#4D5663"
         },
         "title": {
          "font": {
           "color": "#4D5663"
          },
          "text": ""
         },
         "zerolinecolor": "#E1E5ED"
        },
        "yaxis": {
         "gridcolor": "#E1E5ED",
         "showgrid": true,
         "tickfont": {
          "color": "#4D5663"
         },
         "title": {
          "font": {
           "color": "#4D5663"
          },
          "text": ""
         },
         "zerolinecolor": "#E1E5ED"
        }
       }
      },
      "text/html": [
       "<div>\n",
       "        \n",
       "        \n",
       "            <div id=\"df8481ab-4242-4350-b7dd-647183b7a68d\" class=\"plotly-graph-div\" style=\"height:525px; width:100%;\"></div>\n",
       "            <script type=\"text/javascript\">\n",
       "                require([\"plotly\"], function(Plotly) {\n",
       "                    window.PLOTLYENV=window.PLOTLYENV || {};\n",
       "                    window.PLOTLYENV.BASE_URL='https://plot.ly';\n",
       "                    \n",
       "                if (document.getElementById(\"df8481ab-4242-4350-b7dd-647183b7a68d\")) {\n",
       "                    Plotly.newPlot(\n",
       "                        'df8481ab-4242-4350-b7dd-647183b7a68d',\n",
       "                        [{\"marker\": {\"color\": \"rgba(255, 153, 51, 0.6)\", \"line\": {\"color\": \"rgba(255, 153, 51, 1.0)\", \"width\": 1}}, \"name\": \"None\", \"orientation\": \"v\", \"text\": \"\", \"type\": \"bar\", \"x\": [\"A\", \"B\", \"C\", \"D\"], \"y\": [100, 100, 100, 100]}],\n",
       "                        {\"legend\": {\"bgcolor\": \"#F5F6F9\", \"font\": {\"color\": \"#4D5663\"}}, \"paper_bgcolor\": \"#F5F6F9\", \"plot_bgcolor\": \"#F5F6F9\", \"template\": {\"data\": {\"bar\": [{\"error_x\": {\"color\": \"#2a3f5f\"}, \"error_y\": {\"color\": \"#2a3f5f\"}, \"marker\": {\"line\": {\"color\": \"#E5ECF6\", \"width\": 0.5}}, \"type\": \"bar\"}], \"barpolar\": [{\"marker\": {\"line\": {\"color\": \"#E5ECF6\", \"width\": 0.5}}, \"type\": \"barpolar\"}], \"carpet\": [{\"aaxis\": {\"endlinecolor\": \"#2a3f5f\", \"gridcolor\": \"white\", \"linecolor\": \"white\", \"minorgridcolor\": \"white\", \"startlinecolor\": \"#2a3f5f\"}, \"baxis\": {\"endlinecolor\": \"#2a3f5f\", \"gridcolor\": \"white\", \"linecolor\": \"white\", \"minorgridcolor\": \"white\", \"startlinecolor\": \"#2a3f5f\"}, \"type\": \"carpet\"}], \"choropleth\": [{\"colorbar\": {\"outlinewidth\": 0, \"ticks\": \"\"}, \"type\": \"choropleth\"}], \"contour\": [{\"colorbar\": {\"outlinewidth\": 0, \"ticks\": \"\"}, \"colorscale\": [[0.0, \"#0d0887\"], [0.1111111111111111, \"#46039f\"], [0.2222222222222222, \"#7201a8\"], [0.3333333333333333, \"#9c179e\"], [0.4444444444444444, \"#bd3786\"], [0.5555555555555556, \"#d8576b\"], [0.6666666666666666, \"#ed7953\"], [0.7777777777777778, \"#fb9f3a\"], [0.8888888888888888, \"#fdca26\"], [1.0, \"#f0f921\"]], \"type\": \"contour\"}], \"contourcarpet\": [{\"colorbar\": {\"outlinewidth\": 0, \"ticks\": \"\"}, \"type\": \"contourcarpet\"}], \"heatmap\": [{\"colorbar\": {\"outlinewidth\": 0, \"ticks\": \"\"}, \"colorscale\": [[0.0, \"#0d0887\"], [0.1111111111111111, \"#46039f\"], [0.2222222222222222, \"#7201a8\"], [0.3333333333333333, \"#9c179e\"], [0.4444444444444444, \"#bd3786\"], [0.5555555555555556, \"#d8576b\"], [0.6666666666666666, \"#ed7953\"], [0.7777777777777778, \"#fb9f3a\"], [0.8888888888888888, \"#fdca26\"], [1.0, \"#f0f921\"]], \"type\": \"heatmap\"}], \"heatmapgl\": [{\"colorbar\": {\"outlinewidth\": 0, \"ticks\": \"\"}, \"colorscale\": [[0.0, \"#0d0887\"], [0.1111111111111111, \"#46039f\"], [0.2222222222222222, \"#7201a8\"], [0.3333333333333333, \"#9c179e\"], [0.4444444444444444, \"#bd3786\"], [0.5555555555555556, \"#d8576b\"], [0.6666666666666666, \"#ed7953\"], [0.7777777777777778, \"#fb9f3a\"], [0.8888888888888888, \"#fdca26\"], [1.0, \"#f0f921\"]], \"type\": \"heatmapgl\"}], \"histogram\": [{\"marker\": {\"colorbar\": {\"outlinewidth\": 0, \"ticks\": \"\"}}, \"type\": \"histogram\"}], \"histogram2d\": [{\"colorbar\": {\"outlinewidth\": 0, \"ticks\": \"\"}, \"colorscale\": [[0.0, \"#0d0887\"], [0.1111111111111111, \"#46039f\"], [0.2222222222222222, \"#7201a8\"], [0.3333333333333333, \"#9c179e\"], [0.4444444444444444, \"#bd3786\"], [0.5555555555555556, \"#d8576b\"], [0.6666666666666666, \"#ed7953\"], [0.7777777777777778, \"#fb9f3a\"], [0.8888888888888888, \"#fdca26\"], [1.0, \"#f0f921\"]], \"type\": \"histogram2d\"}], \"histogram2dcontour\": [{\"colorbar\": {\"outlinewidth\": 0, \"ticks\": \"\"}, \"colorscale\": [[0.0, \"#0d0887\"], [0.1111111111111111, \"#46039f\"], [0.2222222222222222, \"#7201a8\"], [0.3333333333333333, \"#9c179e\"], [0.4444444444444444, \"#bd3786\"], [0.5555555555555556, \"#d8576b\"], [0.6666666666666666, \"#ed7953\"], [0.7777777777777778, \"#fb9f3a\"], [0.8888888888888888, \"#fdca26\"], [1.0, \"#f0f921\"]], \"type\": \"histogram2dcontour\"}], \"mesh3d\": [{\"colorbar\": {\"outlinewidth\": 0, \"ticks\": \"\"}, \"type\": \"mesh3d\"}], \"parcoords\": [{\"line\": {\"colorbar\": {\"outlinewidth\": 0, \"ticks\": \"\"}}, \"type\": \"parcoords\"}], \"pie\": [{\"automargin\": true, \"type\": \"pie\"}], \"scatter\": [{\"marker\": {\"colorbar\": {\"outlinewidth\": 0, \"ticks\": \"\"}}, \"type\": \"scatter\"}], \"scatter3d\": [{\"line\": {\"colorbar\": {\"outlinewidth\": 0, \"ticks\": \"\"}}, \"marker\": {\"colorbar\": {\"outlinewidth\": 0, \"ticks\": \"\"}}, \"type\": \"scatter3d\"}], \"scattercarpet\": [{\"marker\": {\"colorbar\": {\"outlinewidth\": 0, \"ticks\": \"\"}}, \"type\": \"scattercarpet\"}], \"scattergeo\": [{\"marker\": {\"colorbar\": {\"outlinewidth\": 0, \"ticks\": \"\"}}, \"type\": \"scattergeo\"}], \"scattergl\": [{\"marker\": {\"colorbar\": {\"outlinewidth\": 0, \"ticks\": \"\"}}, \"type\": \"scattergl\"}], \"scattermapbox\": [{\"marker\": {\"colorbar\": {\"outlinewidth\": 0, \"ticks\": \"\"}}, \"type\": \"scattermapbox\"}], \"scatterpolar\": [{\"marker\": {\"colorbar\": {\"outlinewidth\": 0, \"ticks\": \"\"}}, \"type\": \"scatterpolar\"}], \"scatterpolargl\": [{\"marker\": {\"colorbar\": {\"outlinewidth\": 0, \"ticks\": \"\"}}, \"type\": \"scatterpolargl\"}], \"scatterternary\": [{\"marker\": {\"colorbar\": {\"outlinewidth\": 0, \"ticks\": \"\"}}, \"type\": \"scatterternary\"}], \"surface\": [{\"colorbar\": {\"outlinewidth\": 0, \"ticks\": \"\"}, \"colorscale\": [[0.0, \"#0d0887\"], [0.1111111111111111, \"#46039f\"], [0.2222222222222222, \"#7201a8\"], [0.3333333333333333, \"#9c179e\"], [0.4444444444444444, \"#bd3786\"], [0.5555555555555556, \"#d8576b\"], [0.6666666666666666, \"#ed7953\"], [0.7777777777777778, \"#fb9f3a\"], [0.8888888888888888, \"#fdca26\"], [1.0, \"#f0f921\"]], \"type\": \"surface\"}], \"table\": [{\"cells\": {\"fill\": {\"color\": \"#EBF0F8\"}, \"line\": {\"color\": \"white\"}}, \"header\": {\"fill\": {\"color\": \"#C8D4E3\"}, \"line\": {\"color\": \"white\"}}, \"type\": \"table\"}]}, \"layout\": {\"annotationdefaults\": {\"arrowcolor\": \"#2a3f5f\", \"arrowhead\": 0, \"arrowwidth\": 1}, \"coloraxis\": {\"colorbar\": {\"outlinewidth\": 0, \"ticks\": \"\"}}, \"colorscale\": {\"diverging\": [[0, \"#8e0152\"], [0.1, \"#c51b7d\"], [0.2, \"#de77ae\"], [0.3, \"#f1b6da\"], [0.4, \"#fde0ef\"], [0.5, \"#f7f7f7\"], [0.6, \"#e6f5d0\"], [0.7, \"#b8e186\"], [0.8, \"#7fbc41\"], [0.9, \"#4d9221\"], [1, \"#276419\"]], \"sequential\": [[0.0, \"#0d0887\"], [0.1111111111111111, \"#46039f\"], [0.2222222222222222, \"#7201a8\"], [0.3333333333333333, \"#9c179e\"], [0.4444444444444444, \"#bd3786\"], [0.5555555555555556, \"#d8576b\"], [0.6666666666666666, \"#ed7953\"], [0.7777777777777778, \"#fb9f3a\"], [0.8888888888888888, \"#fdca26\"], [1.0, \"#f0f921\"]], \"sequentialminus\": [[0.0, \"#0d0887\"], [0.1111111111111111, \"#46039f\"], [0.2222222222222222, \"#7201a8\"], [0.3333333333333333, \"#9c179e\"], [0.4444444444444444, \"#bd3786\"], [0.5555555555555556, \"#d8576b\"], [0.6666666666666666, \"#ed7953\"], [0.7777777777777778, \"#fb9f3a\"], [0.8888888888888888, \"#fdca26\"], [1.0, \"#f0f921\"]]}, \"colorway\": [\"#636efa\", \"#EF553B\", \"#00cc96\", \"#ab63fa\", \"#FFA15A\", \"#19d3f3\", \"#FF6692\", \"#B6E880\", \"#FF97FF\", \"#FECB52\"], \"font\": {\"color\": \"#2a3f5f\"}, \"geo\": {\"bgcolor\": \"white\", \"lakecolor\": \"white\", \"landcolor\": \"#E5ECF6\", \"showlakes\": true, \"showland\": true, \"subunitcolor\": \"white\"}, \"hoverlabel\": {\"align\": \"left\"}, \"hovermode\": \"closest\", \"mapbox\": {\"style\": \"light\"}, \"paper_bgcolor\": \"white\", \"plot_bgcolor\": \"#E5ECF6\", \"polar\": {\"angularaxis\": {\"gridcolor\": \"white\", \"linecolor\": \"white\", \"ticks\": \"\"}, \"bgcolor\": \"#E5ECF6\", \"radialaxis\": {\"gridcolor\": \"white\", \"linecolor\": \"white\", \"ticks\": \"\"}}, \"scene\": {\"xaxis\": {\"backgroundcolor\": \"#E5ECF6\", \"gridcolor\": \"white\", \"gridwidth\": 2, \"linecolor\": \"white\", \"showbackground\": true, \"ticks\": \"\", \"zerolinecolor\": \"white\"}, \"yaxis\": {\"backgroundcolor\": \"#E5ECF6\", \"gridcolor\": \"white\", \"gridwidth\": 2, \"linecolor\": \"white\", \"showbackground\": true, \"ticks\": \"\", \"zerolinecolor\": \"white\"}, \"zaxis\": {\"backgroundcolor\": \"#E5ECF6\", \"gridcolor\": \"white\", \"gridwidth\": 2, \"linecolor\": \"white\", \"showbackground\": true, \"ticks\": \"\", \"zerolinecolor\": \"white\"}}, \"shapedefaults\": {\"line\": {\"color\": \"#2a3f5f\"}}, \"ternary\": {\"aaxis\": {\"gridcolor\": \"white\", \"linecolor\": \"white\", \"ticks\": \"\"}, \"baxis\": {\"gridcolor\": \"white\", \"linecolor\": \"white\", \"ticks\": \"\"}, \"bgcolor\": \"#E5ECF6\", \"caxis\": {\"gridcolor\": \"white\", \"linecolor\": \"white\", \"ticks\": \"\"}}, \"title\": {\"x\": 0.05}, \"xaxis\": {\"automargin\": true, \"gridcolor\": \"white\", \"linecolor\": \"white\", \"ticks\": \"\", \"title\": {\"standoff\": 15}, \"zerolinecolor\": \"white\", \"zerolinewidth\": 2}, \"yaxis\": {\"automargin\": true, \"gridcolor\": \"white\", \"linecolor\": \"white\", \"ticks\": \"\", \"title\": {\"standoff\": 15}, \"zerolinecolor\": \"white\", \"zerolinewidth\": 2}}}, \"title\": {\"font\": {\"color\": \"#4D5663\"}}, \"xaxis\": {\"gridcolor\": \"#E1E5ED\", \"showgrid\": true, \"tickfont\": {\"color\": \"#4D5663\"}, \"title\": {\"font\": {\"color\": \"#4D5663\"}, \"text\": \"\"}, \"zerolinecolor\": \"#E1E5ED\"}, \"yaxis\": {\"gridcolor\": \"#E1E5ED\", \"showgrid\": true, \"tickfont\": {\"color\": \"#4D5663\"}, \"title\": {\"font\": {\"color\": \"#4D5663\"}, \"text\": \"\"}, \"zerolinecolor\": \"#E1E5ED\"}},\n",
       "                        {\"showLink\": true, \"linkText\": \"Export to plot.ly\", \"plotlyServerURL\": \"https://plot.ly\", \"responsive\": true}\n",
       "                    ).then(function(){\n",
       "                            \n",
       "var gd = document.getElementById('df8481ab-4242-4350-b7dd-647183b7a68d');\n",
       "var x = new MutationObserver(function (mutations, observer) {{\n",
       "        var display = window.getComputedStyle(gd).display;\n",
       "        if (!display || display === 'none') {{\n",
       "            console.log([gd, 'removed!']);\n",
       "            Plotly.purge(gd);\n",
       "            observer.disconnect();\n",
       "        }}\n",
       "}});\n",
       "\n",
       "// Listen for the removal of the full notebook cells\n",
       "var notebookContainer = gd.closest('#notebook-container');\n",
       "if (notebookContainer) {{\n",
       "    x.observe(notebookContainer, {childList: true});\n",
       "}}\n",
       "\n",
       "// Listen for the clearing of the current output cell\n",
       "var outputEl = gd.closest('.output');\n",
       "if (outputEl) {{\n",
       "    x.observe(outputEl, {childList: true});\n",
       "}}\n",
       "\n",
       "                        })\n",
       "                };\n",
       "                });\n",
       "            </script>\n",
       "        </div>"
      ]
     },
     "metadata": {},
     "output_type": "display_data"
    }
   ],
   "source": [
    "df.count().iplot(kind='bar')"
   ]
  },
  {
   "cell_type": "code",
   "execution_count": 23,
   "metadata": {},
   "outputs": [
    {
     "data": {
      "application/vnd.plotly.v1+json": {
       "config": {
        "linkText": "Export to plot.ly",
        "plotlyServerURL": "https://plot.ly",
        "showLink": true
       },
       "data": [
        {
         "marker": {
          "color": "rgba(255, 153, 51, 0.6)",
          "line": {
           "color": "rgba(255, 153, 51, 1.0)",
           "width": 1
          }
         },
         "name": "None",
         "orientation": "v",
         "text": "",
         "type": "bar",
         "x": [
          "A",
          "B",
          "C",
          "D"
         ],
         "y": [
          16.600853372452477,
          6.425579284939423,
          7.869892652656196,
          16.09836745640363
         ]
        }
       ],
       "layout": {
        "legend": {
         "bgcolor": "#F5F6F9",
         "font": {
          "color": "#4D5663"
         }
        },
        "paper_bgcolor": "#F5F6F9",
        "plot_bgcolor": "#F5F6F9",
        "template": {
         "data": {
          "bar": [
           {
            "error_x": {
             "color": "#2a3f5f"
            },
            "error_y": {
             "color": "#2a3f5f"
            },
            "marker": {
             "line": {
              "color": "#E5ECF6",
              "width": 0.5
             }
            },
            "type": "bar"
           }
          ],
          "barpolar": [
           {
            "marker": {
             "line": {
              "color": "#E5ECF6",
              "width": 0.5
             }
            },
            "type": "barpolar"
           }
          ],
          "carpet": [
           {
            "aaxis": {
             "endlinecolor": "#2a3f5f",
             "gridcolor": "white",
             "linecolor": "white",
             "minorgridcolor": "white",
             "startlinecolor": "#2a3f5f"
            },
            "baxis": {
             "endlinecolor": "#2a3f5f",
             "gridcolor": "white",
             "linecolor": "white",
             "minorgridcolor": "white",
             "startlinecolor": "#2a3f5f"
            },
            "type": "carpet"
           }
          ],
          "choropleth": [
           {
            "colorbar": {
             "outlinewidth": 0,
             "ticks": ""
            },
            "type": "choropleth"
           }
          ],
          "contour": [
           {
            "colorbar": {
             "outlinewidth": 0,
             "ticks": ""
            },
            "colorscale": [
             [
              0,
              "#0d0887"
             ],
             [
              0.1111111111111111,
              "#46039f"
             ],
             [
              0.2222222222222222,
              "#7201a8"
             ],
             [
              0.3333333333333333,
              "#9c179e"
             ],
             [
              0.4444444444444444,
              "#bd3786"
             ],
             [
              0.5555555555555556,
              "#d8576b"
             ],
             [
              0.6666666666666666,
              "#ed7953"
             ],
             [
              0.7777777777777778,
              "#fb9f3a"
             ],
             [
              0.8888888888888888,
              "#fdca26"
             ],
             [
              1,
              "#f0f921"
             ]
            ],
            "type": "contour"
           }
          ],
          "contourcarpet": [
           {
            "colorbar": {
             "outlinewidth": 0,
             "ticks": ""
            },
            "type": "contourcarpet"
           }
          ],
          "heatmap": [
           {
            "colorbar": {
             "outlinewidth": 0,
             "ticks": ""
            },
            "colorscale": [
             [
              0,
              "#0d0887"
             ],
             [
              0.1111111111111111,
              "#46039f"
             ],
             [
              0.2222222222222222,
              "#7201a8"
             ],
             [
              0.3333333333333333,
              "#9c179e"
             ],
             [
              0.4444444444444444,
              "#bd3786"
             ],
             [
              0.5555555555555556,
              "#d8576b"
             ],
             [
              0.6666666666666666,
              "#ed7953"
             ],
             [
              0.7777777777777778,
              "#fb9f3a"
             ],
             [
              0.8888888888888888,
              "#fdca26"
             ],
             [
              1,
              "#f0f921"
             ]
            ],
            "type": "heatmap"
           }
          ],
          "heatmapgl": [
           {
            "colorbar": {
             "outlinewidth": 0,
             "ticks": ""
            },
            "colorscale": [
             [
              0,
              "#0d0887"
             ],
             [
              0.1111111111111111,
              "#46039f"
             ],
             [
              0.2222222222222222,
              "#7201a8"
             ],
             [
              0.3333333333333333,
              "#9c179e"
             ],
             [
              0.4444444444444444,
              "#bd3786"
             ],
             [
              0.5555555555555556,
              "#d8576b"
             ],
             [
              0.6666666666666666,
              "#ed7953"
             ],
             [
              0.7777777777777778,
              "#fb9f3a"
             ],
             [
              0.8888888888888888,
              "#fdca26"
             ],
             [
              1,
              "#f0f921"
             ]
            ],
            "type": "heatmapgl"
           }
          ],
          "histogram": [
           {
            "marker": {
             "colorbar": {
              "outlinewidth": 0,
              "ticks": ""
             }
            },
            "type": "histogram"
           }
          ],
          "histogram2d": [
           {
            "colorbar": {
             "outlinewidth": 0,
             "ticks": ""
            },
            "colorscale": [
             [
              0,
              "#0d0887"
             ],
             [
              0.1111111111111111,
              "#46039f"
             ],
             [
              0.2222222222222222,
              "#7201a8"
             ],
             [
              0.3333333333333333,
              "#9c179e"
             ],
             [
              0.4444444444444444,
              "#bd3786"
             ],
             [
              0.5555555555555556,
              "#d8576b"
             ],
             [
              0.6666666666666666,
              "#ed7953"
             ],
             [
              0.7777777777777778,
              "#fb9f3a"
             ],
             [
              0.8888888888888888,
              "#fdca26"
             ],
             [
              1,
              "#f0f921"
             ]
            ],
            "type": "histogram2d"
           }
          ],
          "histogram2dcontour": [
           {
            "colorbar": {
             "outlinewidth": 0,
             "ticks": ""
            },
            "colorscale": [
             [
              0,
              "#0d0887"
             ],
             [
              0.1111111111111111,
              "#46039f"
             ],
             [
              0.2222222222222222,
              "#7201a8"
             ],
             [
              0.3333333333333333,
              "#9c179e"
             ],
             [
              0.4444444444444444,
              "#bd3786"
             ],
             [
              0.5555555555555556,
              "#d8576b"
             ],
             [
              0.6666666666666666,
              "#ed7953"
             ],
             [
              0.7777777777777778,
              "#fb9f3a"
             ],
             [
              0.8888888888888888,
              "#fdca26"
             ],
             [
              1,
              "#f0f921"
             ]
            ],
            "type": "histogram2dcontour"
           }
          ],
          "mesh3d": [
           {
            "colorbar": {
             "outlinewidth": 0,
             "ticks": ""
            },
            "type": "mesh3d"
           }
          ],
          "parcoords": [
           {
            "line": {
             "colorbar": {
              "outlinewidth": 0,
              "ticks": ""
             }
            },
            "type": "parcoords"
           }
          ],
          "pie": [
           {
            "automargin": true,
            "type": "pie"
           }
          ],
          "scatter": [
           {
            "marker": {
             "colorbar": {
              "outlinewidth": 0,
              "ticks": ""
             }
            },
            "type": "scatter"
           }
          ],
          "scatter3d": [
           {
            "line": {
             "colorbar": {
              "outlinewidth": 0,
              "ticks": ""
             }
            },
            "marker": {
             "colorbar": {
              "outlinewidth": 0,
              "ticks": ""
             }
            },
            "type": "scatter3d"
           }
          ],
          "scattercarpet": [
           {
            "marker": {
             "colorbar": {
              "outlinewidth": 0,
              "ticks": ""
             }
            },
            "type": "scattercarpet"
           }
          ],
          "scattergeo": [
           {
            "marker": {
             "colorbar": {
              "outlinewidth": 0,
              "ticks": ""
             }
            },
            "type": "scattergeo"
           }
          ],
          "scattergl": [
           {
            "marker": {
             "colorbar": {
              "outlinewidth": 0,
              "ticks": ""
             }
            },
            "type": "scattergl"
           }
          ],
          "scattermapbox": [
           {
            "marker": {
             "colorbar": {
              "outlinewidth": 0,
              "ticks": ""
             }
            },
            "type": "scattermapbox"
           }
          ],
          "scatterpolar": [
           {
            "marker": {
             "colorbar": {
              "outlinewidth": 0,
              "ticks": ""
             }
            },
            "type": "scatterpolar"
           }
          ],
          "scatterpolargl": [
           {
            "marker": {
             "colorbar": {
              "outlinewidth": 0,
              "ticks": ""
             }
            },
            "type": "scatterpolargl"
           }
          ],
          "scatterternary": [
           {
            "marker": {
             "colorbar": {
              "outlinewidth": 0,
              "ticks": ""
             }
            },
            "type": "scatterternary"
           }
          ],
          "surface": [
           {
            "colorbar": {
             "outlinewidth": 0,
             "ticks": ""
            },
            "colorscale": [
             [
              0,
              "#0d0887"
             ],
             [
              0.1111111111111111,
              "#46039f"
             ],
             [
              0.2222222222222222,
              "#7201a8"
             ],
             [
              0.3333333333333333,
              "#9c179e"
             ],
             [
              0.4444444444444444,
              "#bd3786"
             ],
             [
              0.5555555555555556,
              "#d8576b"
             ],
             [
              0.6666666666666666,
              "#ed7953"
             ],
             [
              0.7777777777777778,
              "#fb9f3a"
             ],
             [
              0.8888888888888888,
              "#fdca26"
             ],
             [
              1,
              "#f0f921"
             ]
            ],
            "type": "surface"
           }
          ],
          "table": [
           {
            "cells": {
             "fill": {
              "color": "#EBF0F8"
             },
             "line": {
              "color": "white"
             }
            },
            "header": {
             "fill": {
              "color": "#C8D4E3"
             },
             "line": {
              "color": "white"
             }
            },
            "type": "table"
           }
          ]
         },
         "layout": {
          "annotationdefaults": {
           "arrowcolor": "#2a3f5f",
           "arrowhead": 0,
           "arrowwidth": 1
          },
          "coloraxis": {
           "colorbar": {
            "outlinewidth": 0,
            "ticks": ""
           }
          },
          "colorscale": {
           "diverging": [
            [
             0,
             "#8e0152"
            ],
            [
             0.1,
             "#c51b7d"
            ],
            [
             0.2,
             "#de77ae"
            ],
            [
             0.3,
             "#f1b6da"
            ],
            [
             0.4,
             "#fde0ef"
            ],
            [
             0.5,
             "#f7f7f7"
            ],
            [
             0.6,
             "#e6f5d0"
            ],
            [
             0.7,
             "#b8e186"
            ],
            [
             0.8,
             "#7fbc41"
            ],
            [
             0.9,
             "#4d9221"
            ],
            [
             1,
             "#276419"
            ]
           ],
           "sequential": [
            [
             0,
             "#0d0887"
            ],
            [
             0.1111111111111111,
             "#46039f"
            ],
            [
             0.2222222222222222,
             "#7201a8"
            ],
            [
             0.3333333333333333,
             "#9c179e"
            ],
            [
             0.4444444444444444,
             "#bd3786"
            ],
            [
             0.5555555555555556,
             "#d8576b"
            ],
            [
             0.6666666666666666,
             "#ed7953"
            ],
            [
             0.7777777777777778,
             "#fb9f3a"
            ],
            [
             0.8888888888888888,
             "#fdca26"
            ],
            [
             1,
             "#f0f921"
            ]
           ],
           "sequentialminus": [
            [
             0,
             "#0d0887"
            ],
            [
             0.1111111111111111,
             "#46039f"
            ],
            [
             0.2222222222222222,
             "#7201a8"
            ],
            [
             0.3333333333333333,
             "#9c179e"
            ],
            [
             0.4444444444444444,
             "#bd3786"
            ],
            [
             0.5555555555555556,
             "#d8576b"
            ],
            [
             0.6666666666666666,
             "#ed7953"
            ],
            [
             0.7777777777777778,
             "#fb9f3a"
            ],
            [
             0.8888888888888888,
             "#fdca26"
            ],
            [
             1,
             "#f0f921"
            ]
           ]
          },
          "colorway": [
           "#636efa",
           "#EF553B",
           "#00cc96",
           "#ab63fa",
           "#FFA15A",
           "#19d3f3",
           "#FF6692",
           "#B6E880",
           "#FF97FF",
           "#FECB52"
          ],
          "font": {
           "color": "#2a3f5f"
          },
          "geo": {
           "bgcolor": "white",
           "lakecolor": "white",
           "landcolor": "#E5ECF6",
           "showlakes": true,
           "showland": true,
           "subunitcolor": "white"
          },
          "hoverlabel": {
           "align": "left"
          },
          "hovermode": "closest",
          "mapbox": {
           "style": "light"
          },
          "paper_bgcolor": "white",
          "plot_bgcolor": "#E5ECF6",
          "polar": {
           "angularaxis": {
            "gridcolor": "white",
            "linecolor": "white",
            "ticks": ""
           },
           "bgcolor": "#E5ECF6",
           "radialaxis": {
            "gridcolor": "white",
            "linecolor": "white",
            "ticks": ""
           }
          },
          "scene": {
           "xaxis": {
            "backgroundcolor": "#E5ECF6",
            "gridcolor": "white",
            "gridwidth": 2,
            "linecolor": "white",
            "showbackground": true,
            "ticks": "",
            "zerolinecolor": "white"
           },
           "yaxis": {
            "backgroundcolor": "#E5ECF6",
            "gridcolor": "white",
            "gridwidth": 2,
            "linecolor": "white",
            "showbackground": true,
            "ticks": "",
            "zerolinecolor": "white"
           },
           "zaxis": {
            "backgroundcolor": "#E5ECF6",
            "gridcolor": "white",
            "gridwidth": 2,
            "linecolor": "white",
            "showbackground": true,
            "ticks": "",
            "zerolinecolor": "white"
           }
          },
          "shapedefaults": {
           "line": {
            "color": "#2a3f5f"
           }
          },
          "ternary": {
           "aaxis": {
            "gridcolor": "white",
            "linecolor": "white",
            "ticks": ""
           },
           "baxis": {
            "gridcolor": "white",
            "linecolor": "white",
            "ticks": ""
           },
           "bgcolor": "#E5ECF6",
           "caxis": {
            "gridcolor": "white",
            "linecolor": "white",
            "ticks": ""
           }
          },
          "title": {
           "x": 0.05
          },
          "xaxis": {
           "automargin": true,
           "gridcolor": "white",
           "linecolor": "white",
           "ticks": "",
           "title": {
            "standoff": 15
           },
           "zerolinecolor": "white",
           "zerolinewidth": 2
          },
          "yaxis": {
           "automargin": true,
           "gridcolor": "white",
           "linecolor": "white",
           "ticks": "",
           "title": {
            "standoff": 15
           },
           "zerolinecolor": "white",
           "zerolinewidth": 2
          }
         }
        },
        "title": {
         "font": {
          "color": "#4D5663"
         }
        },
        "xaxis": {
         "gridcolor": "#E1E5ED",
         "showgrid": true,
         "tickfont": {
          "color": "#4D5663"
         },
         "title": {
          "font": {
           "color": "#4D5663"
          },
          "text": ""
         },
         "zerolinecolor": "#E1E5ED"
        },
        "yaxis": {
         "gridcolor": "#E1E5ED",
         "showgrid": true,
         "tickfont": {
          "color": "#4D5663"
         },
         "title": {
          "font": {
           "color": "#4D5663"
          },
          "text": ""
         },
         "zerolinecolor": "#E1E5ED"
        }
       }
      },
      "text/html": [
       "<div>\n",
       "        \n",
       "        \n",
       "            <div id=\"21bf85b7-4815-4f81-9cae-aac5a8b3f01e\" class=\"plotly-graph-div\" style=\"height:525px; width:100%;\"></div>\n",
       "            <script type=\"text/javascript\">\n",
       "                require([\"plotly\"], function(Plotly) {\n",
       "                    window.PLOTLYENV=window.PLOTLYENV || {};\n",
       "                    window.PLOTLYENV.BASE_URL='https://plot.ly';\n",
       "                    \n",
       "                if (document.getElementById(\"21bf85b7-4815-4f81-9cae-aac5a8b3f01e\")) {\n",
       "                    Plotly.newPlot(\n",
       "                        '21bf85b7-4815-4f81-9cae-aac5a8b3f01e',\n",
       "                        [{\"marker\": {\"color\": \"rgba(255, 153, 51, 0.6)\", \"line\": {\"color\": \"rgba(255, 153, 51, 1.0)\", \"width\": 1}}, \"name\": \"None\", \"orientation\": \"v\", \"text\": \"\", \"type\": \"bar\", \"x\": [\"A\", \"B\", \"C\", \"D\"], \"y\": [16.600853372452477, 6.425579284939423, 7.869892652656196, 16.09836745640363]}],\n",
       "                        {\"legend\": {\"bgcolor\": \"#F5F6F9\", \"font\": {\"color\": \"#4D5663\"}}, \"paper_bgcolor\": \"#F5F6F9\", \"plot_bgcolor\": \"#F5F6F9\", \"template\": {\"data\": {\"bar\": [{\"error_x\": {\"color\": \"#2a3f5f\"}, \"error_y\": {\"color\": \"#2a3f5f\"}, \"marker\": {\"line\": {\"color\": \"#E5ECF6\", \"width\": 0.5}}, \"type\": \"bar\"}], \"barpolar\": [{\"marker\": {\"line\": {\"color\": \"#E5ECF6\", \"width\": 0.5}}, \"type\": \"barpolar\"}], \"carpet\": [{\"aaxis\": {\"endlinecolor\": \"#2a3f5f\", \"gridcolor\": \"white\", \"linecolor\": \"white\", \"minorgridcolor\": \"white\", \"startlinecolor\": \"#2a3f5f\"}, \"baxis\": {\"endlinecolor\": \"#2a3f5f\", \"gridcolor\": \"white\", \"linecolor\": \"white\", \"minorgridcolor\": \"white\", \"startlinecolor\": \"#2a3f5f\"}, \"type\": \"carpet\"}], \"choropleth\": [{\"colorbar\": {\"outlinewidth\": 0, \"ticks\": \"\"}, \"type\": \"choropleth\"}], \"contour\": [{\"colorbar\": {\"outlinewidth\": 0, \"ticks\": \"\"}, \"colorscale\": [[0.0, \"#0d0887\"], [0.1111111111111111, \"#46039f\"], [0.2222222222222222, \"#7201a8\"], [0.3333333333333333, \"#9c179e\"], [0.4444444444444444, \"#bd3786\"], [0.5555555555555556, \"#d8576b\"], [0.6666666666666666, \"#ed7953\"], [0.7777777777777778, \"#fb9f3a\"], [0.8888888888888888, \"#fdca26\"], [1.0, \"#f0f921\"]], \"type\": \"contour\"}], \"contourcarpet\": [{\"colorbar\": {\"outlinewidth\": 0, \"ticks\": \"\"}, \"type\": \"contourcarpet\"}], \"heatmap\": [{\"colorbar\": {\"outlinewidth\": 0, \"ticks\": \"\"}, \"colorscale\": [[0.0, \"#0d0887\"], [0.1111111111111111, \"#46039f\"], [0.2222222222222222, \"#7201a8\"], [0.3333333333333333, \"#9c179e\"], [0.4444444444444444, \"#bd3786\"], [0.5555555555555556, \"#d8576b\"], [0.6666666666666666, \"#ed7953\"], [0.7777777777777778, \"#fb9f3a\"], [0.8888888888888888, \"#fdca26\"], [1.0, \"#f0f921\"]], \"type\": \"heatmap\"}], \"heatmapgl\": [{\"colorbar\": {\"outlinewidth\": 0, \"ticks\": \"\"}, \"colorscale\": [[0.0, \"#0d0887\"], [0.1111111111111111, \"#46039f\"], [0.2222222222222222, \"#7201a8\"], [0.3333333333333333, \"#9c179e\"], [0.4444444444444444, \"#bd3786\"], [0.5555555555555556, \"#d8576b\"], [0.6666666666666666, \"#ed7953\"], [0.7777777777777778, \"#fb9f3a\"], [0.8888888888888888, \"#fdca26\"], [1.0, \"#f0f921\"]], \"type\": \"heatmapgl\"}], \"histogram\": [{\"marker\": {\"colorbar\": {\"outlinewidth\": 0, \"ticks\": \"\"}}, \"type\": \"histogram\"}], \"histogram2d\": [{\"colorbar\": {\"outlinewidth\": 0, \"ticks\": \"\"}, \"colorscale\": [[0.0, \"#0d0887\"], [0.1111111111111111, \"#46039f\"], [0.2222222222222222, \"#7201a8\"], [0.3333333333333333, \"#9c179e\"], [0.4444444444444444, \"#bd3786\"], [0.5555555555555556, \"#d8576b\"], [0.6666666666666666, \"#ed7953\"], [0.7777777777777778, \"#fb9f3a\"], [0.8888888888888888, \"#fdca26\"], [1.0, \"#f0f921\"]], \"type\": \"histogram2d\"}], \"histogram2dcontour\": [{\"colorbar\": {\"outlinewidth\": 0, \"ticks\": \"\"}, \"colorscale\": [[0.0, \"#0d0887\"], [0.1111111111111111, \"#46039f\"], [0.2222222222222222, \"#7201a8\"], [0.3333333333333333, \"#9c179e\"], [0.4444444444444444, \"#bd3786\"], [0.5555555555555556, \"#d8576b\"], [0.6666666666666666, \"#ed7953\"], [0.7777777777777778, \"#fb9f3a\"], [0.8888888888888888, \"#fdca26\"], [1.0, \"#f0f921\"]], \"type\": \"histogram2dcontour\"}], \"mesh3d\": [{\"colorbar\": {\"outlinewidth\": 0, \"ticks\": \"\"}, \"type\": \"mesh3d\"}], \"parcoords\": [{\"line\": {\"colorbar\": {\"outlinewidth\": 0, \"ticks\": \"\"}}, \"type\": \"parcoords\"}], \"pie\": [{\"automargin\": true, \"type\": \"pie\"}], \"scatter\": [{\"marker\": {\"colorbar\": {\"outlinewidth\": 0, \"ticks\": \"\"}}, \"type\": \"scatter\"}], \"scatter3d\": [{\"line\": {\"colorbar\": {\"outlinewidth\": 0, \"ticks\": \"\"}}, \"marker\": {\"colorbar\": {\"outlinewidth\": 0, \"ticks\": \"\"}}, \"type\": \"scatter3d\"}], \"scattercarpet\": [{\"marker\": {\"colorbar\": {\"outlinewidth\": 0, \"ticks\": \"\"}}, \"type\": \"scattercarpet\"}], \"scattergeo\": [{\"marker\": {\"colorbar\": {\"outlinewidth\": 0, \"ticks\": \"\"}}, \"type\": \"scattergeo\"}], \"scattergl\": [{\"marker\": {\"colorbar\": {\"outlinewidth\": 0, \"ticks\": \"\"}}, \"type\": \"scattergl\"}], \"scattermapbox\": [{\"marker\": {\"colorbar\": {\"outlinewidth\": 0, \"ticks\": \"\"}}, \"type\": \"scattermapbox\"}], \"scatterpolar\": [{\"marker\": {\"colorbar\": {\"outlinewidth\": 0, \"ticks\": \"\"}}, \"type\": \"scatterpolar\"}], \"scatterpolargl\": [{\"marker\": {\"colorbar\": {\"outlinewidth\": 0, \"ticks\": \"\"}}, \"type\": \"scatterpolargl\"}], \"scatterternary\": [{\"marker\": {\"colorbar\": {\"outlinewidth\": 0, \"ticks\": \"\"}}, \"type\": \"scatterternary\"}], \"surface\": [{\"colorbar\": {\"outlinewidth\": 0, \"ticks\": \"\"}, \"colorscale\": [[0.0, \"#0d0887\"], [0.1111111111111111, \"#46039f\"], [0.2222222222222222, \"#7201a8\"], [0.3333333333333333, \"#9c179e\"], [0.4444444444444444, \"#bd3786\"], [0.5555555555555556, \"#d8576b\"], [0.6666666666666666, \"#ed7953\"], [0.7777777777777778, \"#fb9f3a\"], [0.8888888888888888, \"#fdca26\"], [1.0, \"#f0f921\"]], \"type\": \"surface\"}], \"table\": [{\"cells\": {\"fill\": {\"color\": \"#EBF0F8\"}, \"line\": {\"color\": \"white\"}}, \"header\": {\"fill\": {\"color\": \"#C8D4E3\"}, \"line\": {\"color\": \"white\"}}, \"type\": \"table\"}]}, \"layout\": {\"annotationdefaults\": {\"arrowcolor\": \"#2a3f5f\", \"arrowhead\": 0, \"arrowwidth\": 1}, \"coloraxis\": {\"colorbar\": {\"outlinewidth\": 0, \"ticks\": \"\"}}, \"colorscale\": {\"diverging\": [[0, \"#8e0152\"], [0.1, \"#c51b7d\"], [0.2, \"#de77ae\"], [0.3, \"#f1b6da\"], [0.4, \"#fde0ef\"], [0.5, \"#f7f7f7\"], [0.6, \"#e6f5d0\"], [0.7, \"#b8e186\"], [0.8, \"#7fbc41\"], [0.9, \"#4d9221\"], [1, \"#276419\"]], \"sequential\": [[0.0, \"#0d0887\"], [0.1111111111111111, \"#46039f\"], [0.2222222222222222, \"#7201a8\"], [0.3333333333333333, \"#9c179e\"], [0.4444444444444444, \"#bd3786\"], [0.5555555555555556, \"#d8576b\"], [0.6666666666666666, \"#ed7953\"], [0.7777777777777778, \"#fb9f3a\"], [0.8888888888888888, \"#fdca26\"], [1.0, \"#f0f921\"]], \"sequentialminus\": [[0.0, \"#0d0887\"], [0.1111111111111111, \"#46039f\"], [0.2222222222222222, \"#7201a8\"], [0.3333333333333333, \"#9c179e\"], [0.4444444444444444, \"#bd3786\"], [0.5555555555555556, \"#d8576b\"], [0.6666666666666666, \"#ed7953\"], [0.7777777777777778, \"#fb9f3a\"], [0.8888888888888888, \"#fdca26\"], [1.0, \"#f0f921\"]]}, \"colorway\": [\"#636efa\", \"#EF553B\", \"#00cc96\", \"#ab63fa\", \"#FFA15A\", \"#19d3f3\", \"#FF6692\", \"#B6E880\", \"#FF97FF\", \"#FECB52\"], \"font\": {\"color\": \"#2a3f5f\"}, \"geo\": {\"bgcolor\": \"white\", \"lakecolor\": \"white\", \"landcolor\": \"#E5ECF6\", \"showlakes\": true, \"showland\": true, \"subunitcolor\": \"white\"}, \"hoverlabel\": {\"align\": \"left\"}, \"hovermode\": \"closest\", \"mapbox\": {\"style\": \"light\"}, \"paper_bgcolor\": \"white\", \"plot_bgcolor\": \"#E5ECF6\", \"polar\": {\"angularaxis\": {\"gridcolor\": \"white\", \"linecolor\": \"white\", \"ticks\": \"\"}, \"bgcolor\": \"#E5ECF6\", \"radialaxis\": {\"gridcolor\": \"white\", \"linecolor\": \"white\", \"ticks\": \"\"}}, \"scene\": {\"xaxis\": {\"backgroundcolor\": \"#E5ECF6\", \"gridcolor\": \"white\", \"gridwidth\": 2, \"linecolor\": \"white\", \"showbackground\": true, \"ticks\": \"\", \"zerolinecolor\": \"white\"}, \"yaxis\": {\"backgroundcolor\": \"#E5ECF6\", \"gridcolor\": \"white\", \"gridwidth\": 2, \"linecolor\": \"white\", \"showbackground\": true, \"ticks\": \"\", \"zerolinecolor\": \"white\"}, \"zaxis\": {\"backgroundcolor\": \"#E5ECF6\", \"gridcolor\": \"white\", \"gridwidth\": 2, \"linecolor\": \"white\", \"showbackground\": true, \"ticks\": \"\", \"zerolinecolor\": \"white\"}}, \"shapedefaults\": {\"line\": {\"color\": \"#2a3f5f\"}}, \"ternary\": {\"aaxis\": {\"gridcolor\": \"white\", \"linecolor\": \"white\", \"ticks\": \"\"}, \"baxis\": {\"gridcolor\": \"white\", \"linecolor\": \"white\", \"ticks\": \"\"}, \"bgcolor\": \"#E5ECF6\", \"caxis\": {\"gridcolor\": \"white\", \"linecolor\": \"white\", \"ticks\": \"\"}}, \"title\": {\"x\": 0.05}, \"xaxis\": {\"automargin\": true, \"gridcolor\": \"white\", \"linecolor\": \"white\", \"ticks\": \"\", \"title\": {\"standoff\": 15}, \"zerolinecolor\": \"white\", \"zerolinewidth\": 2}, \"yaxis\": {\"automargin\": true, \"gridcolor\": \"white\", \"linecolor\": \"white\", \"ticks\": \"\", \"title\": {\"standoff\": 15}, \"zerolinecolor\": \"white\", \"zerolinewidth\": 2}}}, \"title\": {\"font\": {\"color\": \"#4D5663\"}}, \"xaxis\": {\"gridcolor\": \"#E1E5ED\", \"showgrid\": true, \"tickfont\": {\"color\": \"#4D5663\"}, \"title\": {\"font\": {\"color\": \"#4D5663\"}, \"text\": \"\"}, \"zerolinecolor\": \"#E1E5ED\"}, \"yaxis\": {\"gridcolor\": \"#E1E5ED\", \"showgrid\": true, \"tickfont\": {\"color\": \"#4D5663\"}, \"title\": {\"font\": {\"color\": \"#4D5663\"}, \"text\": \"\"}, \"zerolinecolor\": \"#E1E5ED\"}},\n",
       "                        {\"showLink\": true, \"linkText\": \"Export to plot.ly\", \"plotlyServerURL\": \"https://plot.ly\", \"responsive\": true}\n",
       "                    ).then(function(){\n",
       "                            \n",
       "var gd = document.getElementById('21bf85b7-4815-4f81-9cae-aac5a8b3f01e');\n",
       "var x = new MutationObserver(function (mutations, observer) {{\n",
       "        var display = window.getComputedStyle(gd).display;\n",
       "        if (!display || display === 'none') {{\n",
       "            console.log([gd, 'removed!']);\n",
       "            Plotly.purge(gd);\n",
       "            observer.disconnect();\n",
       "        }}\n",
       "}});\n",
       "\n",
       "// Listen for the removal of the full notebook cells\n",
       "var notebookContainer = gd.closest('#notebook-container');\n",
       "if (notebookContainer) {{\n",
       "    x.observe(notebookContainer, {childList: true});\n",
       "}}\n",
       "\n",
       "// Listen for the clearing of the current output cell\n",
       "var outputEl = gd.closest('.output');\n",
       "if (outputEl) {{\n",
       "    x.observe(outputEl, {childList: true});\n",
       "}}\n",
       "\n",
       "                        })\n",
       "                };\n",
       "                });\n",
       "            </script>\n",
       "        </div>"
      ]
     },
     "metadata": {},
     "output_type": "display_data"
    }
   ],
   "source": [
    "df.sum().iplot(kind='bar')"
   ]
  },
  {
   "cell_type": "code",
   "execution_count": 24,
   "metadata": {},
   "outputs": [
    {
     "data": {
      "application/vnd.plotly.v1+json": {
       "config": {
        "linkText": "Export to plot.ly",
        "plotlyServerURL": "https://plot.ly",
        "showLink": true
       },
       "data": [
        {
         "boxpoints": false,
         "line": {
          "width": 1.3
         },
         "marker": {
          "color": "rgba(255, 153, 51, 1.0)"
         },
         "name": "A",
         "orientation": "v",
         "type": "box",
         "y": [
          0.7921346859019157,
          1.946825695054702,
          1.4163203147173689,
          0.1161272154136565,
          0.7557025036279604,
          -0.7350872131145143,
          1.6071158265686813,
          -0.6369620656059007,
          0.8497778207394941,
          -0.33749859130626686,
          1.2280973838411833,
          0.036716134725273894,
          -0.3037665937695192,
          0.8239925184967525,
          -1.3538724565017246,
          -0.45194949085156416,
          -1.913074905602045,
          0.17762581698740607,
          -0.7004150163916316,
          0.03188946476696092,
          -0.7719163151332366,
          0.2905161338207252,
          1.4934765893559856,
          1.1517359541867793,
          1.4005117647742198,
          -0.6275397842825213,
          0.8926363946884873,
          -1.0677207378979978,
          -0.19471466043106184,
          0.1529956333359573,
          -0.8218180765611363,
          -0.8503299315540951,
          2.746705232928189,
          0.8121025992904255,
          2.1918060723428723,
          0.1828701452483579,
          0.4455028799628107,
          -0.5193802210214439,
          1.104547831058544,
          0.6594367637087866,
          -1.313520282034992,
          1.190998233995262,
          -0.49647494111496654,
          0.06890857086669673,
          0.8211669474128339,
          -0.6181956721468078,
          -0.31902044193029055,
          -0.19023723733723844,
          0.6886533928938934,
          -0.9332439063027611,
          -0.17051026893912857,
          0.051544294241111815,
          -0.4159263649641647,
          0.8566264197567114,
          0.29402607091862265,
          -1.099818139175731,
          -1.1314940858303717,
          0.9281480352753586,
          -0.13439689942833424,
          0.045604618865690276,
          -0.9979314517757257,
          -0.07269042102427148,
          -0.5356990006428285,
          -1.1990026834526482,
          0.1976306802793206,
          -0.6760867737177405,
          -0.4370643149105769,
          1.7123117467895295,
          1.8799972780063177,
          -0.07036592754360131,
          1.903342736762849,
          -0.7909243457034956,
          -0.21648795712901556,
          -0.18759480763157985,
          -0.17191582545359513,
          1.2163634807475439,
          1.1517611276683175,
          -0.7984270716400544,
          0.7817741035366015,
          2.2456629185031023,
          1.389344614456707,
          0.5726770872579274,
          -0.05996906126751653,
          0.3420213779390641,
          -0.2379680007605113,
          0.3649105284334666,
          0.263804800291932,
          0.3277197543628306,
          -0.2530061140131053,
          1.1758363314661346,
          -0.08852367242694675,
          -0.22481209189451987,
          0.15802992649044043,
          -1.5061386445028795,
          0.6729920524858238,
          -0.3211746441519791,
          1.018943249519832,
          -1.7824913063580343,
          0.891561971167367,
          -1.1815199382522332
         ]
        },
        {
         "boxpoints": false,
         "line": {
          "width": 1.3
         },
         "marker": {
          "color": "rgba(55, 128, 191, 1.0)"
         },
         "name": "B",
         "orientation": "v",
         "type": "box",
         "y": [
          -0.755353873179904,
          -0.4256767679096191,
          0.8157780024246971,
          -2.2541977161527247,
          -0.7233269440454809,
          -0.3786556373601695,
          -0.4195600810812267,
          -1.0793100455317586,
          0.8220363590786557,
          0.48768333438156214,
          1.3906112268818829,
          -1.660562236233282,
          1.2811839261911535,
          -0.8915535733622445,
          -0.42391847699293117,
          0.1113894103911496,
          1.141630830605558,
          -1.2483726382556115,
          0.8449777733211241,
          -0.5021909158980505,
          1.8137801708054053,
          -1.0325995855976582,
          1.2385329606445827,
          0.2742951614108968,
          -0.04380311529890623,
          -0.3111212097926691,
          0.21211975876158917,
          1.3149102153503898,
          2.4643229801701025,
          -0.619603592493676,
          -0.747113629066319,
          0.5431806643475502,
          -0.2734201992074562,
          -1.3360418266526963,
          0.8090919933441999,
          -0.031279339706645655,
          -0.037058879582681205,
          1.0157389257755776,
          -0.48043568443838675,
          0.31485240310950013,
          -0.7130777817802696,
          0.5197397848035694,
          -1.418160664078292,
          1.1033388571762677,
          0.9979752730335754,
          2.83369159311136,
          1.9073160281621018,
          0.38186024604961033,
          -1.1806003432890024,
          -0.5143575584503659,
          -0.3957816536562888,
          -0.5268066455809626,
          -0.15014706606849018,
          0.13173277087200919,
          1.93981894214876,
          -0.3902593736360637,
          1.6358481423378353,
          0.8115150249350609,
          -0.8555629872017407,
          0.18761674013119092,
          -0.7905156503572589,
          -0.4615672762918858,
          0.34482776614752947,
          0.19434981423092712,
          0.8244631807844324,
          0.1701337758593794,
          1.8909263075644804,
          -0.6636415622048087,
          0.6314810168714927,
          0.36476490047848975,
          0.47866952971355303,
          1.2887293734556127,
          -0.266023327476621,
          -0.1502322605674205,
          -1.1503150530123967,
          0.08230965925441752,
          -0.562349929195335,
          -1.9553643072289255,
          0.5447662913675482,
          0.8458391678364608,
          -0.3923223744037829,
          -0.4830673950348278,
          0.9697117616204505,
          -0.6558959572087942,
          -0.1786710138083607,
          0.4673075927125077,
          0.5895188619517944,
          -1.644346405559177,
          1.018096940218595,
          0.3002176019003145,
          -0.26036541607405717,
          -0.3552758805482968,
          1.138262275081289,
          0.16586658168269822,
          -1.5356808881214654,
          -2.525725571839549,
          1.3261952687937644,
          0.3440020565671146,
          -1.024023927456685,
          -0.026135700939124245
         ]
        },
        {
         "boxpoints": false,
         "line": {
          "width": 1.3
         },
         "marker": {
          "color": "rgba(50, 171, 96, 1.0)"
         },
         "name": "C",
         "orientation": "v",
         "type": "box",
         "y": [
          1.3625069996408685,
          0.9144952248887764,
          -0.04379371033273974,
          0.09926340152837985,
          1.2439724798159724,
          1.1541745177710157,
          0.8903331224676148,
          -0.266292290561748,
          -0.04175051493955355,
          1.0301172806259171,
          -0.5928166169608095,
          -1.7103241908806828,
          1.5518485422560453,
          -0.8470507769567207,
          1.2270784178865735,
          0.5965754556850948,
          -0.4758371563683018,
          0.872427010018932,
          -1.792956333172518,
          -0.38186421963418965,
          -2.1181936570248463,
          0.04830933305814722,
          -0.2377517243843703,
          1.180649111475662,
          0.750538260223122,
          0.9987999439705197,
          -0.3746257593686016,
          1.67463871096551,
          -0.7603667656154767,
          -0.07638038847929986,
          0.4166224532956056,
          -0.6113448167098882,
          -0.5619164790482407,
          -0.5299474677729248,
          -0.6454235969449024,
          -1.5844963110045438,
          1.7958848004195698,
          0.05725658047593841,
          0.2721754274360363,
          1.2775937537343836,
          -1.090054521555069,
          -0.42179786795174207,
          1.2423180080467975,
          -0.010861564683631282,
          0.15506944960313332,
          -0.17041242917319238,
          -0.40178919529776935,
          0.31202362583184595,
          0.9130877026457608,
          0.6979280217528265,
          -0.3744751044346249,
          -0.3356760147211475,
          0.48003599789582946,
          0.519507398890785,
          -1.3585467086201315,
          -1.3681957134473788,
          0.5749568613249194,
          0.6692379140807965,
          1.377450523387284,
          1.9966917262315202,
          0.5426288454362674,
          0.8272004758045935,
          -0.4366866732935288,
          -0.30638253901940254,
          1.1722894324864024,
          0.6870803694725929,
          -1.5676196674203213,
          1.4476838161089778,
          -1.68998241695538,
          -0.6374153838701762,
          -0.4442773346777854,
          0.34665700385127446,
          -0.9714136879825543,
          -0.306819209481289,
          -0.9333384010003253,
          -0.15705929393017123,
          -0.8621365632898269,
          1.8982151081219376,
          -1.9557762436737225,
          -0.45832500451598934,
          0.9914760514765695,
          0.320091570765724,
          0.8031181822203135,
          -0.3923864355104031,
          -0.45168071389999304,
          0.22009011992701982,
          0.5955333007411939,
          -0.18003516240607267,
          -1.0297839283237813,
          -0.35674347150142727,
          0.5010231233276244,
          3.0244816886034616,
          -1.4518354545370757,
          -0.7238706064189212,
          -1.9546467592720356,
          1.6750188451554895,
          0.9591556681989486,
          -0.5368549291145766,
          0.8130714085694476,
          -0.31847863880302585
         ]
        },
        {
         "boxpoints": false,
         "line": {
          "width": 1.3
         },
         "marker": {
          "color": "rgba(128, 0, 128, 1.0)"
         },
         "name": "D",
         "orientation": "v",
         "type": "box",
         "y": [
          0.1678688456852729,
          -0.7660755490375207,
          -0.24033995622475704,
          -0.1682834967212138,
          -0.7071182614203896,
          -0.7681995890374017,
          -2.033746607587051,
          -0.13645665960025008,
          0.8853957116965118,
          0.7684011089760281,
          1.3331923437966315,
          -0.6313108008149433,
          -0.1990810753545615,
          -0.9362029443403491,
          -0.48602397477900594,
          0.6943936691591144,
          -1.3138802802680032,
          0.2392164800781996,
          1.0907698280119023,
          1.8965747576752692,
          0.442885360234719,
          -0.6864410326378556,
          -0.8427733927849178,
          1.879280752642242,
          -0.8766615576635849,
          -0.7968093327132704,
          0.48471521549216495,
          0.6680262768318319,
          0.928831286436281,
          -0.3097847577236534,
          0.11246450934781085,
          -1.3215886940461292,
          0.08853158506239107,
          1.1598699817635334,
          1.466549647872314,
          -1.1640330918656165,
          -1.61767356039815,
          -1.609374924580595,
          -0.3678068225477947,
          0.6721842330036858,
          -0.5394995077186759,
          -0.6191387319020631,
          0.23897827009090414,
          -0.4560648370029805,
          -0.5130532625487461,
          0.04869945067598958,
          0.7945450847747928,
          0.9463268407815968,
          -0.056612104084040674,
          -0.8617504834866899,
          1.4845618102402878,
          3.145860220342536,
          -1.9041065545592328,
          1.5350121393448692,
          0.6627933498060756,
          0.09675705889637655,
          -0.8923072027447188,
          -0.5525401182438261,
          0.8290980738948833,
          1.470022690133724,
          -0.8860840655185193,
          -0.09681710155206424,
          0.30865486290318156,
          0.21943714014526172,
          0.11341629867977683,
          -1.2266711866065867,
          0.22103297889399115,
          0.06725162810266645,
          0.5580915971155165,
          1.0105818532027613,
          -0.15753228208829775,
          0.3938749268228596,
          1.08155031642873,
          -0.04125426043324729,
          -0.4169155318556582,
          1.2679845140404256,
          0.08705806488006085,
          0.21120171595670129,
          0.15821498663748168,
          -0.5356086125675361,
          3.251672425388064,
          1.4102313844205876,
          0.24108712582044428,
          -0.5686913122244588,
          0.7059547425843715,
          -0.29410301722008786,
          -0.537492381963061,
          -0.4583903711628853,
          0.31492293193018556,
          0.5599066087163566,
          1.0843010187485178,
          0.020497693627848947,
          0.5921960317117614,
          -0.7774516166862487,
          1.050757571631062,
          2.6606214337424148,
          0.4164070043407307,
          1.058442534293066,
          0.7592181641268156,
          0.41374422308068587
         ]
        }
       ],
       "layout": {
        "legend": {
         "bgcolor": "#F5F6F9",
         "font": {
          "color": "#4D5663"
         }
        },
        "paper_bgcolor": "#F5F6F9",
        "plot_bgcolor": "#F5F6F9",
        "template": {
         "data": {
          "bar": [
           {
            "error_x": {
             "color": "#2a3f5f"
            },
            "error_y": {
             "color": "#2a3f5f"
            },
            "marker": {
             "line": {
              "color": "#E5ECF6",
              "width": 0.5
             }
            },
            "type": "bar"
           }
          ],
          "barpolar": [
           {
            "marker": {
             "line": {
              "color": "#E5ECF6",
              "width": 0.5
             }
            },
            "type": "barpolar"
           }
          ],
          "carpet": [
           {
            "aaxis": {
             "endlinecolor": "#2a3f5f",
             "gridcolor": "white",
             "linecolor": "white",
             "minorgridcolor": "white",
             "startlinecolor": "#2a3f5f"
            },
            "baxis": {
             "endlinecolor": "#2a3f5f",
             "gridcolor": "white",
             "linecolor": "white",
             "minorgridcolor": "white",
             "startlinecolor": "#2a3f5f"
            },
            "type": "carpet"
           }
          ],
          "choropleth": [
           {
            "colorbar": {
             "outlinewidth": 0,
             "ticks": ""
            },
            "type": "choropleth"
           }
          ],
          "contour": [
           {
            "colorbar": {
             "outlinewidth": 0,
             "ticks": ""
            },
            "colorscale": [
             [
              0,
              "#0d0887"
             ],
             [
              0.1111111111111111,
              "#46039f"
             ],
             [
              0.2222222222222222,
              "#7201a8"
             ],
             [
              0.3333333333333333,
              "#9c179e"
             ],
             [
              0.4444444444444444,
              "#bd3786"
             ],
             [
              0.5555555555555556,
              "#d8576b"
             ],
             [
              0.6666666666666666,
              "#ed7953"
             ],
             [
              0.7777777777777778,
              "#fb9f3a"
             ],
             [
              0.8888888888888888,
              "#fdca26"
             ],
             [
              1,
              "#f0f921"
             ]
            ],
            "type": "contour"
           }
          ],
          "contourcarpet": [
           {
            "colorbar": {
             "outlinewidth": 0,
             "ticks": ""
            },
            "type": "contourcarpet"
           }
          ],
          "heatmap": [
           {
            "colorbar": {
             "outlinewidth": 0,
             "ticks": ""
            },
            "colorscale": [
             [
              0,
              "#0d0887"
             ],
             [
              0.1111111111111111,
              "#46039f"
             ],
             [
              0.2222222222222222,
              "#7201a8"
             ],
             [
              0.3333333333333333,
              "#9c179e"
             ],
             [
              0.4444444444444444,
              "#bd3786"
             ],
             [
              0.5555555555555556,
              "#d8576b"
             ],
             [
              0.6666666666666666,
              "#ed7953"
             ],
             [
              0.7777777777777778,
              "#fb9f3a"
             ],
             [
              0.8888888888888888,
              "#fdca26"
             ],
             [
              1,
              "#f0f921"
             ]
            ],
            "type": "heatmap"
           }
          ],
          "heatmapgl": [
           {
            "colorbar": {
             "outlinewidth": 0,
             "ticks": ""
            },
            "colorscale": [
             [
              0,
              "#0d0887"
             ],
             [
              0.1111111111111111,
              "#46039f"
             ],
             [
              0.2222222222222222,
              "#7201a8"
             ],
             [
              0.3333333333333333,
              "#9c179e"
             ],
             [
              0.4444444444444444,
              "#bd3786"
             ],
             [
              0.5555555555555556,
              "#d8576b"
             ],
             [
              0.6666666666666666,
              "#ed7953"
             ],
             [
              0.7777777777777778,
              "#fb9f3a"
             ],
             [
              0.8888888888888888,
              "#fdca26"
             ],
             [
              1,
              "#f0f921"
             ]
            ],
            "type": "heatmapgl"
           }
          ],
          "histogram": [
           {
            "marker": {
             "colorbar": {
              "outlinewidth": 0,
              "ticks": ""
             }
            },
            "type": "histogram"
           }
          ],
          "histogram2d": [
           {
            "colorbar": {
             "outlinewidth": 0,
             "ticks": ""
            },
            "colorscale": [
             [
              0,
              "#0d0887"
             ],
             [
              0.1111111111111111,
              "#46039f"
             ],
             [
              0.2222222222222222,
              "#7201a8"
             ],
             [
              0.3333333333333333,
              "#9c179e"
             ],
             [
              0.4444444444444444,
              "#bd3786"
             ],
             [
              0.5555555555555556,
              "#d8576b"
             ],
             [
              0.6666666666666666,
              "#ed7953"
             ],
             [
              0.7777777777777778,
              "#fb9f3a"
             ],
             [
              0.8888888888888888,
              "#fdca26"
             ],
             [
              1,
              "#f0f921"
             ]
            ],
            "type": "histogram2d"
           }
          ],
          "histogram2dcontour": [
           {
            "colorbar": {
             "outlinewidth": 0,
             "ticks": ""
            },
            "colorscale": [
             [
              0,
              "#0d0887"
             ],
             [
              0.1111111111111111,
              "#46039f"
             ],
             [
              0.2222222222222222,
              "#7201a8"
             ],
             [
              0.3333333333333333,
              "#9c179e"
             ],
             [
              0.4444444444444444,
              "#bd3786"
             ],
             [
              0.5555555555555556,
              "#d8576b"
             ],
             [
              0.6666666666666666,
              "#ed7953"
             ],
             [
              0.7777777777777778,
              "#fb9f3a"
             ],
             [
              0.8888888888888888,
              "#fdca26"
             ],
             [
              1,
              "#f0f921"
             ]
            ],
            "type": "histogram2dcontour"
           }
          ],
          "mesh3d": [
           {
            "colorbar": {
             "outlinewidth": 0,
             "ticks": ""
            },
            "type": "mesh3d"
           }
          ],
          "parcoords": [
           {
            "line": {
             "colorbar": {
              "outlinewidth": 0,
              "ticks": ""
             }
            },
            "type": "parcoords"
           }
          ],
          "pie": [
           {
            "automargin": true,
            "type": "pie"
           }
          ],
          "scatter": [
           {
            "marker": {
             "colorbar": {
              "outlinewidth": 0,
              "ticks": ""
             }
            },
            "type": "scatter"
           }
          ],
          "scatter3d": [
           {
            "line": {
             "colorbar": {
              "outlinewidth": 0,
              "ticks": ""
             }
            },
            "marker": {
             "colorbar": {
              "outlinewidth": 0,
              "ticks": ""
             }
            },
            "type": "scatter3d"
           }
          ],
          "scattercarpet": [
           {
            "marker": {
             "colorbar": {
              "outlinewidth": 0,
              "ticks": ""
             }
            },
            "type": "scattercarpet"
           }
          ],
          "scattergeo": [
           {
            "marker": {
             "colorbar": {
              "outlinewidth": 0,
              "ticks": ""
             }
            },
            "type": "scattergeo"
           }
          ],
          "scattergl": [
           {
            "marker": {
             "colorbar": {
              "outlinewidth": 0,
              "ticks": ""
             }
            },
            "type": "scattergl"
           }
          ],
          "scattermapbox": [
           {
            "marker": {
             "colorbar": {
              "outlinewidth": 0,
              "ticks": ""
             }
            },
            "type": "scattermapbox"
           }
          ],
          "scatterpolar": [
           {
            "marker": {
             "colorbar": {
              "outlinewidth": 0,
              "ticks": ""
             }
            },
            "type": "scatterpolar"
           }
          ],
          "scatterpolargl": [
           {
            "marker": {
             "colorbar": {
              "outlinewidth": 0,
              "ticks": ""
             }
            },
            "type": "scatterpolargl"
           }
          ],
          "scatterternary": [
           {
            "marker": {
             "colorbar": {
              "outlinewidth": 0,
              "ticks": ""
             }
            },
            "type": "scatterternary"
           }
          ],
          "surface": [
           {
            "colorbar": {
             "outlinewidth": 0,
             "ticks": ""
            },
            "colorscale": [
             [
              0,
              "#0d0887"
             ],
             [
              0.1111111111111111,
              "#46039f"
             ],
             [
              0.2222222222222222,
              "#7201a8"
             ],
             [
              0.3333333333333333,
              "#9c179e"
             ],
             [
              0.4444444444444444,
              "#bd3786"
             ],
             [
              0.5555555555555556,
              "#d8576b"
             ],
             [
              0.6666666666666666,
              "#ed7953"
             ],
             [
              0.7777777777777778,
              "#fb9f3a"
             ],
             [
              0.8888888888888888,
              "#fdca26"
             ],
             [
              1,
              "#f0f921"
             ]
            ],
            "type": "surface"
           }
          ],
          "table": [
           {
            "cells": {
             "fill": {
              "color": "#EBF0F8"
             },
             "line": {
              "color": "white"
             }
            },
            "header": {
             "fill": {
              "color": "#C8D4E3"
             },
             "line": {
              "color": "white"
             }
            },
            "type": "table"
           }
          ]
         },
         "layout": {
          "annotationdefaults": {
           "arrowcolor": "#2a3f5f",
           "arrowhead": 0,
           "arrowwidth": 1
          },
          "coloraxis": {
           "colorbar": {
            "outlinewidth": 0,
            "ticks": ""
           }
          },
          "colorscale": {
           "diverging": [
            [
             0,
             "#8e0152"
            ],
            [
             0.1,
             "#c51b7d"
            ],
            [
             0.2,
             "#de77ae"
            ],
            [
             0.3,
             "#f1b6da"
            ],
            [
             0.4,
             "#fde0ef"
            ],
            [
             0.5,
             "#f7f7f7"
            ],
            [
             0.6,
             "#e6f5d0"
            ],
            [
             0.7,
             "#b8e186"
            ],
            [
             0.8,
             "#7fbc41"
            ],
            [
             0.9,
             "#4d9221"
            ],
            [
             1,
             "#276419"
            ]
           ],
           "sequential": [
            [
             0,
             "#0d0887"
            ],
            [
             0.1111111111111111,
             "#46039f"
            ],
            [
             0.2222222222222222,
             "#7201a8"
            ],
            [
             0.3333333333333333,
             "#9c179e"
            ],
            [
             0.4444444444444444,
             "#bd3786"
            ],
            [
             0.5555555555555556,
             "#d8576b"
            ],
            [
             0.6666666666666666,
             "#ed7953"
            ],
            [
             0.7777777777777778,
             "#fb9f3a"
            ],
            [
             0.8888888888888888,
             "#fdca26"
            ],
            [
             1,
             "#f0f921"
            ]
           ],
           "sequentialminus": [
            [
             0,
             "#0d0887"
            ],
            [
             0.1111111111111111,
             "#46039f"
            ],
            [
             0.2222222222222222,
             "#7201a8"
            ],
            [
             0.3333333333333333,
             "#9c179e"
            ],
            [
             0.4444444444444444,
             "#bd3786"
            ],
            [
             0.5555555555555556,
             "#d8576b"
            ],
            [
             0.6666666666666666,
             "#ed7953"
            ],
            [
             0.7777777777777778,
             "#fb9f3a"
            ],
            [
             0.8888888888888888,
             "#fdca26"
            ],
            [
             1,
             "#f0f921"
            ]
           ]
          },
          "colorway": [
           "#636efa",
           "#EF553B",
           "#00cc96",
           "#ab63fa",
           "#FFA15A",
           "#19d3f3",
           "#FF6692",
           "#B6E880",
           "#FF97FF",
           "#FECB52"
          ],
          "font": {
           "color": "#2a3f5f"
          },
          "geo": {
           "bgcolor": "white",
           "lakecolor": "white",
           "landcolor": "#E5ECF6",
           "showlakes": true,
           "showland": true,
           "subunitcolor": "white"
          },
          "hoverlabel": {
           "align": "left"
          },
          "hovermode": "closest",
          "mapbox": {
           "style": "light"
          },
          "paper_bgcolor": "white",
          "plot_bgcolor": "#E5ECF6",
          "polar": {
           "angularaxis": {
            "gridcolor": "white",
            "linecolor": "white",
            "ticks": ""
           },
           "bgcolor": "#E5ECF6",
           "radialaxis": {
            "gridcolor": "white",
            "linecolor": "white",
            "ticks": ""
           }
          },
          "scene": {
           "xaxis": {
            "backgroundcolor": "#E5ECF6",
            "gridcolor": "white",
            "gridwidth": 2,
            "linecolor": "white",
            "showbackground": true,
            "ticks": "",
            "zerolinecolor": "white"
           },
           "yaxis": {
            "backgroundcolor": "#E5ECF6",
            "gridcolor": "white",
            "gridwidth": 2,
            "linecolor": "white",
            "showbackground": true,
            "ticks": "",
            "zerolinecolor": "white"
           },
           "zaxis": {
            "backgroundcolor": "#E5ECF6",
            "gridcolor": "white",
            "gridwidth": 2,
            "linecolor": "white",
            "showbackground": true,
            "ticks": "",
            "zerolinecolor": "white"
           }
          },
          "shapedefaults": {
           "line": {
            "color": "#2a3f5f"
           }
          },
          "ternary": {
           "aaxis": {
            "gridcolor": "white",
            "linecolor": "white",
            "ticks": ""
           },
           "baxis": {
            "gridcolor": "white",
            "linecolor": "white",
            "ticks": ""
           },
           "bgcolor": "#E5ECF6",
           "caxis": {
            "gridcolor": "white",
            "linecolor": "white",
            "ticks": ""
           }
          },
          "title": {
           "x": 0.05
          },
          "xaxis": {
           "automargin": true,
           "gridcolor": "white",
           "linecolor": "white",
           "ticks": "",
           "title": {
            "standoff": 15
           },
           "zerolinecolor": "white",
           "zerolinewidth": 2
          },
          "yaxis": {
           "automargin": true,
           "gridcolor": "white",
           "linecolor": "white",
           "ticks": "",
           "title": {
            "standoff": 15
           },
           "zerolinecolor": "white",
           "zerolinewidth": 2
          }
         }
        },
        "title": {
         "font": {
          "color": "#4D5663"
         }
        },
        "xaxis": {
         "gridcolor": "#E1E5ED",
         "showgrid": true,
         "tickfont": {
          "color": "#4D5663"
         },
         "title": {
          "font": {
           "color": "#4D5663"
          },
          "text": ""
         },
         "zerolinecolor": "#E1E5ED"
        },
        "yaxis": {
         "gridcolor": "#E1E5ED",
         "showgrid": true,
         "tickfont": {
          "color": "#4D5663"
         },
         "title": {
          "font": {
           "color": "#4D5663"
          },
          "text": ""
         },
         "zerolinecolor": "#E1E5ED"
        }
       }
      },
      "text/html": [
       "<div>\n",
       "        \n",
       "        \n",
       "            <div id=\"7084497b-d01b-4f56-bda6-631d3c759edc\" class=\"plotly-graph-div\" style=\"height:525px; width:100%;\"></div>\n",
       "            <script type=\"text/javascript\">\n",
       "                require([\"plotly\"], function(Plotly) {\n",
       "                    window.PLOTLYENV=window.PLOTLYENV || {};\n",
       "                    window.PLOTLYENV.BASE_URL='https://plot.ly';\n",
       "                    \n",
       "                if (document.getElementById(\"7084497b-d01b-4f56-bda6-631d3c759edc\")) {\n",
       "                    Plotly.newPlot(\n",
       "                        '7084497b-d01b-4f56-bda6-631d3c759edc',\n",
       "                        [{\"boxpoints\": false, \"line\": {\"width\": 1.3}, \"marker\": {\"color\": \"rgba(255, 153, 51, 1.0)\"}, \"name\": \"A\", \"orientation\": \"v\", \"type\": \"box\", \"y\": [0.7921346859019157, 1.946825695054702, 1.4163203147173689, 0.1161272154136565, 0.7557025036279604, -0.7350872131145143, 1.6071158265686813, -0.6369620656059007, 0.8497778207394941, -0.33749859130626686, 1.2280973838411833, 0.036716134725273894, -0.3037665937695192, 0.8239925184967525, -1.3538724565017246, -0.45194949085156416, -1.913074905602045, 0.17762581698740607, -0.7004150163916316, 0.03188946476696092, -0.7719163151332366, 0.2905161338207252, 1.4934765893559856, 1.1517359541867793, 1.4005117647742198, -0.6275397842825213, 0.8926363946884873, -1.0677207378979978, -0.19471466043106184, 0.1529956333359573, -0.8218180765611363, -0.8503299315540951, 2.746705232928189, 0.8121025992904255, 2.1918060723428723, 0.1828701452483579, 0.4455028799628107, -0.5193802210214439, 1.104547831058544, 0.6594367637087866, -1.313520282034992, 1.190998233995262, -0.49647494111496654, 0.06890857086669673, 0.8211669474128339, -0.6181956721468078, -0.31902044193029055, -0.19023723733723844, 0.6886533928938934, -0.9332439063027611, -0.17051026893912857, 0.051544294241111815, -0.4159263649641647, 0.8566264197567114, 0.29402607091862265, -1.099818139175731, -1.1314940858303717, 0.9281480352753586, -0.13439689942833424, 0.045604618865690276, -0.9979314517757257, -0.07269042102427148, -0.5356990006428285, -1.1990026834526482, 0.1976306802793206, -0.6760867737177405, -0.4370643149105769, 1.7123117467895295, 1.8799972780063177, -0.07036592754360131, 1.903342736762849, -0.7909243457034956, -0.21648795712901556, -0.18759480763157985, -0.17191582545359513, 1.2163634807475439, 1.1517611276683175, -0.7984270716400544, 0.7817741035366015, 2.2456629185031023, 1.389344614456707, 0.5726770872579274, -0.05996906126751653, 0.3420213779390641, -0.2379680007605113, 0.3649105284334666, 0.263804800291932, 0.3277197543628306, -0.2530061140131053, 1.1758363314661346, -0.08852367242694675, -0.22481209189451987, 0.15802992649044043, -1.5061386445028795, 0.6729920524858238, -0.3211746441519791, 1.018943249519832, -1.7824913063580343, 0.891561971167367, -1.1815199382522332]}, {\"boxpoints\": false, \"line\": {\"width\": 1.3}, \"marker\": {\"color\": \"rgba(55, 128, 191, 1.0)\"}, \"name\": \"B\", \"orientation\": \"v\", \"type\": \"box\", \"y\": [-0.755353873179904, -0.4256767679096191, 0.8157780024246971, -2.2541977161527247, -0.7233269440454809, -0.3786556373601695, -0.4195600810812267, -1.0793100455317586, 0.8220363590786557, 0.48768333438156214, 1.3906112268818829, -1.660562236233282, 1.2811839261911535, -0.8915535733622445, -0.42391847699293117, 0.1113894103911496, 1.141630830605558, -1.2483726382556115, 0.8449777733211241, -0.5021909158980505, 1.8137801708054053, -1.0325995855976582, 1.2385329606445827, 0.2742951614108968, -0.04380311529890623, -0.3111212097926691, 0.21211975876158917, 1.3149102153503898, 2.4643229801701025, -0.619603592493676, -0.747113629066319, 0.5431806643475502, -0.2734201992074562, -1.3360418266526963, 0.8090919933441999, -0.031279339706645655, -0.037058879582681205, 1.0157389257755776, -0.48043568443838675, 0.31485240310950013, -0.7130777817802696, 0.5197397848035694, -1.418160664078292, 1.1033388571762677, 0.9979752730335754, 2.83369159311136, 1.9073160281621018, 0.38186024604961033, -1.1806003432890024, -0.5143575584503659, -0.3957816536562888, -0.5268066455809626, -0.15014706606849018, 0.13173277087200919, 1.93981894214876, -0.3902593736360637, 1.6358481423378353, 0.8115150249350609, -0.8555629872017407, 0.18761674013119092, -0.7905156503572589, -0.4615672762918858, 0.34482776614752947, 0.19434981423092712, 0.8244631807844324, 0.1701337758593794, 1.8909263075644804, -0.6636415622048087, 0.6314810168714927, 0.36476490047848975, 0.47866952971355303, 1.2887293734556127, -0.266023327476621, -0.1502322605674205, -1.1503150530123967, 0.08230965925441752, -0.562349929195335, -1.9553643072289255, 0.5447662913675482, 0.8458391678364608, -0.3923223744037829, -0.4830673950348278, 0.9697117616204505, -0.6558959572087942, -0.1786710138083607, 0.4673075927125077, 0.5895188619517944, -1.644346405559177, 1.018096940218595, 0.3002176019003145, -0.26036541607405717, -0.3552758805482968, 1.138262275081289, 0.16586658168269822, -1.5356808881214654, -2.525725571839549, 1.3261952687937644, 0.3440020565671146, -1.024023927456685, -0.026135700939124245]}, {\"boxpoints\": false, \"line\": {\"width\": 1.3}, \"marker\": {\"color\": \"rgba(50, 171, 96, 1.0)\"}, \"name\": \"C\", \"orientation\": \"v\", \"type\": \"box\", \"y\": [1.3625069996408685, 0.9144952248887764, -0.04379371033273974, 0.09926340152837985, 1.2439724798159724, 1.1541745177710157, 0.8903331224676148, -0.266292290561748, -0.04175051493955355, 1.0301172806259171, -0.5928166169608095, -1.7103241908806828, 1.5518485422560453, -0.8470507769567207, 1.2270784178865735, 0.5965754556850948, -0.4758371563683018, 0.872427010018932, -1.792956333172518, -0.38186421963418965, -2.1181936570248463, 0.04830933305814722, -0.2377517243843703, 1.180649111475662, 0.750538260223122, 0.9987999439705197, -0.3746257593686016, 1.67463871096551, -0.7603667656154767, -0.07638038847929986, 0.4166224532956056, -0.6113448167098882, -0.5619164790482407, -0.5299474677729248, -0.6454235969449024, -1.5844963110045438, 1.7958848004195698, 0.05725658047593841, 0.2721754274360363, 1.2775937537343836, -1.090054521555069, -0.42179786795174207, 1.2423180080467975, -0.010861564683631282, 0.15506944960313332, -0.17041242917319238, -0.40178919529776935, 0.31202362583184595, 0.9130877026457608, 0.6979280217528265, -0.3744751044346249, -0.3356760147211475, 0.48003599789582946, 0.519507398890785, -1.3585467086201315, -1.3681957134473788, 0.5749568613249194, 0.6692379140807965, 1.377450523387284, 1.9966917262315202, 0.5426288454362674, 0.8272004758045935, -0.4366866732935288, -0.30638253901940254, 1.1722894324864024, 0.6870803694725929, -1.5676196674203213, 1.4476838161089778, -1.68998241695538, -0.6374153838701762, -0.4442773346777854, 0.34665700385127446, -0.9714136879825543, -0.306819209481289, -0.9333384010003253, -0.15705929393017123, -0.8621365632898269, 1.8982151081219376, -1.9557762436737225, -0.45832500451598934, 0.9914760514765695, 0.320091570765724, 0.8031181822203135, -0.3923864355104031, -0.45168071389999304, 0.22009011992701982, 0.5955333007411939, -0.18003516240607267, -1.0297839283237813, -0.35674347150142727, 0.5010231233276244, 3.0244816886034616, -1.4518354545370757, -0.7238706064189212, -1.9546467592720356, 1.6750188451554895, 0.9591556681989486, -0.5368549291145766, 0.8130714085694476, -0.31847863880302585]}, {\"boxpoints\": false, \"line\": {\"width\": 1.3}, \"marker\": {\"color\": \"rgba(128, 0, 128, 1.0)\"}, \"name\": \"D\", \"orientation\": \"v\", \"type\": \"box\", \"y\": [0.1678688456852729, -0.7660755490375207, -0.24033995622475704, -0.1682834967212138, -0.7071182614203896, -0.7681995890374017, -2.033746607587051, -0.13645665960025008, 0.8853957116965118, 0.7684011089760281, 1.3331923437966315, -0.6313108008149433, -0.1990810753545615, -0.9362029443403491, -0.48602397477900594, 0.6943936691591144, -1.3138802802680032, 0.2392164800781996, 1.0907698280119023, 1.8965747576752692, 0.442885360234719, -0.6864410326378556, -0.8427733927849178, 1.879280752642242, -0.8766615576635849, -0.7968093327132704, 0.48471521549216495, 0.6680262768318319, 0.928831286436281, -0.3097847577236534, 0.11246450934781085, -1.3215886940461292, 0.08853158506239107, 1.1598699817635334, 1.466549647872314, -1.1640330918656165, -1.61767356039815, -1.609374924580595, -0.3678068225477947, 0.6721842330036858, -0.5394995077186759, -0.6191387319020631, 0.23897827009090414, -0.4560648370029805, -0.5130532625487461, 0.04869945067598958, 0.7945450847747928, 0.9463268407815968, -0.056612104084040674, -0.8617504834866899, 1.4845618102402878, 3.145860220342536, -1.9041065545592328, 1.5350121393448692, 0.6627933498060756, 0.09675705889637655, -0.8923072027447188, -0.5525401182438261, 0.8290980738948833, 1.470022690133724, -0.8860840655185193, -0.09681710155206424, 0.30865486290318156, 0.21943714014526172, 0.11341629867977683, -1.2266711866065867, 0.22103297889399115, 0.06725162810266645, 0.5580915971155165, 1.0105818532027613, -0.15753228208829775, 0.3938749268228596, 1.08155031642873, -0.04125426043324729, -0.4169155318556582, 1.2679845140404256, 0.08705806488006085, 0.21120171595670129, 0.15821498663748168, -0.5356086125675361, 3.251672425388064, 1.4102313844205876, 0.24108712582044428, -0.5686913122244588, 0.7059547425843715, -0.29410301722008786, -0.537492381963061, -0.4583903711628853, 0.31492293193018556, 0.5599066087163566, 1.0843010187485178, 0.020497693627848947, 0.5921960317117614, -0.7774516166862487, 1.050757571631062, 2.6606214337424148, 0.4164070043407307, 1.058442534293066, 0.7592181641268156, 0.41374422308068587]}],\n",
       "                        {\"legend\": {\"bgcolor\": \"#F5F6F9\", \"font\": {\"color\": \"#4D5663\"}}, \"paper_bgcolor\": \"#F5F6F9\", \"plot_bgcolor\": \"#F5F6F9\", \"template\": {\"data\": {\"bar\": [{\"error_x\": {\"color\": \"#2a3f5f\"}, \"error_y\": {\"color\": \"#2a3f5f\"}, \"marker\": {\"line\": {\"color\": \"#E5ECF6\", \"width\": 0.5}}, \"type\": \"bar\"}], \"barpolar\": [{\"marker\": {\"line\": {\"color\": \"#E5ECF6\", \"width\": 0.5}}, \"type\": \"barpolar\"}], \"carpet\": [{\"aaxis\": {\"endlinecolor\": \"#2a3f5f\", \"gridcolor\": \"white\", \"linecolor\": \"white\", \"minorgridcolor\": \"white\", \"startlinecolor\": \"#2a3f5f\"}, \"baxis\": {\"endlinecolor\": \"#2a3f5f\", \"gridcolor\": \"white\", \"linecolor\": \"white\", \"minorgridcolor\": \"white\", \"startlinecolor\": \"#2a3f5f\"}, \"type\": \"carpet\"}], \"choropleth\": [{\"colorbar\": {\"outlinewidth\": 0, \"ticks\": \"\"}, \"type\": \"choropleth\"}], \"contour\": [{\"colorbar\": {\"outlinewidth\": 0, \"ticks\": \"\"}, \"colorscale\": [[0.0, \"#0d0887\"], [0.1111111111111111, \"#46039f\"], [0.2222222222222222, \"#7201a8\"], [0.3333333333333333, \"#9c179e\"], [0.4444444444444444, \"#bd3786\"], [0.5555555555555556, \"#d8576b\"], [0.6666666666666666, \"#ed7953\"], [0.7777777777777778, \"#fb9f3a\"], [0.8888888888888888, \"#fdca26\"], [1.0, \"#f0f921\"]], \"type\": \"contour\"}], \"contourcarpet\": [{\"colorbar\": {\"outlinewidth\": 0, \"ticks\": \"\"}, \"type\": \"contourcarpet\"}], \"heatmap\": [{\"colorbar\": {\"outlinewidth\": 0, \"ticks\": \"\"}, \"colorscale\": [[0.0, \"#0d0887\"], [0.1111111111111111, \"#46039f\"], [0.2222222222222222, \"#7201a8\"], [0.3333333333333333, \"#9c179e\"], [0.4444444444444444, \"#bd3786\"], [0.5555555555555556, \"#d8576b\"], [0.6666666666666666, \"#ed7953\"], [0.7777777777777778, \"#fb9f3a\"], [0.8888888888888888, \"#fdca26\"], [1.0, \"#f0f921\"]], \"type\": \"heatmap\"}], \"heatmapgl\": [{\"colorbar\": {\"outlinewidth\": 0, \"ticks\": \"\"}, \"colorscale\": [[0.0, \"#0d0887\"], [0.1111111111111111, \"#46039f\"], [0.2222222222222222, \"#7201a8\"], [0.3333333333333333, \"#9c179e\"], [0.4444444444444444, \"#bd3786\"], [0.5555555555555556, \"#d8576b\"], [0.6666666666666666, \"#ed7953\"], [0.7777777777777778, \"#fb9f3a\"], [0.8888888888888888, \"#fdca26\"], [1.0, \"#f0f921\"]], \"type\": \"heatmapgl\"}], \"histogram\": [{\"marker\": {\"colorbar\": {\"outlinewidth\": 0, \"ticks\": \"\"}}, \"type\": \"histogram\"}], \"histogram2d\": [{\"colorbar\": {\"outlinewidth\": 0, \"ticks\": \"\"}, \"colorscale\": [[0.0, \"#0d0887\"], [0.1111111111111111, \"#46039f\"], [0.2222222222222222, \"#7201a8\"], [0.3333333333333333, \"#9c179e\"], [0.4444444444444444, \"#bd3786\"], [0.5555555555555556, \"#d8576b\"], [0.6666666666666666, \"#ed7953\"], [0.7777777777777778, \"#fb9f3a\"], [0.8888888888888888, \"#fdca26\"], [1.0, \"#f0f921\"]], \"type\": \"histogram2d\"}], \"histogram2dcontour\": [{\"colorbar\": {\"outlinewidth\": 0, \"ticks\": \"\"}, \"colorscale\": [[0.0, \"#0d0887\"], [0.1111111111111111, \"#46039f\"], [0.2222222222222222, \"#7201a8\"], [0.3333333333333333, \"#9c179e\"], [0.4444444444444444, \"#bd3786\"], [0.5555555555555556, \"#d8576b\"], [0.6666666666666666, \"#ed7953\"], [0.7777777777777778, \"#fb9f3a\"], [0.8888888888888888, \"#fdca26\"], [1.0, \"#f0f921\"]], \"type\": \"histogram2dcontour\"}], \"mesh3d\": [{\"colorbar\": {\"outlinewidth\": 0, \"ticks\": \"\"}, \"type\": \"mesh3d\"}], \"parcoords\": [{\"line\": {\"colorbar\": {\"outlinewidth\": 0, \"ticks\": \"\"}}, \"type\": \"parcoords\"}], \"pie\": [{\"automargin\": true, \"type\": \"pie\"}], \"scatter\": [{\"marker\": {\"colorbar\": {\"outlinewidth\": 0, \"ticks\": \"\"}}, \"type\": \"scatter\"}], \"scatter3d\": [{\"line\": {\"colorbar\": {\"outlinewidth\": 0, \"ticks\": \"\"}}, \"marker\": {\"colorbar\": {\"outlinewidth\": 0, \"ticks\": \"\"}}, \"type\": \"scatter3d\"}], \"scattercarpet\": [{\"marker\": {\"colorbar\": {\"outlinewidth\": 0, \"ticks\": \"\"}}, \"type\": \"scattercarpet\"}], \"scattergeo\": [{\"marker\": {\"colorbar\": {\"outlinewidth\": 0, \"ticks\": \"\"}}, \"type\": \"scattergeo\"}], \"scattergl\": [{\"marker\": {\"colorbar\": {\"outlinewidth\": 0, \"ticks\": \"\"}}, \"type\": \"scattergl\"}], \"scattermapbox\": [{\"marker\": {\"colorbar\": {\"outlinewidth\": 0, \"ticks\": \"\"}}, \"type\": \"scattermapbox\"}], \"scatterpolar\": [{\"marker\": {\"colorbar\": {\"outlinewidth\": 0, \"ticks\": \"\"}}, \"type\": \"scatterpolar\"}], \"scatterpolargl\": [{\"marker\": {\"colorbar\": {\"outlinewidth\": 0, \"ticks\": \"\"}}, \"type\": \"scatterpolargl\"}], \"scatterternary\": [{\"marker\": {\"colorbar\": {\"outlinewidth\": 0, \"ticks\": \"\"}}, \"type\": \"scatterternary\"}], \"surface\": [{\"colorbar\": {\"outlinewidth\": 0, \"ticks\": \"\"}, \"colorscale\": [[0.0, \"#0d0887\"], [0.1111111111111111, \"#46039f\"], [0.2222222222222222, \"#7201a8\"], [0.3333333333333333, \"#9c179e\"], [0.4444444444444444, \"#bd3786\"], [0.5555555555555556, \"#d8576b\"], [0.6666666666666666, \"#ed7953\"], [0.7777777777777778, \"#fb9f3a\"], [0.8888888888888888, \"#fdca26\"], [1.0, \"#f0f921\"]], \"type\": \"surface\"}], \"table\": [{\"cells\": {\"fill\": {\"color\": \"#EBF0F8\"}, \"line\": {\"color\": \"white\"}}, \"header\": {\"fill\": {\"color\": \"#C8D4E3\"}, \"line\": {\"color\": \"white\"}}, \"type\": \"table\"}]}, \"layout\": {\"annotationdefaults\": {\"arrowcolor\": \"#2a3f5f\", \"arrowhead\": 0, \"arrowwidth\": 1}, \"coloraxis\": {\"colorbar\": {\"outlinewidth\": 0, \"ticks\": \"\"}}, \"colorscale\": {\"diverging\": [[0, \"#8e0152\"], [0.1, \"#c51b7d\"], [0.2, \"#de77ae\"], [0.3, \"#f1b6da\"], [0.4, \"#fde0ef\"], [0.5, \"#f7f7f7\"], [0.6, \"#e6f5d0\"], [0.7, \"#b8e186\"], [0.8, \"#7fbc41\"], [0.9, \"#4d9221\"], [1, \"#276419\"]], \"sequential\": [[0.0, \"#0d0887\"], [0.1111111111111111, \"#46039f\"], [0.2222222222222222, \"#7201a8\"], [0.3333333333333333, \"#9c179e\"], [0.4444444444444444, \"#bd3786\"], [0.5555555555555556, \"#d8576b\"], [0.6666666666666666, \"#ed7953\"], [0.7777777777777778, \"#fb9f3a\"], [0.8888888888888888, \"#fdca26\"], [1.0, \"#f0f921\"]], \"sequentialminus\": [[0.0, \"#0d0887\"], [0.1111111111111111, \"#46039f\"], [0.2222222222222222, \"#7201a8\"], [0.3333333333333333, \"#9c179e\"], [0.4444444444444444, \"#bd3786\"], [0.5555555555555556, \"#d8576b\"], [0.6666666666666666, \"#ed7953\"], [0.7777777777777778, \"#fb9f3a\"], [0.8888888888888888, \"#fdca26\"], [1.0, \"#f0f921\"]]}, \"colorway\": [\"#636efa\", \"#EF553B\", \"#00cc96\", \"#ab63fa\", \"#FFA15A\", \"#19d3f3\", \"#FF6692\", \"#B6E880\", \"#FF97FF\", \"#FECB52\"], \"font\": {\"color\": \"#2a3f5f\"}, \"geo\": {\"bgcolor\": \"white\", \"lakecolor\": \"white\", \"landcolor\": \"#E5ECF6\", \"showlakes\": true, \"showland\": true, \"subunitcolor\": \"white\"}, \"hoverlabel\": {\"align\": \"left\"}, \"hovermode\": \"closest\", \"mapbox\": {\"style\": \"light\"}, \"paper_bgcolor\": \"white\", \"plot_bgcolor\": \"#E5ECF6\", \"polar\": {\"angularaxis\": {\"gridcolor\": \"white\", \"linecolor\": \"white\", \"ticks\": \"\"}, \"bgcolor\": \"#E5ECF6\", \"radialaxis\": {\"gridcolor\": \"white\", \"linecolor\": \"white\", \"ticks\": \"\"}}, \"scene\": {\"xaxis\": {\"backgroundcolor\": \"#E5ECF6\", \"gridcolor\": \"white\", \"gridwidth\": 2, \"linecolor\": \"white\", \"showbackground\": true, \"ticks\": \"\", \"zerolinecolor\": \"white\"}, \"yaxis\": {\"backgroundcolor\": \"#E5ECF6\", \"gridcolor\": \"white\", \"gridwidth\": 2, \"linecolor\": \"white\", \"showbackground\": true, \"ticks\": \"\", \"zerolinecolor\": \"white\"}, \"zaxis\": {\"backgroundcolor\": \"#E5ECF6\", \"gridcolor\": \"white\", \"gridwidth\": 2, \"linecolor\": \"white\", \"showbackground\": true, \"ticks\": \"\", \"zerolinecolor\": \"white\"}}, \"shapedefaults\": {\"line\": {\"color\": \"#2a3f5f\"}}, \"ternary\": {\"aaxis\": {\"gridcolor\": \"white\", \"linecolor\": \"white\", \"ticks\": \"\"}, \"baxis\": {\"gridcolor\": \"white\", \"linecolor\": \"white\", \"ticks\": \"\"}, \"bgcolor\": \"#E5ECF6\", \"caxis\": {\"gridcolor\": \"white\", \"linecolor\": \"white\", \"ticks\": \"\"}}, \"title\": {\"x\": 0.05}, \"xaxis\": {\"automargin\": true, \"gridcolor\": \"white\", \"linecolor\": \"white\", \"ticks\": \"\", \"title\": {\"standoff\": 15}, \"zerolinecolor\": \"white\", \"zerolinewidth\": 2}, \"yaxis\": {\"automargin\": true, \"gridcolor\": \"white\", \"linecolor\": \"white\", \"ticks\": \"\", \"title\": {\"standoff\": 15}, \"zerolinecolor\": \"white\", \"zerolinewidth\": 2}}}, \"title\": {\"font\": {\"color\": \"#4D5663\"}}, \"xaxis\": {\"gridcolor\": \"#E1E5ED\", \"showgrid\": true, \"tickfont\": {\"color\": \"#4D5663\"}, \"title\": {\"font\": {\"color\": \"#4D5663\"}, \"text\": \"\"}, \"zerolinecolor\": \"#E1E5ED\"}, \"yaxis\": {\"gridcolor\": \"#E1E5ED\", \"showgrid\": true, \"tickfont\": {\"color\": \"#4D5663\"}, \"title\": {\"font\": {\"color\": \"#4D5663\"}, \"text\": \"\"}, \"zerolinecolor\": \"#E1E5ED\"}},\n",
       "                        {\"showLink\": true, \"linkText\": \"Export to plot.ly\", \"plotlyServerURL\": \"https://plot.ly\", \"responsive\": true}\n",
       "                    ).then(function(){\n",
       "                            \n",
       "var gd = document.getElementById('7084497b-d01b-4f56-bda6-631d3c759edc');\n",
       "var x = new MutationObserver(function (mutations, observer) {{\n",
       "        var display = window.getComputedStyle(gd).display;\n",
       "        if (!display || display === 'none') {{\n",
       "            console.log([gd, 'removed!']);\n",
       "            Plotly.purge(gd);\n",
       "            observer.disconnect();\n",
       "        }}\n",
       "}});\n",
       "\n",
       "// Listen for the removal of the full notebook cells\n",
       "var notebookContainer = gd.closest('#notebook-container');\n",
       "if (notebookContainer) {{\n",
       "    x.observe(notebookContainer, {childList: true});\n",
       "}}\n",
       "\n",
       "// Listen for the clearing of the current output cell\n",
       "var outputEl = gd.closest('.output');\n",
       "if (outputEl) {{\n",
       "    x.observe(outputEl, {childList: true});\n",
       "}}\n",
       "\n",
       "                        })\n",
       "                };\n",
       "                });\n",
       "            </script>\n",
       "        </div>"
      ]
     },
     "metadata": {},
     "output_type": "display_data"
    }
   ],
   "source": [
    "df.iplot(kind='box')"
   ]
  },
  {
   "cell_type": "code",
   "execution_count": 25,
   "metadata": {},
   "outputs": [],
   "source": [
    "df3 = pd.DataFrame({'x':[1,2,3,4,5],'y':[10,20,30,20,10],'z':[500,400,300,200,100]})"
   ]
  },
  {
   "cell_type": "code",
   "execution_count": 26,
   "metadata": {},
   "outputs": [
    {
     "data": {
      "text/html": [
       "<div>\n",
       "<style scoped>\n",
       "    .dataframe tbody tr th:only-of-type {\n",
       "        vertical-align: middle;\n",
       "    }\n",
       "\n",
       "    .dataframe tbody tr th {\n",
       "        vertical-align: top;\n",
       "    }\n",
       "\n",
       "    .dataframe thead th {\n",
       "        text-align: right;\n",
       "    }\n",
       "</style>\n",
       "<table border=\"1\" class=\"dataframe\">\n",
       "  <thead>\n",
       "    <tr style=\"text-align: right;\">\n",
       "      <th></th>\n",
       "      <th>x</th>\n",
       "      <th>y</th>\n",
       "      <th>z</th>\n",
       "    </tr>\n",
       "  </thead>\n",
       "  <tbody>\n",
       "    <tr>\n",
       "      <td>0</td>\n",
       "      <td>1</td>\n",
       "      <td>10</td>\n",
       "      <td>500</td>\n",
       "    </tr>\n",
       "    <tr>\n",
       "      <td>1</td>\n",
       "      <td>2</td>\n",
       "      <td>20</td>\n",
       "      <td>400</td>\n",
       "    </tr>\n",
       "    <tr>\n",
       "      <td>2</td>\n",
       "      <td>3</td>\n",
       "      <td>30</td>\n",
       "      <td>300</td>\n",
       "    </tr>\n",
       "    <tr>\n",
       "      <td>3</td>\n",
       "      <td>4</td>\n",
       "      <td>20</td>\n",
       "      <td>200</td>\n",
       "    </tr>\n",
       "    <tr>\n",
       "      <td>4</td>\n",
       "      <td>5</td>\n",
       "      <td>10</td>\n",
       "      <td>100</td>\n",
       "    </tr>\n",
       "  </tbody>\n",
       "</table>\n",
       "</div>"
      ],
      "text/plain": [
       "   x   y    z\n",
       "0  1  10  500\n",
       "1  2  20  400\n",
       "2  3  30  300\n",
       "3  4  20  200\n",
       "4  5  10  100"
      ]
     },
     "execution_count": 26,
     "metadata": {},
     "output_type": "execute_result"
    }
   ],
   "source": [
    "df3"
   ]
  },
  {
   "cell_type": "code",
   "execution_count": 27,
   "metadata": {},
   "outputs": [
    {
     "data": {
      "application/vnd.plotly.v1+json": {
       "config": {
        "linkText": "Export to plot.ly",
        "plotlyServerURL": "https://plot.ly",
        "showLink": true
       },
       "data": [
        {
         "colorscale": [
          [
           0,
           "rgb(255, 153, 51)"
          ],
          [
           0.1111111111111111,
           "rgb(55, 128, 191)"
          ],
          [
           0.2222222222222222,
           "rgb(50, 171, 96)"
          ],
          [
           0.3333333333333333,
           "rgb(128, 0, 128)"
          ],
          [
           0.4444444444444444,
           "rgb(219, 64, 82)"
          ],
          [
           0.5555555555555556,
           "rgb(0, 128, 128)"
          ],
          [
           0.6666666666666666,
           "rgb(255, 255, 51)"
          ],
          [
           0.7777777777777778,
           "rgb(128, 128, 0)"
          ],
          [
           0.8888888888888888,
           "rgb(251, 128, 114)"
          ],
          [
           1,
           "rgb(128, 177, 211)"
          ]
         ],
         "type": "surface",
         "x": [
          0,
          1,
          2,
          3,
          4
         ],
         "y": [
          "x",
          "y",
          "z"
         ],
         "z": [
          [
           1,
           2,
           3,
           4,
           5
          ],
          [
           10,
           20,
           30,
           20,
           10
          ],
          [
           500,
           400,
           300,
           200,
           100
          ]
         ]
        }
       ],
       "layout": {
        "legend": {
         "bgcolor": "#F5F6F9",
         "font": {
          "color": "#4D5663"
         }
        },
        "paper_bgcolor": "#F5F6F9",
        "plot_bgcolor": "#F5F6F9",
        "template": {
         "data": {
          "bar": [
           {
            "error_x": {
             "color": "#2a3f5f"
            },
            "error_y": {
             "color": "#2a3f5f"
            },
            "marker": {
             "line": {
              "color": "#E5ECF6",
              "width": 0.5
             }
            },
            "type": "bar"
           }
          ],
          "barpolar": [
           {
            "marker": {
             "line": {
              "color": "#E5ECF6",
              "width": 0.5
             }
            },
            "type": "barpolar"
           }
          ],
          "carpet": [
           {
            "aaxis": {
             "endlinecolor": "#2a3f5f",
             "gridcolor": "white",
             "linecolor": "white",
             "minorgridcolor": "white",
             "startlinecolor": "#2a3f5f"
            },
            "baxis": {
             "endlinecolor": "#2a3f5f",
             "gridcolor": "white",
             "linecolor": "white",
             "minorgridcolor": "white",
             "startlinecolor": "#2a3f5f"
            },
            "type": "carpet"
           }
          ],
          "choropleth": [
           {
            "colorbar": {
             "outlinewidth": 0,
             "ticks": ""
            },
            "type": "choropleth"
           }
          ],
          "contour": [
           {
            "colorbar": {
             "outlinewidth": 0,
             "ticks": ""
            },
            "colorscale": [
             [
              0,
              "#0d0887"
             ],
             [
              0.1111111111111111,
              "#46039f"
             ],
             [
              0.2222222222222222,
              "#7201a8"
             ],
             [
              0.3333333333333333,
              "#9c179e"
             ],
             [
              0.4444444444444444,
              "#bd3786"
             ],
             [
              0.5555555555555556,
              "#d8576b"
             ],
             [
              0.6666666666666666,
              "#ed7953"
             ],
             [
              0.7777777777777778,
              "#fb9f3a"
             ],
             [
              0.8888888888888888,
              "#fdca26"
             ],
             [
              1,
              "#f0f921"
             ]
            ],
            "type": "contour"
           }
          ],
          "contourcarpet": [
           {
            "colorbar": {
             "outlinewidth": 0,
             "ticks": ""
            },
            "type": "contourcarpet"
           }
          ],
          "heatmap": [
           {
            "colorbar": {
             "outlinewidth": 0,
             "ticks": ""
            },
            "colorscale": [
             [
              0,
              "#0d0887"
             ],
             [
              0.1111111111111111,
              "#46039f"
             ],
             [
              0.2222222222222222,
              "#7201a8"
             ],
             [
              0.3333333333333333,
              "#9c179e"
             ],
             [
              0.4444444444444444,
              "#bd3786"
             ],
             [
              0.5555555555555556,
              "#d8576b"
             ],
             [
              0.6666666666666666,
              "#ed7953"
             ],
             [
              0.7777777777777778,
              "#fb9f3a"
             ],
             [
              0.8888888888888888,
              "#fdca26"
             ],
             [
              1,
              "#f0f921"
             ]
            ],
            "type": "heatmap"
           }
          ],
          "heatmapgl": [
           {
            "colorbar": {
             "outlinewidth": 0,
             "ticks": ""
            },
            "colorscale": [
             [
              0,
              "#0d0887"
             ],
             [
              0.1111111111111111,
              "#46039f"
             ],
             [
              0.2222222222222222,
              "#7201a8"
             ],
             [
              0.3333333333333333,
              "#9c179e"
             ],
             [
              0.4444444444444444,
              "#bd3786"
             ],
             [
              0.5555555555555556,
              "#d8576b"
             ],
             [
              0.6666666666666666,
              "#ed7953"
             ],
             [
              0.7777777777777778,
              "#fb9f3a"
             ],
             [
              0.8888888888888888,
              "#fdca26"
             ],
             [
              1,
              "#f0f921"
             ]
            ],
            "type": "heatmapgl"
           }
          ],
          "histogram": [
           {
            "marker": {
             "colorbar": {
              "outlinewidth": 0,
              "ticks": ""
             }
            },
            "type": "histogram"
           }
          ],
          "histogram2d": [
           {
            "colorbar": {
             "outlinewidth": 0,
             "ticks": ""
            },
            "colorscale": [
             [
              0,
              "#0d0887"
             ],
             [
              0.1111111111111111,
              "#46039f"
             ],
             [
              0.2222222222222222,
              "#7201a8"
             ],
             [
              0.3333333333333333,
              "#9c179e"
             ],
             [
              0.4444444444444444,
              "#bd3786"
             ],
             [
              0.5555555555555556,
              "#d8576b"
             ],
             [
              0.6666666666666666,
              "#ed7953"
             ],
             [
              0.7777777777777778,
              "#fb9f3a"
             ],
             [
              0.8888888888888888,
              "#fdca26"
             ],
             [
              1,
              "#f0f921"
             ]
            ],
            "type": "histogram2d"
           }
          ],
          "histogram2dcontour": [
           {
            "colorbar": {
             "outlinewidth": 0,
             "ticks": ""
            },
            "colorscale": [
             [
              0,
              "#0d0887"
             ],
             [
              0.1111111111111111,
              "#46039f"
             ],
             [
              0.2222222222222222,
              "#7201a8"
             ],
             [
              0.3333333333333333,
              "#9c179e"
             ],
             [
              0.4444444444444444,
              "#bd3786"
             ],
             [
              0.5555555555555556,
              "#d8576b"
             ],
             [
              0.6666666666666666,
              "#ed7953"
             ],
             [
              0.7777777777777778,
              "#fb9f3a"
             ],
             [
              0.8888888888888888,
              "#fdca26"
             ],
             [
              1,
              "#f0f921"
             ]
            ],
            "type": "histogram2dcontour"
           }
          ],
          "mesh3d": [
           {
            "colorbar": {
             "outlinewidth": 0,
             "ticks": ""
            },
            "type": "mesh3d"
           }
          ],
          "parcoords": [
           {
            "line": {
             "colorbar": {
              "outlinewidth": 0,
              "ticks": ""
             }
            },
            "type": "parcoords"
           }
          ],
          "pie": [
           {
            "automargin": true,
            "type": "pie"
           }
          ],
          "scatter": [
           {
            "marker": {
             "colorbar": {
              "outlinewidth": 0,
              "ticks": ""
             }
            },
            "type": "scatter"
           }
          ],
          "scatter3d": [
           {
            "line": {
             "colorbar": {
              "outlinewidth": 0,
              "ticks": ""
             }
            },
            "marker": {
             "colorbar": {
              "outlinewidth": 0,
              "ticks": ""
             }
            },
            "type": "scatter3d"
           }
          ],
          "scattercarpet": [
           {
            "marker": {
             "colorbar": {
              "outlinewidth": 0,
              "ticks": ""
             }
            },
            "type": "scattercarpet"
           }
          ],
          "scattergeo": [
           {
            "marker": {
             "colorbar": {
              "outlinewidth": 0,
              "ticks": ""
             }
            },
            "type": "scattergeo"
           }
          ],
          "scattergl": [
           {
            "marker": {
             "colorbar": {
              "outlinewidth": 0,
              "ticks": ""
             }
            },
            "type": "scattergl"
           }
          ],
          "scattermapbox": [
           {
            "marker": {
             "colorbar": {
              "outlinewidth": 0,
              "ticks": ""
             }
            },
            "type": "scattermapbox"
           }
          ],
          "scatterpolar": [
           {
            "marker": {
             "colorbar": {
              "outlinewidth": 0,
              "ticks": ""
             }
            },
            "type": "scatterpolar"
           }
          ],
          "scatterpolargl": [
           {
            "marker": {
             "colorbar": {
              "outlinewidth": 0,
              "ticks": ""
             }
            },
            "type": "scatterpolargl"
           }
          ],
          "scatterternary": [
           {
            "marker": {
             "colorbar": {
              "outlinewidth": 0,
              "ticks": ""
             }
            },
            "type": "scatterternary"
           }
          ],
          "surface": [
           {
            "colorbar": {
             "outlinewidth": 0,
             "ticks": ""
            },
            "colorscale": [
             [
              0,
              "#0d0887"
             ],
             [
              0.1111111111111111,
              "#46039f"
             ],
             [
              0.2222222222222222,
              "#7201a8"
             ],
             [
              0.3333333333333333,
              "#9c179e"
             ],
             [
              0.4444444444444444,
              "#bd3786"
             ],
             [
              0.5555555555555556,
              "#d8576b"
             ],
             [
              0.6666666666666666,
              "#ed7953"
             ],
             [
              0.7777777777777778,
              "#fb9f3a"
             ],
             [
              0.8888888888888888,
              "#fdca26"
             ],
             [
              1,
              "#f0f921"
             ]
            ],
            "type": "surface"
           }
          ],
          "table": [
           {
            "cells": {
             "fill": {
              "color": "#EBF0F8"
             },
             "line": {
              "color": "white"
             }
            },
            "header": {
             "fill": {
              "color": "#C8D4E3"
             },
             "line": {
              "color": "white"
             }
            },
            "type": "table"
           }
          ]
         },
         "layout": {
          "annotationdefaults": {
           "arrowcolor": "#2a3f5f",
           "arrowhead": 0,
           "arrowwidth": 1
          },
          "coloraxis": {
           "colorbar": {
            "outlinewidth": 0,
            "ticks": ""
           }
          },
          "colorscale": {
           "diverging": [
            [
             0,
             "#8e0152"
            ],
            [
             0.1,
             "#c51b7d"
            ],
            [
             0.2,
             "#de77ae"
            ],
            [
             0.3,
             "#f1b6da"
            ],
            [
             0.4,
             "#fde0ef"
            ],
            [
             0.5,
             "#f7f7f7"
            ],
            [
             0.6,
             "#e6f5d0"
            ],
            [
             0.7,
             "#b8e186"
            ],
            [
             0.8,
             "#7fbc41"
            ],
            [
             0.9,
             "#4d9221"
            ],
            [
             1,
             "#276419"
            ]
           ],
           "sequential": [
            [
             0,
             "#0d0887"
            ],
            [
             0.1111111111111111,
             "#46039f"
            ],
            [
             0.2222222222222222,
             "#7201a8"
            ],
            [
             0.3333333333333333,
             "#9c179e"
            ],
            [
             0.4444444444444444,
             "#bd3786"
            ],
            [
             0.5555555555555556,
             "#d8576b"
            ],
            [
             0.6666666666666666,
             "#ed7953"
            ],
            [
             0.7777777777777778,
             "#fb9f3a"
            ],
            [
             0.8888888888888888,
             "#fdca26"
            ],
            [
             1,
             "#f0f921"
            ]
           ],
           "sequentialminus": [
            [
             0,
             "#0d0887"
            ],
            [
             0.1111111111111111,
             "#46039f"
            ],
            [
             0.2222222222222222,
             "#7201a8"
            ],
            [
             0.3333333333333333,
             "#9c179e"
            ],
            [
             0.4444444444444444,
             "#bd3786"
            ],
            [
             0.5555555555555556,
             "#d8576b"
            ],
            [
             0.6666666666666666,
             "#ed7953"
            ],
            [
             0.7777777777777778,
             "#fb9f3a"
            ],
            [
             0.8888888888888888,
             "#fdca26"
            ],
            [
             1,
             "#f0f921"
            ]
           ]
          },
          "colorway": [
           "#636efa",
           "#EF553B",
           "#00cc96",
           "#ab63fa",
           "#FFA15A",
           "#19d3f3",
           "#FF6692",
           "#B6E880",
           "#FF97FF",
           "#FECB52"
          ],
          "font": {
           "color": "#2a3f5f"
          },
          "geo": {
           "bgcolor": "white",
           "lakecolor": "white",
           "landcolor": "#E5ECF6",
           "showlakes": true,
           "showland": true,
           "subunitcolor": "white"
          },
          "hoverlabel": {
           "align": "left"
          },
          "hovermode": "closest",
          "mapbox": {
           "style": "light"
          },
          "paper_bgcolor": "white",
          "plot_bgcolor": "#E5ECF6",
          "polar": {
           "angularaxis": {
            "gridcolor": "white",
            "linecolor": "white",
            "ticks": ""
           },
           "bgcolor": "#E5ECF6",
           "radialaxis": {
            "gridcolor": "white",
            "linecolor": "white",
            "ticks": ""
           }
          },
          "scene": {
           "xaxis": {
            "backgroundcolor": "#E5ECF6",
            "gridcolor": "white",
            "gridwidth": 2,
            "linecolor": "white",
            "showbackground": true,
            "ticks": "",
            "zerolinecolor": "white"
           },
           "yaxis": {
            "backgroundcolor": "#E5ECF6",
            "gridcolor": "white",
            "gridwidth": 2,
            "linecolor": "white",
            "showbackground": true,
            "ticks": "",
            "zerolinecolor": "white"
           },
           "zaxis": {
            "backgroundcolor": "#E5ECF6",
            "gridcolor": "white",
            "gridwidth": 2,
            "linecolor": "white",
            "showbackground": true,
            "ticks": "",
            "zerolinecolor": "white"
           }
          },
          "shapedefaults": {
           "line": {
            "color": "#2a3f5f"
           }
          },
          "ternary": {
           "aaxis": {
            "gridcolor": "white",
            "linecolor": "white",
            "ticks": ""
           },
           "baxis": {
            "gridcolor": "white",
            "linecolor": "white",
            "ticks": ""
           },
           "bgcolor": "#E5ECF6",
           "caxis": {
            "gridcolor": "white",
            "linecolor": "white",
            "ticks": ""
           }
          },
          "title": {
           "x": 0.05
          },
          "xaxis": {
           "automargin": true,
           "gridcolor": "white",
           "linecolor": "white",
           "ticks": "",
           "title": {
            "standoff": 15
           },
           "zerolinecolor": "white",
           "zerolinewidth": 2
          },
          "yaxis": {
           "automargin": true,
           "gridcolor": "white",
           "linecolor": "white",
           "ticks": "",
           "title": {
            "standoff": 15
           },
           "zerolinecolor": "white",
           "zerolinewidth": 2
          }
         }
        },
        "title": {
         "font": {
          "color": "#4D5663"
         }
        },
        "xaxis": {
         "gridcolor": "#E1E5ED",
         "showgrid": true,
         "tickfont": {
          "color": "#4D5663"
         },
         "title": {
          "font": {
           "color": "#4D5663"
          },
          "text": ""
         },
         "zerolinecolor": "#E1E5ED"
        },
        "yaxis": {
         "gridcolor": "#E1E5ED",
         "showgrid": true,
         "tickfont": {
          "color": "#4D5663"
         },
         "title": {
          "font": {
           "color": "#4D5663"
          },
          "text": ""
         },
         "zerolinecolor": "#E1E5ED"
        }
       }
      },
      "text/html": [
       "<div>\n",
       "        \n",
       "        \n",
       "            <div id=\"7cb55b3c-a09a-4a42-8e2f-b95de61ca396\" class=\"plotly-graph-div\" style=\"height:525px; width:100%;\"></div>\n",
       "            <script type=\"text/javascript\">\n",
       "                require([\"plotly\"], function(Plotly) {\n",
       "                    window.PLOTLYENV=window.PLOTLYENV || {};\n",
       "                    window.PLOTLYENV.BASE_URL='https://plot.ly';\n",
       "                    \n",
       "                if (document.getElementById(\"7cb55b3c-a09a-4a42-8e2f-b95de61ca396\")) {\n",
       "                    Plotly.newPlot(\n",
       "                        '7cb55b3c-a09a-4a42-8e2f-b95de61ca396',\n",
       "                        [{\"colorscale\": [[0.0, \"rgb(255, 153, 51)\"], [0.1111111111111111, \"rgb(55, 128, 191)\"], [0.2222222222222222, \"rgb(50, 171, 96)\"], [0.3333333333333333, \"rgb(128, 0, 128)\"], [0.4444444444444444, \"rgb(219, 64, 82)\"], [0.5555555555555556, \"rgb(0, 128, 128)\"], [0.6666666666666666, \"rgb(255, 255, 51)\"], [0.7777777777777778, \"rgb(128, 128, 0)\"], [0.8888888888888888, \"rgb(251, 128, 114)\"], [1.0, \"rgb(128, 177, 211)\"]], \"type\": \"surface\", \"x\": [0, 1, 2, 3, 4], \"y\": [\"x\", \"y\", \"z\"], \"z\": [[1, 2, 3, 4, 5], [10, 20, 30, 20, 10], [500, 400, 300, 200, 100]]}],\n",
       "                        {\"legend\": {\"bgcolor\": \"#F5F6F9\", \"font\": {\"color\": \"#4D5663\"}}, \"paper_bgcolor\": \"#F5F6F9\", \"plot_bgcolor\": \"#F5F6F9\", \"template\": {\"data\": {\"bar\": [{\"error_x\": {\"color\": \"#2a3f5f\"}, \"error_y\": {\"color\": \"#2a3f5f\"}, \"marker\": {\"line\": {\"color\": \"#E5ECF6\", \"width\": 0.5}}, \"type\": \"bar\"}], \"barpolar\": [{\"marker\": {\"line\": {\"color\": \"#E5ECF6\", \"width\": 0.5}}, \"type\": \"barpolar\"}], \"carpet\": [{\"aaxis\": {\"endlinecolor\": \"#2a3f5f\", \"gridcolor\": \"white\", \"linecolor\": \"white\", \"minorgridcolor\": \"white\", \"startlinecolor\": \"#2a3f5f\"}, \"baxis\": {\"endlinecolor\": \"#2a3f5f\", \"gridcolor\": \"white\", \"linecolor\": \"white\", \"minorgridcolor\": \"white\", \"startlinecolor\": \"#2a3f5f\"}, \"type\": \"carpet\"}], \"choropleth\": [{\"colorbar\": {\"outlinewidth\": 0, \"ticks\": \"\"}, \"type\": \"choropleth\"}], \"contour\": [{\"colorbar\": {\"outlinewidth\": 0, \"ticks\": \"\"}, \"colorscale\": [[0.0, \"#0d0887\"], [0.1111111111111111, \"#46039f\"], [0.2222222222222222, \"#7201a8\"], [0.3333333333333333, \"#9c179e\"], [0.4444444444444444, \"#bd3786\"], [0.5555555555555556, \"#d8576b\"], [0.6666666666666666, \"#ed7953\"], [0.7777777777777778, \"#fb9f3a\"], [0.8888888888888888, \"#fdca26\"], [1.0, \"#f0f921\"]], \"type\": \"contour\"}], \"contourcarpet\": [{\"colorbar\": {\"outlinewidth\": 0, \"ticks\": \"\"}, \"type\": \"contourcarpet\"}], \"heatmap\": [{\"colorbar\": {\"outlinewidth\": 0, \"ticks\": \"\"}, \"colorscale\": [[0.0, \"#0d0887\"], [0.1111111111111111, \"#46039f\"], [0.2222222222222222, \"#7201a8\"], [0.3333333333333333, \"#9c179e\"], [0.4444444444444444, \"#bd3786\"], [0.5555555555555556, \"#d8576b\"], [0.6666666666666666, \"#ed7953\"], [0.7777777777777778, \"#fb9f3a\"], [0.8888888888888888, \"#fdca26\"], [1.0, \"#f0f921\"]], \"type\": \"heatmap\"}], \"heatmapgl\": [{\"colorbar\": {\"outlinewidth\": 0, \"ticks\": \"\"}, \"colorscale\": [[0.0, \"#0d0887\"], [0.1111111111111111, \"#46039f\"], [0.2222222222222222, \"#7201a8\"], [0.3333333333333333, \"#9c179e\"], [0.4444444444444444, \"#bd3786\"], [0.5555555555555556, \"#d8576b\"], [0.6666666666666666, \"#ed7953\"], [0.7777777777777778, \"#fb9f3a\"], [0.8888888888888888, \"#fdca26\"], [1.0, \"#f0f921\"]], \"type\": \"heatmapgl\"}], \"histogram\": [{\"marker\": {\"colorbar\": {\"outlinewidth\": 0, \"ticks\": \"\"}}, \"type\": \"histogram\"}], \"histogram2d\": [{\"colorbar\": {\"outlinewidth\": 0, \"ticks\": \"\"}, \"colorscale\": [[0.0, \"#0d0887\"], [0.1111111111111111, \"#46039f\"], [0.2222222222222222, \"#7201a8\"], [0.3333333333333333, \"#9c179e\"], [0.4444444444444444, \"#bd3786\"], [0.5555555555555556, \"#d8576b\"], [0.6666666666666666, \"#ed7953\"], [0.7777777777777778, \"#fb9f3a\"], [0.8888888888888888, \"#fdca26\"], [1.0, \"#f0f921\"]], \"type\": \"histogram2d\"}], \"histogram2dcontour\": [{\"colorbar\": {\"outlinewidth\": 0, \"ticks\": \"\"}, \"colorscale\": [[0.0, \"#0d0887\"], [0.1111111111111111, \"#46039f\"], [0.2222222222222222, \"#7201a8\"], [0.3333333333333333, \"#9c179e\"], [0.4444444444444444, \"#bd3786\"], [0.5555555555555556, \"#d8576b\"], [0.6666666666666666, \"#ed7953\"], [0.7777777777777778, \"#fb9f3a\"], [0.8888888888888888, \"#fdca26\"], [1.0, \"#f0f921\"]], \"type\": \"histogram2dcontour\"}], \"mesh3d\": [{\"colorbar\": {\"outlinewidth\": 0, \"ticks\": \"\"}, \"type\": \"mesh3d\"}], \"parcoords\": [{\"line\": {\"colorbar\": {\"outlinewidth\": 0, \"ticks\": \"\"}}, \"type\": \"parcoords\"}], \"pie\": [{\"automargin\": true, \"type\": \"pie\"}], \"scatter\": [{\"marker\": {\"colorbar\": {\"outlinewidth\": 0, \"ticks\": \"\"}}, \"type\": \"scatter\"}], \"scatter3d\": [{\"line\": {\"colorbar\": {\"outlinewidth\": 0, \"ticks\": \"\"}}, \"marker\": {\"colorbar\": {\"outlinewidth\": 0, \"ticks\": \"\"}}, \"type\": \"scatter3d\"}], \"scattercarpet\": [{\"marker\": {\"colorbar\": {\"outlinewidth\": 0, \"ticks\": \"\"}}, \"type\": \"scattercarpet\"}], \"scattergeo\": [{\"marker\": {\"colorbar\": {\"outlinewidth\": 0, \"ticks\": \"\"}}, \"type\": \"scattergeo\"}], \"scattergl\": [{\"marker\": {\"colorbar\": {\"outlinewidth\": 0, \"ticks\": \"\"}}, \"type\": \"scattergl\"}], \"scattermapbox\": [{\"marker\": {\"colorbar\": {\"outlinewidth\": 0, \"ticks\": \"\"}}, \"type\": \"scattermapbox\"}], \"scatterpolar\": [{\"marker\": {\"colorbar\": {\"outlinewidth\": 0, \"ticks\": \"\"}}, \"type\": \"scatterpolar\"}], \"scatterpolargl\": [{\"marker\": {\"colorbar\": {\"outlinewidth\": 0, \"ticks\": \"\"}}, \"type\": \"scatterpolargl\"}], \"scatterternary\": [{\"marker\": {\"colorbar\": {\"outlinewidth\": 0, \"ticks\": \"\"}}, \"type\": \"scatterternary\"}], \"surface\": [{\"colorbar\": {\"outlinewidth\": 0, \"ticks\": \"\"}, \"colorscale\": [[0.0, \"#0d0887\"], [0.1111111111111111, \"#46039f\"], [0.2222222222222222, \"#7201a8\"], [0.3333333333333333, \"#9c179e\"], [0.4444444444444444, \"#bd3786\"], [0.5555555555555556, \"#d8576b\"], [0.6666666666666666, \"#ed7953\"], [0.7777777777777778, \"#fb9f3a\"], [0.8888888888888888, \"#fdca26\"], [1.0, \"#f0f921\"]], \"type\": \"surface\"}], \"table\": [{\"cells\": {\"fill\": {\"color\": \"#EBF0F8\"}, \"line\": {\"color\": \"white\"}}, \"header\": {\"fill\": {\"color\": \"#C8D4E3\"}, \"line\": {\"color\": \"white\"}}, \"type\": \"table\"}]}, \"layout\": {\"annotationdefaults\": {\"arrowcolor\": \"#2a3f5f\", \"arrowhead\": 0, \"arrowwidth\": 1}, \"coloraxis\": {\"colorbar\": {\"outlinewidth\": 0, \"ticks\": \"\"}}, \"colorscale\": {\"diverging\": [[0, \"#8e0152\"], [0.1, \"#c51b7d\"], [0.2, \"#de77ae\"], [0.3, \"#f1b6da\"], [0.4, \"#fde0ef\"], [0.5, \"#f7f7f7\"], [0.6, \"#e6f5d0\"], [0.7, \"#b8e186\"], [0.8, \"#7fbc41\"], [0.9, \"#4d9221\"], [1, \"#276419\"]], \"sequential\": [[0.0, \"#0d0887\"], [0.1111111111111111, \"#46039f\"], [0.2222222222222222, \"#7201a8\"], [0.3333333333333333, \"#9c179e\"], [0.4444444444444444, \"#bd3786\"], [0.5555555555555556, \"#d8576b\"], [0.6666666666666666, \"#ed7953\"], [0.7777777777777778, \"#fb9f3a\"], [0.8888888888888888, \"#fdca26\"], [1.0, \"#f0f921\"]], \"sequentialminus\": [[0.0, \"#0d0887\"], [0.1111111111111111, \"#46039f\"], [0.2222222222222222, \"#7201a8\"], [0.3333333333333333, \"#9c179e\"], [0.4444444444444444, \"#bd3786\"], [0.5555555555555556, \"#d8576b\"], [0.6666666666666666, \"#ed7953\"], [0.7777777777777778, \"#fb9f3a\"], [0.8888888888888888, \"#fdca26\"], [1.0, \"#f0f921\"]]}, \"colorway\": [\"#636efa\", \"#EF553B\", \"#00cc96\", \"#ab63fa\", \"#FFA15A\", \"#19d3f3\", \"#FF6692\", \"#B6E880\", \"#FF97FF\", \"#FECB52\"], \"font\": {\"color\": \"#2a3f5f\"}, \"geo\": {\"bgcolor\": \"white\", \"lakecolor\": \"white\", \"landcolor\": \"#E5ECF6\", \"showlakes\": true, \"showland\": true, \"subunitcolor\": \"white\"}, \"hoverlabel\": {\"align\": \"left\"}, \"hovermode\": \"closest\", \"mapbox\": {\"style\": \"light\"}, \"paper_bgcolor\": \"white\", \"plot_bgcolor\": \"#E5ECF6\", \"polar\": {\"angularaxis\": {\"gridcolor\": \"white\", \"linecolor\": \"white\", \"ticks\": \"\"}, \"bgcolor\": \"#E5ECF6\", \"radialaxis\": {\"gridcolor\": \"white\", \"linecolor\": \"white\", \"ticks\": \"\"}}, \"scene\": {\"xaxis\": {\"backgroundcolor\": \"#E5ECF6\", \"gridcolor\": \"white\", \"gridwidth\": 2, \"linecolor\": \"white\", \"showbackground\": true, \"ticks\": \"\", \"zerolinecolor\": \"white\"}, \"yaxis\": {\"backgroundcolor\": \"#E5ECF6\", \"gridcolor\": \"white\", \"gridwidth\": 2, \"linecolor\": \"white\", \"showbackground\": true, \"ticks\": \"\", \"zerolinecolor\": \"white\"}, \"zaxis\": {\"backgroundcolor\": \"#E5ECF6\", \"gridcolor\": \"white\", \"gridwidth\": 2, \"linecolor\": \"white\", \"showbackground\": true, \"ticks\": \"\", \"zerolinecolor\": \"white\"}}, \"shapedefaults\": {\"line\": {\"color\": \"#2a3f5f\"}}, \"ternary\": {\"aaxis\": {\"gridcolor\": \"white\", \"linecolor\": \"white\", \"ticks\": \"\"}, \"baxis\": {\"gridcolor\": \"white\", \"linecolor\": \"white\", \"ticks\": \"\"}, \"bgcolor\": \"#E5ECF6\", \"caxis\": {\"gridcolor\": \"white\", \"linecolor\": \"white\", \"ticks\": \"\"}}, \"title\": {\"x\": 0.05}, \"xaxis\": {\"automargin\": true, \"gridcolor\": \"white\", \"linecolor\": \"white\", \"ticks\": \"\", \"title\": {\"standoff\": 15}, \"zerolinecolor\": \"white\", \"zerolinewidth\": 2}, \"yaxis\": {\"automargin\": true, \"gridcolor\": \"white\", \"linecolor\": \"white\", \"ticks\": \"\", \"title\": {\"standoff\": 15}, \"zerolinecolor\": \"white\", \"zerolinewidth\": 2}}}, \"title\": {\"font\": {\"color\": \"#4D5663\"}}, \"xaxis\": {\"gridcolor\": \"#E1E5ED\", \"showgrid\": true, \"tickfont\": {\"color\": \"#4D5663\"}, \"title\": {\"font\": {\"color\": \"#4D5663\"}, \"text\": \"\"}, \"zerolinecolor\": \"#E1E5ED\"}, \"yaxis\": {\"gridcolor\": \"#E1E5ED\", \"showgrid\": true, \"tickfont\": {\"color\": \"#4D5663\"}, \"title\": {\"font\": {\"color\": \"#4D5663\"}, \"text\": \"\"}, \"zerolinecolor\": \"#E1E5ED\"}},\n",
       "                        {\"showLink\": true, \"linkText\": \"Export to plot.ly\", \"plotlyServerURL\": \"https://plot.ly\", \"responsive\": true}\n",
       "                    ).then(function(){\n",
       "                            \n",
       "var gd = document.getElementById('7cb55b3c-a09a-4a42-8e2f-b95de61ca396');\n",
       "var x = new MutationObserver(function (mutations, observer) {{\n",
       "        var display = window.getComputedStyle(gd).display;\n",
       "        if (!display || display === 'none') {{\n",
       "            console.log([gd, 'removed!']);\n",
       "            Plotly.purge(gd);\n",
       "            observer.disconnect();\n",
       "        }}\n",
       "}});\n",
       "\n",
       "// Listen for the removal of the full notebook cells\n",
       "var notebookContainer = gd.closest('#notebook-container');\n",
       "if (notebookContainer) {{\n",
       "    x.observe(notebookContainer, {childList: true});\n",
       "}}\n",
       "\n",
       "// Listen for the clearing of the current output cell\n",
       "var outputEl = gd.closest('.output');\n",
       "if (outputEl) {{\n",
       "    x.observe(outputEl, {childList: true});\n",
       "}}\n",
       "\n",
       "                        })\n",
       "                };\n",
       "                });\n",
       "            </script>\n",
       "        </div>"
      ]
     },
     "metadata": {},
     "output_type": "display_data"
    }
   ],
   "source": [
    "df3.iplot(kind='surface')"
   ]
  },
  {
   "cell_type": "code",
   "execution_count": 28,
   "metadata": {},
   "outputs": [],
   "source": [
    "df4 = pd.DataFrame({'x':[1,2,3,4,5],'y':[10,20,30,20,10],'z':[5,4,3,2,1]})"
   ]
  },
  {
   "cell_type": "code",
   "execution_count": 30,
   "metadata": {},
   "outputs": [
    {
     "data": {
      "application/vnd.plotly.v1+json": {
       "config": {
        "linkText": "Export to plot.ly",
        "plotlyServerURL": "https://plot.ly",
        "showLink": true
       },
       "data": [
        {
         "colorscale": [
          [
           0,
           "rgb(255, 153, 51)"
          ],
          [
           0.1111111111111111,
           "rgb(55, 128, 191)"
          ],
          [
           0.2222222222222222,
           "rgb(50, 171, 96)"
          ],
          [
           0.3333333333333333,
           "rgb(128, 0, 128)"
          ],
          [
           0.4444444444444444,
           "rgb(219, 64, 82)"
          ],
          [
           0.5555555555555556,
           "rgb(0, 128, 128)"
          ],
          [
           0.6666666666666666,
           "rgb(255, 255, 51)"
          ],
          [
           0.7777777777777778,
           "rgb(128, 128, 0)"
          ],
          [
           0.8888888888888888,
           "rgb(251, 128, 114)"
          ],
          [
           1,
           "rgb(128, 177, 211)"
          ]
         ],
         "type": "surface",
         "x": [
          0,
          1,
          2,
          3,
          4
         ],
         "y": [
          "x",
          "y",
          "z"
         ],
         "z": [
          [
           1,
           2,
           3,
           4,
           5
          ],
          [
           10,
           20,
           30,
           20,
           10
          ],
          [
           5,
           4,
           3,
           2,
           1
          ]
         ]
        }
       ],
       "layout": {
        "legend": {
         "bgcolor": "#F5F6F9",
         "font": {
          "color": "#4D5663"
         }
        },
        "paper_bgcolor": "#F5F6F9",
        "plot_bgcolor": "#F5F6F9",
        "template": {
         "data": {
          "bar": [
           {
            "error_x": {
             "color": "#2a3f5f"
            },
            "error_y": {
             "color": "#2a3f5f"
            },
            "marker": {
             "line": {
              "color": "#E5ECF6",
              "width": 0.5
             }
            },
            "type": "bar"
           }
          ],
          "barpolar": [
           {
            "marker": {
             "line": {
              "color": "#E5ECF6",
              "width": 0.5
             }
            },
            "type": "barpolar"
           }
          ],
          "carpet": [
           {
            "aaxis": {
             "endlinecolor": "#2a3f5f",
             "gridcolor": "white",
             "linecolor": "white",
             "minorgridcolor": "white",
             "startlinecolor": "#2a3f5f"
            },
            "baxis": {
             "endlinecolor": "#2a3f5f",
             "gridcolor": "white",
             "linecolor": "white",
             "minorgridcolor": "white",
             "startlinecolor": "#2a3f5f"
            },
            "type": "carpet"
           }
          ],
          "choropleth": [
           {
            "colorbar": {
             "outlinewidth": 0,
             "ticks": ""
            },
            "type": "choropleth"
           }
          ],
          "contour": [
           {
            "colorbar": {
             "outlinewidth": 0,
             "ticks": ""
            },
            "colorscale": [
             [
              0,
              "#0d0887"
             ],
             [
              0.1111111111111111,
              "#46039f"
             ],
             [
              0.2222222222222222,
              "#7201a8"
             ],
             [
              0.3333333333333333,
              "#9c179e"
             ],
             [
              0.4444444444444444,
              "#bd3786"
             ],
             [
              0.5555555555555556,
              "#d8576b"
             ],
             [
              0.6666666666666666,
              "#ed7953"
             ],
             [
              0.7777777777777778,
              "#fb9f3a"
             ],
             [
              0.8888888888888888,
              "#fdca26"
             ],
             [
              1,
              "#f0f921"
             ]
            ],
            "type": "contour"
           }
          ],
          "contourcarpet": [
           {
            "colorbar": {
             "outlinewidth": 0,
             "ticks": ""
            },
            "type": "contourcarpet"
           }
          ],
          "heatmap": [
           {
            "colorbar": {
             "outlinewidth": 0,
             "ticks": ""
            },
            "colorscale": [
             [
              0,
              "#0d0887"
             ],
             [
              0.1111111111111111,
              "#46039f"
             ],
             [
              0.2222222222222222,
              "#7201a8"
             ],
             [
              0.3333333333333333,
              "#9c179e"
             ],
             [
              0.4444444444444444,
              "#bd3786"
             ],
             [
              0.5555555555555556,
              "#d8576b"
             ],
             [
              0.6666666666666666,
              "#ed7953"
             ],
             [
              0.7777777777777778,
              "#fb9f3a"
             ],
             [
              0.8888888888888888,
              "#fdca26"
             ],
             [
              1,
              "#f0f921"
             ]
            ],
            "type": "heatmap"
           }
          ],
          "heatmapgl": [
           {
            "colorbar": {
             "outlinewidth": 0,
             "ticks": ""
            },
            "colorscale": [
             [
              0,
              "#0d0887"
             ],
             [
              0.1111111111111111,
              "#46039f"
             ],
             [
              0.2222222222222222,
              "#7201a8"
             ],
             [
              0.3333333333333333,
              "#9c179e"
             ],
             [
              0.4444444444444444,
              "#bd3786"
             ],
             [
              0.5555555555555556,
              "#d8576b"
             ],
             [
              0.6666666666666666,
              "#ed7953"
             ],
             [
              0.7777777777777778,
              "#fb9f3a"
             ],
             [
              0.8888888888888888,
              "#fdca26"
             ],
             [
              1,
              "#f0f921"
             ]
            ],
            "type": "heatmapgl"
           }
          ],
          "histogram": [
           {
            "marker": {
             "colorbar": {
              "outlinewidth": 0,
              "ticks": ""
             }
            },
            "type": "histogram"
           }
          ],
          "histogram2d": [
           {
            "colorbar": {
             "outlinewidth": 0,
             "ticks": ""
            },
            "colorscale": [
             [
              0,
              "#0d0887"
             ],
             [
              0.1111111111111111,
              "#46039f"
             ],
             [
              0.2222222222222222,
              "#7201a8"
             ],
             [
              0.3333333333333333,
              "#9c179e"
             ],
             [
              0.4444444444444444,
              "#bd3786"
             ],
             [
              0.5555555555555556,
              "#d8576b"
             ],
             [
              0.6666666666666666,
              "#ed7953"
             ],
             [
              0.7777777777777778,
              "#fb9f3a"
             ],
             [
              0.8888888888888888,
              "#fdca26"
             ],
             [
              1,
              "#f0f921"
             ]
            ],
            "type": "histogram2d"
           }
          ],
          "histogram2dcontour": [
           {
            "colorbar": {
             "outlinewidth": 0,
             "ticks": ""
            },
            "colorscale": [
             [
              0,
              "#0d0887"
             ],
             [
              0.1111111111111111,
              "#46039f"
             ],
             [
              0.2222222222222222,
              "#7201a8"
             ],
             [
              0.3333333333333333,
              "#9c179e"
             ],
             [
              0.4444444444444444,
              "#bd3786"
             ],
             [
              0.5555555555555556,
              "#d8576b"
             ],
             [
              0.6666666666666666,
              "#ed7953"
             ],
             [
              0.7777777777777778,
              "#fb9f3a"
             ],
             [
              0.8888888888888888,
              "#fdca26"
             ],
             [
              1,
              "#f0f921"
             ]
            ],
            "type": "histogram2dcontour"
           }
          ],
          "mesh3d": [
           {
            "colorbar": {
             "outlinewidth": 0,
             "ticks": ""
            },
            "type": "mesh3d"
           }
          ],
          "parcoords": [
           {
            "line": {
             "colorbar": {
              "outlinewidth": 0,
              "ticks": ""
             }
            },
            "type": "parcoords"
           }
          ],
          "pie": [
           {
            "automargin": true,
            "type": "pie"
           }
          ],
          "scatter": [
           {
            "marker": {
             "colorbar": {
              "outlinewidth": 0,
              "ticks": ""
             }
            },
            "type": "scatter"
           }
          ],
          "scatter3d": [
           {
            "line": {
             "colorbar": {
              "outlinewidth": 0,
              "ticks": ""
             }
            },
            "marker": {
             "colorbar": {
              "outlinewidth": 0,
              "ticks": ""
             }
            },
            "type": "scatter3d"
           }
          ],
          "scattercarpet": [
           {
            "marker": {
             "colorbar": {
              "outlinewidth": 0,
              "ticks": ""
             }
            },
            "type": "scattercarpet"
           }
          ],
          "scattergeo": [
           {
            "marker": {
             "colorbar": {
              "outlinewidth": 0,
              "ticks": ""
             }
            },
            "type": "scattergeo"
           }
          ],
          "scattergl": [
           {
            "marker": {
             "colorbar": {
              "outlinewidth": 0,
              "ticks": ""
             }
            },
            "type": "scattergl"
           }
          ],
          "scattermapbox": [
           {
            "marker": {
             "colorbar": {
              "outlinewidth": 0,
              "ticks": ""
             }
            },
            "type": "scattermapbox"
           }
          ],
          "scatterpolar": [
           {
            "marker": {
             "colorbar": {
              "outlinewidth": 0,
              "ticks": ""
             }
            },
            "type": "scatterpolar"
           }
          ],
          "scatterpolargl": [
           {
            "marker": {
             "colorbar": {
              "outlinewidth": 0,
              "ticks": ""
             }
            },
            "type": "scatterpolargl"
           }
          ],
          "scatterternary": [
           {
            "marker": {
             "colorbar": {
              "outlinewidth": 0,
              "ticks": ""
             }
            },
            "type": "scatterternary"
           }
          ],
          "surface": [
           {
            "colorbar": {
             "outlinewidth": 0,
             "ticks": ""
            },
            "colorscale": [
             [
              0,
              "#0d0887"
             ],
             [
              0.1111111111111111,
              "#46039f"
             ],
             [
              0.2222222222222222,
              "#7201a8"
             ],
             [
              0.3333333333333333,
              "#9c179e"
             ],
             [
              0.4444444444444444,
              "#bd3786"
             ],
             [
              0.5555555555555556,
              "#d8576b"
             ],
             [
              0.6666666666666666,
              "#ed7953"
             ],
             [
              0.7777777777777778,
              "#fb9f3a"
             ],
             [
              0.8888888888888888,
              "#fdca26"
             ],
             [
              1,
              "#f0f921"
             ]
            ],
            "type": "surface"
           }
          ],
          "table": [
           {
            "cells": {
             "fill": {
              "color": "#EBF0F8"
             },
             "line": {
              "color": "white"
             }
            },
            "header": {
             "fill": {
              "color": "#C8D4E3"
             },
             "line": {
              "color": "white"
             }
            },
            "type": "table"
           }
          ]
         },
         "layout": {
          "annotationdefaults": {
           "arrowcolor": "#2a3f5f",
           "arrowhead": 0,
           "arrowwidth": 1
          },
          "coloraxis": {
           "colorbar": {
            "outlinewidth": 0,
            "ticks": ""
           }
          },
          "colorscale": {
           "diverging": [
            [
             0,
             "#8e0152"
            ],
            [
             0.1,
             "#c51b7d"
            ],
            [
             0.2,
             "#de77ae"
            ],
            [
             0.3,
             "#f1b6da"
            ],
            [
             0.4,
             "#fde0ef"
            ],
            [
             0.5,
             "#f7f7f7"
            ],
            [
             0.6,
             "#e6f5d0"
            ],
            [
             0.7,
             "#b8e186"
            ],
            [
             0.8,
             "#7fbc41"
            ],
            [
             0.9,
             "#4d9221"
            ],
            [
             1,
             "#276419"
            ]
           ],
           "sequential": [
            [
             0,
             "#0d0887"
            ],
            [
             0.1111111111111111,
             "#46039f"
            ],
            [
             0.2222222222222222,
             "#7201a8"
            ],
            [
             0.3333333333333333,
             "#9c179e"
            ],
            [
             0.4444444444444444,
             "#bd3786"
            ],
            [
             0.5555555555555556,
             "#d8576b"
            ],
            [
             0.6666666666666666,
             "#ed7953"
            ],
            [
             0.7777777777777778,
             "#fb9f3a"
            ],
            [
             0.8888888888888888,
             "#fdca26"
            ],
            [
             1,
             "#f0f921"
            ]
           ],
           "sequentialminus": [
            [
             0,
             "#0d0887"
            ],
            [
             0.1111111111111111,
             "#46039f"
            ],
            [
             0.2222222222222222,
             "#7201a8"
            ],
            [
             0.3333333333333333,
             "#9c179e"
            ],
            [
             0.4444444444444444,
             "#bd3786"
            ],
            [
             0.5555555555555556,
             "#d8576b"
            ],
            [
             0.6666666666666666,
             "#ed7953"
            ],
            [
             0.7777777777777778,
             "#fb9f3a"
            ],
            [
             0.8888888888888888,
             "#fdca26"
            ],
            [
             1,
             "#f0f921"
            ]
           ]
          },
          "colorway": [
           "#636efa",
           "#EF553B",
           "#00cc96",
           "#ab63fa",
           "#FFA15A",
           "#19d3f3",
           "#FF6692",
           "#B6E880",
           "#FF97FF",
           "#FECB52"
          ],
          "font": {
           "color": "#2a3f5f"
          },
          "geo": {
           "bgcolor": "white",
           "lakecolor": "white",
           "landcolor": "#E5ECF6",
           "showlakes": true,
           "showland": true,
           "subunitcolor": "white"
          },
          "hoverlabel": {
           "align": "left"
          },
          "hovermode": "closest",
          "mapbox": {
           "style": "light"
          },
          "paper_bgcolor": "white",
          "plot_bgcolor": "#E5ECF6",
          "polar": {
           "angularaxis": {
            "gridcolor": "white",
            "linecolor": "white",
            "ticks": ""
           },
           "bgcolor": "#E5ECF6",
           "radialaxis": {
            "gridcolor": "white",
            "linecolor": "white",
            "ticks": ""
           }
          },
          "scene": {
           "xaxis": {
            "backgroundcolor": "#E5ECF6",
            "gridcolor": "white",
            "gridwidth": 2,
            "linecolor": "white",
            "showbackground": true,
            "ticks": "",
            "zerolinecolor": "white"
           },
           "yaxis": {
            "backgroundcolor": "#E5ECF6",
            "gridcolor": "white",
            "gridwidth": 2,
            "linecolor": "white",
            "showbackground": true,
            "ticks": "",
            "zerolinecolor": "white"
           },
           "zaxis": {
            "backgroundcolor": "#E5ECF6",
            "gridcolor": "white",
            "gridwidth": 2,
            "linecolor": "white",
            "showbackground": true,
            "ticks": "",
            "zerolinecolor": "white"
           }
          },
          "shapedefaults": {
           "line": {
            "color": "#2a3f5f"
           }
          },
          "ternary": {
           "aaxis": {
            "gridcolor": "white",
            "linecolor": "white",
            "ticks": ""
           },
           "baxis": {
            "gridcolor": "white",
            "linecolor": "white",
            "ticks": ""
           },
           "bgcolor": "#E5ECF6",
           "caxis": {
            "gridcolor": "white",
            "linecolor": "white",
            "ticks": ""
           }
          },
          "title": {
           "x": 0.05
          },
          "xaxis": {
           "automargin": true,
           "gridcolor": "white",
           "linecolor": "white",
           "ticks": "",
           "title": {
            "standoff": 15
           },
           "zerolinecolor": "white",
           "zerolinewidth": 2
          },
          "yaxis": {
           "automargin": true,
           "gridcolor": "white",
           "linecolor": "white",
           "ticks": "",
           "title": {
            "standoff": 15
           },
           "zerolinecolor": "white",
           "zerolinewidth": 2
          }
         }
        },
        "title": {
         "font": {
          "color": "#4D5663"
         }
        },
        "xaxis": {
         "gridcolor": "#E1E5ED",
         "showgrid": true,
         "tickfont": {
          "color": "#4D5663"
         },
         "title": {
          "font": {
           "color": "#4D5663"
          },
          "text": ""
         },
         "zerolinecolor": "#E1E5ED"
        },
        "yaxis": {
         "gridcolor": "#E1E5ED",
         "showgrid": true,
         "tickfont": {
          "color": "#4D5663"
         },
         "title": {
          "font": {
           "color": "#4D5663"
          },
          "text": ""
         },
         "zerolinecolor": "#E1E5ED"
        }
       }
      },
      "text/html": [
       "<div>\n",
       "        \n",
       "        \n",
       "            <div id=\"6f352c97-4c30-48d2-b3a2-ee75891d1395\" class=\"plotly-graph-div\" style=\"height:525px; width:100%;\"></div>\n",
       "            <script type=\"text/javascript\">\n",
       "                require([\"plotly\"], function(Plotly) {\n",
       "                    window.PLOTLYENV=window.PLOTLYENV || {};\n",
       "                    window.PLOTLYENV.BASE_URL='https://plot.ly';\n",
       "                    \n",
       "                if (document.getElementById(\"6f352c97-4c30-48d2-b3a2-ee75891d1395\")) {\n",
       "                    Plotly.newPlot(\n",
       "                        '6f352c97-4c30-48d2-b3a2-ee75891d1395',\n",
       "                        [{\"colorscale\": [[0.0, \"rgb(255, 153, 51)\"], [0.1111111111111111, \"rgb(55, 128, 191)\"], [0.2222222222222222, \"rgb(50, 171, 96)\"], [0.3333333333333333, \"rgb(128, 0, 128)\"], [0.4444444444444444, \"rgb(219, 64, 82)\"], [0.5555555555555556, \"rgb(0, 128, 128)\"], [0.6666666666666666, \"rgb(255, 255, 51)\"], [0.7777777777777778, \"rgb(128, 128, 0)\"], [0.8888888888888888, \"rgb(251, 128, 114)\"], [1.0, \"rgb(128, 177, 211)\"]], \"type\": \"surface\", \"x\": [0, 1, 2, 3, 4], \"y\": [\"x\", \"y\", \"z\"], \"z\": [[1, 2, 3, 4, 5], [10, 20, 30, 20, 10], [5, 4, 3, 2, 1]]}],\n",
       "                        {\"legend\": {\"bgcolor\": \"#F5F6F9\", \"font\": {\"color\": \"#4D5663\"}}, \"paper_bgcolor\": \"#F5F6F9\", \"plot_bgcolor\": \"#F5F6F9\", \"template\": {\"data\": {\"bar\": [{\"error_x\": {\"color\": \"#2a3f5f\"}, \"error_y\": {\"color\": \"#2a3f5f\"}, \"marker\": {\"line\": {\"color\": \"#E5ECF6\", \"width\": 0.5}}, \"type\": \"bar\"}], \"barpolar\": [{\"marker\": {\"line\": {\"color\": \"#E5ECF6\", \"width\": 0.5}}, \"type\": \"barpolar\"}], \"carpet\": [{\"aaxis\": {\"endlinecolor\": \"#2a3f5f\", \"gridcolor\": \"white\", \"linecolor\": \"white\", \"minorgridcolor\": \"white\", \"startlinecolor\": \"#2a3f5f\"}, \"baxis\": {\"endlinecolor\": \"#2a3f5f\", \"gridcolor\": \"white\", \"linecolor\": \"white\", \"minorgridcolor\": \"white\", \"startlinecolor\": \"#2a3f5f\"}, \"type\": \"carpet\"}], \"choropleth\": [{\"colorbar\": {\"outlinewidth\": 0, \"ticks\": \"\"}, \"type\": \"choropleth\"}], \"contour\": [{\"colorbar\": {\"outlinewidth\": 0, \"ticks\": \"\"}, \"colorscale\": [[0.0, \"#0d0887\"], [0.1111111111111111, \"#46039f\"], [0.2222222222222222, \"#7201a8\"], [0.3333333333333333, \"#9c179e\"], [0.4444444444444444, \"#bd3786\"], [0.5555555555555556, \"#d8576b\"], [0.6666666666666666, \"#ed7953\"], [0.7777777777777778, \"#fb9f3a\"], [0.8888888888888888, \"#fdca26\"], [1.0, \"#f0f921\"]], \"type\": \"contour\"}], \"contourcarpet\": [{\"colorbar\": {\"outlinewidth\": 0, \"ticks\": \"\"}, \"type\": \"contourcarpet\"}], \"heatmap\": [{\"colorbar\": {\"outlinewidth\": 0, \"ticks\": \"\"}, \"colorscale\": [[0.0, \"#0d0887\"], [0.1111111111111111, \"#46039f\"], [0.2222222222222222, \"#7201a8\"], [0.3333333333333333, \"#9c179e\"], [0.4444444444444444, \"#bd3786\"], [0.5555555555555556, \"#d8576b\"], [0.6666666666666666, \"#ed7953\"], [0.7777777777777778, \"#fb9f3a\"], [0.8888888888888888, \"#fdca26\"], [1.0, \"#f0f921\"]], \"type\": \"heatmap\"}], \"heatmapgl\": [{\"colorbar\": {\"outlinewidth\": 0, \"ticks\": \"\"}, \"colorscale\": [[0.0, \"#0d0887\"], [0.1111111111111111, \"#46039f\"], [0.2222222222222222, \"#7201a8\"], [0.3333333333333333, \"#9c179e\"], [0.4444444444444444, \"#bd3786\"], [0.5555555555555556, \"#d8576b\"], [0.6666666666666666, \"#ed7953\"], [0.7777777777777778, \"#fb9f3a\"], [0.8888888888888888, \"#fdca26\"], [1.0, \"#f0f921\"]], \"type\": \"heatmapgl\"}], \"histogram\": [{\"marker\": {\"colorbar\": {\"outlinewidth\": 0, \"ticks\": \"\"}}, \"type\": \"histogram\"}], \"histogram2d\": [{\"colorbar\": {\"outlinewidth\": 0, \"ticks\": \"\"}, \"colorscale\": [[0.0, \"#0d0887\"], [0.1111111111111111, \"#46039f\"], [0.2222222222222222, \"#7201a8\"], [0.3333333333333333, \"#9c179e\"], [0.4444444444444444, \"#bd3786\"], [0.5555555555555556, \"#d8576b\"], [0.6666666666666666, \"#ed7953\"], [0.7777777777777778, \"#fb9f3a\"], [0.8888888888888888, \"#fdca26\"], [1.0, \"#f0f921\"]], \"type\": \"histogram2d\"}], \"histogram2dcontour\": [{\"colorbar\": {\"outlinewidth\": 0, \"ticks\": \"\"}, \"colorscale\": [[0.0, \"#0d0887\"], [0.1111111111111111, \"#46039f\"], [0.2222222222222222, \"#7201a8\"], [0.3333333333333333, \"#9c179e\"], [0.4444444444444444, \"#bd3786\"], [0.5555555555555556, \"#d8576b\"], [0.6666666666666666, \"#ed7953\"], [0.7777777777777778, \"#fb9f3a\"], [0.8888888888888888, \"#fdca26\"], [1.0, \"#f0f921\"]], \"type\": \"histogram2dcontour\"}], \"mesh3d\": [{\"colorbar\": {\"outlinewidth\": 0, \"ticks\": \"\"}, \"type\": \"mesh3d\"}], \"parcoords\": [{\"line\": {\"colorbar\": {\"outlinewidth\": 0, \"ticks\": \"\"}}, \"type\": \"parcoords\"}], \"pie\": [{\"automargin\": true, \"type\": \"pie\"}], \"scatter\": [{\"marker\": {\"colorbar\": {\"outlinewidth\": 0, \"ticks\": \"\"}}, \"type\": \"scatter\"}], \"scatter3d\": [{\"line\": {\"colorbar\": {\"outlinewidth\": 0, \"ticks\": \"\"}}, \"marker\": {\"colorbar\": {\"outlinewidth\": 0, \"ticks\": \"\"}}, \"type\": \"scatter3d\"}], \"scattercarpet\": [{\"marker\": {\"colorbar\": {\"outlinewidth\": 0, \"ticks\": \"\"}}, \"type\": \"scattercarpet\"}], \"scattergeo\": [{\"marker\": {\"colorbar\": {\"outlinewidth\": 0, \"ticks\": \"\"}}, \"type\": \"scattergeo\"}], \"scattergl\": [{\"marker\": {\"colorbar\": {\"outlinewidth\": 0, \"ticks\": \"\"}}, \"type\": \"scattergl\"}], \"scattermapbox\": [{\"marker\": {\"colorbar\": {\"outlinewidth\": 0, \"ticks\": \"\"}}, \"type\": \"scattermapbox\"}], \"scatterpolar\": [{\"marker\": {\"colorbar\": {\"outlinewidth\": 0, \"ticks\": \"\"}}, \"type\": \"scatterpolar\"}], \"scatterpolargl\": [{\"marker\": {\"colorbar\": {\"outlinewidth\": 0, \"ticks\": \"\"}}, \"type\": \"scatterpolargl\"}], \"scatterternary\": [{\"marker\": {\"colorbar\": {\"outlinewidth\": 0, \"ticks\": \"\"}}, \"type\": \"scatterternary\"}], \"surface\": [{\"colorbar\": {\"outlinewidth\": 0, \"ticks\": \"\"}, \"colorscale\": [[0.0, \"#0d0887\"], [0.1111111111111111, \"#46039f\"], [0.2222222222222222, \"#7201a8\"], [0.3333333333333333, \"#9c179e\"], [0.4444444444444444, \"#bd3786\"], [0.5555555555555556, \"#d8576b\"], [0.6666666666666666, \"#ed7953\"], [0.7777777777777778, \"#fb9f3a\"], [0.8888888888888888, \"#fdca26\"], [1.0, \"#f0f921\"]], \"type\": \"surface\"}], \"table\": [{\"cells\": {\"fill\": {\"color\": \"#EBF0F8\"}, \"line\": {\"color\": \"white\"}}, \"header\": {\"fill\": {\"color\": \"#C8D4E3\"}, \"line\": {\"color\": \"white\"}}, \"type\": \"table\"}]}, \"layout\": {\"annotationdefaults\": {\"arrowcolor\": \"#2a3f5f\", \"arrowhead\": 0, \"arrowwidth\": 1}, \"coloraxis\": {\"colorbar\": {\"outlinewidth\": 0, \"ticks\": \"\"}}, \"colorscale\": {\"diverging\": [[0, \"#8e0152\"], [0.1, \"#c51b7d\"], [0.2, \"#de77ae\"], [0.3, \"#f1b6da\"], [0.4, \"#fde0ef\"], [0.5, \"#f7f7f7\"], [0.6, \"#e6f5d0\"], [0.7, \"#b8e186\"], [0.8, \"#7fbc41\"], [0.9, \"#4d9221\"], [1, \"#276419\"]], \"sequential\": [[0.0, \"#0d0887\"], [0.1111111111111111, \"#46039f\"], [0.2222222222222222, \"#7201a8\"], [0.3333333333333333, \"#9c179e\"], [0.4444444444444444, \"#bd3786\"], [0.5555555555555556, \"#d8576b\"], [0.6666666666666666, \"#ed7953\"], [0.7777777777777778, \"#fb9f3a\"], [0.8888888888888888, \"#fdca26\"], [1.0, \"#f0f921\"]], \"sequentialminus\": [[0.0, \"#0d0887\"], [0.1111111111111111, \"#46039f\"], [0.2222222222222222, \"#7201a8\"], [0.3333333333333333, \"#9c179e\"], [0.4444444444444444, \"#bd3786\"], [0.5555555555555556, \"#d8576b\"], [0.6666666666666666, \"#ed7953\"], [0.7777777777777778, \"#fb9f3a\"], [0.8888888888888888, \"#fdca26\"], [1.0, \"#f0f921\"]]}, \"colorway\": [\"#636efa\", \"#EF553B\", \"#00cc96\", \"#ab63fa\", \"#FFA15A\", \"#19d3f3\", \"#FF6692\", \"#B6E880\", \"#FF97FF\", \"#FECB52\"], \"font\": {\"color\": \"#2a3f5f\"}, \"geo\": {\"bgcolor\": \"white\", \"lakecolor\": \"white\", \"landcolor\": \"#E5ECF6\", \"showlakes\": true, \"showland\": true, \"subunitcolor\": \"white\"}, \"hoverlabel\": {\"align\": \"left\"}, \"hovermode\": \"closest\", \"mapbox\": {\"style\": \"light\"}, \"paper_bgcolor\": \"white\", \"plot_bgcolor\": \"#E5ECF6\", \"polar\": {\"angularaxis\": {\"gridcolor\": \"white\", \"linecolor\": \"white\", \"ticks\": \"\"}, \"bgcolor\": \"#E5ECF6\", \"radialaxis\": {\"gridcolor\": \"white\", \"linecolor\": \"white\", \"ticks\": \"\"}}, \"scene\": {\"xaxis\": {\"backgroundcolor\": \"#E5ECF6\", \"gridcolor\": \"white\", \"gridwidth\": 2, \"linecolor\": \"white\", \"showbackground\": true, \"ticks\": \"\", \"zerolinecolor\": \"white\"}, \"yaxis\": {\"backgroundcolor\": \"#E5ECF6\", \"gridcolor\": \"white\", \"gridwidth\": 2, \"linecolor\": \"white\", \"showbackground\": true, \"ticks\": \"\", \"zerolinecolor\": \"white\"}, \"zaxis\": {\"backgroundcolor\": \"#E5ECF6\", \"gridcolor\": \"white\", \"gridwidth\": 2, \"linecolor\": \"white\", \"showbackground\": true, \"ticks\": \"\", \"zerolinecolor\": \"white\"}}, \"shapedefaults\": {\"line\": {\"color\": \"#2a3f5f\"}}, \"ternary\": {\"aaxis\": {\"gridcolor\": \"white\", \"linecolor\": \"white\", \"ticks\": \"\"}, \"baxis\": {\"gridcolor\": \"white\", \"linecolor\": \"white\", \"ticks\": \"\"}, \"bgcolor\": \"#E5ECF6\", \"caxis\": {\"gridcolor\": \"white\", \"linecolor\": \"white\", \"ticks\": \"\"}}, \"title\": {\"x\": 0.05}, \"xaxis\": {\"automargin\": true, \"gridcolor\": \"white\", \"linecolor\": \"white\", \"ticks\": \"\", \"title\": {\"standoff\": 15}, \"zerolinecolor\": \"white\", \"zerolinewidth\": 2}, \"yaxis\": {\"automargin\": true, \"gridcolor\": \"white\", \"linecolor\": \"white\", \"ticks\": \"\", \"title\": {\"standoff\": 15}, \"zerolinecolor\": \"white\", \"zerolinewidth\": 2}}}, \"title\": {\"font\": {\"color\": \"#4D5663\"}}, \"xaxis\": {\"gridcolor\": \"#E1E5ED\", \"showgrid\": true, \"tickfont\": {\"color\": \"#4D5663\"}, \"title\": {\"font\": {\"color\": \"#4D5663\"}, \"text\": \"\"}, \"zerolinecolor\": \"#E1E5ED\"}, \"yaxis\": {\"gridcolor\": \"#E1E5ED\", \"showgrid\": true, \"tickfont\": {\"color\": \"#4D5663\"}, \"title\": {\"font\": {\"color\": \"#4D5663\"}, \"text\": \"\"}, \"zerolinecolor\": \"#E1E5ED\"}},\n",
       "                        {\"showLink\": true, \"linkText\": \"Export to plot.ly\", \"plotlyServerURL\": \"https://plot.ly\", \"responsive\": true}\n",
       "                    ).then(function(){\n",
       "                            \n",
       "var gd = document.getElementById('6f352c97-4c30-48d2-b3a2-ee75891d1395');\n",
       "var x = new MutationObserver(function (mutations, observer) {{\n",
       "        var display = window.getComputedStyle(gd).display;\n",
       "        if (!display || display === 'none') {{\n",
       "            console.log([gd, 'removed!']);\n",
       "            Plotly.purge(gd);\n",
       "            observer.disconnect();\n",
       "        }}\n",
       "}});\n",
       "\n",
       "// Listen for the removal of the full notebook cells\n",
       "var notebookContainer = gd.closest('#notebook-container');\n",
       "if (notebookContainer) {{\n",
       "    x.observe(notebookContainer, {childList: true});\n",
       "}}\n",
       "\n",
       "// Listen for the clearing of the current output cell\n",
       "var outputEl = gd.closest('.output');\n",
       "if (outputEl) {{\n",
       "    x.observe(outputEl, {childList: true});\n",
       "}}\n",
       "\n",
       "                        })\n",
       "                };\n",
       "                });\n",
       "            </script>\n",
       "        </div>"
      ]
     },
     "metadata": {},
     "output_type": "display_data"
    }
   ],
   "source": [
    "df4.iplot(kind='surface')"
   ]
  },
  {
   "cell_type": "code",
   "execution_count": 31,
   "metadata": {},
   "outputs": [
    {
     "data": {
      "application/vnd.plotly.v1+json": {
       "config": {
        "linkText": "Export to plot.ly",
        "plotlyServerURL": "https://plot.ly",
        "showLink": true
       },
       "data": [
        {
         "line": {
          "color": "rgba(255, 153, 51, 1.0)",
          "dash": "solid",
          "shape": "linear",
          "width": 1.3
         },
         "mode": "lines",
         "name": "A",
         "text": "",
         "type": "scatter",
         "x": [
          0,
          1,
          2,
          3,
          4,
          5,
          6,
          7,
          8,
          9,
          10,
          11,
          12,
          13,
          14,
          15,
          16,
          17,
          18,
          19,
          20,
          21,
          22,
          23,
          24,
          25,
          26,
          27,
          28,
          29,
          30,
          31,
          32,
          33,
          34,
          35,
          36,
          37,
          38,
          39,
          40,
          41,
          42,
          43,
          44,
          45,
          46,
          47,
          48,
          49,
          50,
          51,
          52,
          53,
          54,
          55,
          56,
          57,
          58,
          59,
          60,
          61,
          62,
          63,
          64,
          65,
          66,
          67,
          68,
          69,
          70,
          71,
          72,
          73,
          74,
          75,
          76,
          77,
          78,
          79,
          80,
          81,
          82,
          83,
          84,
          85,
          86,
          87,
          88,
          89,
          90,
          91,
          92,
          93,
          94,
          95,
          96,
          97,
          98,
          99
         ],
         "y": [
          0.7921346859019157,
          1.946825695054702,
          1.4163203147173689,
          0.1161272154136565,
          0.7557025036279604,
          -0.7350872131145143,
          1.6071158265686813,
          -0.6369620656059007,
          0.8497778207394941,
          -0.33749859130626686,
          1.2280973838411833,
          0.036716134725273894,
          -0.3037665937695192,
          0.8239925184967525,
          -1.3538724565017246,
          -0.45194949085156416,
          -1.913074905602045,
          0.17762581698740607,
          -0.7004150163916316,
          0.03188946476696092,
          -0.7719163151332366,
          0.2905161338207252,
          1.4934765893559856,
          1.1517359541867793,
          1.4005117647742198,
          -0.6275397842825213,
          0.8926363946884873,
          -1.0677207378979978,
          -0.19471466043106184,
          0.1529956333359573,
          -0.8218180765611363,
          -0.8503299315540951,
          2.746705232928189,
          0.8121025992904255,
          2.1918060723428723,
          0.1828701452483579,
          0.4455028799628107,
          -0.5193802210214439,
          1.104547831058544,
          0.6594367637087866,
          -1.313520282034992,
          1.190998233995262,
          -0.49647494111496654,
          0.06890857086669673,
          0.8211669474128339,
          -0.6181956721468078,
          -0.31902044193029055,
          -0.19023723733723844,
          0.6886533928938934,
          -0.9332439063027611,
          -0.17051026893912857,
          0.051544294241111815,
          -0.4159263649641647,
          0.8566264197567114,
          0.29402607091862265,
          -1.099818139175731,
          -1.1314940858303717,
          0.9281480352753586,
          -0.13439689942833424,
          0.045604618865690276,
          -0.9979314517757257,
          -0.07269042102427148,
          -0.5356990006428285,
          -1.1990026834526482,
          0.1976306802793206,
          -0.6760867737177405,
          -0.4370643149105769,
          1.7123117467895295,
          1.8799972780063177,
          -0.07036592754360131,
          1.903342736762849,
          -0.7909243457034956,
          -0.21648795712901556,
          -0.18759480763157985,
          -0.17191582545359513,
          1.2163634807475439,
          1.1517611276683175,
          -0.7984270716400544,
          0.7817741035366015,
          2.2456629185031023,
          1.389344614456707,
          0.5726770872579274,
          -0.05996906126751653,
          0.3420213779390641,
          -0.2379680007605113,
          0.3649105284334666,
          0.263804800291932,
          0.3277197543628306,
          -0.2530061140131053,
          1.1758363314661346,
          -0.08852367242694675,
          -0.22481209189451987,
          0.15802992649044043,
          -1.5061386445028795,
          0.6729920524858238,
          -0.3211746441519791,
          1.018943249519832,
          -1.7824913063580343,
          0.891561971167367,
          -1.1815199382522332
         ]
        },
        {
         "line": {
          "color": "rgba(55, 128, 191, 1.0)",
          "dash": "solid",
          "shape": "linear",
          "width": 1.3
         },
         "mode": "lines",
         "name": "B",
         "text": "",
         "type": "scatter",
         "x": [
          0,
          1,
          2,
          3,
          4,
          5,
          6,
          7,
          8,
          9,
          10,
          11,
          12,
          13,
          14,
          15,
          16,
          17,
          18,
          19,
          20,
          21,
          22,
          23,
          24,
          25,
          26,
          27,
          28,
          29,
          30,
          31,
          32,
          33,
          34,
          35,
          36,
          37,
          38,
          39,
          40,
          41,
          42,
          43,
          44,
          45,
          46,
          47,
          48,
          49,
          50,
          51,
          52,
          53,
          54,
          55,
          56,
          57,
          58,
          59,
          60,
          61,
          62,
          63,
          64,
          65,
          66,
          67,
          68,
          69,
          70,
          71,
          72,
          73,
          74,
          75,
          76,
          77,
          78,
          79,
          80,
          81,
          82,
          83,
          84,
          85,
          86,
          87,
          88,
          89,
          90,
          91,
          92,
          93,
          94,
          95,
          96,
          97,
          98,
          99
         ],
         "y": [
          -0.755353873179904,
          -0.4256767679096191,
          0.8157780024246971,
          -2.2541977161527247,
          -0.7233269440454809,
          -0.3786556373601695,
          -0.4195600810812267,
          -1.0793100455317586,
          0.8220363590786557,
          0.48768333438156214,
          1.3906112268818829,
          -1.660562236233282,
          1.2811839261911535,
          -0.8915535733622445,
          -0.42391847699293117,
          0.1113894103911496,
          1.141630830605558,
          -1.2483726382556115,
          0.8449777733211241,
          -0.5021909158980505,
          1.8137801708054053,
          -1.0325995855976582,
          1.2385329606445827,
          0.2742951614108968,
          -0.04380311529890623,
          -0.3111212097926691,
          0.21211975876158917,
          1.3149102153503898,
          2.4643229801701025,
          -0.619603592493676,
          -0.747113629066319,
          0.5431806643475502,
          -0.2734201992074562,
          -1.3360418266526963,
          0.8090919933441999,
          -0.031279339706645655,
          -0.037058879582681205,
          1.0157389257755776,
          -0.48043568443838675,
          0.31485240310950013,
          -0.7130777817802696,
          0.5197397848035694,
          -1.418160664078292,
          1.1033388571762677,
          0.9979752730335754,
          2.83369159311136,
          1.9073160281621018,
          0.38186024604961033,
          -1.1806003432890024,
          -0.5143575584503659,
          -0.3957816536562888,
          -0.5268066455809626,
          -0.15014706606849018,
          0.13173277087200919,
          1.93981894214876,
          -0.3902593736360637,
          1.6358481423378353,
          0.8115150249350609,
          -0.8555629872017407,
          0.18761674013119092,
          -0.7905156503572589,
          -0.4615672762918858,
          0.34482776614752947,
          0.19434981423092712,
          0.8244631807844324,
          0.1701337758593794,
          1.8909263075644804,
          -0.6636415622048087,
          0.6314810168714927,
          0.36476490047848975,
          0.47866952971355303,
          1.2887293734556127,
          -0.266023327476621,
          -0.1502322605674205,
          -1.1503150530123967,
          0.08230965925441752,
          -0.562349929195335,
          -1.9553643072289255,
          0.5447662913675482,
          0.8458391678364608,
          -0.3923223744037829,
          -0.4830673950348278,
          0.9697117616204505,
          -0.6558959572087942,
          -0.1786710138083607,
          0.4673075927125077,
          0.5895188619517944,
          -1.644346405559177,
          1.018096940218595,
          0.3002176019003145,
          -0.26036541607405717,
          -0.3552758805482968,
          1.138262275081289,
          0.16586658168269822,
          -1.5356808881214654,
          -2.525725571839549,
          1.3261952687937644,
          0.3440020565671146,
          -1.024023927456685,
          -0.026135700939124245
         ]
        },
        {
         "connectgaps": false,
         "fill": "tozeroy",
         "line": {
          "color": "green",
          "dash": "solid",
          "shape": "linear",
          "width": 0.5
         },
         "mode": "lines",
         "name": "Spread",
         "showlegend": false,
         "type": "scatter",
         "x": [
          0,
          1,
          2,
          3,
          4,
          5,
          6,
          7,
          8,
          9,
          10,
          11,
          12,
          13,
          14,
          15,
          16,
          17,
          18,
          19,
          20,
          21,
          22,
          23,
          24,
          25,
          26,
          27,
          28,
          29,
          30,
          31,
          32,
          33,
          34,
          35,
          36,
          37,
          38,
          39,
          40,
          41,
          42,
          43,
          44,
          45,
          46,
          47,
          48,
          49,
          50,
          51,
          52,
          53,
          54,
          55,
          56,
          57,
          58,
          59,
          60,
          61,
          62,
          63,
          64,
          65,
          66,
          67,
          68,
          69,
          70,
          71,
          72,
          73,
          74,
          75,
          76,
          77,
          78,
          79,
          80,
          81,
          82,
          83,
          84,
          85,
          86,
          87,
          88,
          89,
          90,
          91,
          92,
          93,
          94,
          95,
          96,
          97,
          98,
          99
         ],
         "xaxis": "x2",
         "y": [
          1.5474885590818197,
          2.372502462964321,
          0.6005423122926717,
          2.370324931566381,
          1.4790294476734414,
          "",
          2.026675907649908,
          0.44234797992585784,
          0.027741461660838462,
          "",
          "",
          1.6972783709585557,
          "",
          1.715546091858997,
          "",
          "",
          "",
          1.4259984552430176,
          "",
          0.5340803806650114,
          "",
          1.3231157194183834,
          0.25494362871140286,
          0.8774407927758825,
          1.444314880073126,
          "",
          0.6805166359268982,
          "",
          "",
          0.7725992258296334,
          "",
          "",
          3.020125432135645,
          2.148144425943122,
          1.3827140789986725,
          0.21414948495500355,
          0.4825617595454919,
          "",
          1.5849835154969307,
          0.34458436059928643,
          "",
          0.6712584491916926,
          0.9216857229633255,
          "",
          "",
          "",
          "",
          "",
          1.8692537361828958,
          "",
          0.22527138471716024,
          0.5783509398220744,
          "",
          0.7248936488847022,
          "",
          "",
          "",
          0.11663301034029772,
          0.7211660877734065,
          "",
          "",
          0.38887685526761434,
          "",
          "",
          "",
          "",
          "",
          2.375953308994338,
          1.2485162611348248,
          "",
          1.424673207049296,
          "",
          0.04953537034760544,
          "",
          0.9783992275588016,
          1.1340538214931264,
          1.7141110568636524,
          1.1569372355888712,
          0.2370078121690533,
          1.3998237506666413,
          1.78166698886049,
          1.0557444822927553,
          "",
          0.9979173351478583,
          "",
          "",
          "",
          1.9720661599220075,
          "",
          0.8756187295658202,
          0.1718417436471104,
          0.13046378865377692,
          "",
          "",
          2.2086729406072894,
          2.20455092768757,
          "",
          "",
          1.915585898624052,
          ""
         ],
         "yaxis": "y2"
        },
        {
         "connectgaps": false,
         "fill": "tozeroy",
         "line": {
          "color": "red",
          "dash": "solid",
          "shape": "linear",
          "width": 0.5
         },
         "mode": "lines",
         "name": "Spread",
         "showlegend": false,
         "type": "scatter",
         "x": [
          0,
          1,
          2,
          3,
          4,
          5,
          6,
          7,
          8,
          9,
          10,
          11,
          12,
          13,
          14,
          15,
          16,
          17,
          18,
          19,
          20,
          21,
          22,
          23,
          24,
          25,
          26,
          27,
          28,
          29,
          30,
          31,
          32,
          33,
          34,
          35,
          36,
          37,
          38,
          39,
          40,
          41,
          42,
          43,
          44,
          45,
          46,
          47,
          48,
          49,
          50,
          51,
          52,
          53,
          54,
          55,
          56,
          57,
          58,
          59,
          60,
          61,
          62,
          63,
          64,
          65,
          66,
          67,
          68,
          69,
          70,
          71,
          72,
          73,
          74,
          75,
          76,
          77,
          78,
          79,
          80,
          81,
          82,
          83,
          84,
          85,
          86,
          87,
          88,
          89,
          90,
          91,
          92,
          93,
          94,
          95,
          96,
          97,
          98,
          99
         ],
         "xaxis": "x2",
         "y": [
          "",
          "",
          "",
          "",
          "",
          -0.3564315757543448,
          "",
          "",
          "",
          -0.825181925687829,
          -0.1625138430406996,
          "",
          -1.5849505199606728,
          "",
          -0.9299539795087934,
          -0.5633389012427138,
          -3.054705736207603,
          "",
          -1.5453927897127557,
          "",
          -2.5856964859386418,
          "",
          "",
          "",
          "",
          -0.3164185744898522,
          "",
          -2.3826309532483876,
          -2.659037640601164,
          "",
          -0.0747044474948173,
          -1.3935105959016454,
          "",
          "",
          "",
          "",
          "",
          -1.5351191467970215,
          "",
          "",
          -0.6004425002547225,
          "",
          "",
          -1.034430286309571,
          -0.17680832562074145,
          -3.4518872652581676,
          -2.2263364700923924,
          -0.5720974833868487,
          "",
          -0.4188863478523952,
          "",
          "",
          -0.26577929889567453,
          "",
          -1.6457928712301373,
          -0.7095587655396671,
          -2.767342228168207,
          "",
          "",
          -0.14201212126550064,
          -0.20741580141846683,
          "",
          -0.880526766790358,
          -1.3933524976835754,
          -0.6268325005051117,
          -0.8462205495771199,
          -2.3279906224750575,
          "",
          "",
          -0.4351308280220911,
          "",
          -2.0796537191591082,
          "",
          -0.03736254706415934,
          "",
          "",
          "",
          "",
          "",
          "",
          "",
          "",
          -1.029680822887967,
          "",
          -0.059296986952150604,
          -0.1023970642790411,
          -0.3257140616598624,
          "",
          -1.2711030542317003,
          "",
          "",
          "",
          -0.9802323485908485,
          -1.6720052261855778,
          "",
          "",
          -0.3072520192739323,
          -2.126493362925149,
          "",
          -1.155384237313109
         ],
         "yaxis": "y2"
        }
       ],
       "layout": {
        "hovermode": "x",
        "legend": {
         "bgcolor": "#F5F6F9",
         "font": {
          "color": "#4D5663"
         }
        },
        "paper_bgcolor": "#F5F6F9",
        "plot_bgcolor": "#F5F6F9",
        "template": {
         "data": {
          "bar": [
           {
            "error_x": {
             "color": "#2a3f5f"
            },
            "error_y": {
             "color": "#2a3f5f"
            },
            "marker": {
             "line": {
              "color": "#E5ECF6",
              "width": 0.5
             }
            },
            "type": "bar"
           }
          ],
          "barpolar": [
           {
            "marker": {
             "line": {
              "color": "#E5ECF6",
              "width": 0.5
             }
            },
            "type": "barpolar"
           }
          ],
          "carpet": [
           {
            "aaxis": {
             "endlinecolor": "#2a3f5f",
             "gridcolor": "white",
             "linecolor": "white",
             "minorgridcolor": "white",
             "startlinecolor": "#2a3f5f"
            },
            "baxis": {
             "endlinecolor": "#2a3f5f",
             "gridcolor": "white",
             "linecolor": "white",
             "minorgridcolor": "white",
             "startlinecolor": "#2a3f5f"
            },
            "type": "carpet"
           }
          ],
          "choropleth": [
           {
            "colorbar": {
             "outlinewidth": 0,
             "ticks": ""
            },
            "type": "choropleth"
           }
          ],
          "contour": [
           {
            "colorbar": {
             "outlinewidth": 0,
             "ticks": ""
            },
            "colorscale": [
             [
              0,
              "#0d0887"
             ],
             [
              0.1111111111111111,
              "#46039f"
             ],
             [
              0.2222222222222222,
              "#7201a8"
             ],
             [
              0.3333333333333333,
              "#9c179e"
             ],
             [
              0.4444444444444444,
              "#bd3786"
             ],
             [
              0.5555555555555556,
              "#d8576b"
             ],
             [
              0.6666666666666666,
              "#ed7953"
             ],
             [
              0.7777777777777778,
              "#fb9f3a"
             ],
             [
              0.8888888888888888,
              "#fdca26"
             ],
             [
              1,
              "#f0f921"
             ]
            ],
            "type": "contour"
           }
          ],
          "contourcarpet": [
           {
            "colorbar": {
             "outlinewidth": 0,
             "ticks": ""
            },
            "type": "contourcarpet"
           }
          ],
          "heatmap": [
           {
            "colorbar": {
             "outlinewidth": 0,
             "ticks": ""
            },
            "colorscale": [
             [
              0,
              "#0d0887"
             ],
             [
              0.1111111111111111,
              "#46039f"
             ],
             [
              0.2222222222222222,
              "#7201a8"
             ],
             [
              0.3333333333333333,
              "#9c179e"
             ],
             [
              0.4444444444444444,
              "#bd3786"
             ],
             [
              0.5555555555555556,
              "#d8576b"
             ],
             [
              0.6666666666666666,
              "#ed7953"
             ],
             [
              0.7777777777777778,
              "#fb9f3a"
             ],
             [
              0.8888888888888888,
              "#fdca26"
             ],
             [
              1,
              "#f0f921"
             ]
            ],
            "type": "heatmap"
           }
          ],
          "heatmapgl": [
           {
            "colorbar": {
             "outlinewidth": 0,
             "ticks": ""
            },
            "colorscale": [
             [
              0,
              "#0d0887"
             ],
             [
              0.1111111111111111,
              "#46039f"
             ],
             [
              0.2222222222222222,
              "#7201a8"
             ],
             [
              0.3333333333333333,
              "#9c179e"
             ],
             [
              0.4444444444444444,
              "#bd3786"
             ],
             [
              0.5555555555555556,
              "#d8576b"
             ],
             [
              0.6666666666666666,
              "#ed7953"
             ],
             [
              0.7777777777777778,
              "#fb9f3a"
             ],
             [
              0.8888888888888888,
              "#fdca26"
             ],
             [
              1,
              "#f0f921"
             ]
            ],
            "type": "heatmapgl"
           }
          ],
          "histogram": [
           {
            "marker": {
             "colorbar": {
              "outlinewidth": 0,
              "ticks": ""
             }
            },
            "type": "histogram"
           }
          ],
          "histogram2d": [
           {
            "colorbar": {
             "outlinewidth": 0,
             "ticks": ""
            },
            "colorscale": [
             [
              0,
              "#0d0887"
             ],
             [
              0.1111111111111111,
              "#46039f"
             ],
             [
              0.2222222222222222,
              "#7201a8"
             ],
             [
              0.3333333333333333,
              "#9c179e"
             ],
             [
              0.4444444444444444,
              "#bd3786"
             ],
             [
              0.5555555555555556,
              "#d8576b"
             ],
             [
              0.6666666666666666,
              "#ed7953"
             ],
             [
              0.7777777777777778,
              "#fb9f3a"
             ],
             [
              0.8888888888888888,
              "#fdca26"
             ],
             [
              1,
              "#f0f921"
             ]
            ],
            "type": "histogram2d"
           }
          ],
          "histogram2dcontour": [
           {
            "colorbar": {
             "outlinewidth": 0,
             "ticks": ""
            },
            "colorscale": [
             [
              0,
              "#0d0887"
             ],
             [
              0.1111111111111111,
              "#46039f"
             ],
             [
              0.2222222222222222,
              "#7201a8"
             ],
             [
              0.3333333333333333,
              "#9c179e"
             ],
             [
              0.4444444444444444,
              "#bd3786"
             ],
             [
              0.5555555555555556,
              "#d8576b"
             ],
             [
              0.6666666666666666,
              "#ed7953"
             ],
             [
              0.7777777777777778,
              "#fb9f3a"
             ],
             [
              0.8888888888888888,
              "#fdca26"
             ],
             [
              1,
              "#f0f921"
             ]
            ],
            "type": "histogram2dcontour"
           }
          ],
          "mesh3d": [
           {
            "colorbar": {
             "outlinewidth": 0,
             "ticks": ""
            },
            "type": "mesh3d"
           }
          ],
          "parcoords": [
           {
            "line": {
             "colorbar": {
              "outlinewidth": 0,
              "ticks": ""
             }
            },
            "type": "parcoords"
           }
          ],
          "pie": [
           {
            "automargin": true,
            "type": "pie"
           }
          ],
          "scatter": [
           {
            "marker": {
             "colorbar": {
              "outlinewidth": 0,
              "ticks": ""
             }
            },
            "type": "scatter"
           }
          ],
          "scatter3d": [
           {
            "line": {
             "colorbar": {
              "outlinewidth": 0,
              "ticks": ""
             }
            },
            "marker": {
             "colorbar": {
              "outlinewidth": 0,
              "ticks": ""
             }
            },
            "type": "scatter3d"
           }
          ],
          "scattercarpet": [
           {
            "marker": {
             "colorbar": {
              "outlinewidth": 0,
              "ticks": ""
             }
            },
            "type": "scattercarpet"
           }
          ],
          "scattergeo": [
           {
            "marker": {
             "colorbar": {
              "outlinewidth": 0,
              "ticks": ""
             }
            },
            "type": "scattergeo"
           }
          ],
          "scattergl": [
           {
            "marker": {
             "colorbar": {
              "outlinewidth": 0,
              "ticks": ""
             }
            },
            "type": "scattergl"
           }
          ],
          "scattermapbox": [
           {
            "marker": {
             "colorbar": {
              "outlinewidth": 0,
              "ticks": ""
             }
            },
            "type": "scattermapbox"
           }
          ],
          "scatterpolar": [
           {
            "marker": {
             "colorbar": {
              "outlinewidth": 0,
              "ticks": ""
             }
            },
            "type": "scatterpolar"
           }
          ],
          "scatterpolargl": [
           {
            "marker": {
             "colorbar": {
              "outlinewidth": 0,
              "ticks": ""
             }
            },
            "type": "scatterpolargl"
           }
          ],
          "scatterternary": [
           {
            "marker": {
             "colorbar": {
              "outlinewidth": 0,
              "ticks": ""
             }
            },
            "type": "scatterternary"
           }
          ],
          "surface": [
           {
            "colorbar": {
             "outlinewidth": 0,
             "ticks": ""
            },
            "colorscale": [
             [
              0,
              "#0d0887"
             ],
             [
              0.1111111111111111,
              "#46039f"
             ],
             [
              0.2222222222222222,
              "#7201a8"
             ],
             [
              0.3333333333333333,
              "#9c179e"
             ],
             [
              0.4444444444444444,
              "#bd3786"
             ],
             [
              0.5555555555555556,
              "#d8576b"
             ],
             [
              0.6666666666666666,
              "#ed7953"
             ],
             [
              0.7777777777777778,
              "#fb9f3a"
             ],
             [
              0.8888888888888888,
              "#fdca26"
             ],
             [
              1,
              "#f0f921"
             ]
            ],
            "type": "surface"
           }
          ],
          "table": [
           {
            "cells": {
             "fill": {
              "color": "#EBF0F8"
             },
             "line": {
              "color": "white"
             }
            },
            "header": {
             "fill": {
              "color": "#C8D4E3"
             },
             "line": {
              "color": "white"
             }
            },
            "type": "table"
           }
          ]
         },
         "layout": {
          "annotationdefaults": {
           "arrowcolor": "#2a3f5f",
           "arrowhead": 0,
           "arrowwidth": 1
          },
          "coloraxis": {
           "colorbar": {
            "outlinewidth": 0,
            "ticks": ""
           }
          },
          "colorscale": {
           "diverging": [
            [
             0,
             "#8e0152"
            ],
            [
             0.1,
             "#c51b7d"
            ],
            [
             0.2,
             "#de77ae"
            ],
            [
             0.3,
             "#f1b6da"
            ],
            [
             0.4,
             "#fde0ef"
            ],
            [
             0.5,
             "#f7f7f7"
            ],
            [
             0.6,
             "#e6f5d0"
            ],
            [
             0.7,
             "#b8e186"
            ],
            [
             0.8,
             "#7fbc41"
            ],
            [
             0.9,
             "#4d9221"
            ],
            [
             1,
             "#276419"
            ]
           ],
           "sequential": [
            [
             0,
             "#0d0887"
            ],
            [
             0.1111111111111111,
             "#46039f"
            ],
            [
             0.2222222222222222,
             "#7201a8"
            ],
            [
             0.3333333333333333,
             "#9c179e"
            ],
            [
             0.4444444444444444,
             "#bd3786"
            ],
            [
             0.5555555555555556,
             "#d8576b"
            ],
            [
             0.6666666666666666,
             "#ed7953"
            ],
            [
             0.7777777777777778,
             "#fb9f3a"
            ],
            [
             0.8888888888888888,
             "#fdca26"
            ],
            [
             1,
             "#f0f921"
            ]
           ],
           "sequentialminus": [
            [
             0,
             "#0d0887"
            ],
            [
             0.1111111111111111,
             "#46039f"
            ],
            [
             0.2222222222222222,
             "#7201a8"
            ],
            [
             0.3333333333333333,
             "#9c179e"
            ],
            [
             0.4444444444444444,
             "#bd3786"
            ],
            [
             0.5555555555555556,
             "#d8576b"
            ],
            [
             0.6666666666666666,
             "#ed7953"
            ],
            [
             0.7777777777777778,
             "#fb9f3a"
            ],
            [
             0.8888888888888888,
             "#fdca26"
            ],
            [
             1,
             "#f0f921"
            ]
           ]
          },
          "colorway": [
           "#636efa",
           "#EF553B",
           "#00cc96",
           "#ab63fa",
           "#FFA15A",
           "#19d3f3",
           "#FF6692",
           "#B6E880",
           "#FF97FF",
           "#FECB52"
          ],
          "font": {
           "color": "#2a3f5f"
          },
          "geo": {
           "bgcolor": "white",
           "lakecolor": "white",
           "landcolor": "#E5ECF6",
           "showlakes": true,
           "showland": true,
           "subunitcolor": "white"
          },
          "hoverlabel": {
           "align": "left"
          },
          "hovermode": "closest",
          "mapbox": {
           "style": "light"
          },
          "paper_bgcolor": "white",
          "plot_bgcolor": "#E5ECF6",
          "polar": {
           "angularaxis": {
            "gridcolor": "white",
            "linecolor": "white",
            "ticks": ""
           },
           "bgcolor": "#E5ECF6",
           "radialaxis": {
            "gridcolor": "white",
            "linecolor": "white",
            "ticks": ""
           }
          },
          "scene": {
           "xaxis": {
            "backgroundcolor": "#E5ECF6",
            "gridcolor": "white",
            "gridwidth": 2,
            "linecolor": "white",
            "showbackground": true,
            "ticks": "",
            "zerolinecolor": "white"
           },
           "yaxis": {
            "backgroundcolor": "#E5ECF6",
            "gridcolor": "white",
            "gridwidth": 2,
            "linecolor": "white",
            "showbackground": true,
            "ticks": "",
            "zerolinecolor": "white"
           },
           "zaxis": {
            "backgroundcolor": "#E5ECF6",
            "gridcolor": "white",
            "gridwidth": 2,
            "linecolor": "white",
            "showbackground": true,
            "ticks": "",
            "zerolinecolor": "white"
           }
          },
          "shapedefaults": {
           "line": {
            "color": "#2a3f5f"
           }
          },
          "ternary": {
           "aaxis": {
            "gridcolor": "white",
            "linecolor": "white",
            "ticks": ""
           },
           "baxis": {
            "gridcolor": "white",
            "linecolor": "white",
            "ticks": ""
           },
           "bgcolor": "#E5ECF6",
           "caxis": {
            "gridcolor": "white",
            "linecolor": "white",
            "ticks": ""
           }
          },
          "title": {
           "x": 0.05
          },
          "xaxis": {
           "automargin": true,
           "gridcolor": "white",
           "linecolor": "white",
           "ticks": "",
           "title": {
            "standoff": 15
           },
           "zerolinecolor": "white",
           "zerolinewidth": 2
          },
          "yaxis": {
           "automargin": true,
           "gridcolor": "white",
           "linecolor": "white",
           "ticks": "",
           "title": {
            "standoff": 15
           },
           "zerolinecolor": "white",
           "zerolinewidth": 2
          }
         }
        },
        "title": {
         "font": {
          "color": "#4D5663"
         }
        },
        "xaxis": {
         "gridcolor": "#E1E5ED",
         "showgrid": true,
         "tickfont": {
          "color": "#4D5663"
         },
         "title": {
          "font": {
           "color": "#4D5663"
          },
          "text": ""
         },
         "zerolinecolor": "#E1E5ED"
        },
        "xaxis2": {
         "anchor": "y2",
         "gridcolor": "#E1E5ED",
         "showgrid": true,
         "showticklabels": false,
         "tickfont": {
          "color": "#4D5663"
         },
         "title": {
          "font": {
           "color": "#4D5663"
          },
          "text": ""
         },
         "zerolinecolor": "#E1E5ED"
        },
        "yaxis": {
         "domain": [
          0.3,
          1
         ],
         "gridcolor": "#E1E5ED",
         "showgrid": true,
         "tickfont": {
          "color": "#4D5663"
         },
         "title": {
          "font": {
           "color": "#4D5663"
          },
          "text": ""
         },
         "zerolinecolor": "#E1E5ED"
        },
        "yaxis2": {
         "domain": [
          0,
          0.25
         ],
         "gridcolor": "#E1E5ED",
         "showgrid": true,
         "tickfont": {
          "color": "#4D5663"
         },
         "title": {
          "font": {
           "color": "#4D5663"
          },
          "text": "Spread"
         },
         "zerolinecolor": "#E1E5ED"
        }
       }
      },
      "text/html": [
       "<div>\n",
       "        \n",
       "        \n",
       "            <div id=\"c266a5aa-fe12-425e-adce-46feb8e6b6a8\" class=\"plotly-graph-div\" style=\"height:525px; width:100%;\"></div>\n",
       "            <script type=\"text/javascript\">\n",
       "                require([\"plotly\"], function(Plotly) {\n",
       "                    window.PLOTLYENV=window.PLOTLYENV || {};\n",
       "                    window.PLOTLYENV.BASE_URL='https://plot.ly';\n",
       "                    \n",
       "                if (document.getElementById(\"c266a5aa-fe12-425e-adce-46feb8e6b6a8\")) {\n",
       "                    Plotly.newPlot(\n",
       "                        'c266a5aa-fe12-425e-adce-46feb8e6b6a8',\n",
       "                        [{\"line\": {\"color\": \"rgba(255, 153, 51, 1.0)\", \"dash\": \"solid\", \"shape\": \"linear\", \"width\": 1.3}, \"mode\": \"lines\", \"name\": \"A\", \"text\": \"\", \"type\": \"scatter\", \"x\": [0, 1, 2, 3, 4, 5, 6, 7, 8, 9, 10, 11, 12, 13, 14, 15, 16, 17, 18, 19, 20, 21, 22, 23, 24, 25, 26, 27, 28, 29, 30, 31, 32, 33, 34, 35, 36, 37, 38, 39, 40, 41, 42, 43, 44, 45, 46, 47, 48, 49, 50, 51, 52, 53, 54, 55, 56, 57, 58, 59, 60, 61, 62, 63, 64, 65, 66, 67, 68, 69, 70, 71, 72, 73, 74, 75, 76, 77, 78, 79, 80, 81, 82, 83, 84, 85, 86, 87, 88, 89, 90, 91, 92, 93, 94, 95, 96, 97, 98, 99], \"y\": [0.7921346859019157, 1.946825695054702, 1.4163203147173689, 0.1161272154136565, 0.7557025036279604, -0.7350872131145143, 1.6071158265686813, -0.6369620656059007, 0.8497778207394941, -0.33749859130626686, 1.2280973838411833, 0.036716134725273894, -0.3037665937695192, 0.8239925184967525, -1.3538724565017246, -0.45194949085156416, -1.913074905602045, 0.17762581698740607, -0.7004150163916316, 0.03188946476696092, -0.7719163151332366, 0.2905161338207252, 1.4934765893559856, 1.1517359541867793, 1.4005117647742198, -0.6275397842825213, 0.8926363946884873, -1.0677207378979978, -0.19471466043106184, 0.1529956333359573, -0.8218180765611363, -0.8503299315540951, 2.746705232928189, 0.8121025992904255, 2.1918060723428723, 0.1828701452483579, 0.4455028799628107, -0.5193802210214439, 1.104547831058544, 0.6594367637087866, -1.313520282034992, 1.190998233995262, -0.49647494111496654, 0.06890857086669673, 0.8211669474128339, -0.6181956721468078, -0.31902044193029055, -0.19023723733723844, 0.6886533928938934, -0.9332439063027611, -0.17051026893912857, 0.051544294241111815, -0.4159263649641647, 0.8566264197567114, 0.29402607091862265, -1.099818139175731, -1.1314940858303717, 0.9281480352753586, -0.13439689942833424, 0.045604618865690276, -0.9979314517757257, -0.07269042102427148, -0.5356990006428285, -1.1990026834526482, 0.1976306802793206, -0.6760867737177405, -0.4370643149105769, 1.7123117467895295, 1.8799972780063177, -0.07036592754360131, 1.903342736762849, -0.7909243457034956, -0.21648795712901556, -0.18759480763157985, -0.17191582545359513, 1.2163634807475439, 1.1517611276683175, -0.7984270716400544, 0.7817741035366015, 2.2456629185031023, 1.389344614456707, 0.5726770872579274, -0.05996906126751653, 0.3420213779390641, -0.2379680007605113, 0.3649105284334666, 0.263804800291932, 0.3277197543628306, -0.2530061140131053, 1.1758363314661346, -0.08852367242694675, -0.22481209189451987, 0.15802992649044043, -1.5061386445028795, 0.6729920524858238, -0.3211746441519791, 1.018943249519832, -1.7824913063580343, 0.891561971167367, -1.1815199382522332]}, {\"line\": {\"color\": \"rgba(55, 128, 191, 1.0)\", \"dash\": \"solid\", \"shape\": \"linear\", \"width\": 1.3}, \"mode\": \"lines\", \"name\": \"B\", \"text\": \"\", \"type\": \"scatter\", \"x\": [0, 1, 2, 3, 4, 5, 6, 7, 8, 9, 10, 11, 12, 13, 14, 15, 16, 17, 18, 19, 20, 21, 22, 23, 24, 25, 26, 27, 28, 29, 30, 31, 32, 33, 34, 35, 36, 37, 38, 39, 40, 41, 42, 43, 44, 45, 46, 47, 48, 49, 50, 51, 52, 53, 54, 55, 56, 57, 58, 59, 60, 61, 62, 63, 64, 65, 66, 67, 68, 69, 70, 71, 72, 73, 74, 75, 76, 77, 78, 79, 80, 81, 82, 83, 84, 85, 86, 87, 88, 89, 90, 91, 92, 93, 94, 95, 96, 97, 98, 99], \"y\": [-0.755353873179904, -0.4256767679096191, 0.8157780024246971, -2.2541977161527247, -0.7233269440454809, -0.3786556373601695, -0.4195600810812267, -1.0793100455317586, 0.8220363590786557, 0.48768333438156214, 1.3906112268818829, -1.660562236233282, 1.2811839261911535, -0.8915535733622445, -0.42391847699293117, 0.1113894103911496, 1.141630830605558, -1.2483726382556115, 0.8449777733211241, -0.5021909158980505, 1.8137801708054053, -1.0325995855976582, 1.2385329606445827, 0.2742951614108968, -0.04380311529890623, -0.3111212097926691, 0.21211975876158917, 1.3149102153503898, 2.4643229801701025, -0.619603592493676, -0.747113629066319, 0.5431806643475502, -0.2734201992074562, -1.3360418266526963, 0.8090919933441999, -0.031279339706645655, -0.037058879582681205, 1.0157389257755776, -0.48043568443838675, 0.31485240310950013, -0.7130777817802696, 0.5197397848035694, -1.418160664078292, 1.1033388571762677, 0.9979752730335754, 2.83369159311136, 1.9073160281621018, 0.38186024604961033, -1.1806003432890024, -0.5143575584503659, -0.3957816536562888, -0.5268066455809626, -0.15014706606849018, 0.13173277087200919, 1.93981894214876, -0.3902593736360637, 1.6358481423378353, 0.8115150249350609, -0.8555629872017407, 0.18761674013119092, -0.7905156503572589, -0.4615672762918858, 0.34482776614752947, 0.19434981423092712, 0.8244631807844324, 0.1701337758593794, 1.8909263075644804, -0.6636415622048087, 0.6314810168714927, 0.36476490047848975, 0.47866952971355303, 1.2887293734556127, -0.266023327476621, -0.1502322605674205, -1.1503150530123967, 0.08230965925441752, -0.562349929195335, -1.9553643072289255, 0.5447662913675482, 0.8458391678364608, -0.3923223744037829, -0.4830673950348278, 0.9697117616204505, -0.6558959572087942, -0.1786710138083607, 0.4673075927125077, 0.5895188619517944, -1.644346405559177, 1.018096940218595, 0.3002176019003145, -0.26036541607405717, -0.3552758805482968, 1.138262275081289, 0.16586658168269822, -1.5356808881214654, -2.525725571839549, 1.3261952687937644, 0.3440020565671146, -1.024023927456685, -0.026135700939124245]}, {\"connectgaps\": false, \"fill\": \"tozeroy\", \"line\": {\"color\": \"green\", \"dash\": \"solid\", \"shape\": \"linear\", \"width\": 0.5}, \"mode\": \"lines\", \"name\": \"Spread\", \"showlegend\": false, \"type\": \"scatter\", \"x\": [0, 1, 2, 3, 4, 5, 6, 7, 8, 9, 10, 11, 12, 13, 14, 15, 16, 17, 18, 19, 20, 21, 22, 23, 24, 25, 26, 27, 28, 29, 30, 31, 32, 33, 34, 35, 36, 37, 38, 39, 40, 41, 42, 43, 44, 45, 46, 47, 48, 49, 50, 51, 52, 53, 54, 55, 56, 57, 58, 59, 60, 61, 62, 63, 64, 65, 66, 67, 68, 69, 70, 71, 72, 73, 74, 75, 76, 77, 78, 79, 80, 81, 82, 83, 84, 85, 86, 87, 88, 89, 90, 91, 92, 93, 94, 95, 96, 97, 98, 99], \"xaxis\": \"x2\", \"y\": [1.5474885590818197, 2.372502462964321, 0.6005423122926717, 2.370324931566381, 1.4790294476734414, \"\", 2.026675907649908, 0.44234797992585784, 0.027741461660838462, \"\", \"\", 1.6972783709585557, \"\", 1.715546091858997, \"\", \"\", \"\", 1.4259984552430176, \"\", 0.5340803806650114, \"\", 1.3231157194183834, 0.25494362871140286, 0.8774407927758825, 1.444314880073126, \"\", 0.6805166359268982, \"\", \"\", 0.7725992258296334, \"\", \"\", 3.020125432135645, 2.148144425943122, 1.3827140789986725, 0.21414948495500355, 0.4825617595454919, \"\", 1.5849835154969307, 0.34458436059928643, \"\", 0.6712584491916926, 0.9216857229633255, \"\", \"\", \"\", \"\", \"\", 1.8692537361828958, \"\", 0.22527138471716024, 0.5783509398220744, \"\", 0.7248936488847022, \"\", \"\", \"\", 0.11663301034029772, 0.7211660877734065, \"\", \"\", 0.38887685526761434, \"\", \"\", \"\", \"\", \"\", 2.375953308994338, 1.2485162611348248, \"\", 1.424673207049296, \"\", 0.04953537034760544, \"\", 0.9783992275588016, 1.1340538214931264, 1.7141110568636524, 1.1569372355888712, 0.2370078121690533, 1.3998237506666413, 1.78166698886049, 1.0557444822927553, \"\", 0.9979173351478583, \"\", \"\", \"\", 1.9720661599220075, \"\", 0.8756187295658202, 0.1718417436471104, 0.13046378865377692, \"\", \"\", 2.2086729406072894, 2.20455092768757, \"\", \"\", 1.915585898624052, \"\"], \"yaxis\": \"y2\"}, {\"connectgaps\": false, \"fill\": \"tozeroy\", \"line\": {\"color\": \"red\", \"dash\": \"solid\", \"shape\": \"linear\", \"width\": 0.5}, \"mode\": \"lines\", \"name\": \"Spread\", \"showlegend\": false, \"type\": \"scatter\", \"x\": [0, 1, 2, 3, 4, 5, 6, 7, 8, 9, 10, 11, 12, 13, 14, 15, 16, 17, 18, 19, 20, 21, 22, 23, 24, 25, 26, 27, 28, 29, 30, 31, 32, 33, 34, 35, 36, 37, 38, 39, 40, 41, 42, 43, 44, 45, 46, 47, 48, 49, 50, 51, 52, 53, 54, 55, 56, 57, 58, 59, 60, 61, 62, 63, 64, 65, 66, 67, 68, 69, 70, 71, 72, 73, 74, 75, 76, 77, 78, 79, 80, 81, 82, 83, 84, 85, 86, 87, 88, 89, 90, 91, 92, 93, 94, 95, 96, 97, 98, 99], \"xaxis\": \"x2\", \"y\": [\"\", \"\", \"\", \"\", \"\", -0.3564315757543448, \"\", \"\", \"\", -0.825181925687829, -0.1625138430406996, \"\", -1.5849505199606728, \"\", -0.9299539795087934, -0.5633389012427138, -3.054705736207603, \"\", -1.5453927897127557, \"\", -2.5856964859386418, \"\", \"\", \"\", \"\", -0.3164185744898522, \"\", -2.3826309532483876, -2.659037640601164, \"\", -0.0747044474948173, -1.3935105959016454, \"\", \"\", \"\", \"\", \"\", -1.5351191467970215, \"\", \"\", -0.6004425002547225, \"\", \"\", -1.034430286309571, -0.17680832562074145, -3.4518872652581676, -2.2263364700923924, -0.5720974833868487, \"\", -0.4188863478523952, \"\", \"\", -0.26577929889567453, \"\", -1.6457928712301373, -0.7095587655396671, -2.767342228168207, \"\", \"\", -0.14201212126550064, -0.20741580141846683, \"\", -0.880526766790358, -1.3933524976835754, -0.6268325005051117, -0.8462205495771199, -2.3279906224750575, \"\", \"\", -0.4351308280220911, \"\", -2.0796537191591082, \"\", -0.03736254706415934, \"\", \"\", \"\", \"\", \"\", \"\", \"\", \"\", -1.029680822887967, \"\", -0.059296986952150604, -0.1023970642790411, -0.3257140616598624, \"\", -1.2711030542317003, \"\", \"\", \"\", -0.9802323485908485, -1.6720052261855778, \"\", \"\", -0.3072520192739323, -2.126493362925149, \"\", -1.155384237313109], \"yaxis\": \"y2\"}],\n",
       "                        {\"hovermode\": \"x\", \"legend\": {\"bgcolor\": \"#F5F6F9\", \"font\": {\"color\": \"#4D5663\"}}, \"paper_bgcolor\": \"#F5F6F9\", \"plot_bgcolor\": \"#F5F6F9\", \"template\": {\"data\": {\"bar\": [{\"error_x\": {\"color\": \"#2a3f5f\"}, \"error_y\": {\"color\": \"#2a3f5f\"}, \"marker\": {\"line\": {\"color\": \"#E5ECF6\", \"width\": 0.5}}, \"type\": \"bar\"}], \"barpolar\": [{\"marker\": {\"line\": {\"color\": \"#E5ECF6\", \"width\": 0.5}}, \"type\": \"barpolar\"}], \"carpet\": [{\"aaxis\": {\"endlinecolor\": \"#2a3f5f\", \"gridcolor\": \"white\", \"linecolor\": \"white\", \"minorgridcolor\": \"white\", \"startlinecolor\": \"#2a3f5f\"}, \"baxis\": {\"endlinecolor\": \"#2a3f5f\", \"gridcolor\": \"white\", \"linecolor\": \"white\", \"minorgridcolor\": \"white\", \"startlinecolor\": \"#2a3f5f\"}, \"type\": \"carpet\"}], \"choropleth\": [{\"colorbar\": {\"outlinewidth\": 0, \"ticks\": \"\"}, \"type\": \"choropleth\"}], \"contour\": [{\"colorbar\": {\"outlinewidth\": 0, \"ticks\": \"\"}, \"colorscale\": [[0.0, \"#0d0887\"], [0.1111111111111111, \"#46039f\"], [0.2222222222222222, \"#7201a8\"], [0.3333333333333333, \"#9c179e\"], [0.4444444444444444, \"#bd3786\"], [0.5555555555555556, \"#d8576b\"], [0.6666666666666666, \"#ed7953\"], [0.7777777777777778, \"#fb9f3a\"], [0.8888888888888888, \"#fdca26\"], [1.0, \"#f0f921\"]], \"type\": \"contour\"}], \"contourcarpet\": [{\"colorbar\": {\"outlinewidth\": 0, \"ticks\": \"\"}, \"type\": \"contourcarpet\"}], \"heatmap\": [{\"colorbar\": {\"outlinewidth\": 0, \"ticks\": \"\"}, \"colorscale\": [[0.0, \"#0d0887\"], [0.1111111111111111, \"#46039f\"], [0.2222222222222222, \"#7201a8\"], [0.3333333333333333, \"#9c179e\"], [0.4444444444444444, \"#bd3786\"], [0.5555555555555556, \"#d8576b\"], [0.6666666666666666, \"#ed7953\"], [0.7777777777777778, \"#fb9f3a\"], [0.8888888888888888, \"#fdca26\"], [1.0, \"#f0f921\"]], \"type\": \"heatmap\"}], \"heatmapgl\": [{\"colorbar\": {\"outlinewidth\": 0, \"ticks\": \"\"}, \"colorscale\": [[0.0, \"#0d0887\"], [0.1111111111111111, \"#46039f\"], [0.2222222222222222, \"#7201a8\"], [0.3333333333333333, \"#9c179e\"], [0.4444444444444444, \"#bd3786\"], [0.5555555555555556, \"#d8576b\"], [0.6666666666666666, \"#ed7953\"], [0.7777777777777778, \"#fb9f3a\"], [0.8888888888888888, \"#fdca26\"], [1.0, \"#f0f921\"]], \"type\": \"heatmapgl\"}], \"histogram\": [{\"marker\": {\"colorbar\": {\"outlinewidth\": 0, \"ticks\": \"\"}}, \"type\": \"histogram\"}], \"histogram2d\": [{\"colorbar\": {\"outlinewidth\": 0, \"ticks\": \"\"}, \"colorscale\": [[0.0, \"#0d0887\"], [0.1111111111111111, \"#46039f\"], [0.2222222222222222, \"#7201a8\"], [0.3333333333333333, \"#9c179e\"], [0.4444444444444444, \"#bd3786\"], [0.5555555555555556, \"#d8576b\"], [0.6666666666666666, \"#ed7953\"], [0.7777777777777778, \"#fb9f3a\"], [0.8888888888888888, \"#fdca26\"], [1.0, \"#f0f921\"]], \"type\": \"histogram2d\"}], \"histogram2dcontour\": [{\"colorbar\": {\"outlinewidth\": 0, \"ticks\": \"\"}, \"colorscale\": [[0.0, \"#0d0887\"], [0.1111111111111111, \"#46039f\"], [0.2222222222222222, \"#7201a8\"], [0.3333333333333333, \"#9c179e\"], [0.4444444444444444, \"#bd3786\"], [0.5555555555555556, \"#d8576b\"], [0.6666666666666666, \"#ed7953\"], [0.7777777777777778, \"#fb9f3a\"], [0.8888888888888888, \"#fdca26\"], [1.0, \"#f0f921\"]], \"type\": \"histogram2dcontour\"}], \"mesh3d\": [{\"colorbar\": {\"outlinewidth\": 0, \"ticks\": \"\"}, \"type\": \"mesh3d\"}], \"parcoords\": [{\"line\": {\"colorbar\": {\"outlinewidth\": 0, \"ticks\": \"\"}}, \"type\": \"parcoords\"}], \"pie\": [{\"automargin\": true, \"type\": \"pie\"}], \"scatter\": [{\"marker\": {\"colorbar\": {\"outlinewidth\": 0, \"ticks\": \"\"}}, \"type\": \"scatter\"}], \"scatter3d\": [{\"line\": {\"colorbar\": {\"outlinewidth\": 0, \"ticks\": \"\"}}, \"marker\": {\"colorbar\": {\"outlinewidth\": 0, \"ticks\": \"\"}}, \"type\": \"scatter3d\"}], \"scattercarpet\": [{\"marker\": {\"colorbar\": {\"outlinewidth\": 0, \"ticks\": \"\"}}, \"type\": \"scattercarpet\"}], \"scattergeo\": [{\"marker\": {\"colorbar\": {\"outlinewidth\": 0, \"ticks\": \"\"}}, \"type\": \"scattergeo\"}], \"scattergl\": [{\"marker\": {\"colorbar\": {\"outlinewidth\": 0, \"ticks\": \"\"}}, \"type\": \"scattergl\"}], \"scattermapbox\": [{\"marker\": {\"colorbar\": {\"outlinewidth\": 0, \"ticks\": \"\"}}, \"type\": \"scattermapbox\"}], \"scatterpolar\": [{\"marker\": {\"colorbar\": {\"outlinewidth\": 0, \"ticks\": \"\"}}, \"type\": \"scatterpolar\"}], \"scatterpolargl\": [{\"marker\": {\"colorbar\": {\"outlinewidth\": 0, \"ticks\": \"\"}}, \"type\": \"scatterpolargl\"}], \"scatterternary\": [{\"marker\": {\"colorbar\": {\"outlinewidth\": 0, \"ticks\": \"\"}}, \"type\": \"scatterternary\"}], \"surface\": [{\"colorbar\": {\"outlinewidth\": 0, \"ticks\": \"\"}, \"colorscale\": [[0.0, \"#0d0887\"], [0.1111111111111111, \"#46039f\"], [0.2222222222222222, \"#7201a8\"], [0.3333333333333333, \"#9c179e\"], [0.4444444444444444, \"#bd3786\"], [0.5555555555555556, \"#d8576b\"], [0.6666666666666666, \"#ed7953\"], [0.7777777777777778, \"#fb9f3a\"], [0.8888888888888888, \"#fdca26\"], [1.0, \"#f0f921\"]], \"type\": \"surface\"}], \"table\": [{\"cells\": {\"fill\": {\"color\": \"#EBF0F8\"}, \"line\": {\"color\": \"white\"}}, \"header\": {\"fill\": {\"color\": \"#C8D4E3\"}, \"line\": {\"color\": \"white\"}}, \"type\": \"table\"}]}, \"layout\": {\"annotationdefaults\": {\"arrowcolor\": \"#2a3f5f\", \"arrowhead\": 0, \"arrowwidth\": 1}, \"coloraxis\": {\"colorbar\": {\"outlinewidth\": 0, \"ticks\": \"\"}}, \"colorscale\": {\"diverging\": [[0, \"#8e0152\"], [0.1, \"#c51b7d\"], [0.2, \"#de77ae\"], [0.3, \"#f1b6da\"], [0.4, \"#fde0ef\"], [0.5, \"#f7f7f7\"], [0.6, \"#e6f5d0\"], [0.7, \"#b8e186\"], [0.8, \"#7fbc41\"], [0.9, \"#4d9221\"], [1, \"#276419\"]], \"sequential\": [[0.0, \"#0d0887\"], [0.1111111111111111, \"#46039f\"], [0.2222222222222222, \"#7201a8\"], [0.3333333333333333, \"#9c179e\"], [0.4444444444444444, \"#bd3786\"], [0.5555555555555556, \"#d8576b\"], [0.6666666666666666, \"#ed7953\"], [0.7777777777777778, \"#fb9f3a\"], [0.8888888888888888, \"#fdca26\"], [1.0, \"#f0f921\"]], \"sequentialminus\": [[0.0, \"#0d0887\"], [0.1111111111111111, \"#46039f\"], [0.2222222222222222, \"#7201a8\"], [0.3333333333333333, \"#9c179e\"], [0.4444444444444444, \"#bd3786\"], [0.5555555555555556, \"#d8576b\"], [0.6666666666666666, \"#ed7953\"], [0.7777777777777778, \"#fb9f3a\"], [0.8888888888888888, \"#fdca26\"], [1.0, \"#f0f921\"]]}, \"colorway\": [\"#636efa\", \"#EF553B\", \"#00cc96\", \"#ab63fa\", \"#FFA15A\", \"#19d3f3\", \"#FF6692\", \"#B6E880\", \"#FF97FF\", \"#FECB52\"], \"font\": {\"color\": \"#2a3f5f\"}, \"geo\": {\"bgcolor\": \"white\", \"lakecolor\": \"white\", \"landcolor\": \"#E5ECF6\", \"showlakes\": true, \"showland\": true, \"subunitcolor\": \"white\"}, \"hoverlabel\": {\"align\": \"left\"}, \"hovermode\": \"closest\", \"mapbox\": {\"style\": \"light\"}, \"paper_bgcolor\": \"white\", \"plot_bgcolor\": \"#E5ECF6\", \"polar\": {\"angularaxis\": {\"gridcolor\": \"white\", \"linecolor\": \"white\", \"ticks\": \"\"}, \"bgcolor\": \"#E5ECF6\", \"radialaxis\": {\"gridcolor\": \"white\", \"linecolor\": \"white\", \"ticks\": \"\"}}, \"scene\": {\"xaxis\": {\"backgroundcolor\": \"#E5ECF6\", \"gridcolor\": \"white\", \"gridwidth\": 2, \"linecolor\": \"white\", \"showbackground\": true, \"ticks\": \"\", \"zerolinecolor\": \"white\"}, \"yaxis\": {\"backgroundcolor\": \"#E5ECF6\", \"gridcolor\": \"white\", \"gridwidth\": 2, \"linecolor\": \"white\", \"showbackground\": true, \"ticks\": \"\", \"zerolinecolor\": \"white\"}, \"zaxis\": {\"backgroundcolor\": \"#E5ECF6\", \"gridcolor\": \"white\", \"gridwidth\": 2, \"linecolor\": \"white\", \"showbackground\": true, \"ticks\": \"\", \"zerolinecolor\": \"white\"}}, \"shapedefaults\": {\"line\": {\"color\": \"#2a3f5f\"}}, \"ternary\": {\"aaxis\": {\"gridcolor\": \"white\", \"linecolor\": \"white\", \"ticks\": \"\"}, \"baxis\": {\"gridcolor\": \"white\", \"linecolor\": \"white\", \"ticks\": \"\"}, \"bgcolor\": \"#E5ECF6\", \"caxis\": {\"gridcolor\": \"white\", \"linecolor\": \"white\", \"ticks\": \"\"}}, \"title\": {\"x\": 0.05}, \"xaxis\": {\"automargin\": true, \"gridcolor\": \"white\", \"linecolor\": \"white\", \"ticks\": \"\", \"title\": {\"standoff\": 15}, \"zerolinecolor\": \"white\", \"zerolinewidth\": 2}, \"yaxis\": {\"automargin\": true, \"gridcolor\": \"white\", \"linecolor\": \"white\", \"ticks\": \"\", \"title\": {\"standoff\": 15}, \"zerolinecolor\": \"white\", \"zerolinewidth\": 2}}}, \"title\": {\"font\": {\"color\": \"#4D5663\"}}, \"xaxis\": {\"gridcolor\": \"#E1E5ED\", \"showgrid\": true, \"tickfont\": {\"color\": \"#4D5663\"}, \"title\": {\"font\": {\"color\": \"#4D5663\"}, \"text\": \"\"}, \"zerolinecolor\": \"#E1E5ED\"}, \"xaxis2\": {\"anchor\": \"y2\", \"gridcolor\": \"#E1E5ED\", \"showgrid\": true, \"showticklabels\": false, \"tickfont\": {\"color\": \"#4D5663\"}, \"title\": {\"font\": {\"color\": \"#4D5663\"}, \"text\": \"\"}, \"zerolinecolor\": \"#E1E5ED\"}, \"yaxis\": {\"domain\": [0.3, 1], \"gridcolor\": \"#E1E5ED\", \"showgrid\": true, \"tickfont\": {\"color\": \"#4D5663\"}, \"title\": {\"font\": {\"color\": \"#4D5663\"}, \"text\": \"\"}, \"zerolinecolor\": \"#E1E5ED\"}, \"yaxis2\": {\"domain\": [0, 0.25], \"gridcolor\": \"#E1E5ED\", \"showgrid\": true, \"tickfont\": {\"color\": \"#4D5663\"}, \"title\": {\"font\": {\"color\": \"#4D5663\"}, \"text\": \"Spread\"}, \"zerolinecolor\": \"#E1E5ED\"}},\n",
       "                        {\"showLink\": true, \"linkText\": \"Export to plot.ly\", \"plotlyServerURL\": \"https://plot.ly\", \"responsive\": true}\n",
       "                    ).then(function(){\n",
       "                            \n",
       "var gd = document.getElementById('c266a5aa-fe12-425e-adce-46feb8e6b6a8');\n",
       "var x = new MutationObserver(function (mutations, observer) {{\n",
       "        var display = window.getComputedStyle(gd).display;\n",
       "        if (!display || display === 'none') {{\n",
       "            console.log([gd, 'removed!']);\n",
       "            Plotly.purge(gd);\n",
       "            observer.disconnect();\n",
       "        }}\n",
       "}});\n",
       "\n",
       "// Listen for the removal of the full notebook cells\n",
       "var notebookContainer = gd.closest('#notebook-container');\n",
       "if (notebookContainer) {{\n",
       "    x.observe(notebookContainer, {childList: true});\n",
       "}}\n",
       "\n",
       "// Listen for the clearing of the current output cell\n",
       "var outputEl = gd.closest('.output');\n",
       "if (outputEl) {{\n",
       "    x.observe(outputEl, {childList: true});\n",
       "}}\n",
       "\n",
       "                        })\n",
       "                };\n",
       "                });\n",
       "            </script>\n",
       "        </div>"
      ]
     },
     "metadata": {},
     "output_type": "display_data"
    }
   ],
   "source": [
    "df[['A','B']].iplot(kind='spread')"
   ]
  },
  {
   "cell_type": "code",
   "execution_count": 32,
   "metadata": {},
   "outputs": [
    {
     "data": {
      "application/vnd.plotly.v1+json": {
       "config": {
        "linkText": "Export to plot.ly",
        "plotlyServerURL": "https://plot.ly",
        "showLink": true
       },
       "data": [
        {
         "marker": {
          "color": [
           "rgb(255, 153, 51)",
           "rgb(55, 128, 191)",
           "rgb(50, 171, 96)",
           "rgb(128, 0, 128)",
           "rgb(219, 64, 82)",
           "rgb(0, 128, 128)",
           "rgb(255, 255, 51)",
           "rgb(128, 128, 0)",
           "rgb(251, 128, 114)",
           "rgb(128, 177, 211)"
          ],
          "line": {
           "width": 1.3
          },
          "size": [
           79,
           70,
           52,
           55,
           77,
           75,
           70,
           48,
           52,
           73,
           41,
           19,
           83,
           36,
           77,
           64,
           43,
           70,
           18,
           45,
           12,
           54,
           48,
           76,
           67,
           72,
           45,
           85,
           38,
           51,
           61,
           41,
           42,
           42,
           40,
           22,
           88,
           54,
           58,
           78,
           31,
           44,
           77,
           52,
           56,
           49,
           45,
           59,
           70,
           66,
           45,
           46,
           62,
           63,
           26,
           26,
           64,
           66,
           79,
           92,
           63,
           69,
           44,
           47,
           75,
           66,
           22,
           81,
           20,
           40,
           44,
           59,
           34,
           47,
           35,
           50,
           36,
           90,
           15,
           44,
           72,
           59,
           68,
           45,
           44,
           57,
           64,
           49,
           33,
           46,
           62,
           111,
           24,
           39,
           15,
           85,
           71,
           42,
           68,
           46
          ],
          "symbol": "circle"
         },
         "mode": "markers",
         "text": "",
         "type": "scatter",
         "x": [
          0.7921346859019157,
          1.946825695054702,
          1.4163203147173689,
          0.1161272154136565,
          0.7557025036279604,
          -0.7350872131145143,
          1.6071158265686813,
          -0.6369620656059007,
          0.8497778207394941,
          -0.33749859130626686,
          1.2280973838411833,
          0.036716134725273894,
          -0.3037665937695192,
          0.8239925184967525,
          -1.3538724565017246,
          -0.45194949085156416,
          -1.913074905602045,
          0.17762581698740607,
          -0.7004150163916316,
          0.03188946476696092,
          -0.7719163151332366,
          0.2905161338207252,
          1.4934765893559856,
          1.1517359541867793,
          1.4005117647742198,
          -0.6275397842825213,
          0.8926363946884873,
          -1.0677207378979978,
          -0.19471466043106184,
          0.1529956333359573,
          -0.8218180765611363,
          -0.8503299315540951,
          2.746705232928189,
          0.8121025992904255,
          2.1918060723428723,
          0.1828701452483579,
          0.4455028799628107,
          -0.5193802210214439,
          1.104547831058544,
          0.6594367637087866,
          -1.313520282034992,
          1.190998233995262,
          -0.49647494111496654,
          0.06890857086669673,
          0.8211669474128339,
          -0.6181956721468078,
          -0.31902044193029055,
          -0.19023723733723844,
          0.6886533928938934,
          -0.9332439063027611,
          -0.17051026893912857,
          0.051544294241111815,
          -0.4159263649641647,
          0.8566264197567114,
          0.29402607091862265,
          -1.099818139175731,
          -1.1314940858303717,
          0.9281480352753586,
          -0.13439689942833424,
          0.045604618865690276,
          -0.9979314517757257,
          -0.07269042102427148,
          -0.5356990006428285,
          -1.1990026834526482,
          0.1976306802793206,
          -0.6760867737177405,
          -0.4370643149105769,
          1.7123117467895295,
          1.8799972780063177,
          -0.07036592754360131,
          1.903342736762849,
          -0.7909243457034956,
          -0.21648795712901556,
          -0.18759480763157985,
          -0.17191582545359513,
          1.2163634807475439,
          1.1517611276683175,
          -0.7984270716400544,
          0.7817741035366015,
          2.2456629185031023,
          1.389344614456707,
          0.5726770872579274,
          -0.05996906126751653,
          0.3420213779390641,
          -0.2379680007605113,
          0.3649105284334666,
          0.263804800291932,
          0.3277197543628306,
          -0.2530061140131053,
          1.1758363314661346,
          -0.08852367242694675,
          -0.22481209189451987,
          0.15802992649044043,
          -1.5061386445028795,
          0.6729920524858238,
          -0.3211746441519791,
          1.018943249519832,
          -1.7824913063580343,
          0.891561971167367,
          -1.1815199382522332
         ],
         "y": [
          -0.755353873179904,
          -0.4256767679096191,
          0.8157780024246971,
          -2.2541977161527247,
          -0.7233269440454809,
          -0.3786556373601695,
          -0.4195600810812267,
          -1.0793100455317586,
          0.8220363590786557,
          0.48768333438156214,
          1.3906112268818829,
          -1.660562236233282,
          1.2811839261911535,
          -0.8915535733622445,
          -0.42391847699293117,
          0.1113894103911496,
          1.141630830605558,
          -1.2483726382556115,
          0.8449777733211241,
          -0.5021909158980505,
          1.8137801708054053,
          -1.0325995855976582,
          1.2385329606445827,
          0.2742951614108968,
          -0.04380311529890623,
          -0.3111212097926691,
          0.21211975876158917,
          1.3149102153503898,
          2.4643229801701025,
          -0.619603592493676,
          -0.747113629066319,
          0.5431806643475502,
          -0.2734201992074562,
          -1.3360418266526963,
          0.8090919933441999,
          -0.031279339706645655,
          -0.037058879582681205,
          1.0157389257755776,
          -0.48043568443838675,
          0.31485240310950013,
          -0.7130777817802696,
          0.5197397848035694,
          -1.418160664078292,
          1.1033388571762677,
          0.9979752730335754,
          2.83369159311136,
          1.9073160281621018,
          0.38186024604961033,
          -1.1806003432890024,
          -0.5143575584503659,
          -0.3957816536562888,
          -0.5268066455809626,
          -0.15014706606849018,
          0.13173277087200919,
          1.93981894214876,
          -0.3902593736360637,
          1.6358481423378353,
          0.8115150249350609,
          -0.8555629872017407,
          0.18761674013119092,
          -0.7905156503572589,
          -0.4615672762918858,
          0.34482776614752947,
          0.19434981423092712,
          0.8244631807844324,
          0.1701337758593794,
          1.8909263075644804,
          -0.6636415622048087,
          0.6314810168714927,
          0.36476490047848975,
          0.47866952971355303,
          1.2887293734556127,
          -0.266023327476621,
          -0.1502322605674205,
          -1.1503150530123967,
          0.08230965925441752,
          -0.562349929195335,
          -1.9553643072289255,
          0.5447662913675482,
          0.8458391678364608,
          -0.3923223744037829,
          -0.4830673950348278,
          0.9697117616204505,
          -0.6558959572087942,
          -0.1786710138083607,
          0.4673075927125077,
          0.5895188619517944,
          -1.644346405559177,
          1.018096940218595,
          0.3002176019003145,
          -0.26036541607405717,
          -0.3552758805482968,
          1.138262275081289,
          0.16586658168269822,
          -1.5356808881214654,
          -2.525725571839549,
          1.3261952687937644,
          0.3440020565671146,
          -1.024023927456685,
          -0.026135700939124245
         ]
        }
       ],
       "layout": {
        "legend": {
         "bgcolor": "#F5F6F9",
         "font": {
          "color": "#4D5663"
         }
        },
        "paper_bgcolor": "#F5F6F9",
        "plot_bgcolor": "#F5F6F9",
        "template": {
         "data": {
          "bar": [
           {
            "error_x": {
             "color": "#2a3f5f"
            },
            "error_y": {
             "color": "#2a3f5f"
            },
            "marker": {
             "line": {
              "color": "#E5ECF6",
              "width": 0.5
             }
            },
            "type": "bar"
           }
          ],
          "barpolar": [
           {
            "marker": {
             "line": {
              "color": "#E5ECF6",
              "width": 0.5
             }
            },
            "type": "barpolar"
           }
          ],
          "carpet": [
           {
            "aaxis": {
             "endlinecolor": "#2a3f5f",
             "gridcolor": "white",
             "linecolor": "white",
             "minorgridcolor": "white",
             "startlinecolor": "#2a3f5f"
            },
            "baxis": {
             "endlinecolor": "#2a3f5f",
             "gridcolor": "white",
             "linecolor": "white",
             "minorgridcolor": "white",
             "startlinecolor": "#2a3f5f"
            },
            "type": "carpet"
           }
          ],
          "choropleth": [
           {
            "colorbar": {
             "outlinewidth": 0,
             "ticks": ""
            },
            "type": "choropleth"
           }
          ],
          "contour": [
           {
            "colorbar": {
             "outlinewidth": 0,
             "ticks": ""
            },
            "colorscale": [
             [
              0,
              "#0d0887"
             ],
             [
              0.1111111111111111,
              "#46039f"
             ],
             [
              0.2222222222222222,
              "#7201a8"
             ],
             [
              0.3333333333333333,
              "#9c179e"
             ],
             [
              0.4444444444444444,
              "#bd3786"
             ],
             [
              0.5555555555555556,
              "#d8576b"
             ],
             [
              0.6666666666666666,
              "#ed7953"
             ],
             [
              0.7777777777777778,
              "#fb9f3a"
             ],
             [
              0.8888888888888888,
              "#fdca26"
             ],
             [
              1,
              "#f0f921"
             ]
            ],
            "type": "contour"
           }
          ],
          "contourcarpet": [
           {
            "colorbar": {
             "outlinewidth": 0,
             "ticks": ""
            },
            "type": "contourcarpet"
           }
          ],
          "heatmap": [
           {
            "colorbar": {
             "outlinewidth": 0,
             "ticks": ""
            },
            "colorscale": [
             [
              0,
              "#0d0887"
             ],
             [
              0.1111111111111111,
              "#46039f"
             ],
             [
              0.2222222222222222,
              "#7201a8"
             ],
             [
              0.3333333333333333,
              "#9c179e"
             ],
             [
              0.4444444444444444,
              "#bd3786"
             ],
             [
              0.5555555555555556,
              "#d8576b"
             ],
             [
              0.6666666666666666,
              "#ed7953"
             ],
             [
              0.7777777777777778,
              "#fb9f3a"
             ],
             [
              0.8888888888888888,
              "#fdca26"
             ],
             [
              1,
              "#f0f921"
             ]
            ],
            "type": "heatmap"
           }
          ],
          "heatmapgl": [
           {
            "colorbar": {
             "outlinewidth": 0,
             "ticks": ""
            },
            "colorscale": [
             [
              0,
              "#0d0887"
             ],
             [
              0.1111111111111111,
              "#46039f"
             ],
             [
              0.2222222222222222,
              "#7201a8"
             ],
             [
              0.3333333333333333,
              "#9c179e"
             ],
             [
              0.4444444444444444,
              "#bd3786"
             ],
             [
              0.5555555555555556,
              "#d8576b"
             ],
             [
              0.6666666666666666,
              "#ed7953"
             ],
             [
              0.7777777777777778,
              "#fb9f3a"
             ],
             [
              0.8888888888888888,
              "#fdca26"
             ],
             [
              1,
              "#f0f921"
             ]
            ],
            "type": "heatmapgl"
           }
          ],
          "histogram": [
           {
            "marker": {
             "colorbar": {
              "outlinewidth": 0,
              "ticks": ""
             }
            },
            "type": "histogram"
           }
          ],
          "histogram2d": [
           {
            "colorbar": {
             "outlinewidth": 0,
             "ticks": ""
            },
            "colorscale": [
             [
              0,
              "#0d0887"
             ],
             [
              0.1111111111111111,
              "#46039f"
             ],
             [
              0.2222222222222222,
              "#7201a8"
             ],
             [
              0.3333333333333333,
              "#9c179e"
             ],
             [
              0.4444444444444444,
              "#bd3786"
             ],
             [
              0.5555555555555556,
              "#d8576b"
             ],
             [
              0.6666666666666666,
              "#ed7953"
             ],
             [
              0.7777777777777778,
              "#fb9f3a"
             ],
             [
              0.8888888888888888,
              "#fdca26"
             ],
             [
              1,
              "#f0f921"
             ]
            ],
            "type": "histogram2d"
           }
          ],
          "histogram2dcontour": [
           {
            "colorbar": {
             "outlinewidth": 0,
             "ticks": ""
            },
            "colorscale": [
             [
              0,
              "#0d0887"
             ],
             [
              0.1111111111111111,
              "#46039f"
             ],
             [
              0.2222222222222222,
              "#7201a8"
             ],
             [
              0.3333333333333333,
              "#9c179e"
             ],
             [
              0.4444444444444444,
              "#bd3786"
             ],
             [
              0.5555555555555556,
              "#d8576b"
             ],
             [
              0.6666666666666666,
              "#ed7953"
             ],
             [
              0.7777777777777778,
              "#fb9f3a"
             ],
             [
              0.8888888888888888,
              "#fdca26"
             ],
             [
              1,
              "#f0f921"
             ]
            ],
            "type": "histogram2dcontour"
           }
          ],
          "mesh3d": [
           {
            "colorbar": {
             "outlinewidth": 0,
             "ticks": ""
            },
            "type": "mesh3d"
           }
          ],
          "parcoords": [
           {
            "line": {
             "colorbar": {
              "outlinewidth": 0,
              "ticks": ""
             }
            },
            "type": "parcoords"
           }
          ],
          "pie": [
           {
            "automargin": true,
            "type": "pie"
           }
          ],
          "scatter": [
           {
            "marker": {
             "colorbar": {
              "outlinewidth": 0,
              "ticks": ""
             }
            },
            "type": "scatter"
           }
          ],
          "scatter3d": [
           {
            "line": {
             "colorbar": {
              "outlinewidth": 0,
              "ticks": ""
             }
            },
            "marker": {
             "colorbar": {
              "outlinewidth": 0,
              "ticks": ""
             }
            },
            "type": "scatter3d"
           }
          ],
          "scattercarpet": [
           {
            "marker": {
             "colorbar": {
              "outlinewidth": 0,
              "ticks": ""
             }
            },
            "type": "scattercarpet"
           }
          ],
          "scattergeo": [
           {
            "marker": {
             "colorbar": {
              "outlinewidth": 0,
              "ticks": ""
             }
            },
            "type": "scattergeo"
           }
          ],
          "scattergl": [
           {
            "marker": {
             "colorbar": {
              "outlinewidth": 0,
              "ticks": ""
             }
            },
            "type": "scattergl"
           }
          ],
          "scattermapbox": [
           {
            "marker": {
             "colorbar": {
              "outlinewidth": 0,
              "ticks": ""
             }
            },
            "type": "scattermapbox"
           }
          ],
          "scatterpolar": [
           {
            "marker": {
             "colorbar": {
              "outlinewidth": 0,
              "ticks": ""
             }
            },
            "type": "scatterpolar"
           }
          ],
          "scatterpolargl": [
           {
            "marker": {
             "colorbar": {
              "outlinewidth": 0,
              "ticks": ""
             }
            },
            "type": "scatterpolargl"
           }
          ],
          "scatterternary": [
           {
            "marker": {
             "colorbar": {
              "outlinewidth": 0,
              "ticks": ""
             }
            },
            "type": "scatterternary"
           }
          ],
          "surface": [
           {
            "colorbar": {
             "outlinewidth": 0,
             "ticks": ""
            },
            "colorscale": [
             [
              0,
              "#0d0887"
             ],
             [
              0.1111111111111111,
              "#46039f"
             ],
             [
              0.2222222222222222,
              "#7201a8"
             ],
             [
              0.3333333333333333,
              "#9c179e"
             ],
             [
              0.4444444444444444,
              "#bd3786"
             ],
             [
              0.5555555555555556,
              "#d8576b"
             ],
             [
              0.6666666666666666,
              "#ed7953"
             ],
             [
              0.7777777777777778,
              "#fb9f3a"
             ],
             [
              0.8888888888888888,
              "#fdca26"
             ],
             [
              1,
              "#f0f921"
             ]
            ],
            "type": "surface"
           }
          ],
          "table": [
           {
            "cells": {
             "fill": {
              "color": "#EBF0F8"
             },
             "line": {
              "color": "white"
             }
            },
            "header": {
             "fill": {
              "color": "#C8D4E3"
             },
             "line": {
              "color": "white"
             }
            },
            "type": "table"
           }
          ]
         },
         "layout": {
          "annotationdefaults": {
           "arrowcolor": "#2a3f5f",
           "arrowhead": 0,
           "arrowwidth": 1
          },
          "coloraxis": {
           "colorbar": {
            "outlinewidth": 0,
            "ticks": ""
           }
          },
          "colorscale": {
           "diverging": [
            [
             0,
             "#8e0152"
            ],
            [
             0.1,
             "#c51b7d"
            ],
            [
             0.2,
             "#de77ae"
            ],
            [
             0.3,
             "#f1b6da"
            ],
            [
             0.4,
             "#fde0ef"
            ],
            [
             0.5,
             "#f7f7f7"
            ],
            [
             0.6,
             "#e6f5d0"
            ],
            [
             0.7,
             "#b8e186"
            ],
            [
             0.8,
             "#7fbc41"
            ],
            [
             0.9,
             "#4d9221"
            ],
            [
             1,
             "#276419"
            ]
           ],
           "sequential": [
            [
             0,
             "#0d0887"
            ],
            [
             0.1111111111111111,
             "#46039f"
            ],
            [
             0.2222222222222222,
             "#7201a8"
            ],
            [
             0.3333333333333333,
             "#9c179e"
            ],
            [
             0.4444444444444444,
             "#bd3786"
            ],
            [
             0.5555555555555556,
             "#d8576b"
            ],
            [
             0.6666666666666666,
             "#ed7953"
            ],
            [
             0.7777777777777778,
             "#fb9f3a"
            ],
            [
             0.8888888888888888,
             "#fdca26"
            ],
            [
             1,
             "#f0f921"
            ]
           ],
           "sequentialminus": [
            [
             0,
             "#0d0887"
            ],
            [
             0.1111111111111111,
             "#46039f"
            ],
            [
             0.2222222222222222,
             "#7201a8"
            ],
            [
             0.3333333333333333,
             "#9c179e"
            ],
            [
             0.4444444444444444,
             "#bd3786"
            ],
            [
             0.5555555555555556,
             "#d8576b"
            ],
            [
             0.6666666666666666,
             "#ed7953"
            ],
            [
             0.7777777777777778,
             "#fb9f3a"
            ],
            [
             0.8888888888888888,
             "#fdca26"
            ],
            [
             1,
             "#f0f921"
            ]
           ]
          },
          "colorway": [
           "#636efa",
           "#EF553B",
           "#00cc96",
           "#ab63fa",
           "#FFA15A",
           "#19d3f3",
           "#FF6692",
           "#B6E880",
           "#FF97FF",
           "#FECB52"
          ],
          "font": {
           "color": "#2a3f5f"
          },
          "geo": {
           "bgcolor": "white",
           "lakecolor": "white",
           "landcolor": "#E5ECF6",
           "showlakes": true,
           "showland": true,
           "subunitcolor": "white"
          },
          "hoverlabel": {
           "align": "left"
          },
          "hovermode": "closest",
          "mapbox": {
           "style": "light"
          },
          "paper_bgcolor": "white",
          "plot_bgcolor": "#E5ECF6",
          "polar": {
           "angularaxis": {
            "gridcolor": "white",
            "linecolor": "white",
            "ticks": ""
           },
           "bgcolor": "#E5ECF6",
           "radialaxis": {
            "gridcolor": "white",
            "linecolor": "white",
            "ticks": ""
           }
          },
          "scene": {
           "xaxis": {
            "backgroundcolor": "#E5ECF6",
            "gridcolor": "white",
            "gridwidth": 2,
            "linecolor": "white",
            "showbackground": true,
            "ticks": "",
            "zerolinecolor": "white"
           },
           "yaxis": {
            "backgroundcolor": "#E5ECF6",
            "gridcolor": "white",
            "gridwidth": 2,
            "linecolor": "white",
            "showbackground": true,
            "ticks": "",
            "zerolinecolor": "white"
           },
           "zaxis": {
            "backgroundcolor": "#E5ECF6",
            "gridcolor": "white",
            "gridwidth": 2,
            "linecolor": "white",
            "showbackground": true,
            "ticks": "",
            "zerolinecolor": "white"
           }
          },
          "shapedefaults": {
           "line": {
            "color": "#2a3f5f"
           }
          },
          "ternary": {
           "aaxis": {
            "gridcolor": "white",
            "linecolor": "white",
            "ticks": ""
           },
           "baxis": {
            "gridcolor": "white",
            "linecolor": "white",
            "ticks": ""
           },
           "bgcolor": "#E5ECF6",
           "caxis": {
            "gridcolor": "white",
            "linecolor": "white",
            "ticks": ""
           }
          },
          "title": {
           "x": 0.05
          },
          "xaxis": {
           "automargin": true,
           "gridcolor": "white",
           "linecolor": "white",
           "ticks": "",
           "title": {
            "standoff": 15
           },
           "zerolinecolor": "white",
           "zerolinewidth": 2
          },
          "yaxis": {
           "automargin": true,
           "gridcolor": "white",
           "linecolor": "white",
           "ticks": "",
           "title": {
            "standoff": 15
           },
           "zerolinecolor": "white",
           "zerolinewidth": 2
          }
         }
        },
        "title": {
         "font": {
          "color": "#4D5663"
         }
        },
        "xaxis": {
         "gridcolor": "#E1E5ED",
         "showgrid": true,
         "tickfont": {
          "color": "#4D5663"
         },
         "title": {
          "font": {
           "color": "#4D5663"
          },
          "text": ""
         },
         "zerolinecolor": "#E1E5ED"
        },
        "yaxis": {
         "gridcolor": "#E1E5ED",
         "showgrid": true,
         "tickfont": {
          "color": "#4D5663"
         },
         "title": {
          "font": {
           "color": "#4D5663"
          },
          "text": ""
         },
         "zerolinecolor": "#E1E5ED"
        }
       }
      },
      "text/html": [
       "<div>\n",
       "        \n",
       "        \n",
       "            <div id=\"6a3455c7-b7c8-4e7e-bcf1-b14151dda089\" class=\"plotly-graph-div\" style=\"height:525px; width:100%;\"></div>\n",
       "            <script type=\"text/javascript\">\n",
       "                require([\"plotly\"], function(Plotly) {\n",
       "                    window.PLOTLYENV=window.PLOTLYENV || {};\n",
       "                    window.PLOTLYENV.BASE_URL='https://plot.ly';\n",
       "                    \n",
       "                if (document.getElementById(\"6a3455c7-b7c8-4e7e-bcf1-b14151dda089\")) {\n",
       "                    Plotly.newPlot(\n",
       "                        '6a3455c7-b7c8-4e7e-bcf1-b14151dda089',\n",
       "                        [{\"marker\": {\"color\": [\"rgb(255, 153, 51)\", \"rgb(55, 128, 191)\", \"rgb(50, 171, 96)\", \"rgb(128, 0, 128)\", \"rgb(219, 64, 82)\", \"rgb(0, 128, 128)\", \"rgb(255, 255, 51)\", \"rgb(128, 128, 0)\", \"rgb(251, 128, 114)\", \"rgb(128, 177, 211)\"], \"line\": {\"width\": 1.3}, \"size\": [79, 70, 52, 55, 77, 75, 70, 48, 52, 73, 41, 19, 83, 36, 77, 64, 43, 70, 18, 45, 12, 54, 48, 76, 67, 72, 45, 85, 38, 51, 61, 41, 42, 42, 40, 22, 88, 54, 58, 78, 31, 44, 77, 52, 56, 49, 45, 59, 70, 66, 45, 46, 62, 63, 26, 26, 64, 66, 79, 92, 63, 69, 44, 47, 75, 66, 22, 81, 20, 40, 44, 59, 34, 47, 35, 50, 36, 90, 15, 44, 72, 59, 68, 45, 44, 57, 64, 49, 33, 46, 62, 111, 24, 39, 15, 85, 71, 42, 68, 46], \"symbol\": \"circle\"}, \"mode\": \"markers\", \"text\": \"\", \"type\": \"scatter\", \"x\": [0.7921346859019157, 1.946825695054702, 1.4163203147173689, 0.1161272154136565, 0.7557025036279604, -0.7350872131145143, 1.6071158265686813, -0.6369620656059007, 0.8497778207394941, -0.33749859130626686, 1.2280973838411833, 0.036716134725273894, -0.3037665937695192, 0.8239925184967525, -1.3538724565017246, -0.45194949085156416, -1.913074905602045, 0.17762581698740607, -0.7004150163916316, 0.03188946476696092, -0.7719163151332366, 0.2905161338207252, 1.4934765893559856, 1.1517359541867793, 1.4005117647742198, -0.6275397842825213, 0.8926363946884873, -1.0677207378979978, -0.19471466043106184, 0.1529956333359573, -0.8218180765611363, -0.8503299315540951, 2.746705232928189, 0.8121025992904255, 2.1918060723428723, 0.1828701452483579, 0.4455028799628107, -0.5193802210214439, 1.104547831058544, 0.6594367637087866, -1.313520282034992, 1.190998233995262, -0.49647494111496654, 0.06890857086669673, 0.8211669474128339, -0.6181956721468078, -0.31902044193029055, -0.19023723733723844, 0.6886533928938934, -0.9332439063027611, -0.17051026893912857, 0.051544294241111815, -0.4159263649641647, 0.8566264197567114, 0.29402607091862265, -1.099818139175731, -1.1314940858303717, 0.9281480352753586, -0.13439689942833424, 0.045604618865690276, -0.9979314517757257, -0.07269042102427148, -0.5356990006428285, -1.1990026834526482, 0.1976306802793206, -0.6760867737177405, -0.4370643149105769, 1.7123117467895295, 1.8799972780063177, -0.07036592754360131, 1.903342736762849, -0.7909243457034956, -0.21648795712901556, -0.18759480763157985, -0.17191582545359513, 1.2163634807475439, 1.1517611276683175, -0.7984270716400544, 0.7817741035366015, 2.2456629185031023, 1.389344614456707, 0.5726770872579274, -0.05996906126751653, 0.3420213779390641, -0.2379680007605113, 0.3649105284334666, 0.263804800291932, 0.3277197543628306, -0.2530061140131053, 1.1758363314661346, -0.08852367242694675, -0.22481209189451987, 0.15802992649044043, -1.5061386445028795, 0.6729920524858238, -0.3211746441519791, 1.018943249519832, -1.7824913063580343, 0.891561971167367, -1.1815199382522332], \"y\": [-0.755353873179904, -0.4256767679096191, 0.8157780024246971, -2.2541977161527247, -0.7233269440454809, -0.3786556373601695, -0.4195600810812267, -1.0793100455317586, 0.8220363590786557, 0.48768333438156214, 1.3906112268818829, -1.660562236233282, 1.2811839261911535, -0.8915535733622445, -0.42391847699293117, 0.1113894103911496, 1.141630830605558, -1.2483726382556115, 0.8449777733211241, -0.5021909158980505, 1.8137801708054053, -1.0325995855976582, 1.2385329606445827, 0.2742951614108968, -0.04380311529890623, -0.3111212097926691, 0.21211975876158917, 1.3149102153503898, 2.4643229801701025, -0.619603592493676, -0.747113629066319, 0.5431806643475502, -0.2734201992074562, -1.3360418266526963, 0.8090919933441999, -0.031279339706645655, -0.037058879582681205, 1.0157389257755776, -0.48043568443838675, 0.31485240310950013, -0.7130777817802696, 0.5197397848035694, -1.418160664078292, 1.1033388571762677, 0.9979752730335754, 2.83369159311136, 1.9073160281621018, 0.38186024604961033, -1.1806003432890024, -0.5143575584503659, -0.3957816536562888, -0.5268066455809626, -0.15014706606849018, 0.13173277087200919, 1.93981894214876, -0.3902593736360637, 1.6358481423378353, 0.8115150249350609, -0.8555629872017407, 0.18761674013119092, -0.7905156503572589, -0.4615672762918858, 0.34482776614752947, 0.19434981423092712, 0.8244631807844324, 0.1701337758593794, 1.8909263075644804, -0.6636415622048087, 0.6314810168714927, 0.36476490047848975, 0.47866952971355303, 1.2887293734556127, -0.266023327476621, -0.1502322605674205, -1.1503150530123967, 0.08230965925441752, -0.562349929195335, -1.9553643072289255, 0.5447662913675482, 0.8458391678364608, -0.3923223744037829, -0.4830673950348278, 0.9697117616204505, -0.6558959572087942, -0.1786710138083607, 0.4673075927125077, 0.5895188619517944, -1.644346405559177, 1.018096940218595, 0.3002176019003145, -0.26036541607405717, -0.3552758805482968, 1.138262275081289, 0.16586658168269822, -1.5356808881214654, -2.525725571839549, 1.3261952687937644, 0.3440020565671146, -1.024023927456685, -0.026135700939124245]}],\n",
       "                        {\"legend\": {\"bgcolor\": \"#F5F6F9\", \"font\": {\"color\": \"#4D5663\"}}, \"paper_bgcolor\": \"#F5F6F9\", \"plot_bgcolor\": \"#F5F6F9\", \"template\": {\"data\": {\"bar\": [{\"error_x\": {\"color\": \"#2a3f5f\"}, \"error_y\": {\"color\": \"#2a3f5f\"}, \"marker\": {\"line\": {\"color\": \"#E5ECF6\", \"width\": 0.5}}, \"type\": \"bar\"}], \"barpolar\": [{\"marker\": {\"line\": {\"color\": \"#E5ECF6\", \"width\": 0.5}}, \"type\": \"barpolar\"}], \"carpet\": [{\"aaxis\": {\"endlinecolor\": \"#2a3f5f\", \"gridcolor\": \"white\", \"linecolor\": \"white\", \"minorgridcolor\": \"white\", \"startlinecolor\": \"#2a3f5f\"}, \"baxis\": {\"endlinecolor\": \"#2a3f5f\", \"gridcolor\": \"white\", \"linecolor\": \"white\", \"minorgridcolor\": \"white\", \"startlinecolor\": \"#2a3f5f\"}, \"type\": \"carpet\"}], \"choropleth\": [{\"colorbar\": {\"outlinewidth\": 0, \"ticks\": \"\"}, \"type\": \"choropleth\"}], \"contour\": [{\"colorbar\": {\"outlinewidth\": 0, \"ticks\": \"\"}, \"colorscale\": [[0.0, \"#0d0887\"], [0.1111111111111111, \"#46039f\"], [0.2222222222222222, \"#7201a8\"], [0.3333333333333333, \"#9c179e\"], [0.4444444444444444, \"#bd3786\"], [0.5555555555555556, \"#d8576b\"], [0.6666666666666666, \"#ed7953\"], [0.7777777777777778, \"#fb9f3a\"], [0.8888888888888888, \"#fdca26\"], [1.0, \"#f0f921\"]], \"type\": \"contour\"}], \"contourcarpet\": [{\"colorbar\": {\"outlinewidth\": 0, \"ticks\": \"\"}, \"type\": \"contourcarpet\"}], \"heatmap\": [{\"colorbar\": {\"outlinewidth\": 0, \"ticks\": \"\"}, \"colorscale\": [[0.0, \"#0d0887\"], [0.1111111111111111, \"#46039f\"], [0.2222222222222222, \"#7201a8\"], [0.3333333333333333, \"#9c179e\"], [0.4444444444444444, \"#bd3786\"], [0.5555555555555556, \"#d8576b\"], [0.6666666666666666, \"#ed7953\"], [0.7777777777777778, \"#fb9f3a\"], [0.8888888888888888, \"#fdca26\"], [1.0, \"#f0f921\"]], \"type\": \"heatmap\"}], \"heatmapgl\": [{\"colorbar\": {\"outlinewidth\": 0, \"ticks\": \"\"}, \"colorscale\": [[0.0, \"#0d0887\"], [0.1111111111111111, \"#46039f\"], [0.2222222222222222, \"#7201a8\"], [0.3333333333333333, \"#9c179e\"], [0.4444444444444444, \"#bd3786\"], [0.5555555555555556, \"#d8576b\"], [0.6666666666666666, \"#ed7953\"], [0.7777777777777778, \"#fb9f3a\"], [0.8888888888888888, \"#fdca26\"], [1.0, \"#f0f921\"]], \"type\": \"heatmapgl\"}], \"histogram\": [{\"marker\": {\"colorbar\": {\"outlinewidth\": 0, \"ticks\": \"\"}}, \"type\": \"histogram\"}], \"histogram2d\": [{\"colorbar\": {\"outlinewidth\": 0, \"ticks\": \"\"}, \"colorscale\": [[0.0, \"#0d0887\"], [0.1111111111111111, \"#46039f\"], [0.2222222222222222, \"#7201a8\"], [0.3333333333333333, \"#9c179e\"], [0.4444444444444444, \"#bd3786\"], [0.5555555555555556, \"#d8576b\"], [0.6666666666666666, \"#ed7953\"], [0.7777777777777778, \"#fb9f3a\"], [0.8888888888888888, \"#fdca26\"], [1.0, \"#f0f921\"]], \"type\": \"histogram2d\"}], \"histogram2dcontour\": [{\"colorbar\": {\"outlinewidth\": 0, \"ticks\": \"\"}, \"colorscale\": [[0.0, \"#0d0887\"], [0.1111111111111111, \"#46039f\"], [0.2222222222222222, \"#7201a8\"], [0.3333333333333333, \"#9c179e\"], [0.4444444444444444, \"#bd3786\"], [0.5555555555555556, \"#d8576b\"], [0.6666666666666666, \"#ed7953\"], [0.7777777777777778, \"#fb9f3a\"], [0.8888888888888888, \"#fdca26\"], [1.0, \"#f0f921\"]], \"type\": \"histogram2dcontour\"}], \"mesh3d\": [{\"colorbar\": {\"outlinewidth\": 0, \"ticks\": \"\"}, \"type\": \"mesh3d\"}], \"parcoords\": [{\"line\": {\"colorbar\": {\"outlinewidth\": 0, \"ticks\": \"\"}}, \"type\": \"parcoords\"}], \"pie\": [{\"automargin\": true, \"type\": \"pie\"}], \"scatter\": [{\"marker\": {\"colorbar\": {\"outlinewidth\": 0, \"ticks\": \"\"}}, \"type\": \"scatter\"}], \"scatter3d\": [{\"line\": {\"colorbar\": {\"outlinewidth\": 0, \"ticks\": \"\"}}, \"marker\": {\"colorbar\": {\"outlinewidth\": 0, \"ticks\": \"\"}}, \"type\": \"scatter3d\"}], \"scattercarpet\": [{\"marker\": {\"colorbar\": {\"outlinewidth\": 0, \"ticks\": \"\"}}, \"type\": \"scattercarpet\"}], \"scattergeo\": [{\"marker\": {\"colorbar\": {\"outlinewidth\": 0, \"ticks\": \"\"}}, \"type\": \"scattergeo\"}], \"scattergl\": [{\"marker\": {\"colorbar\": {\"outlinewidth\": 0, \"ticks\": \"\"}}, \"type\": \"scattergl\"}], \"scattermapbox\": [{\"marker\": {\"colorbar\": {\"outlinewidth\": 0, \"ticks\": \"\"}}, \"type\": \"scattermapbox\"}], \"scatterpolar\": [{\"marker\": {\"colorbar\": {\"outlinewidth\": 0, \"ticks\": \"\"}}, \"type\": \"scatterpolar\"}], \"scatterpolargl\": [{\"marker\": {\"colorbar\": {\"outlinewidth\": 0, \"ticks\": \"\"}}, \"type\": \"scatterpolargl\"}], \"scatterternary\": [{\"marker\": {\"colorbar\": {\"outlinewidth\": 0, \"ticks\": \"\"}}, \"type\": \"scatterternary\"}], \"surface\": [{\"colorbar\": {\"outlinewidth\": 0, \"ticks\": \"\"}, \"colorscale\": [[0.0, \"#0d0887\"], [0.1111111111111111, \"#46039f\"], [0.2222222222222222, \"#7201a8\"], [0.3333333333333333, \"#9c179e\"], [0.4444444444444444, \"#bd3786\"], [0.5555555555555556, \"#d8576b\"], [0.6666666666666666, \"#ed7953\"], [0.7777777777777778, \"#fb9f3a\"], [0.8888888888888888, \"#fdca26\"], [1.0, \"#f0f921\"]], \"type\": \"surface\"}], \"table\": [{\"cells\": {\"fill\": {\"color\": \"#EBF0F8\"}, \"line\": {\"color\": \"white\"}}, \"header\": {\"fill\": {\"color\": \"#C8D4E3\"}, \"line\": {\"color\": \"white\"}}, \"type\": \"table\"}]}, \"layout\": {\"annotationdefaults\": {\"arrowcolor\": \"#2a3f5f\", \"arrowhead\": 0, \"arrowwidth\": 1}, \"coloraxis\": {\"colorbar\": {\"outlinewidth\": 0, \"ticks\": \"\"}}, \"colorscale\": {\"diverging\": [[0, \"#8e0152\"], [0.1, \"#c51b7d\"], [0.2, \"#de77ae\"], [0.3, \"#f1b6da\"], [0.4, \"#fde0ef\"], [0.5, \"#f7f7f7\"], [0.6, \"#e6f5d0\"], [0.7, \"#b8e186\"], [0.8, \"#7fbc41\"], [0.9, \"#4d9221\"], [1, \"#276419\"]], \"sequential\": [[0.0, \"#0d0887\"], [0.1111111111111111, \"#46039f\"], [0.2222222222222222, \"#7201a8\"], [0.3333333333333333, \"#9c179e\"], [0.4444444444444444, \"#bd3786\"], [0.5555555555555556, \"#d8576b\"], [0.6666666666666666, \"#ed7953\"], [0.7777777777777778, \"#fb9f3a\"], [0.8888888888888888, \"#fdca26\"], [1.0, \"#f0f921\"]], \"sequentialminus\": [[0.0, \"#0d0887\"], [0.1111111111111111, \"#46039f\"], [0.2222222222222222, \"#7201a8\"], [0.3333333333333333, \"#9c179e\"], [0.4444444444444444, \"#bd3786\"], [0.5555555555555556, \"#d8576b\"], [0.6666666666666666, \"#ed7953\"], [0.7777777777777778, \"#fb9f3a\"], [0.8888888888888888, \"#fdca26\"], [1.0, \"#f0f921\"]]}, \"colorway\": [\"#636efa\", \"#EF553B\", \"#00cc96\", \"#ab63fa\", \"#FFA15A\", \"#19d3f3\", \"#FF6692\", \"#B6E880\", \"#FF97FF\", \"#FECB52\"], \"font\": {\"color\": \"#2a3f5f\"}, \"geo\": {\"bgcolor\": \"white\", \"lakecolor\": \"white\", \"landcolor\": \"#E5ECF6\", \"showlakes\": true, \"showland\": true, \"subunitcolor\": \"white\"}, \"hoverlabel\": {\"align\": \"left\"}, \"hovermode\": \"closest\", \"mapbox\": {\"style\": \"light\"}, \"paper_bgcolor\": \"white\", \"plot_bgcolor\": \"#E5ECF6\", \"polar\": {\"angularaxis\": {\"gridcolor\": \"white\", \"linecolor\": \"white\", \"ticks\": \"\"}, \"bgcolor\": \"#E5ECF6\", \"radialaxis\": {\"gridcolor\": \"white\", \"linecolor\": \"white\", \"ticks\": \"\"}}, \"scene\": {\"xaxis\": {\"backgroundcolor\": \"#E5ECF6\", \"gridcolor\": \"white\", \"gridwidth\": 2, \"linecolor\": \"white\", \"showbackground\": true, \"ticks\": \"\", \"zerolinecolor\": \"white\"}, \"yaxis\": {\"backgroundcolor\": \"#E5ECF6\", \"gridcolor\": \"white\", \"gridwidth\": 2, \"linecolor\": \"white\", \"showbackground\": true, \"ticks\": \"\", \"zerolinecolor\": \"white\"}, \"zaxis\": {\"backgroundcolor\": \"#E5ECF6\", \"gridcolor\": \"white\", \"gridwidth\": 2, \"linecolor\": \"white\", \"showbackground\": true, \"ticks\": \"\", \"zerolinecolor\": \"white\"}}, \"shapedefaults\": {\"line\": {\"color\": \"#2a3f5f\"}}, \"ternary\": {\"aaxis\": {\"gridcolor\": \"white\", \"linecolor\": \"white\", \"ticks\": \"\"}, \"baxis\": {\"gridcolor\": \"white\", \"linecolor\": \"white\", \"ticks\": \"\"}, \"bgcolor\": \"#E5ECF6\", \"caxis\": {\"gridcolor\": \"white\", \"linecolor\": \"white\", \"ticks\": \"\"}}, \"title\": {\"x\": 0.05}, \"xaxis\": {\"automargin\": true, \"gridcolor\": \"white\", \"linecolor\": \"white\", \"ticks\": \"\", \"title\": {\"standoff\": 15}, \"zerolinecolor\": \"white\", \"zerolinewidth\": 2}, \"yaxis\": {\"automargin\": true, \"gridcolor\": \"white\", \"linecolor\": \"white\", \"ticks\": \"\", \"title\": {\"standoff\": 15}, \"zerolinecolor\": \"white\", \"zerolinewidth\": 2}}}, \"title\": {\"font\": {\"color\": \"#4D5663\"}}, \"xaxis\": {\"gridcolor\": \"#E1E5ED\", \"showgrid\": true, \"tickfont\": {\"color\": \"#4D5663\"}, \"title\": {\"font\": {\"color\": \"#4D5663\"}, \"text\": \"\"}, \"zerolinecolor\": \"#E1E5ED\"}, \"yaxis\": {\"gridcolor\": \"#E1E5ED\", \"showgrid\": true, \"tickfont\": {\"color\": \"#4D5663\"}, \"title\": {\"font\": {\"color\": \"#4D5663\"}, \"text\": \"\"}, \"zerolinecolor\": \"#E1E5ED\"}},\n",
       "                        {\"showLink\": true, \"linkText\": \"Export to plot.ly\", \"plotlyServerURL\": \"https://plot.ly\", \"responsive\": true}\n",
       "                    ).then(function(){\n",
       "                            \n",
       "var gd = document.getElementById('6a3455c7-b7c8-4e7e-bcf1-b14151dda089');\n",
       "var x = new MutationObserver(function (mutations, observer) {{\n",
       "        var display = window.getComputedStyle(gd).display;\n",
       "        if (!display || display === 'none') {{\n",
       "            console.log([gd, 'removed!']);\n",
       "            Plotly.purge(gd);\n",
       "            observer.disconnect();\n",
       "        }}\n",
       "}});\n",
       "\n",
       "// Listen for the removal of the full notebook cells\n",
       "var notebookContainer = gd.closest('#notebook-container');\n",
       "if (notebookContainer) {{\n",
       "    x.observe(notebookContainer, {childList: true});\n",
       "}}\n",
       "\n",
       "// Listen for the clearing of the current output cell\n",
       "var outputEl = gd.closest('.output');\n",
       "if (outputEl) {{\n",
       "    x.observe(outputEl, {childList: true});\n",
       "}}\n",
       "\n",
       "                        })\n",
       "                };\n",
       "                });\n",
       "            </script>\n",
       "        </div>"
      ]
     },
     "metadata": {},
     "output_type": "display_data"
    }
   ],
   "source": [
    "df.iplot(kind='bubble',x='A',y='B',size='C')"
   ]
  },
  {
   "cell_type": "code",
   "execution_count": 33,
   "metadata": {},
   "outputs": [
    {
     "data": {
      "application/vnd.plotly.v1+json": {
       "config": {
        "linkText": "Export to plot.ly",
        "plotlyServerURL": "https://plot.ly",
        "showLink": true
       },
       "data": [
        {
         "histfunc": "count",
         "histnorm": "",
         "marker": {
          "color": "rgba(255, 153, 51, 1.0)",
          "line": {
           "color": "#4D5663",
           "width": 1.3
          }
         },
         "name": "A",
         "nbinsx": 10,
         "opacity": 0.8,
         "orientation": "v",
         "type": "histogram",
         "x": [
          0.7921346859019157,
          1.946825695054702,
          1.4163203147173689,
          0.1161272154136565,
          0.7557025036279604,
          -0.7350872131145143,
          1.6071158265686813,
          -0.6369620656059007,
          0.8497778207394941,
          -0.33749859130626686,
          1.2280973838411833,
          0.036716134725273894,
          -0.3037665937695192,
          0.8239925184967525,
          -1.3538724565017246,
          -0.45194949085156416,
          -1.913074905602045,
          0.17762581698740607,
          -0.7004150163916316,
          0.03188946476696092,
          -0.7719163151332366,
          0.2905161338207252,
          1.4934765893559856,
          1.1517359541867793,
          1.4005117647742198,
          -0.6275397842825213,
          0.8926363946884873,
          -1.0677207378979978,
          -0.19471466043106184,
          0.1529956333359573,
          -0.8218180765611363,
          -0.8503299315540951,
          2.746705232928189,
          0.8121025992904255,
          2.1918060723428723,
          0.1828701452483579,
          0.4455028799628107,
          -0.5193802210214439,
          1.104547831058544,
          0.6594367637087866,
          -1.313520282034992,
          1.190998233995262,
          -0.49647494111496654,
          0.06890857086669673,
          0.8211669474128339,
          -0.6181956721468078,
          -0.31902044193029055,
          -0.19023723733723844,
          0.6886533928938934,
          -0.9332439063027611,
          -0.17051026893912857,
          0.051544294241111815,
          -0.4159263649641647,
          0.8566264197567114,
          0.29402607091862265,
          -1.099818139175731,
          -1.1314940858303717,
          0.9281480352753586,
          -0.13439689942833424,
          0.045604618865690276,
          -0.9979314517757257,
          -0.07269042102427148,
          -0.5356990006428285,
          -1.1990026834526482,
          0.1976306802793206,
          -0.6760867737177405,
          -0.4370643149105769,
          1.7123117467895295,
          1.8799972780063177,
          -0.07036592754360131,
          1.903342736762849,
          -0.7909243457034956,
          -0.21648795712901556,
          -0.18759480763157985,
          -0.17191582545359513,
          1.2163634807475439,
          1.1517611276683175,
          -0.7984270716400544,
          0.7817741035366015,
          2.2456629185031023,
          1.389344614456707,
          0.5726770872579274,
          -0.05996906126751653,
          0.3420213779390641,
          -0.2379680007605113,
          0.3649105284334666,
          0.263804800291932,
          0.3277197543628306,
          -0.2530061140131053,
          1.1758363314661346,
          -0.08852367242694675,
          -0.22481209189451987,
          0.15802992649044043,
          -1.5061386445028795,
          0.6729920524858238,
          -0.3211746441519791,
          1.018943249519832,
          -1.7824913063580343,
          0.891561971167367,
          -1.1815199382522332
         ],
         "xaxis": "x",
         "yaxis": "y"
        },
        {
         "line": {
          "color": "rgba(128, 128, 128, 1.0)",
          "dash": "solid",
          "shape": "linear",
          "width": 1.3
         },
         "marker": {
          "size": 2,
          "symbol": "circle"
         },
         "mode": "markers",
         "name": "A",
         "text": "",
         "type": "scatter",
         "x": [
          -0.755353873179904,
          -0.4256767679096191,
          0.8157780024246971,
          -2.2541977161527247,
          -0.7233269440454809,
          -0.3786556373601695,
          -0.4195600810812267,
          -1.0793100455317586,
          0.8220363590786557,
          0.48768333438156214,
          1.3906112268818829,
          -1.660562236233282,
          1.2811839261911535,
          -0.8915535733622445,
          -0.42391847699293117,
          0.1113894103911496,
          1.141630830605558,
          -1.2483726382556115,
          0.8449777733211241,
          -0.5021909158980505,
          1.8137801708054053,
          -1.0325995855976582,
          1.2385329606445827,
          0.2742951614108968,
          -0.04380311529890623,
          -0.3111212097926691,
          0.21211975876158917,
          1.3149102153503898,
          2.4643229801701025,
          -0.619603592493676,
          -0.747113629066319,
          0.5431806643475502,
          -0.2734201992074562,
          -1.3360418266526963,
          0.8090919933441999,
          -0.031279339706645655,
          -0.037058879582681205,
          1.0157389257755776,
          -0.48043568443838675,
          0.31485240310950013,
          -0.7130777817802696,
          0.5197397848035694,
          -1.418160664078292,
          1.1033388571762677,
          0.9979752730335754,
          2.83369159311136,
          1.9073160281621018,
          0.38186024604961033,
          -1.1806003432890024,
          -0.5143575584503659,
          -0.3957816536562888,
          -0.5268066455809626,
          -0.15014706606849018,
          0.13173277087200919,
          1.93981894214876,
          -0.3902593736360637,
          1.6358481423378353,
          0.8115150249350609,
          -0.8555629872017407,
          0.18761674013119092,
          -0.7905156503572589,
          -0.4615672762918858,
          0.34482776614752947,
          0.19434981423092712,
          0.8244631807844324,
          0.1701337758593794,
          1.8909263075644804,
          -0.6636415622048087,
          0.6314810168714927,
          0.36476490047848975,
          0.47866952971355303,
          1.2887293734556127,
          -0.266023327476621,
          -0.1502322605674205,
          -1.1503150530123967,
          0.08230965925441752,
          -0.562349929195335,
          -1.9553643072289255,
          0.5447662913675482,
          0.8458391678364608,
          -0.3923223744037829,
          -0.4830673950348278,
          0.9697117616204505,
          -0.6558959572087942,
          -0.1786710138083607,
          0.4673075927125077,
          0.5895188619517944,
          -1.644346405559177,
          1.018096940218595,
          0.3002176019003145,
          -0.26036541607405717,
          -0.3552758805482968,
          1.138262275081289,
          0.16586658168269822,
          -1.5356808881214654,
          -2.525725571839549,
          1.3261952687937644,
          0.3440020565671146,
          -1.024023927456685,
          -0.026135700939124245
         ],
         "xaxis": "x2",
         "y": [
          0.7921346859019157,
          1.946825695054702,
          1.4163203147173689,
          0.1161272154136565,
          0.7557025036279604,
          -0.7350872131145143,
          1.6071158265686813,
          -0.6369620656059007,
          0.8497778207394941,
          -0.33749859130626686,
          1.2280973838411833,
          0.036716134725273894,
          -0.3037665937695192,
          0.8239925184967525,
          -1.3538724565017246,
          -0.45194949085156416,
          -1.913074905602045,
          0.17762581698740607,
          -0.7004150163916316,
          0.03188946476696092,
          -0.7719163151332366,
          0.2905161338207252,
          1.4934765893559856,
          1.1517359541867793,
          1.4005117647742198,
          -0.6275397842825213,
          0.8926363946884873,
          -1.0677207378979978,
          -0.19471466043106184,
          0.1529956333359573,
          -0.8218180765611363,
          -0.8503299315540951,
          2.746705232928189,
          0.8121025992904255,
          2.1918060723428723,
          0.1828701452483579,
          0.4455028799628107,
          -0.5193802210214439,
          1.104547831058544,
          0.6594367637087866,
          -1.313520282034992,
          1.190998233995262,
          -0.49647494111496654,
          0.06890857086669673,
          0.8211669474128339,
          -0.6181956721468078,
          -0.31902044193029055,
          -0.19023723733723844,
          0.6886533928938934,
          -0.9332439063027611,
          -0.17051026893912857,
          0.051544294241111815,
          -0.4159263649641647,
          0.8566264197567114,
          0.29402607091862265,
          -1.099818139175731,
          -1.1314940858303717,
          0.9281480352753586,
          -0.13439689942833424,
          0.045604618865690276,
          -0.9979314517757257,
          -0.07269042102427148,
          -0.5356990006428285,
          -1.1990026834526482,
          0.1976306802793206,
          -0.6760867737177405,
          -0.4370643149105769,
          1.7123117467895295,
          1.8799972780063177,
          -0.07036592754360131,
          1.903342736762849,
          -0.7909243457034956,
          -0.21648795712901556,
          -0.18759480763157985,
          -0.17191582545359513,
          1.2163634807475439,
          1.1517611276683175,
          -0.7984270716400544,
          0.7817741035366015,
          2.2456629185031023,
          1.389344614456707,
          0.5726770872579274,
          -0.05996906126751653,
          0.3420213779390641,
          -0.2379680007605113,
          0.3649105284334666,
          0.263804800291932,
          0.3277197543628306,
          -0.2530061140131053,
          1.1758363314661346,
          -0.08852367242694675,
          -0.22481209189451987,
          0.15802992649044043,
          -1.5061386445028795,
          0.6729920524858238,
          -0.3211746441519791,
          1.018943249519832,
          -1.7824913063580343,
          0.891561971167367,
          -1.1815199382522332
         ],
         "yaxis": "y2"
        },
        {
         "line": {
          "color": "rgba(128, 128, 128, 1.0)",
          "dash": "solid",
          "shape": "linear",
          "width": 1.3
         },
         "marker": {
          "size": 2,
          "symbol": "circle"
         },
         "mode": "markers",
         "name": "A",
         "text": "",
         "type": "scatter",
         "x": [
          1.3625069996408685,
          0.9144952248887764,
          -0.04379371033273974,
          0.09926340152837985,
          1.2439724798159724,
          1.1541745177710157,
          0.8903331224676148,
          -0.266292290561748,
          -0.04175051493955355,
          1.0301172806259171,
          -0.5928166169608095,
          -1.7103241908806828,
          1.5518485422560453,
          -0.8470507769567207,
          1.2270784178865735,
          0.5965754556850948,
          -0.4758371563683018,
          0.872427010018932,
          -1.792956333172518,
          -0.38186421963418965,
          -2.1181936570248463,
          0.04830933305814722,
          -0.2377517243843703,
          1.180649111475662,
          0.750538260223122,
          0.9987999439705197,
          -0.3746257593686016,
          1.67463871096551,
          -0.7603667656154767,
          -0.07638038847929986,
          0.4166224532956056,
          -0.6113448167098882,
          -0.5619164790482407,
          -0.5299474677729248,
          -0.6454235969449024,
          -1.5844963110045438,
          1.7958848004195698,
          0.05725658047593841,
          0.2721754274360363,
          1.2775937537343836,
          -1.090054521555069,
          -0.42179786795174207,
          1.2423180080467975,
          -0.010861564683631282,
          0.15506944960313332,
          -0.17041242917319238,
          -0.40178919529776935,
          0.31202362583184595,
          0.9130877026457608,
          0.6979280217528265,
          -0.3744751044346249,
          -0.3356760147211475,
          0.48003599789582946,
          0.519507398890785,
          -1.3585467086201315,
          -1.3681957134473788,
          0.5749568613249194,
          0.6692379140807965,
          1.377450523387284,
          1.9966917262315202,
          0.5426288454362674,
          0.8272004758045935,
          -0.4366866732935288,
          -0.30638253901940254,
          1.1722894324864024,
          0.6870803694725929,
          -1.5676196674203213,
          1.4476838161089778,
          -1.68998241695538,
          -0.6374153838701762,
          -0.4442773346777854,
          0.34665700385127446,
          -0.9714136879825543,
          -0.306819209481289,
          -0.9333384010003253,
          -0.15705929393017123,
          -0.8621365632898269,
          1.8982151081219376,
          -1.9557762436737225,
          -0.45832500451598934,
          0.9914760514765695,
          0.320091570765724,
          0.8031181822203135,
          -0.3923864355104031,
          -0.45168071389999304,
          0.22009011992701982,
          0.5955333007411939,
          -0.18003516240607267,
          -1.0297839283237813,
          -0.35674347150142727,
          0.5010231233276244,
          3.0244816886034616,
          -1.4518354545370757,
          -0.7238706064189212,
          -1.9546467592720356,
          1.6750188451554895,
          0.9591556681989486,
          -0.5368549291145766,
          0.8130714085694476,
          -0.31847863880302585
         ],
         "xaxis": "x3",
         "y": [
          0.7921346859019157,
          1.946825695054702,
          1.4163203147173689,
          0.1161272154136565,
          0.7557025036279604,
          -0.7350872131145143,
          1.6071158265686813,
          -0.6369620656059007,
          0.8497778207394941,
          -0.33749859130626686,
          1.2280973838411833,
          0.036716134725273894,
          -0.3037665937695192,
          0.8239925184967525,
          -1.3538724565017246,
          -0.45194949085156416,
          -1.913074905602045,
          0.17762581698740607,
          -0.7004150163916316,
          0.03188946476696092,
          -0.7719163151332366,
          0.2905161338207252,
          1.4934765893559856,
          1.1517359541867793,
          1.4005117647742198,
          -0.6275397842825213,
          0.8926363946884873,
          -1.0677207378979978,
          -0.19471466043106184,
          0.1529956333359573,
          -0.8218180765611363,
          -0.8503299315540951,
          2.746705232928189,
          0.8121025992904255,
          2.1918060723428723,
          0.1828701452483579,
          0.4455028799628107,
          -0.5193802210214439,
          1.104547831058544,
          0.6594367637087866,
          -1.313520282034992,
          1.190998233995262,
          -0.49647494111496654,
          0.06890857086669673,
          0.8211669474128339,
          -0.6181956721468078,
          -0.31902044193029055,
          -0.19023723733723844,
          0.6886533928938934,
          -0.9332439063027611,
          -0.17051026893912857,
          0.051544294241111815,
          -0.4159263649641647,
          0.8566264197567114,
          0.29402607091862265,
          -1.099818139175731,
          -1.1314940858303717,
          0.9281480352753586,
          -0.13439689942833424,
          0.045604618865690276,
          -0.9979314517757257,
          -0.07269042102427148,
          -0.5356990006428285,
          -1.1990026834526482,
          0.1976306802793206,
          -0.6760867737177405,
          -0.4370643149105769,
          1.7123117467895295,
          1.8799972780063177,
          -0.07036592754360131,
          1.903342736762849,
          -0.7909243457034956,
          -0.21648795712901556,
          -0.18759480763157985,
          -0.17191582545359513,
          1.2163634807475439,
          1.1517611276683175,
          -0.7984270716400544,
          0.7817741035366015,
          2.2456629185031023,
          1.389344614456707,
          0.5726770872579274,
          -0.05996906126751653,
          0.3420213779390641,
          -0.2379680007605113,
          0.3649105284334666,
          0.263804800291932,
          0.3277197543628306,
          -0.2530061140131053,
          1.1758363314661346,
          -0.08852367242694675,
          -0.22481209189451987,
          0.15802992649044043,
          -1.5061386445028795,
          0.6729920524858238,
          -0.3211746441519791,
          1.018943249519832,
          -1.7824913063580343,
          0.891561971167367,
          -1.1815199382522332
         ],
         "yaxis": "y3"
        },
        {
         "line": {
          "color": "rgba(128, 128, 128, 1.0)",
          "dash": "solid",
          "shape": "linear",
          "width": 1.3
         },
         "marker": {
          "size": 2,
          "symbol": "circle"
         },
         "mode": "markers",
         "name": "A",
         "text": "",
         "type": "scatter",
         "x": [
          0.1678688456852729,
          -0.7660755490375207,
          -0.24033995622475704,
          -0.1682834967212138,
          -0.7071182614203896,
          -0.7681995890374017,
          -2.033746607587051,
          -0.13645665960025008,
          0.8853957116965118,
          0.7684011089760281,
          1.3331923437966315,
          -0.6313108008149433,
          -0.1990810753545615,
          -0.9362029443403491,
          -0.48602397477900594,
          0.6943936691591144,
          -1.3138802802680032,
          0.2392164800781996,
          1.0907698280119023,
          1.8965747576752692,
          0.442885360234719,
          -0.6864410326378556,
          -0.8427733927849178,
          1.879280752642242,
          -0.8766615576635849,
          -0.7968093327132704,
          0.48471521549216495,
          0.6680262768318319,
          0.928831286436281,
          -0.3097847577236534,
          0.11246450934781085,
          -1.3215886940461292,
          0.08853158506239107,
          1.1598699817635334,
          1.466549647872314,
          -1.1640330918656165,
          -1.61767356039815,
          -1.609374924580595,
          -0.3678068225477947,
          0.6721842330036858,
          -0.5394995077186759,
          -0.6191387319020631,
          0.23897827009090414,
          -0.4560648370029805,
          -0.5130532625487461,
          0.04869945067598958,
          0.7945450847747928,
          0.9463268407815968,
          -0.056612104084040674,
          -0.8617504834866899,
          1.4845618102402878,
          3.145860220342536,
          -1.9041065545592328,
          1.5350121393448692,
          0.6627933498060756,
          0.09675705889637655,
          -0.8923072027447188,
          -0.5525401182438261,
          0.8290980738948833,
          1.470022690133724,
          -0.8860840655185193,
          -0.09681710155206424,
          0.30865486290318156,
          0.21943714014526172,
          0.11341629867977683,
          -1.2266711866065867,
          0.22103297889399115,
          0.06725162810266645,
          0.5580915971155165,
          1.0105818532027613,
          -0.15753228208829775,
          0.3938749268228596,
          1.08155031642873,
          -0.04125426043324729,
          -0.4169155318556582,
          1.2679845140404256,
          0.08705806488006085,
          0.21120171595670129,
          0.15821498663748168,
          -0.5356086125675361,
          3.251672425388064,
          1.4102313844205876,
          0.24108712582044428,
          -0.5686913122244588,
          0.7059547425843715,
          -0.29410301722008786,
          -0.537492381963061,
          -0.4583903711628853,
          0.31492293193018556,
          0.5599066087163566,
          1.0843010187485178,
          0.020497693627848947,
          0.5921960317117614,
          -0.7774516166862487,
          1.050757571631062,
          2.6606214337424148,
          0.4164070043407307,
          1.058442534293066,
          0.7592181641268156,
          0.41374422308068587
         ],
         "xaxis": "x4",
         "y": [
          0.7921346859019157,
          1.946825695054702,
          1.4163203147173689,
          0.1161272154136565,
          0.7557025036279604,
          -0.7350872131145143,
          1.6071158265686813,
          -0.6369620656059007,
          0.8497778207394941,
          -0.33749859130626686,
          1.2280973838411833,
          0.036716134725273894,
          -0.3037665937695192,
          0.8239925184967525,
          -1.3538724565017246,
          -0.45194949085156416,
          -1.913074905602045,
          0.17762581698740607,
          -0.7004150163916316,
          0.03188946476696092,
          -0.7719163151332366,
          0.2905161338207252,
          1.4934765893559856,
          1.1517359541867793,
          1.4005117647742198,
          -0.6275397842825213,
          0.8926363946884873,
          -1.0677207378979978,
          -0.19471466043106184,
          0.1529956333359573,
          -0.8218180765611363,
          -0.8503299315540951,
          2.746705232928189,
          0.8121025992904255,
          2.1918060723428723,
          0.1828701452483579,
          0.4455028799628107,
          -0.5193802210214439,
          1.104547831058544,
          0.6594367637087866,
          -1.313520282034992,
          1.190998233995262,
          -0.49647494111496654,
          0.06890857086669673,
          0.8211669474128339,
          -0.6181956721468078,
          -0.31902044193029055,
          -0.19023723733723844,
          0.6886533928938934,
          -0.9332439063027611,
          -0.17051026893912857,
          0.051544294241111815,
          -0.4159263649641647,
          0.8566264197567114,
          0.29402607091862265,
          -1.099818139175731,
          -1.1314940858303717,
          0.9281480352753586,
          -0.13439689942833424,
          0.045604618865690276,
          -0.9979314517757257,
          -0.07269042102427148,
          -0.5356990006428285,
          -1.1990026834526482,
          0.1976306802793206,
          -0.6760867737177405,
          -0.4370643149105769,
          1.7123117467895295,
          1.8799972780063177,
          -0.07036592754360131,
          1.903342736762849,
          -0.7909243457034956,
          -0.21648795712901556,
          -0.18759480763157985,
          -0.17191582545359513,
          1.2163634807475439,
          1.1517611276683175,
          -0.7984270716400544,
          0.7817741035366015,
          2.2456629185031023,
          1.389344614456707,
          0.5726770872579274,
          -0.05996906126751653,
          0.3420213779390641,
          -0.2379680007605113,
          0.3649105284334666,
          0.263804800291932,
          0.3277197543628306,
          -0.2530061140131053,
          1.1758363314661346,
          -0.08852367242694675,
          -0.22481209189451987,
          0.15802992649044043,
          -1.5061386445028795,
          0.6729920524858238,
          -0.3211746441519791,
          1.018943249519832,
          -1.7824913063580343,
          0.891561971167367,
          -1.1815199382522332
         ],
         "yaxis": "y4"
        },
        {
         "line": {
          "color": "rgba(128, 128, 128, 1.0)",
          "dash": "solid",
          "shape": "linear",
          "width": 1.3
         },
         "marker": {
          "size": 2,
          "symbol": "circle"
         },
         "mode": "markers",
         "name": "B",
         "text": "",
         "type": "scatter",
         "x": [
          0.7921346859019157,
          1.946825695054702,
          1.4163203147173689,
          0.1161272154136565,
          0.7557025036279604,
          -0.7350872131145143,
          1.6071158265686813,
          -0.6369620656059007,
          0.8497778207394941,
          -0.33749859130626686,
          1.2280973838411833,
          0.036716134725273894,
          -0.3037665937695192,
          0.8239925184967525,
          -1.3538724565017246,
          -0.45194949085156416,
          -1.913074905602045,
          0.17762581698740607,
          -0.7004150163916316,
          0.03188946476696092,
          -0.7719163151332366,
          0.2905161338207252,
          1.4934765893559856,
          1.1517359541867793,
          1.4005117647742198,
          -0.6275397842825213,
          0.8926363946884873,
          -1.0677207378979978,
          -0.19471466043106184,
          0.1529956333359573,
          -0.8218180765611363,
          -0.8503299315540951,
          2.746705232928189,
          0.8121025992904255,
          2.1918060723428723,
          0.1828701452483579,
          0.4455028799628107,
          -0.5193802210214439,
          1.104547831058544,
          0.6594367637087866,
          -1.313520282034992,
          1.190998233995262,
          -0.49647494111496654,
          0.06890857086669673,
          0.8211669474128339,
          -0.6181956721468078,
          -0.31902044193029055,
          -0.19023723733723844,
          0.6886533928938934,
          -0.9332439063027611,
          -0.17051026893912857,
          0.051544294241111815,
          -0.4159263649641647,
          0.8566264197567114,
          0.29402607091862265,
          -1.099818139175731,
          -1.1314940858303717,
          0.9281480352753586,
          -0.13439689942833424,
          0.045604618865690276,
          -0.9979314517757257,
          -0.07269042102427148,
          -0.5356990006428285,
          -1.1990026834526482,
          0.1976306802793206,
          -0.6760867737177405,
          -0.4370643149105769,
          1.7123117467895295,
          1.8799972780063177,
          -0.07036592754360131,
          1.903342736762849,
          -0.7909243457034956,
          -0.21648795712901556,
          -0.18759480763157985,
          -0.17191582545359513,
          1.2163634807475439,
          1.1517611276683175,
          -0.7984270716400544,
          0.7817741035366015,
          2.2456629185031023,
          1.389344614456707,
          0.5726770872579274,
          -0.05996906126751653,
          0.3420213779390641,
          -0.2379680007605113,
          0.3649105284334666,
          0.263804800291932,
          0.3277197543628306,
          -0.2530061140131053,
          1.1758363314661346,
          -0.08852367242694675,
          -0.22481209189451987,
          0.15802992649044043,
          -1.5061386445028795,
          0.6729920524858238,
          -0.3211746441519791,
          1.018943249519832,
          -1.7824913063580343,
          0.891561971167367,
          -1.1815199382522332
         ],
         "xaxis": "x5",
         "y": [
          -0.755353873179904,
          -0.4256767679096191,
          0.8157780024246971,
          -2.2541977161527247,
          -0.7233269440454809,
          -0.3786556373601695,
          -0.4195600810812267,
          -1.0793100455317586,
          0.8220363590786557,
          0.48768333438156214,
          1.3906112268818829,
          -1.660562236233282,
          1.2811839261911535,
          -0.8915535733622445,
          -0.42391847699293117,
          0.1113894103911496,
          1.141630830605558,
          -1.2483726382556115,
          0.8449777733211241,
          -0.5021909158980505,
          1.8137801708054053,
          -1.0325995855976582,
          1.2385329606445827,
          0.2742951614108968,
          -0.04380311529890623,
          -0.3111212097926691,
          0.21211975876158917,
          1.3149102153503898,
          2.4643229801701025,
          -0.619603592493676,
          -0.747113629066319,
          0.5431806643475502,
          -0.2734201992074562,
          -1.3360418266526963,
          0.8090919933441999,
          -0.031279339706645655,
          -0.037058879582681205,
          1.0157389257755776,
          -0.48043568443838675,
          0.31485240310950013,
          -0.7130777817802696,
          0.5197397848035694,
          -1.418160664078292,
          1.1033388571762677,
          0.9979752730335754,
          2.83369159311136,
          1.9073160281621018,
          0.38186024604961033,
          -1.1806003432890024,
          -0.5143575584503659,
          -0.3957816536562888,
          -0.5268066455809626,
          -0.15014706606849018,
          0.13173277087200919,
          1.93981894214876,
          -0.3902593736360637,
          1.6358481423378353,
          0.8115150249350609,
          -0.8555629872017407,
          0.18761674013119092,
          -0.7905156503572589,
          -0.4615672762918858,
          0.34482776614752947,
          0.19434981423092712,
          0.8244631807844324,
          0.1701337758593794,
          1.8909263075644804,
          -0.6636415622048087,
          0.6314810168714927,
          0.36476490047848975,
          0.47866952971355303,
          1.2887293734556127,
          -0.266023327476621,
          -0.1502322605674205,
          -1.1503150530123967,
          0.08230965925441752,
          -0.562349929195335,
          -1.9553643072289255,
          0.5447662913675482,
          0.8458391678364608,
          -0.3923223744037829,
          -0.4830673950348278,
          0.9697117616204505,
          -0.6558959572087942,
          -0.1786710138083607,
          0.4673075927125077,
          0.5895188619517944,
          -1.644346405559177,
          1.018096940218595,
          0.3002176019003145,
          -0.26036541607405717,
          -0.3552758805482968,
          1.138262275081289,
          0.16586658168269822,
          -1.5356808881214654,
          -2.525725571839549,
          1.3261952687937644,
          0.3440020565671146,
          -1.024023927456685,
          -0.026135700939124245
         ],
         "yaxis": "y5"
        },
        {
         "histfunc": "count",
         "histnorm": "",
         "marker": {
          "color": "rgba(55, 128, 191, 1.0)",
          "line": {
           "color": "#4D5663",
           "width": 1.3
          }
         },
         "name": "B",
         "nbinsx": 10,
         "opacity": 0.8,
         "orientation": "v",
         "type": "histogram",
         "x": [
          -0.755353873179904,
          -0.4256767679096191,
          0.8157780024246971,
          -2.2541977161527247,
          -0.7233269440454809,
          -0.3786556373601695,
          -0.4195600810812267,
          -1.0793100455317586,
          0.8220363590786557,
          0.48768333438156214,
          1.3906112268818829,
          -1.660562236233282,
          1.2811839261911535,
          -0.8915535733622445,
          -0.42391847699293117,
          0.1113894103911496,
          1.141630830605558,
          -1.2483726382556115,
          0.8449777733211241,
          -0.5021909158980505,
          1.8137801708054053,
          -1.0325995855976582,
          1.2385329606445827,
          0.2742951614108968,
          -0.04380311529890623,
          -0.3111212097926691,
          0.21211975876158917,
          1.3149102153503898,
          2.4643229801701025,
          -0.619603592493676,
          -0.747113629066319,
          0.5431806643475502,
          -0.2734201992074562,
          -1.3360418266526963,
          0.8090919933441999,
          -0.031279339706645655,
          -0.037058879582681205,
          1.0157389257755776,
          -0.48043568443838675,
          0.31485240310950013,
          -0.7130777817802696,
          0.5197397848035694,
          -1.418160664078292,
          1.1033388571762677,
          0.9979752730335754,
          2.83369159311136,
          1.9073160281621018,
          0.38186024604961033,
          -1.1806003432890024,
          -0.5143575584503659,
          -0.3957816536562888,
          -0.5268066455809626,
          -0.15014706606849018,
          0.13173277087200919,
          1.93981894214876,
          -0.3902593736360637,
          1.6358481423378353,
          0.8115150249350609,
          -0.8555629872017407,
          0.18761674013119092,
          -0.7905156503572589,
          -0.4615672762918858,
          0.34482776614752947,
          0.19434981423092712,
          0.8244631807844324,
          0.1701337758593794,
          1.8909263075644804,
          -0.6636415622048087,
          0.6314810168714927,
          0.36476490047848975,
          0.47866952971355303,
          1.2887293734556127,
          -0.266023327476621,
          -0.1502322605674205,
          -1.1503150530123967,
          0.08230965925441752,
          -0.562349929195335,
          -1.9553643072289255,
          0.5447662913675482,
          0.8458391678364608,
          -0.3923223744037829,
          -0.4830673950348278,
          0.9697117616204505,
          -0.6558959572087942,
          -0.1786710138083607,
          0.4673075927125077,
          0.5895188619517944,
          -1.644346405559177,
          1.018096940218595,
          0.3002176019003145,
          -0.26036541607405717,
          -0.3552758805482968,
          1.138262275081289,
          0.16586658168269822,
          -1.5356808881214654,
          -2.525725571839549,
          1.3261952687937644,
          0.3440020565671146,
          -1.024023927456685,
          -0.026135700939124245
         ],
         "xaxis": "x6",
         "yaxis": "y6"
        },
        {
         "line": {
          "color": "rgba(128, 128, 128, 1.0)",
          "dash": "solid",
          "shape": "linear",
          "width": 1.3
         },
         "marker": {
          "size": 2,
          "symbol": "circle"
         },
         "mode": "markers",
         "name": "B",
         "text": "",
         "type": "scatter",
         "x": [
          1.3625069996408685,
          0.9144952248887764,
          -0.04379371033273974,
          0.09926340152837985,
          1.2439724798159724,
          1.1541745177710157,
          0.8903331224676148,
          -0.266292290561748,
          -0.04175051493955355,
          1.0301172806259171,
          -0.5928166169608095,
          -1.7103241908806828,
          1.5518485422560453,
          -0.8470507769567207,
          1.2270784178865735,
          0.5965754556850948,
          -0.4758371563683018,
          0.872427010018932,
          -1.792956333172518,
          -0.38186421963418965,
          -2.1181936570248463,
          0.04830933305814722,
          -0.2377517243843703,
          1.180649111475662,
          0.750538260223122,
          0.9987999439705197,
          -0.3746257593686016,
          1.67463871096551,
          -0.7603667656154767,
          -0.07638038847929986,
          0.4166224532956056,
          -0.6113448167098882,
          -0.5619164790482407,
          -0.5299474677729248,
          -0.6454235969449024,
          -1.5844963110045438,
          1.7958848004195698,
          0.05725658047593841,
          0.2721754274360363,
          1.2775937537343836,
          -1.090054521555069,
          -0.42179786795174207,
          1.2423180080467975,
          -0.010861564683631282,
          0.15506944960313332,
          -0.17041242917319238,
          -0.40178919529776935,
          0.31202362583184595,
          0.9130877026457608,
          0.6979280217528265,
          -0.3744751044346249,
          -0.3356760147211475,
          0.48003599789582946,
          0.519507398890785,
          -1.3585467086201315,
          -1.3681957134473788,
          0.5749568613249194,
          0.6692379140807965,
          1.377450523387284,
          1.9966917262315202,
          0.5426288454362674,
          0.8272004758045935,
          -0.4366866732935288,
          -0.30638253901940254,
          1.1722894324864024,
          0.6870803694725929,
          -1.5676196674203213,
          1.4476838161089778,
          -1.68998241695538,
          -0.6374153838701762,
          -0.4442773346777854,
          0.34665700385127446,
          -0.9714136879825543,
          -0.306819209481289,
          -0.9333384010003253,
          -0.15705929393017123,
          -0.8621365632898269,
          1.8982151081219376,
          -1.9557762436737225,
          -0.45832500451598934,
          0.9914760514765695,
          0.320091570765724,
          0.8031181822203135,
          -0.3923864355104031,
          -0.45168071389999304,
          0.22009011992701982,
          0.5955333007411939,
          -0.18003516240607267,
          -1.0297839283237813,
          -0.35674347150142727,
          0.5010231233276244,
          3.0244816886034616,
          -1.4518354545370757,
          -0.7238706064189212,
          -1.9546467592720356,
          1.6750188451554895,
          0.9591556681989486,
          -0.5368549291145766,
          0.8130714085694476,
          -0.31847863880302585
         ],
         "xaxis": "x7",
         "y": [
          -0.755353873179904,
          -0.4256767679096191,
          0.8157780024246971,
          -2.2541977161527247,
          -0.7233269440454809,
          -0.3786556373601695,
          -0.4195600810812267,
          -1.0793100455317586,
          0.8220363590786557,
          0.48768333438156214,
          1.3906112268818829,
          -1.660562236233282,
          1.2811839261911535,
          -0.8915535733622445,
          -0.42391847699293117,
          0.1113894103911496,
          1.141630830605558,
          -1.2483726382556115,
          0.8449777733211241,
          -0.5021909158980505,
          1.8137801708054053,
          -1.0325995855976582,
          1.2385329606445827,
          0.2742951614108968,
          -0.04380311529890623,
          -0.3111212097926691,
          0.21211975876158917,
          1.3149102153503898,
          2.4643229801701025,
          -0.619603592493676,
          -0.747113629066319,
          0.5431806643475502,
          -0.2734201992074562,
          -1.3360418266526963,
          0.8090919933441999,
          -0.031279339706645655,
          -0.037058879582681205,
          1.0157389257755776,
          -0.48043568443838675,
          0.31485240310950013,
          -0.7130777817802696,
          0.5197397848035694,
          -1.418160664078292,
          1.1033388571762677,
          0.9979752730335754,
          2.83369159311136,
          1.9073160281621018,
          0.38186024604961033,
          -1.1806003432890024,
          -0.5143575584503659,
          -0.3957816536562888,
          -0.5268066455809626,
          -0.15014706606849018,
          0.13173277087200919,
          1.93981894214876,
          -0.3902593736360637,
          1.6358481423378353,
          0.8115150249350609,
          -0.8555629872017407,
          0.18761674013119092,
          -0.7905156503572589,
          -0.4615672762918858,
          0.34482776614752947,
          0.19434981423092712,
          0.8244631807844324,
          0.1701337758593794,
          1.8909263075644804,
          -0.6636415622048087,
          0.6314810168714927,
          0.36476490047848975,
          0.47866952971355303,
          1.2887293734556127,
          -0.266023327476621,
          -0.1502322605674205,
          -1.1503150530123967,
          0.08230965925441752,
          -0.562349929195335,
          -1.9553643072289255,
          0.5447662913675482,
          0.8458391678364608,
          -0.3923223744037829,
          -0.4830673950348278,
          0.9697117616204505,
          -0.6558959572087942,
          -0.1786710138083607,
          0.4673075927125077,
          0.5895188619517944,
          -1.644346405559177,
          1.018096940218595,
          0.3002176019003145,
          -0.26036541607405717,
          -0.3552758805482968,
          1.138262275081289,
          0.16586658168269822,
          -1.5356808881214654,
          -2.525725571839549,
          1.3261952687937644,
          0.3440020565671146,
          -1.024023927456685,
          -0.026135700939124245
         ],
         "yaxis": "y7"
        },
        {
         "line": {
          "color": "rgba(128, 128, 128, 1.0)",
          "dash": "solid",
          "shape": "linear",
          "width": 1.3
         },
         "marker": {
          "size": 2,
          "symbol": "circle"
         },
         "mode": "markers",
         "name": "B",
         "text": "",
         "type": "scatter",
         "x": [
          0.1678688456852729,
          -0.7660755490375207,
          -0.24033995622475704,
          -0.1682834967212138,
          -0.7071182614203896,
          -0.7681995890374017,
          -2.033746607587051,
          -0.13645665960025008,
          0.8853957116965118,
          0.7684011089760281,
          1.3331923437966315,
          -0.6313108008149433,
          -0.1990810753545615,
          -0.9362029443403491,
          -0.48602397477900594,
          0.6943936691591144,
          -1.3138802802680032,
          0.2392164800781996,
          1.0907698280119023,
          1.8965747576752692,
          0.442885360234719,
          -0.6864410326378556,
          -0.8427733927849178,
          1.879280752642242,
          -0.8766615576635849,
          -0.7968093327132704,
          0.48471521549216495,
          0.6680262768318319,
          0.928831286436281,
          -0.3097847577236534,
          0.11246450934781085,
          -1.3215886940461292,
          0.08853158506239107,
          1.1598699817635334,
          1.466549647872314,
          -1.1640330918656165,
          -1.61767356039815,
          -1.609374924580595,
          -0.3678068225477947,
          0.6721842330036858,
          -0.5394995077186759,
          -0.6191387319020631,
          0.23897827009090414,
          -0.4560648370029805,
          -0.5130532625487461,
          0.04869945067598958,
          0.7945450847747928,
          0.9463268407815968,
          -0.056612104084040674,
          -0.8617504834866899,
          1.4845618102402878,
          3.145860220342536,
          -1.9041065545592328,
          1.5350121393448692,
          0.6627933498060756,
          0.09675705889637655,
          -0.8923072027447188,
          -0.5525401182438261,
          0.8290980738948833,
          1.470022690133724,
          -0.8860840655185193,
          -0.09681710155206424,
          0.30865486290318156,
          0.21943714014526172,
          0.11341629867977683,
          -1.2266711866065867,
          0.22103297889399115,
          0.06725162810266645,
          0.5580915971155165,
          1.0105818532027613,
          -0.15753228208829775,
          0.3938749268228596,
          1.08155031642873,
          -0.04125426043324729,
          -0.4169155318556582,
          1.2679845140404256,
          0.08705806488006085,
          0.21120171595670129,
          0.15821498663748168,
          -0.5356086125675361,
          3.251672425388064,
          1.4102313844205876,
          0.24108712582044428,
          -0.5686913122244588,
          0.7059547425843715,
          -0.29410301722008786,
          -0.537492381963061,
          -0.4583903711628853,
          0.31492293193018556,
          0.5599066087163566,
          1.0843010187485178,
          0.020497693627848947,
          0.5921960317117614,
          -0.7774516166862487,
          1.050757571631062,
          2.6606214337424148,
          0.4164070043407307,
          1.058442534293066,
          0.7592181641268156,
          0.41374422308068587
         ],
         "xaxis": "x8",
         "y": [
          -0.755353873179904,
          -0.4256767679096191,
          0.8157780024246971,
          -2.2541977161527247,
          -0.7233269440454809,
          -0.3786556373601695,
          -0.4195600810812267,
          -1.0793100455317586,
          0.8220363590786557,
          0.48768333438156214,
          1.3906112268818829,
          -1.660562236233282,
          1.2811839261911535,
          -0.8915535733622445,
          -0.42391847699293117,
          0.1113894103911496,
          1.141630830605558,
          -1.2483726382556115,
          0.8449777733211241,
          -0.5021909158980505,
          1.8137801708054053,
          -1.0325995855976582,
          1.2385329606445827,
          0.2742951614108968,
          -0.04380311529890623,
          -0.3111212097926691,
          0.21211975876158917,
          1.3149102153503898,
          2.4643229801701025,
          -0.619603592493676,
          -0.747113629066319,
          0.5431806643475502,
          -0.2734201992074562,
          -1.3360418266526963,
          0.8090919933441999,
          -0.031279339706645655,
          -0.037058879582681205,
          1.0157389257755776,
          -0.48043568443838675,
          0.31485240310950013,
          -0.7130777817802696,
          0.5197397848035694,
          -1.418160664078292,
          1.1033388571762677,
          0.9979752730335754,
          2.83369159311136,
          1.9073160281621018,
          0.38186024604961033,
          -1.1806003432890024,
          -0.5143575584503659,
          -0.3957816536562888,
          -0.5268066455809626,
          -0.15014706606849018,
          0.13173277087200919,
          1.93981894214876,
          -0.3902593736360637,
          1.6358481423378353,
          0.8115150249350609,
          -0.8555629872017407,
          0.18761674013119092,
          -0.7905156503572589,
          -0.4615672762918858,
          0.34482776614752947,
          0.19434981423092712,
          0.8244631807844324,
          0.1701337758593794,
          1.8909263075644804,
          -0.6636415622048087,
          0.6314810168714927,
          0.36476490047848975,
          0.47866952971355303,
          1.2887293734556127,
          -0.266023327476621,
          -0.1502322605674205,
          -1.1503150530123967,
          0.08230965925441752,
          -0.562349929195335,
          -1.9553643072289255,
          0.5447662913675482,
          0.8458391678364608,
          -0.3923223744037829,
          -0.4830673950348278,
          0.9697117616204505,
          -0.6558959572087942,
          -0.1786710138083607,
          0.4673075927125077,
          0.5895188619517944,
          -1.644346405559177,
          1.018096940218595,
          0.3002176019003145,
          -0.26036541607405717,
          -0.3552758805482968,
          1.138262275081289,
          0.16586658168269822,
          -1.5356808881214654,
          -2.525725571839549,
          1.3261952687937644,
          0.3440020565671146,
          -1.024023927456685,
          -0.026135700939124245
         ],
         "yaxis": "y8"
        },
        {
         "line": {
          "color": "rgba(128, 128, 128, 1.0)",
          "dash": "solid",
          "shape": "linear",
          "width": 1.3
         },
         "marker": {
          "size": 2,
          "symbol": "circle"
         },
         "mode": "markers",
         "name": "C",
         "text": "",
         "type": "scatter",
         "x": [
          0.7921346859019157,
          1.946825695054702,
          1.4163203147173689,
          0.1161272154136565,
          0.7557025036279604,
          -0.7350872131145143,
          1.6071158265686813,
          -0.6369620656059007,
          0.8497778207394941,
          -0.33749859130626686,
          1.2280973838411833,
          0.036716134725273894,
          -0.3037665937695192,
          0.8239925184967525,
          -1.3538724565017246,
          -0.45194949085156416,
          -1.913074905602045,
          0.17762581698740607,
          -0.7004150163916316,
          0.03188946476696092,
          -0.7719163151332366,
          0.2905161338207252,
          1.4934765893559856,
          1.1517359541867793,
          1.4005117647742198,
          -0.6275397842825213,
          0.8926363946884873,
          -1.0677207378979978,
          -0.19471466043106184,
          0.1529956333359573,
          -0.8218180765611363,
          -0.8503299315540951,
          2.746705232928189,
          0.8121025992904255,
          2.1918060723428723,
          0.1828701452483579,
          0.4455028799628107,
          -0.5193802210214439,
          1.104547831058544,
          0.6594367637087866,
          -1.313520282034992,
          1.190998233995262,
          -0.49647494111496654,
          0.06890857086669673,
          0.8211669474128339,
          -0.6181956721468078,
          -0.31902044193029055,
          -0.19023723733723844,
          0.6886533928938934,
          -0.9332439063027611,
          -0.17051026893912857,
          0.051544294241111815,
          -0.4159263649641647,
          0.8566264197567114,
          0.29402607091862265,
          -1.099818139175731,
          -1.1314940858303717,
          0.9281480352753586,
          -0.13439689942833424,
          0.045604618865690276,
          -0.9979314517757257,
          -0.07269042102427148,
          -0.5356990006428285,
          -1.1990026834526482,
          0.1976306802793206,
          -0.6760867737177405,
          -0.4370643149105769,
          1.7123117467895295,
          1.8799972780063177,
          -0.07036592754360131,
          1.903342736762849,
          -0.7909243457034956,
          -0.21648795712901556,
          -0.18759480763157985,
          -0.17191582545359513,
          1.2163634807475439,
          1.1517611276683175,
          -0.7984270716400544,
          0.7817741035366015,
          2.2456629185031023,
          1.389344614456707,
          0.5726770872579274,
          -0.05996906126751653,
          0.3420213779390641,
          -0.2379680007605113,
          0.3649105284334666,
          0.263804800291932,
          0.3277197543628306,
          -0.2530061140131053,
          1.1758363314661346,
          -0.08852367242694675,
          -0.22481209189451987,
          0.15802992649044043,
          -1.5061386445028795,
          0.6729920524858238,
          -0.3211746441519791,
          1.018943249519832,
          -1.7824913063580343,
          0.891561971167367,
          -1.1815199382522332
         ],
         "xaxis": "x9",
         "y": [
          1.3625069996408685,
          0.9144952248887764,
          -0.04379371033273974,
          0.09926340152837985,
          1.2439724798159724,
          1.1541745177710157,
          0.8903331224676148,
          -0.266292290561748,
          -0.04175051493955355,
          1.0301172806259171,
          -0.5928166169608095,
          -1.7103241908806828,
          1.5518485422560453,
          -0.8470507769567207,
          1.2270784178865735,
          0.5965754556850948,
          -0.4758371563683018,
          0.872427010018932,
          -1.792956333172518,
          -0.38186421963418965,
          -2.1181936570248463,
          0.04830933305814722,
          -0.2377517243843703,
          1.180649111475662,
          0.750538260223122,
          0.9987999439705197,
          -0.3746257593686016,
          1.67463871096551,
          -0.7603667656154767,
          -0.07638038847929986,
          0.4166224532956056,
          -0.6113448167098882,
          -0.5619164790482407,
          -0.5299474677729248,
          -0.6454235969449024,
          -1.5844963110045438,
          1.7958848004195698,
          0.05725658047593841,
          0.2721754274360363,
          1.2775937537343836,
          -1.090054521555069,
          -0.42179786795174207,
          1.2423180080467975,
          -0.010861564683631282,
          0.15506944960313332,
          -0.17041242917319238,
          -0.40178919529776935,
          0.31202362583184595,
          0.9130877026457608,
          0.6979280217528265,
          -0.3744751044346249,
          -0.3356760147211475,
          0.48003599789582946,
          0.519507398890785,
          -1.3585467086201315,
          -1.3681957134473788,
          0.5749568613249194,
          0.6692379140807965,
          1.377450523387284,
          1.9966917262315202,
          0.5426288454362674,
          0.8272004758045935,
          -0.4366866732935288,
          -0.30638253901940254,
          1.1722894324864024,
          0.6870803694725929,
          -1.5676196674203213,
          1.4476838161089778,
          -1.68998241695538,
          -0.6374153838701762,
          -0.4442773346777854,
          0.34665700385127446,
          -0.9714136879825543,
          -0.306819209481289,
          -0.9333384010003253,
          -0.15705929393017123,
          -0.8621365632898269,
          1.8982151081219376,
          -1.9557762436737225,
          -0.45832500451598934,
          0.9914760514765695,
          0.320091570765724,
          0.8031181822203135,
          -0.3923864355104031,
          -0.45168071389999304,
          0.22009011992701982,
          0.5955333007411939,
          -0.18003516240607267,
          -1.0297839283237813,
          -0.35674347150142727,
          0.5010231233276244,
          3.0244816886034616,
          -1.4518354545370757,
          -0.7238706064189212,
          -1.9546467592720356,
          1.6750188451554895,
          0.9591556681989486,
          -0.5368549291145766,
          0.8130714085694476,
          -0.31847863880302585
         ],
         "yaxis": "y9"
        },
        {
         "line": {
          "color": "rgba(128, 128, 128, 1.0)",
          "dash": "solid",
          "shape": "linear",
          "width": 1.3
         },
         "marker": {
          "size": 2,
          "symbol": "circle"
         },
         "mode": "markers",
         "name": "C",
         "text": "",
         "type": "scatter",
         "x": [
          -0.755353873179904,
          -0.4256767679096191,
          0.8157780024246971,
          -2.2541977161527247,
          -0.7233269440454809,
          -0.3786556373601695,
          -0.4195600810812267,
          -1.0793100455317586,
          0.8220363590786557,
          0.48768333438156214,
          1.3906112268818829,
          -1.660562236233282,
          1.2811839261911535,
          -0.8915535733622445,
          -0.42391847699293117,
          0.1113894103911496,
          1.141630830605558,
          -1.2483726382556115,
          0.8449777733211241,
          -0.5021909158980505,
          1.8137801708054053,
          -1.0325995855976582,
          1.2385329606445827,
          0.2742951614108968,
          -0.04380311529890623,
          -0.3111212097926691,
          0.21211975876158917,
          1.3149102153503898,
          2.4643229801701025,
          -0.619603592493676,
          -0.747113629066319,
          0.5431806643475502,
          -0.2734201992074562,
          -1.3360418266526963,
          0.8090919933441999,
          -0.031279339706645655,
          -0.037058879582681205,
          1.0157389257755776,
          -0.48043568443838675,
          0.31485240310950013,
          -0.7130777817802696,
          0.5197397848035694,
          -1.418160664078292,
          1.1033388571762677,
          0.9979752730335754,
          2.83369159311136,
          1.9073160281621018,
          0.38186024604961033,
          -1.1806003432890024,
          -0.5143575584503659,
          -0.3957816536562888,
          -0.5268066455809626,
          -0.15014706606849018,
          0.13173277087200919,
          1.93981894214876,
          -0.3902593736360637,
          1.6358481423378353,
          0.8115150249350609,
          -0.8555629872017407,
          0.18761674013119092,
          -0.7905156503572589,
          -0.4615672762918858,
          0.34482776614752947,
          0.19434981423092712,
          0.8244631807844324,
          0.1701337758593794,
          1.8909263075644804,
          -0.6636415622048087,
          0.6314810168714927,
          0.36476490047848975,
          0.47866952971355303,
          1.2887293734556127,
          -0.266023327476621,
          -0.1502322605674205,
          -1.1503150530123967,
          0.08230965925441752,
          -0.562349929195335,
          -1.9553643072289255,
          0.5447662913675482,
          0.8458391678364608,
          -0.3923223744037829,
          -0.4830673950348278,
          0.9697117616204505,
          -0.6558959572087942,
          -0.1786710138083607,
          0.4673075927125077,
          0.5895188619517944,
          -1.644346405559177,
          1.018096940218595,
          0.3002176019003145,
          -0.26036541607405717,
          -0.3552758805482968,
          1.138262275081289,
          0.16586658168269822,
          -1.5356808881214654,
          -2.525725571839549,
          1.3261952687937644,
          0.3440020565671146,
          -1.024023927456685,
          -0.026135700939124245
         ],
         "xaxis": "x10",
         "y": [
          1.3625069996408685,
          0.9144952248887764,
          -0.04379371033273974,
          0.09926340152837985,
          1.2439724798159724,
          1.1541745177710157,
          0.8903331224676148,
          -0.266292290561748,
          -0.04175051493955355,
          1.0301172806259171,
          -0.5928166169608095,
          -1.7103241908806828,
          1.5518485422560453,
          -0.8470507769567207,
          1.2270784178865735,
          0.5965754556850948,
          -0.4758371563683018,
          0.872427010018932,
          -1.792956333172518,
          -0.38186421963418965,
          -2.1181936570248463,
          0.04830933305814722,
          -0.2377517243843703,
          1.180649111475662,
          0.750538260223122,
          0.9987999439705197,
          -0.3746257593686016,
          1.67463871096551,
          -0.7603667656154767,
          -0.07638038847929986,
          0.4166224532956056,
          -0.6113448167098882,
          -0.5619164790482407,
          -0.5299474677729248,
          -0.6454235969449024,
          -1.5844963110045438,
          1.7958848004195698,
          0.05725658047593841,
          0.2721754274360363,
          1.2775937537343836,
          -1.090054521555069,
          -0.42179786795174207,
          1.2423180080467975,
          -0.010861564683631282,
          0.15506944960313332,
          -0.17041242917319238,
          -0.40178919529776935,
          0.31202362583184595,
          0.9130877026457608,
          0.6979280217528265,
          -0.3744751044346249,
          -0.3356760147211475,
          0.48003599789582946,
          0.519507398890785,
          -1.3585467086201315,
          -1.3681957134473788,
          0.5749568613249194,
          0.6692379140807965,
          1.377450523387284,
          1.9966917262315202,
          0.5426288454362674,
          0.8272004758045935,
          -0.4366866732935288,
          -0.30638253901940254,
          1.1722894324864024,
          0.6870803694725929,
          -1.5676196674203213,
          1.4476838161089778,
          -1.68998241695538,
          -0.6374153838701762,
          -0.4442773346777854,
          0.34665700385127446,
          -0.9714136879825543,
          -0.306819209481289,
          -0.9333384010003253,
          -0.15705929393017123,
          -0.8621365632898269,
          1.8982151081219376,
          -1.9557762436737225,
          -0.45832500451598934,
          0.9914760514765695,
          0.320091570765724,
          0.8031181822203135,
          -0.3923864355104031,
          -0.45168071389999304,
          0.22009011992701982,
          0.5955333007411939,
          -0.18003516240607267,
          -1.0297839283237813,
          -0.35674347150142727,
          0.5010231233276244,
          3.0244816886034616,
          -1.4518354545370757,
          -0.7238706064189212,
          -1.9546467592720356,
          1.6750188451554895,
          0.9591556681989486,
          -0.5368549291145766,
          0.8130714085694476,
          -0.31847863880302585
         ],
         "yaxis": "y10"
        },
        {
         "histfunc": "count",
         "histnorm": "",
         "marker": {
          "color": "rgba(50, 171, 96, 1.0)",
          "line": {
           "color": "#4D5663",
           "width": 1.3
          }
         },
         "name": "C",
         "nbinsx": 10,
         "opacity": 0.8,
         "orientation": "v",
         "type": "histogram",
         "x": [
          1.3625069996408685,
          0.9144952248887764,
          -0.04379371033273974,
          0.09926340152837985,
          1.2439724798159724,
          1.1541745177710157,
          0.8903331224676148,
          -0.266292290561748,
          -0.04175051493955355,
          1.0301172806259171,
          -0.5928166169608095,
          -1.7103241908806828,
          1.5518485422560453,
          -0.8470507769567207,
          1.2270784178865735,
          0.5965754556850948,
          -0.4758371563683018,
          0.872427010018932,
          -1.792956333172518,
          -0.38186421963418965,
          -2.1181936570248463,
          0.04830933305814722,
          -0.2377517243843703,
          1.180649111475662,
          0.750538260223122,
          0.9987999439705197,
          -0.3746257593686016,
          1.67463871096551,
          -0.7603667656154767,
          -0.07638038847929986,
          0.4166224532956056,
          -0.6113448167098882,
          -0.5619164790482407,
          -0.5299474677729248,
          -0.6454235969449024,
          -1.5844963110045438,
          1.7958848004195698,
          0.05725658047593841,
          0.2721754274360363,
          1.2775937537343836,
          -1.090054521555069,
          -0.42179786795174207,
          1.2423180080467975,
          -0.010861564683631282,
          0.15506944960313332,
          -0.17041242917319238,
          -0.40178919529776935,
          0.31202362583184595,
          0.9130877026457608,
          0.6979280217528265,
          -0.3744751044346249,
          -0.3356760147211475,
          0.48003599789582946,
          0.519507398890785,
          -1.3585467086201315,
          -1.3681957134473788,
          0.5749568613249194,
          0.6692379140807965,
          1.377450523387284,
          1.9966917262315202,
          0.5426288454362674,
          0.8272004758045935,
          -0.4366866732935288,
          -0.30638253901940254,
          1.1722894324864024,
          0.6870803694725929,
          -1.5676196674203213,
          1.4476838161089778,
          -1.68998241695538,
          -0.6374153838701762,
          -0.4442773346777854,
          0.34665700385127446,
          -0.9714136879825543,
          -0.306819209481289,
          -0.9333384010003253,
          -0.15705929393017123,
          -0.8621365632898269,
          1.8982151081219376,
          -1.9557762436737225,
          -0.45832500451598934,
          0.9914760514765695,
          0.320091570765724,
          0.8031181822203135,
          -0.3923864355104031,
          -0.45168071389999304,
          0.22009011992701982,
          0.5955333007411939,
          -0.18003516240607267,
          -1.0297839283237813,
          -0.35674347150142727,
          0.5010231233276244,
          3.0244816886034616,
          -1.4518354545370757,
          -0.7238706064189212,
          -1.9546467592720356,
          1.6750188451554895,
          0.9591556681989486,
          -0.5368549291145766,
          0.8130714085694476,
          -0.31847863880302585
         ],
         "xaxis": "x11",
         "yaxis": "y11"
        },
        {
         "line": {
          "color": "rgba(128, 128, 128, 1.0)",
          "dash": "solid",
          "shape": "linear",
          "width": 1.3
         },
         "marker": {
          "size": 2,
          "symbol": "circle"
         },
         "mode": "markers",
         "name": "C",
         "text": "",
         "type": "scatter",
         "x": [
          0.1678688456852729,
          -0.7660755490375207,
          -0.24033995622475704,
          -0.1682834967212138,
          -0.7071182614203896,
          -0.7681995890374017,
          -2.033746607587051,
          -0.13645665960025008,
          0.8853957116965118,
          0.7684011089760281,
          1.3331923437966315,
          -0.6313108008149433,
          -0.1990810753545615,
          -0.9362029443403491,
          -0.48602397477900594,
          0.6943936691591144,
          -1.3138802802680032,
          0.2392164800781996,
          1.0907698280119023,
          1.8965747576752692,
          0.442885360234719,
          -0.6864410326378556,
          -0.8427733927849178,
          1.879280752642242,
          -0.8766615576635849,
          -0.7968093327132704,
          0.48471521549216495,
          0.6680262768318319,
          0.928831286436281,
          -0.3097847577236534,
          0.11246450934781085,
          -1.3215886940461292,
          0.08853158506239107,
          1.1598699817635334,
          1.466549647872314,
          -1.1640330918656165,
          -1.61767356039815,
          -1.609374924580595,
          -0.3678068225477947,
          0.6721842330036858,
          -0.5394995077186759,
          -0.6191387319020631,
          0.23897827009090414,
          -0.4560648370029805,
          -0.5130532625487461,
          0.04869945067598958,
          0.7945450847747928,
          0.9463268407815968,
          -0.056612104084040674,
          -0.8617504834866899,
          1.4845618102402878,
          3.145860220342536,
          -1.9041065545592328,
          1.5350121393448692,
          0.6627933498060756,
          0.09675705889637655,
          -0.8923072027447188,
          -0.5525401182438261,
          0.8290980738948833,
          1.470022690133724,
          -0.8860840655185193,
          -0.09681710155206424,
          0.30865486290318156,
          0.21943714014526172,
          0.11341629867977683,
          -1.2266711866065867,
          0.22103297889399115,
          0.06725162810266645,
          0.5580915971155165,
          1.0105818532027613,
          -0.15753228208829775,
          0.3938749268228596,
          1.08155031642873,
          -0.04125426043324729,
          -0.4169155318556582,
          1.2679845140404256,
          0.08705806488006085,
          0.21120171595670129,
          0.15821498663748168,
          -0.5356086125675361,
          3.251672425388064,
          1.4102313844205876,
          0.24108712582044428,
          -0.5686913122244588,
          0.7059547425843715,
          -0.29410301722008786,
          -0.537492381963061,
          -0.4583903711628853,
          0.31492293193018556,
          0.5599066087163566,
          1.0843010187485178,
          0.020497693627848947,
          0.5921960317117614,
          -0.7774516166862487,
          1.050757571631062,
          2.6606214337424148,
          0.4164070043407307,
          1.058442534293066,
          0.7592181641268156,
          0.41374422308068587
         ],
         "xaxis": "x12",
         "y": [
          1.3625069996408685,
          0.9144952248887764,
          -0.04379371033273974,
          0.09926340152837985,
          1.2439724798159724,
          1.1541745177710157,
          0.8903331224676148,
          -0.266292290561748,
          -0.04175051493955355,
          1.0301172806259171,
          -0.5928166169608095,
          -1.7103241908806828,
          1.5518485422560453,
          -0.8470507769567207,
          1.2270784178865735,
          0.5965754556850948,
          -0.4758371563683018,
          0.872427010018932,
          -1.792956333172518,
          -0.38186421963418965,
          -2.1181936570248463,
          0.04830933305814722,
          -0.2377517243843703,
          1.180649111475662,
          0.750538260223122,
          0.9987999439705197,
          -0.3746257593686016,
          1.67463871096551,
          -0.7603667656154767,
          -0.07638038847929986,
          0.4166224532956056,
          -0.6113448167098882,
          -0.5619164790482407,
          -0.5299474677729248,
          -0.6454235969449024,
          -1.5844963110045438,
          1.7958848004195698,
          0.05725658047593841,
          0.2721754274360363,
          1.2775937537343836,
          -1.090054521555069,
          -0.42179786795174207,
          1.2423180080467975,
          -0.010861564683631282,
          0.15506944960313332,
          -0.17041242917319238,
          -0.40178919529776935,
          0.31202362583184595,
          0.9130877026457608,
          0.6979280217528265,
          -0.3744751044346249,
          -0.3356760147211475,
          0.48003599789582946,
          0.519507398890785,
          -1.3585467086201315,
          -1.3681957134473788,
          0.5749568613249194,
          0.6692379140807965,
          1.377450523387284,
          1.9966917262315202,
          0.5426288454362674,
          0.8272004758045935,
          -0.4366866732935288,
          -0.30638253901940254,
          1.1722894324864024,
          0.6870803694725929,
          -1.5676196674203213,
          1.4476838161089778,
          -1.68998241695538,
          -0.6374153838701762,
          -0.4442773346777854,
          0.34665700385127446,
          -0.9714136879825543,
          -0.306819209481289,
          -0.9333384010003253,
          -0.15705929393017123,
          -0.8621365632898269,
          1.8982151081219376,
          -1.9557762436737225,
          -0.45832500451598934,
          0.9914760514765695,
          0.320091570765724,
          0.8031181822203135,
          -0.3923864355104031,
          -0.45168071389999304,
          0.22009011992701982,
          0.5955333007411939,
          -0.18003516240607267,
          -1.0297839283237813,
          -0.35674347150142727,
          0.5010231233276244,
          3.0244816886034616,
          -1.4518354545370757,
          -0.7238706064189212,
          -1.9546467592720356,
          1.6750188451554895,
          0.9591556681989486,
          -0.5368549291145766,
          0.8130714085694476,
          -0.31847863880302585
         ],
         "yaxis": "y12"
        },
        {
         "line": {
          "color": "rgba(128, 128, 128, 1.0)",
          "dash": "solid",
          "shape": "linear",
          "width": 1.3
         },
         "marker": {
          "size": 2,
          "symbol": "circle"
         },
         "mode": "markers",
         "name": "D",
         "text": "",
         "type": "scatter",
         "x": [
          0.7921346859019157,
          1.946825695054702,
          1.4163203147173689,
          0.1161272154136565,
          0.7557025036279604,
          -0.7350872131145143,
          1.6071158265686813,
          -0.6369620656059007,
          0.8497778207394941,
          -0.33749859130626686,
          1.2280973838411833,
          0.036716134725273894,
          -0.3037665937695192,
          0.8239925184967525,
          -1.3538724565017246,
          -0.45194949085156416,
          -1.913074905602045,
          0.17762581698740607,
          -0.7004150163916316,
          0.03188946476696092,
          -0.7719163151332366,
          0.2905161338207252,
          1.4934765893559856,
          1.1517359541867793,
          1.4005117647742198,
          -0.6275397842825213,
          0.8926363946884873,
          -1.0677207378979978,
          -0.19471466043106184,
          0.1529956333359573,
          -0.8218180765611363,
          -0.8503299315540951,
          2.746705232928189,
          0.8121025992904255,
          2.1918060723428723,
          0.1828701452483579,
          0.4455028799628107,
          -0.5193802210214439,
          1.104547831058544,
          0.6594367637087866,
          -1.313520282034992,
          1.190998233995262,
          -0.49647494111496654,
          0.06890857086669673,
          0.8211669474128339,
          -0.6181956721468078,
          -0.31902044193029055,
          -0.19023723733723844,
          0.6886533928938934,
          -0.9332439063027611,
          -0.17051026893912857,
          0.051544294241111815,
          -0.4159263649641647,
          0.8566264197567114,
          0.29402607091862265,
          -1.099818139175731,
          -1.1314940858303717,
          0.9281480352753586,
          -0.13439689942833424,
          0.045604618865690276,
          -0.9979314517757257,
          -0.07269042102427148,
          -0.5356990006428285,
          -1.1990026834526482,
          0.1976306802793206,
          -0.6760867737177405,
          -0.4370643149105769,
          1.7123117467895295,
          1.8799972780063177,
          -0.07036592754360131,
          1.903342736762849,
          -0.7909243457034956,
          -0.21648795712901556,
          -0.18759480763157985,
          -0.17191582545359513,
          1.2163634807475439,
          1.1517611276683175,
          -0.7984270716400544,
          0.7817741035366015,
          2.2456629185031023,
          1.389344614456707,
          0.5726770872579274,
          -0.05996906126751653,
          0.3420213779390641,
          -0.2379680007605113,
          0.3649105284334666,
          0.263804800291932,
          0.3277197543628306,
          -0.2530061140131053,
          1.1758363314661346,
          -0.08852367242694675,
          -0.22481209189451987,
          0.15802992649044043,
          -1.5061386445028795,
          0.6729920524858238,
          -0.3211746441519791,
          1.018943249519832,
          -1.7824913063580343,
          0.891561971167367,
          -1.1815199382522332
         ],
         "xaxis": "x13",
         "y": [
          0.1678688456852729,
          -0.7660755490375207,
          -0.24033995622475704,
          -0.1682834967212138,
          -0.7071182614203896,
          -0.7681995890374017,
          -2.033746607587051,
          -0.13645665960025008,
          0.8853957116965118,
          0.7684011089760281,
          1.3331923437966315,
          -0.6313108008149433,
          -0.1990810753545615,
          -0.9362029443403491,
          -0.48602397477900594,
          0.6943936691591144,
          -1.3138802802680032,
          0.2392164800781996,
          1.0907698280119023,
          1.8965747576752692,
          0.442885360234719,
          -0.6864410326378556,
          -0.8427733927849178,
          1.879280752642242,
          -0.8766615576635849,
          -0.7968093327132704,
          0.48471521549216495,
          0.6680262768318319,
          0.928831286436281,
          -0.3097847577236534,
          0.11246450934781085,
          -1.3215886940461292,
          0.08853158506239107,
          1.1598699817635334,
          1.466549647872314,
          -1.1640330918656165,
          -1.61767356039815,
          -1.609374924580595,
          -0.3678068225477947,
          0.6721842330036858,
          -0.5394995077186759,
          -0.6191387319020631,
          0.23897827009090414,
          -0.4560648370029805,
          -0.5130532625487461,
          0.04869945067598958,
          0.7945450847747928,
          0.9463268407815968,
          -0.056612104084040674,
          -0.8617504834866899,
          1.4845618102402878,
          3.145860220342536,
          -1.9041065545592328,
          1.5350121393448692,
          0.6627933498060756,
          0.09675705889637655,
          -0.8923072027447188,
          -0.5525401182438261,
          0.8290980738948833,
          1.470022690133724,
          -0.8860840655185193,
          -0.09681710155206424,
          0.30865486290318156,
          0.21943714014526172,
          0.11341629867977683,
          -1.2266711866065867,
          0.22103297889399115,
          0.06725162810266645,
          0.5580915971155165,
          1.0105818532027613,
          -0.15753228208829775,
          0.3938749268228596,
          1.08155031642873,
          -0.04125426043324729,
          -0.4169155318556582,
          1.2679845140404256,
          0.08705806488006085,
          0.21120171595670129,
          0.15821498663748168,
          -0.5356086125675361,
          3.251672425388064,
          1.4102313844205876,
          0.24108712582044428,
          -0.5686913122244588,
          0.7059547425843715,
          -0.29410301722008786,
          -0.537492381963061,
          -0.4583903711628853,
          0.31492293193018556,
          0.5599066087163566,
          1.0843010187485178,
          0.020497693627848947,
          0.5921960317117614,
          -0.7774516166862487,
          1.050757571631062,
          2.6606214337424148,
          0.4164070043407307,
          1.058442534293066,
          0.7592181641268156,
          0.41374422308068587
         ],
         "yaxis": "y13"
        },
        {
         "line": {
          "color": "rgba(128, 128, 128, 1.0)",
          "dash": "solid",
          "shape": "linear",
          "width": 1.3
         },
         "marker": {
          "size": 2,
          "symbol": "circle"
         },
         "mode": "markers",
         "name": "D",
         "text": "",
         "type": "scatter",
         "x": [
          -0.755353873179904,
          -0.4256767679096191,
          0.8157780024246971,
          -2.2541977161527247,
          -0.7233269440454809,
          -0.3786556373601695,
          -0.4195600810812267,
          -1.0793100455317586,
          0.8220363590786557,
          0.48768333438156214,
          1.3906112268818829,
          -1.660562236233282,
          1.2811839261911535,
          -0.8915535733622445,
          -0.42391847699293117,
          0.1113894103911496,
          1.141630830605558,
          -1.2483726382556115,
          0.8449777733211241,
          -0.5021909158980505,
          1.8137801708054053,
          -1.0325995855976582,
          1.2385329606445827,
          0.2742951614108968,
          -0.04380311529890623,
          -0.3111212097926691,
          0.21211975876158917,
          1.3149102153503898,
          2.4643229801701025,
          -0.619603592493676,
          -0.747113629066319,
          0.5431806643475502,
          -0.2734201992074562,
          -1.3360418266526963,
          0.8090919933441999,
          -0.031279339706645655,
          -0.037058879582681205,
          1.0157389257755776,
          -0.48043568443838675,
          0.31485240310950013,
          -0.7130777817802696,
          0.5197397848035694,
          -1.418160664078292,
          1.1033388571762677,
          0.9979752730335754,
          2.83369159311136,
          1.9073160281621018,
          0.38186024604961033,
          -1.1806003432890024,
          -0.5143575584503659,
          -0.3957816536562888,
          -0.5268066455809626,
          -0.15014706606849018,
          0.13173277087200919,
          1.93981894214876,
          -0.3902593736360637,
          1.6358481423378353,
          0.8115150249350609,
          -0.8555629872017407,
          0.18761674013119092,
          -0.7905156503572589,
          -0.4615672762918858,
          0.34482776614752947,
          0.19434981423092712,
          0.8244631807844324,
          0.1701337758593794,
          1.8909263075644804,
          -0.6636415622048087,
          0.6314810168714927,
          0.36476490047848975,
          0.47866952971355303,
          1.2887293734556127,
          -0.266023327476621,
          -0.1502322605674205,
          -1.1503150530123967,
          0.08230965925441752,
          -0.562349929195335,
          -1.9553643072289255,
          0.5447662913675482,
          0.8458391678364608,
          -0.3923223744037829,
          -0.4830673950348278,
          0.9697117616204505,
          -0.6558959572087942,
          -0.1786710138083607,
          0.4673075927125077,
          0.5895188619517944,
          -1.644346405559177,
          1.018096940218595,
          0.3002176019003145,
          -0.26036541607405717,
          -0.3552758805482968,
          1.138262275081289,
          0.16586658168269822,
          -1.5356808881214654,
          -2.525725571839549,
          1.3261952687937644,
          0.3440020565671146,
          -1.024023927456685,
          -0.026135700939124245
         ],
         "xaxis": "x14",
         "y": [
          0.1678688456852729,
          -0.7660755490375207,
          -0.24033995622475704,
          -0.1682834967212138,
          -0.7071182614203896,
          -0.7681995890374017,
          -2.033746607587051,
          -0.13645665960025008,
          0.8853957116965118,
          0.7684011089760281,
          1.3331923437966315,
          -0.6313108008149433,
          -0.1990810753545615,
          -0.9362029443403491,
          -0.48602397477900594,
          0.6943936691591144,
          -1.3138802802680032,
          0.2392164800781996,
          1.0907698280119023,
          1.8965747576752692,
          0.442885360234719,
          -0.6864410326378556,
          -0.8427733927849178,
          1.879280752642242,
          -0.8766615576635849,
          -0.7968093327132704,
          0.48471521549216495,
          0.6680262768318319,
          0.928831286436281,
          -0.3097847577236534,
          0.11246450934781085,
          -1.3215886940461292,
          0.08853158506239107,
          1.1598699817635334,
          1.466549647872314,
          -1.1640330918656165,
          -1.61767356039815,
          -1.609374924580595,
          -0.3678068225477947,
          0.6721842330036858,
          -0.5394995077186759,
          -0.6191387319020631,
          0.23897827009090414,
          -0.4560648370029805,
          -0.5130532625487461,
          0.04869945067598958,
          0.7945450847747928,
          0.9463268407815968,
          -0.056612104084040674,
          -0.8617504834866899,
          1.4845618102402878,
          3.145860220342536,
          -1.9041065545592328,
          1.5350121393448692,
          0.6627933498060756,
          0.09675705889637655,
          -0.8923072027447188,
          -0.5525401182438261,
          0.8290980738948833,
          1.470022690133724,
          -0.8860840655185193,
          -0.09681710155206424,
          0.30865486290318156,
          0.21943714014526172,
          0.11341629867977683,
          -1.2266711866065867,
          0.22103297889399115,
          0.06725162810266645,
          0.5580915971155165,
          1.0105818532027613,
          -0.15753228208829775,
          0.3938749268228596,
          1.08155031642873,
          -0.04125426043324729,
          -0.4169155318556582,
          1.2679845140404256,
          0.08705806488006085,
          0.21120171595670129,
          0.15821498663748168,
          -0.5356086125675361,
          3.251672425388064,
          1.4102313844205876,
          0.24108712582044428,
          -0.5686913122244588,
          0.7059547425843715,
          -0.29410301722008786,
          -0.537492381963061,
          -0.4583903711628853,
          0.31492293193018556,
          0.5599066087163566,
          1.0843010187485178,
          0.020497693627848947,
          0.5921960317117614,
          -0.7774516166862487,
          1.050757571631062,
          2.6606214337424148,
          0.4164070043407307,
          1.058442534293066,
          0.7592181641268156,
          0.41374422308068587
         ],
         "yaxis": "y14"
        },
        {
         "line": {
          "color": "rgba(128, 128, 128, 1.0)",
          "dash": "solid",
          "shape": "linear",
          "width": 1.3
         },
         "marker": {
          "size": 2,
          "symbol": "circle"
         },
         "mode": "markers",
         "name": "D",
         "text": "",
         "type": "scatter",
         "x": [
          1.3625069996408685,
          0.9144952248887764,
          -0.04379371033273974,
          0.09926340152837985,
          1.2439724798159724,
          1.1541745177710157,
          0.8903331224676148,
          -0.266292290561748,
          -0.04175051493955355,
          1.0301172806259171,
          -0.5928166169608095,
          -1.7103241908806828,
          1.5518485422560453,
          -0.8470507769567207,
          1.2270784178865735,
          0.5965754556850948,
          -0.4758371563683018,
          0.872427010018932,
          -1.792956333172518,
          -0.38186421963418965,
          -2.1181936570248463,
          0.04830933305814722,
          -0.2377517243843703,
          1.180649111475662,
          0.750538260223122,
          0.9987999439705197,
          -0.3746257593686016,
          1.67463871096551,
          -0.7603667656154767,
          -0.07638038847929986,
          0.4166224532956056,
          -0.6113448167098882,
          -0.5619164790482407,
          -0.5299474677729248,
          -0.6454235969449024,
          -1.5844963110045438,
          1.7958848004195698,
          0.05725658047593841,
          0.2721754274360363,
          1.2775937537343836,
          -1.090054521555069,
          -0.42179786795174207,
          1.2423180080467975,
          -0.010861564683631282,
          0.15506944960313332,
          -0.17041242917319238,
          -0.40178919529776935,
          0.31202362583184595,
          0.9130877026457608,
          0.6979280217528265,
          -0.3744751044346249,
          -0.3356760147211475,
          0.48003599789582946,
          0.519507398890785,
          -1.3585467086201315,
          -1.3681957134473788,
          0.5749568613249194,
          0.6692379140807965,
          1.377450523387284,
          1.9966917262315202,
          0.5426288454362674,
          0.8272004758045935,
          -0.4366866732935288,
          -0.30638253901940254,
          1.1722894324864024,
          0.6870803694725929,
          -1.5676196674203213,
          1.4476838161089778,
          -1.68998241695538,
          -0.6374153838701762,
          -0.4442773346777854,
          0.34665700385127446,
          -0.9714136879825543,
          -0.306819209481289,
          -0.9333384010003253,
          -0.15705929393017123,
          -0.8621365632898269,
          1.8982151081219376,
          -1.9557762436737225,
          -0.45832500451598934,
          0.9914760514765695,
          0.320091570765724,
          0.8031181822203135,
          -0.3923864355104031,
          -0.45168071389999304,
          0.22009011992701982,
          0.5955333007411939,
          -0.18003516240607267,
          -1.0297839283237813,
          -0.35674347150142727,
          0.5010231233276244,
          3.0244816886034616,
          -1.4518354545370757,
          -0.7238706064189212,
          -1.9546467592720356,
          1.6750188451554895,
          0.9591556681989486,
          -0.5368549291145766,
          0.8130714085694476,
          -0.31847863880302585
         ],
         "xaxis": "x15",
         "y": [
          0.1678688456852729,
          -0.7660755490375207,
          -0.24033995622475704,
          -0.1682834967212138,
          -0.7071182614203896,
          -0.7681995890374017,
          -2.033746607587051,
          -0.13645665960025008,
          0.8853957116965118,
          0.7684011089760281,
          1.3331923437966315,
          -0.6313108008149433,
          -0.1990810753545615,
          -0.9362029443403491,
          -0.48602397477900594,
          0.6943936691591144,
          -1.3138802802680032,
          0.2392164800781996,
          1.0907698280119023,
          1.8965747576752692,
          0.442885360234719,
          -0.6864410326378556,
          -0.8427733927849178,
          1.879280752642242,
          -0.8766615576635849,
          -0.7968093327132704,
          0.48471521549216495,
          0.6680262768318319,
          0.928831286436281,
          -0.3097847577236534,
          0.11246450934781085,
          -1.3215886940461292,
          0.08853158506239107,
          1.1598699817635334,
          1.466549647872314,
          -1.1640330918656165,
          -1.61767356039815,
          -1.609374924580595,
          -0.3678068225477947,
          0.6721842330036858,
          -0.5394995077186759,
          -0.6191387319020631,
          0.23897827009090414,
          -0.4560648370029805,
          -0.5130532625487461,
          0.04869945067598958,
          0.7945450847747928,
          0.9463268407815968,
          -0.056612104084040674,
          -0.8617504834866899,
          1.4845618102402878,
          3.145860220342536,
          -1.9041065545592328,
          1.5350121393448692,
          0.6627933498060756,
          0.09675705889637655,
          -0.8923072027447188,
          -0.5525401182438261,
          0.8290980738948833,
          1.470022690133724,
          -0.8860840655185193,
          -0.09681710155206424,
          0.30865486290318156,
          0.21943714014526172,
          0.11341629867977683,
          -1.2266711866065867,
          0.22103297889399115,
          0.06725162810266645,
          0.5580915971155165,
          1.0105818532027613,
          -0.15753228208829775,
          0.3938749268228596,
          1.08155031642873,
          -0.04125426043324729,
          -0.4169155318556582,
          1.2679845140404256,
          0.08705806488006085,
          0.21120171595670129,
          0.15821498663748168,
          -0.5356086125675361,
          3.251672425388064,
          1.4102313844205876,
          0.24108712582044428,
          -0.5686913122244588,
          0.7059547425843715,
          -0.29410301722008786,
          -0.537492381963061,
          -0.4583903711628853,
          0.31492293193018556,
          0.5599066087163566,
          1.0843010187485178,
          0.020497693627848947,
          0.5921960317117614,
          -0.7774516166862487,
          1.050757571631062,
          2.6606214337424148,
          0.4164070043407307,
          1.058442534293066,
          0.7592181641268156,
          0.41374422308068587
         ],
         "yaxis": "y15"
        },
        {
         "histfunc": "count",
         "histnorm": "",
         "marker": {
          "color": "rgba(128, 0, 128, 1.0)",
          "line": {
           "color": "#4D5663",
           "width": 1.3
          }
         },
         "name": "D",
         "nbinsx": 10,
         "opacity": 0.8,
         "orientation": "v",
         "type": "histogram",
         "x": [
          0.1678688456852729,
          -0.7660755490375207,
          -0.24033995622475704,
          -0.1682834967212138,
          -0.7071182614203896,
          -0.7681995890374017,
          -2.033746607587051,
          -0.13645665960025008,
          0.8853957116965118,
          0.7684011089760281,
          1.3331923437966315,
          -0.6313108008149433,
          -0.1990810753545615,
          -0.9362029443403491,
          -0.48602397477900594,
          0.6943936691591144,
          -1.3138802802680032,
          0.2392164800781996,
          1.0907698280119023,
          1.8965747576752692,
          0.442885360234719,
          -0.6864410326378556,
          -0.8427733927849178,
          1.879280752642242,
          -0.8766615576635849,
          -0.7968093327132704,
          0.48471521549216495,
          0.6680262768318319,
          0.928831286436281,
          -0.3097847577236534,
          0.11246450934781085,
          -1.3215886940461292,
          0.08853158506239107,
          1.1598699817635334,
          1.466549647872314,
          -1.1640330918656165,
          -1.61767356039815,
          -1.609374924580595,
          -0.3678068225477947,
          0.6721842330036858,
          -0.5394995077186759,
          -0.6191387319020631,
          0.23897827009090414,
          -0.4560648370029805,
          -0.5130532625487461,
          0.04869945067598958,
          0.7945450847747928,
          0.9463268407815968,
          -0.056612104084040674,
          -0.8617504834866899,
          1.4845618102402878,
          3.145860220342536,
          -1.9041065545592328,
          1.5350121393448692,
          0.6627933498060756,
          0.09675705889637655,
          -0.8923072027447188,
          -0.5525401182438261,
          0.8290980738948833,
          1.470022690133724,
          -0.8860840655185193,
          -0.09681710155206424,
          0.30865486290318156,
          0.21943714014526172,
          0.11341629867977683,
          -1.2266711866065867,
          0.22103297889399115,
          0.06725162810266645,
          0.5580915971155165,
          1.0105818532027613,
          -0.15753228208829775,
          0.3938749268228596,
          1.08155031642873,
          -0.04125426043324729,
          -0.4169155318556582,
          1.2679845140404256,
          0.08705806488006085,
          0.21120171595670129,
          0.15821498663748168,
          -0.5356086125675361,
          3.251672425388064,
          1.4102313844205876,
          0.24108712582044428,
          -0.5686913122244588,
          0.7059547425843715,
          -0.29410301722008786,
          -0.537492381963061,
          -0.4583903711628853,
          0.31492293193018556,
          0.5599066087163566,
          1.0843010187485178,
          0.020497693627848947,
          0.5921960317117614,
          -0.7774516166862487,
          1.050757571631062,
          2.6606214337424148,
          0.4164070043407307,
          1.058442534293066,
          0.7592181641268156,
          0.41374422308068587
         ],
         "xaxis": "x16",
         "yaxis": "y16"
        }
       ],
       "layout": {
        "bargap": 0.02,
        "legend": {
         "bgcolor": "#F5F6F9",
         "font": {
          "color": "#4D5663"
         }
        },
        "paper_bgcolor": "#F5F6F9",
        "plot_bgcolor": "#F5F6F9",
        "showlegend": false,
        "template": {
         "data": {
          "bar": [
           {
            "error_x": {
             "color": "#2a3f5f"
            },
            "error_y": {
             "color": "#2a3f5f"
            },
            "marker": {
             "line": {
              "color": "#E5ECF6",
              "width": 0.5
             }
            },
            "type": "bar"
           }
          ],
          "barpolar": [
           {
            "marker": {
             "line": {
              "color": "#E5ECF6",
              "width": 0.5
             }
            },
            "type": "barpolar"
           }
          ],
          "carpet": [
           {
            "aaxis": {
             "endlinecolor": "#2a3f5f",
             "gridcolor": "white",
             "linecolor": "white",
             "minorgridcolor": "white",
             "startlinecolor": "#2a3f5f"
            },
            "baxis": {
             "endlinecolor": "#2a3f5f",
             "gridcolor": "white",
             "linecolor": "white",
             "minorgridcolor": "white",
             "startlinecolor": "#2a3f5f"
            },
            "type": "carpet"
           }
          ],
          "choropleth": [
           {
            "colorbar": {
             "outlinewidth": 0,
             "ticks": ""
            },
            "type": "choropleth"
           }
          ],
          "contour": [
           {
            "colorbar": {
             "outlinewidth": 0,
             "ticks": ""
            },
            "colorscale": [
             [
              0,
              "#0d0887"
             ],
             [
              0.1111111111111111,
              "#46039f"
             ],
             [
              0.2222222222222222,
              "#7201a8"
             ],
             [
              0.3333333333333333,
              "#9c179e"
             ],
             [
              0.4444444444444444,
              "#bd3786"
             ],
             [
              0.5555555555555556,
              "#d8576b"
             ],
             [
              0.6666666666666666,
              "#ed7953"
             ],
             [
              0.7777777777777778,
              "#fb9f3a"
             ],
             [
              0.8888888888888888,
              "#fdca26"
             ],
             [
              1,
              "#f0f921"
             ]
            ],
            "type": "contour"
           }
          ],
          "contourcarpet": [
           {
            "colorbar": {
             "outlinewidth": 0,
             "ticks": ""
            },
            "type": "contourcarpet"
           }
          ],
          "heatmap": [
           {
            "colorbar": {
             "outlinewidth": 0,
             "ticks": ""
            },
            "colorscale": [
             [
              0,
              "#0d0887"
             ],
             [
              0.1111111111111111,
              "#46039f"
             ],
             [
              0.2222222222222222,
              "#7201a8"
             ],
             [
              0.3333333333333333,
              "#9c179e"
             ],
             [
              0.4444444444444444,
              "#bd3786"
             ],
             [
              0.5555555555555556,
              "#d8576b"
             ],
             [
              0.6666666666666666,
              "#ed7953"
             ],
             [
              0.7777777777777778,
              "#fb9f3a"
             ],
             [
              0.8888888888888888,
              "#fdca26"
             ],
             [
              1,
              "#f0f921"
             ]
            ],
            "type": "heatmap"
           }
          ],
          "heatmapgl": [
           {
            "colorbar": {
             "outlinewidth": 0,
             "ticks": ""
            },
            "colorscale": [
             [
              0,
              "#0d0887"
             ],
             [
              0.1111111111111111,
              "#46039f"
             ],
             [
              0.2222222222222222,
              "#7201a8"
             ],
             [
              0.3333333333333333,
              "#9c179e"
             ],
             [
              0.4444444444444444,
              "#bd3786"
             ],
             [
              0.5555555555555556,
              "#d8576b"
             ],
             [
              0.6666666666666666,
              "#ed7953"
             ],
             [
              0.7777777777777778,
              "#fb9f3a"
             ],
             [
              0.8888888888888888,
              "#fdca26"
             ],
             [
              1,
              "#f0f921"
             ]
            ],
            "type": "heatmapgl"
           }
          ],
          "histogram": [
           {
            "marker": {
             "colorbar": {
              "outlinewidth": 0,
              "ticks": ""
             }
            },
            "type": "histogram"
           }
          ],
          "histogram2d": [
           {
            "colorbar": {
             "outlinewidth": 0,
             "ticks": ""
            },
            "colorscale": [
             [
              0,
              "#0d0887"
             ],
             [
              0.1111111111111111,
              "#46039f"
             ],
             [
              0.2222222222222222,
              "#7201a8"
             ],
             [
              0.3333333333333333,
              "#9c179e"
             ],
             [
              0.4444444444444444,
              "#bd3786"
             ],
             [
              0.5555555555555556,
              "#d8576b"
             ],
             [
              0.6666666666666666,
              "#ed7953"
             ],
             [
              0.7777777777777778,
              "#fb9f3a"
             ],
             [
              0.8888888888888888,
              "#fdca26"
             ],
             [
              1,
              "#f0f921"
             ]
            ],
            "type": "histogram2d"
           }
          ],
          "histogram2dcontour": [
           {
            "colorbar": {
             "outlinewidth": 0,
             "ticks": ""
            },
            "colorscale": [
             [
              0,
              "#0d0887"
             ],
             [
              0.1111111111111111,
              "#46039f"
             ],
             [
              0.2222222222222222,
              "#7201a8"
             ],
             [
              0.3333333333333333,
              "#9c179e"
             ],
             [
              0.4444444444444444,
              "#bd3786"
             ],
             [
              0.5555555555555556,
              "#d8576b"
             ],
             [
              0.6666666666666666,
              "#ed7953"
             ],
             [
              0.7777777777777778,
              "#fb9f3a"
             ],
             [
              0.8888888888888888,
              "#fdca26"
             ],
             [
              1,
              "#f0f921"
             ]
            ],
            "type": "histogram2dcontour"
           }
          ],
          "mesh3d": [
           {
            "colorbar": {
             "outlinewidth": 0,
             "ticks": ""
            },
            "type": "mesh3d"
           }
          ],
          "parcoords": [
           {
            "line": {
             "colorbar": {
              "outlinewidth": 0,
              "ticks": ""
             }
            },
            "type": "parcoords"
           }
          ],
          "pie": [
           {
            "automargin": true,
            "type": "pie"
           }
          ],
          "scatter": [
           {
            "marker": {
             "colorbar": {
              "outlinewidth": 0,
              "ticks": ""
             }
            },
            "type": "scatter"
           }
          ],
          "scatter3d": [
           {
            "line": {
             "colorbar": {
              "outlinewidth": 0,
              "ticks": ""
             }
            },
            "marker": {
             "colorbar": {
              "outlinewidth": 0,
              "ticks": ""
             }
            },
            "type": "scatter3d"
           }
          ],
          "scattercarpet": [
           {
            "marker": {
             "colorbar": {
              "outlinewidth": 0,
              "ticks": ""
             }
            },
            "type": "scattercarpet"
           }
          ],
          "scattergeo": [
           {
            "marker": {
             "colorbar": {
              "outlinewidth": 0,
              "ticks": ""
             }
            },
            "type": "scattergeo"
           }
          ],
          "scattergl": [
           {
            "marker": {
             "colorbar": {
              "outlinewidth": 0,
              "ticks": ""
             }
            },
            "type": "scattergl"
           }
          ],
          "scattermapbox": [
           {
            "marker": {
             "colorbar": {
              "outlinewidth": 0,
              "ticks": ""
             }
            },
            "type": "scattermapbox"
           }
          ],
          "scatterpolar": [
           {
            "marker": {
             "colorbar": {
              "outlinewidth": 0,
              "ticks": ""
             }
            },
            "type": "scatterpolar"
           }
          ],
          "scatterpolargl": [
           {
            "marker": {
             "colorbar": {
              "outlinewidth": 0,
              "ticks": ""
             }
            },
            "type": "scatterpolargl"
           }
          ],
          "scatterternary": [
           {
            "marker": {
             "colorbar": {
              "outlinewidth": 0,
              "ticks": ""
             }
            },
            "type": "scatterternary"
           }
          ],
          "surface": [
           {
            "colorbar": {
             "outlinewidth": 0,
             "ticks": ""
            },
            "colorscale": [
             [
              0,
              "#0d0887"
             ],
             [
              0.1111111111111111,
              "#46039f"
             ],
             [
              0.2222222222222222,
              "#7201a8"
             ],
             [
              0.3333333333333333,
              "#9c179e"
             ],
             [
              0.4444444444444444,
              "#bd3786"
             ],
             [
              0.5555555555555556,
              "#d8576b"
             ],
             [
              0.6666666666666666,
              "#ed7953"
             ],
             [
              0.7777777777777778,
              "#fb9f3a"
             ],
             [
              0.8888888888888888,
              "#fdca26"
             ],
             [
              1,
              "#f0f921"
             ]
            ],
            "type": "surface"
           }
          ],
          "table": [
           {
            "cells": {
             "fill": {
              "color": "#EBF0F8"
             },
             "line": {
              "color": "white"
             }
            },
            "header": {
             "fill": {
              "color": "#C8D4E3"
             },
             "line": {
              "color": "white"
             }
            },
            "type": "table"
           }
          ]
         },
         "layout": {
          "annotationdefaults": {
           "arrowcolor": "#2a3f5f",
           "arrowhead": 0,
           "arrowwidth": 1
          },
          "coloraxis": {
           "colorbar": {
            "outlinewidth": 0,
            "ticks": ""
           }
          },
          "colorscale": {
           "diverging": [
            [
             0,
             "#8e0152"
            ],
            [
             0.1,
             "#c51b7d"
            ],
            [
             0.2,
             "#de77ae"
            ],
            [
             0.3,
             "#f1b6da"
            ],
            [
             0.4,
             "#fde0ef"
            ],
            [
             0.5,
             "#f7f7f7"
            ],
            [
             0.6,
             "#e6f5d0"
            ],
            [
             0.7,
             "#b8e186"
            ],
            [
             0.8,
             "#7fbc41"
            ],
            [
             0.9,
             "#4d9221"
            ],
            [
             1,
             "#276419"
            ]
           ],
           "sequential": [
            [
             0,
             "#0d0887"
            ],
            [
             0.1111111111111111,
             "#46039f"
            ],
            [
             0.2222222222222222,
             "#7201a8"
            ],
            [
             0.3333333333333333,
             "#9c179e"
            ],
            [
             0.4444444444444444,
             "#bd3786"
            ],
            [
             0.5555555555555556,
             "#d8576b"
            ],
            [
             0.6666666666666666,
             "#ed7953"
            ],
            [
             0.7777777777777778,
             "#fb9f3a"
            ],
            [
             0.8888888888888888,
             "#fdca26"
            ],
            [
             1,
             "#f0f921"
            ]
           ],
           "sequentialminus": [
            [
             0,
             "#0d0887"
            ],
            [
             0.1111111111111111,
             "#46039f"
            ],
            [
             0.2222222222222222,
             "#7201a8"
            ],
            [
             0.3333333333333333,
             "#9c179e"
            ],
            [
             0.4444444444444444,
             "#bd3786"
            ],
            [
             0.5555555555555556,
             "#d8576b"
            ],
            [
             0.6666666666666666,
             "#ed7953"
            ],
            [
             0.7777777777777778,
             "#fb9f3a"
            ],
            [
             0.8888888888888888,
             "#fdca26"
            ],
            [
             1,
             "#f0f921"
            ]
           ]
          },
          "colorway": [
           "#636efa",
           "#EF553B",
           "#00cc96",
           "#ab63fa",
           "#FFA15A",
           "#19d3f3",
           "#FF6692",
           "#B6E880",
           "#FF97FF",
           "#FECB52"
          ],
          "font": {
           "color": "#2a3f5f"
          },
          "geo": {
           "bgcolor": "white",
           "lakecolor": "white",
           "landcolor": "#E5ECF6",
           "showlakes": true,
           "showland": true,
           "subunitcolor": "white"
          },
          "hoverlabel": {
           "align": "left"
          },
          "hovermode": "closest",
          "mapbox": {
           "style": "light"
          },
          "paper_bgcolor": "white",
          "plot_bgcolor": "#E5ECF6",
          "polar": {
           "angularaxis": {
            "gridcolor": "white",
            "linecolor": "white",
            "ticks": ""
           },
           "bgcolor": "#E5ECF6",
           "radialaxis": {
            "gridcolor": "white",
            "linecolor": "white",
            "ticks": ""
           }
          },
          "scene": {
           "xaxis": {
            "backgroundcolor": "#E5ECF6",
            "gridcolor": "white",
            "gridwidth": 2,
            "linecolor": "white",
            "showbackground": true,
            "ticks": "",
            "zerolinecolor": "white"
           },
           "yaxis": {
            "backgroundcolor": "#E5ECF6",
            "gridcolor": "white",
            "gridwidth": 2,
            "linecolor": "white",
            "showbackground": true,
            "ticks": "",
            "zerolinecolor": "white"
           },
           "zaxis": {
            "backgroundcolor": "#E5ECF6",
            "gridcolor": "white",
            "gridwidth": 2,
            "linecolor": "white",
            "showbackground": true,
            "ticks": "",
            "zerolinecolor": "white"
           }
          },
          "shapedefaults": {
           "line": {
            "color": "#2a3f5f"
           }
          },
          "ternary": {
           "aaxis": {
            "gridcolor": "white",
            "linecolor": "white",
            "ticks": ""
           },
           "baxis": {
            "gridcolor": "white",
            "linecolor": "white",
            "ticks": ""
           },
           "bgcolor": "#E5ECF6",
           "caxis": {
            "gridcolor": "white",
            "linecolor": "white",
            "ticks": ""
           }
          },
          "title": {
           "x": 0.05
          },
          "xaxis": {
           "automargin": true,
           "gridcolor": "white",
           "linecolor": "white",
           "ticks": "",
           "title": {
            "standoff": 15
           },
           "zerolinecolor": "white",
           "zerolinewidth": 2
          },
          "yaxis": {
           "automargin": true,
           "gridcolor": "white",
           "linecolor": "white",
           "ticks": "",
           "title": {
            "standoff": 15
           },
           "zerolinecolor": "white",
           "zerolinewidth": 2
          }
         }
        },
        "title": {
         "font": {
          "color": "#4D5663"
         }
        },
        "xaxis": {
         "anchor": "y",
         "domain": [
          0,
          0.2125
         ],
         "gridcolor": "#E1E5ED",
         "showgrid": false,
         "tickfont": {
          "color": "#4D5663"
         },
         "title": {
          "font": {
           "color": "#4D5663"
          },
          "text": ""
         },
         "zerolinecolor": "#E1E5ED"
        },
        "xaxis10": {
         "anchor": "y10",
         "domain": [
          0.2625,
          0.475
         ],
         "gridcolor": "#E1E5ED",
         "showgrid": false,
         "tickfont": {
          "color": "#4D5663"
         },
         "title": {
          "font": {
           "color": "#4D5663"
          },
          "text": ""
         },
         "zerolinecolor": "#E1E5ED"
        },
        "xaxis11": {
         "anchor": "y11",
         "domain": [
          0.525,
          0.7375
         ],
         "gridcolor": "#E1E5ED",
         "showgrid": false,
         "tickfont": {
          "color": "#4D5663"
         },
         "title": {
          "font": {
           "color": "#4D5663"
          },
          "text": ""
         },
         "zerolinecolor": "#E1E5ED"
        },
        "xaxis12": {
         "anchor": "y12",
         "domain": [
          0.7875,
          1
         ],
         "gridcolor": "#E1E5ED",
         "showgrid": false,
         "tickfont": {
          "color": "#4D5663"
         },
         "title": {
          "font": {
           "color": "#4D5663"
          },
          "text": ""
         },
         "zerolinecolor": "#E1E5ED"
        },
        "xaxis13": {
         "anchor": "y13",
         "domain": [
          0,
          0.2125
         ],
         "gridcolor": "#E1E5ED",
         "showgrid": false,
         "tickfont": {
          "color": "#4D5663"
         },
         "title": {
          "font": {
           "color": "#4D5663"
          },
          "text": ""
         },
         "zerolinecolor": "#E1E5ED"
        },
        "xaxis14": {
         "anchor": "y14",
         "domain": [
          0.2625,
          0.475
         ],
         "gridcolor": "#E1E5ED",
         "showgrid": false,
         "tickfont": {
          "color": "#4D5663"
         },
         "title": {
          "font": {
           "color": "#4D5663"
          },
          "text": ""
         },
         "zerolinecolor": "#E1E5ED"
        },
        "xaxis15": {
         "anchor": "y15",
         "domain": [
          0.525,
          0.7375
         ],
         "gridcolor": "#E1E5ED",
         "showgrid": false,
         "tickfont": {
          "color": "#4D5663"
         },
         "title": {
          "font": {
           "color": "#4D5663"
          },
          "text": ""
         },
         "zerolinecolor": "#E1E5ED"
        },
        "xaxis16": {
         "anchor": "y16",
         "domain": [
          0.7875,
          1
         ],
         "gridcolor": "#E1E5ED",
         "showgrid": false,
         "tickfont": {
          "color": "#4D5663"
         },
         "title": {
          "font": {
           "color": "#4D5663"
          },
          "text": ""
         },
         "zerolinecolor": "#E1E5ED"
        },
        "xaxis2": {
         "anchor": "y2",
         "domain": [
          0.2625,
          0.475
         ],
         "gridcolor": "#E1E5ED",
         "showgrid": false,
         "tickfont": {
          "color": "#4D5663"
         },
         "title": {
          "font": {
           "color": "#4D5663"
          },
          "text": ""
         },
         "zerolinecolor": "#E1E5ED"
        },
        "xaxis3": {
         "anchor": "y3",
         "domain": [
          0.525,
          0.7375
         ],
         "gridcolor": "#E1E5ED",
         "showgrid": false,
         "tickfont": {
          "color": "#4D5663"
         },
         "title": {
          "font": {
           "color": "#4D5663"
          },
          "text": ""
         },
         "zerolinecolor": "#E1E5ED"
        },
        "xaxis4": {
         "anchor": "y4",
         "domain": [
          0.7875,
          1
         ],
         "gridcolor": "#E1E5ED",
         "showgrid": false,
         "tickfont": {
          "color": "#4D5663"
         },
         "title": {
          "font": {
           "color": "#4D5663"
          },
          "text": ""
         },
         "zerolinecolor": "#E1E5ED"
        },
        "xaxis5": {
         "anchor": "y5",
         "domain": [
          0,
          0.2125
         ],
         "gridcolor": "#E1E5ED",
         "showgrid": false,
         "tickfont": {
          "color": "#4D5663"
         },
         "title": {
          "font": {
           "color": "#4D5663"
          },
          "text": ""
         },
         "zerolinecolor": "#E1E5ED"
        },
        "xaxis6": {
         "anchor": "y6",
         "domain": [
          0.2625,
          0.475
         ],
         "gridcolor": "#E1E5ED",
         "showgrid": false,
         "tickfont": {
          "color": "#4D5663"
         },
         "title": {
          "font": {
           "color": "#4D5663"
          },
          "text": ""
         },
         "zerolinecolor": "#E1E5ED"
        },
        "xaxis7": {
         "anchor": "y7",
         "domain": [
          0.525,
          0.7375
         ],
         "gridcolor": "#E1E5ED",
         "showgrid": false,
         "tickfont": {
          "color": "#4D5663"
         },
         "title": {
          "font": {
           "color": "#4D5663"
          },
          "text": ""
         },
         "zerolinecolor": "#E1E5ED"
        },
        "xaxis8": {
         "anchor": "y8",
         "domain": [
          0.7875,
          1
         ],
         "gridcolor": "#E1E5ED",
         "showgrid": false,
         "tickfont": {
          "color": "#4D5663"
         },
         "title": {
          "font": {
           "color": "#4D5663"
          },
          "text": ""
         },
         "zerolinecolor": "#E1E5ED"
        },
        "xaxis9": {
         "anchor": "y9",
         "domain": [
          0,
          0.2125
         ],
         "gridcolor": "#E1E5ED",
         "showgrid": false,
         "tickfont": {
          "color": "#4D5663"
         },
         "title": {
          "font": {
           "color": "#4D5663"
          },
          "text": ""
         },
         "zerolinecolor": "#E1E5ED"
        },
        "yaxis": {
         "anchor": "x",
         "domain": [
          0.8025,
          1
         ],
         "gridcolor": "#E1E5ED",
         "showgrid": false,
         "tickfont": {
          "color": "#4D5663"
         },
         "title": {
          "font": {
           "color": "#4D5663"
          },
          "text": ""
         },
         "zerolinecolor": "#E1E5ED"
        },
        "yaxis10": {
         "anchor": "x10",
         "domain": [
          0.2675,
          0.465
         ],
         "gridcolor": "#E1E5ED",
         "showgrid": false,
         "tickfont": {
          "color": "#4D5663"
         },
         "title": {
          "font": {
           "color": "#4D5663"
          },
          "text": ""
         },
         "zerolinecolor": "#E1E5ED"
        },
        "yaxis11": {
         "anchor": "x11",
         "domain": [
          0.2675,
          0.465
         ],
         "gridcolor": "#E1E5ED",
         "showgrid": false,
         "tickfont": {
          "color": "#4D5663"
         },
         "title": {
          "font": {
           "color": "#4D5663"
          },
          "text": ""
         },
         "zerolinecolor": "#E1E5ED"
        },
        "yaxis12": {
         "anchor": "x12",
         "domain": [
          0.2675,
          0.465
         ],
         "gridcolor": "#E1E5ED",
         "showgrid": false,
         "tickfont": {
          "color": "#4D5663"
         },
         "title": {
          "font": {
           "color": "#4D5663"
          },
          "text": ""
         },
         "zerolinecolor": "#E1E5ED"
        },
        "yaxis13": {
         "anchor": "x13",
         "domain": [
          0,
          0.1975
         ],
         "gridcolor": "#E1E5ED",
         "showgrid": false,
         "tickfont": {
          "color": "#4D5663"
         },
         "title": {
          "font": {
           "color": "#4D5663"
          },
          "text": ""
         },
         "zerolinecolor": "#E1E5ED"
        },
        "yaxis14": {
         "anchor": "x14",
         "domain": [
          0,
          0.1975
         ],
         "gridcolor": "#E1E5ED",
         "showgrid": false,
         "tickfont": {
          "color": "#4D5663"
         },
         "title": {
          "font": {
           "color": "#4D5663"
          },
          "text": ""
         },
         "zerolinecolor": "#E1E5ED"
        },
        "yaxis15": {
         "anchor": "x15",
         "domain": [
          0,
          0.1975
         ],
         "gridcolor": "#E1E5ED",
         "showgrid": false,
         "tickfont": {
          "color": "#4D5663"
         },
         "title": {
          "font": {
           "color": "#4D5663"
          },
          "text": ""
         },
         "zerolinecolor": "#E1E5ED"
        },
        "yaxis16": {
         "anchor": "x16",
         "domain": [
          0,
          0.1975
         ],
         "gridcolor": "#E1E5ED",
         "showgrid": false,
         "tickfont": {
          "color": "#4D5663"
         },
         "title": {
          "font": {
           "color": "#4D5663"
          },
          "text": ""
         },
         "zerolinecolor": "#E1E5ED"
        },
        "yaxis2": {
         "anchor": "x2",
         "domain": [
          0.8025,
          1
         ],
         "gridcolor": "#E1E5ED",
         "showgrid": false,
         "tickfont": {
          "color": "#4D5663"
         },
         "title": {
          "font": {
           "color": "#4D5663"
          },
          "text": ""
         },
         "zerolinecolor": "#E1E5ED"
        },
        "yaxis3": {
         "anchor": "x3",
         "domain": [
          0.8025,
          1
         ],
         "gridcolor": "#E1E5ED",
         "showgrid": false,
         "tickfont": {
          "color": "#4D5663"
         },
         "title": {
          "font": {
           "color": "#4D5663"
          },
          "text": ""
         },
         "zerolinecolor": "#E1E5ED"
        },
        "yaxis4": {
         "anchor": "x4",
         "domain": [
          0.8025,
          1
         ],
         "gridcolor": "#E1E5ED",
         "showgrid": false,
         "tickfont": {
          "color": "#4D5663"
         },
         "title": {
          "font": {
           "color": "#4D5663"
          },
          "text": ""
         },
         "zerolinecolor": "#E1E5ED"
        },
        "yaxis5": {
         "anchor": "x5",
         "domain": [
          0.535,
          0.7325
         ],
         "gridcolor": "#E1E5ED",
         "showgrid": false,
         "tickfont": {
          "color": "#4D5663"
         },
         "title": {
          "font": {
           "color": "#4D5663"
          },
          "text": ""
         },
         "zerolinecolor": "#E1E5ED"
        },
        "yaxis6": {
         "anchor": "x6",
         "domain": [
          0.535,
          0.7325
         ],
         "gridcolor": "#E1E5ED",
         "showgrid": false,
         "tickfont": {
          "color": "#4D5663"
         },
         "title": {
          "font": {
           "color": "#4D5663"
          },
          "text": ""
         },
         "zerolinecolor": "#E1E5ED"
        },
        "yaxis7": {
         "anchor": "x7",
         "domain": [
          0.535,
          0.7325
         ],
         "gridcolor": "#E1E5ED",
         "showgrid": false,
         "tickfont": {
          "color": "#4D5663"
         },
         "title": {
          "font": {
           "color": "#4D5663"
          },
          "text": ""
         },
         "zerolinecolor": "#E1E5ED"
        },
        "yaxis8": {
         "anchor": "x8",
         "domain": [
          0.535,
          0.7325
         ],
         "gridcolor": "#E1E5ED",
         "showgrid": false,
         "tickfont": {
          "color": "#4D5663"
         },
         "title": {
          "font": {
           "color": "#4D5663"
          },
          "text": ""
         },
         "zerolinecolor": "#E1E5ED"
        },
        "yaxis9": {
         "anchor": "x9",
         "domain": [
          0.2675,
          0.465
         ],
         "gridcolor": "#E1E5ED",
         "showgrid": false,
         "tickfont": {
          "color": "#4D5663"
         },
         "title": {
          "font": {
           "color": "#4D5663"
          },
          "text": ""
         },
         "zerolinecolor": "#E1E5ED"
        }
       }
      },
      "text/html": [
       "<div>\n",
       "        \n",
       "        \n",
       "            <div id=\"3f78d78c-c5ce-4868-b782-2f21c7da1e6e\" class=\"plotly-graph-div\" style=\"height:525px; width:100%;\"></div>\n",
       "            <script type=\"text/javascript\">\n",
       "                require([\"plotly\"], function(Plotly) {\n",
       "                    window.PLOTLYENV=window.PLOTLYENV || {};\n",
       "                    window.PLOTLYENV.BASE_URL='https://plot.ly';\n",
       "                    \n",
       "                if (document.getElementById(\"3f78d78c-c5ce-4868-b782-2f21c7da1e6e\")) {\n",
       "                    Plotly.newPlot(\n",
       "                        '3f78d78c-c5ce-4868-b782-2f21c7da1e6e',\n",
       "                        [{\"histfunc\": \"count\", \"histnorm\": \"\", \"marker\": {\"color\": \"rgba(255, 153, 51, 1.0)\", \"line\": {\"color\": \"#4D5663\", \"width\": 1.3}}, \"name\": \"A\", \"nbinsx\": 10, \"opacity\": 0.8, \"orientation\": \"v\", \"type\": \"histogram\", \"x\": [0.7921346859019157, 1.946825695054702, 1.4163203147173689, 0.1161272154136565, 0.7557025036279604, -0.7350872131145143, 1.6071158265686813, -0.6369620656059007, 0.8497778207394941, -0.33749859130626686, 1.2280973838411833, 0.036716134725273894, -0.3037665937695192, 0.8239925184967525, -1.3538724565017246, -0.45194949085156416, -1.913074905602045, 0.17762581698740607, -0.7004150163916316, 0.03188946476696092, -0.7719163151332366, 0.2905161338207252, 1.4934765893559856, 1.1517359541867793, 1.4005117647742198, -0.6275397842825213, 0.8926363946884873, -1.0677207378979978, -0.19471466043106184, 0.1529956333359573, -0.8218180765611363, -0.8503299315540951, 2.746705232928189, 0.8121025992904255, 2.1918060723428723, 0.1828701452483579, 0.4455028799628107, -0.5193802210214439, 1.104547831058544, 0.6594367637087866, -1.313520282034992, 1.190998233995262, -0.49647494111496654, 0.06890857086669673, 0.8211669474128339, -0.6181956721468078, -0.31902044193029055, -0.19023723733723844, 0.6886533928938934, -0.9332439063027611, -0.17051026893912857, 0.051544294241111815, -0.4159263649641647, 0.8566264197567114, 0.29402607091862265, -1.099818139175731, -1.1314940858303717, 0.9281480352753586, -0.13439689942833424, 0.045604618865690276, -0.9979314517757257, -0.07269042102427148, -0.5356990006428285, -1.1990026834526482, 0.1976306802793206, -0.6760867737177405, -0.4370643149105769, 1.7123117467895295, 1.8799972780063177, -0.07036592754360131, 1.903342736762849, -0.7909243457034956, -0.21648795712901556, -0.18759480763157985, -0.17191582545359513, 1.2163634807475439, 1.1517611276683175, -0.7984270716400544, 0.7817741035366015, 2.2456629185031023, 1.389344614456707, 0.5726770872579274, -0.05996906126751653, 0.3420213779390641, -0.2379680007605113, 0.3649105284334666, 0.263804800291932, 0.3277197543628306, -0.2530061140131053, 1.1758363314661346, -0.08852367242694675, -0.22481209189451987, 0.15802992649044043, -1.5061386445028795, 0.6729920524858238, -0.3211746441519791, 1.018943249519832, -1.7824913063580343, 0.891561971167367, -1.1815199382522332], \"xaxis\": \"x\", \"yaxis\": \"y\"}, {\"line\": {\"color\": \"rgba(128, 128, 128, 1.0)\", \"dash\": \"solid\", \"shape\": \"linear\", \"width\": 1.3}, \"marker\": {\"size\": 2, \"symbol\": \"circle\"}, \"mode\": \"markers\", \"name\": \"A\", \"text\": \"\", \"type\": \"scatter\", \"x\": [-0.755353873179904, -0.4256767679096191, 0.8157780024246971, -2.2541977161527247, -0.7233269440454809, -0.3786556373601695, -0.4195600810812267, -1.0793100455317586, 0.8220363590786557, 0.48768333438156214, 1.3906112268818829, -1.660562236233282, 1.2811839261911535, -0.8915535733622445, -0.42391847699293117, 0.1113894103911496, 1.141630830605558, -1.2483726382556115, 0.8449777733211241, -0.5021909158980505, 1.8137801708054053, -1.0325995855976582, 1.2385329606445827, 0.2742951614108968, -0.04380311529890623, -0.3111212097926691, 0.21211975876158917, 1.3149102153503898, 2.4643229801701025, -0.619603592493676, -0.747113629066319, 0.5431806643475502, -0.2734201992074562, -1.3360418266526963, 0.8090919933441999, -0.031279339706645655, -0.037058879582681205, 1.0157389257755776, -0.48043568443838675, 0.31485240310950013, -0.7130777817802696, 0.5197397848035694, -1.418160664078292, 1.1033388571762677, 0.9979752730335754, 2.83369159311136, 1.9073160281621018, 0.38186024604961033, -1.1806003432890024, -0.5143575584503659, -0.3957816536562888, -0.5268066455809626, -0.15014706606849018, 0.13173277087200919, 1.93981894214876, -0.3902593736360637, 1.6358481423378353, 0.8115150249350609, -0.8555629872017407, 0.18761674013119092, -0.7905156503572589, -0.4615672762918858, 0.34482776614752947, 0.19434981423092712, 0.8244631807844324, 0.1701337758593794, 1.8909263075644804, -0.6636415622048087, 0.6314810168714927, 0.36476490047848975, 0.47866952971355303, 1.2887293734556127, -0.266023327476621, -0.1502322605674205, -1.1503150530123967, 0.08230965925441752, -0.562349929195335, -1.9553643072289255, 0.5447662913675482, 0.8458391678364608, -0.3923223744037829, -0.4830673950348278, 0.9697117616204505, -0.6558959572087942, -0.1786710138083607, 0.4673075927125077, 0.5895188619517944, -1.644346405559177, 1.018096940218595, 0.3002176019003145, -0.26036541607405717, -0.3552758805482968, 1.138262275081289, 0.16586658168269822, -1.5356808881214654, -2.525725571839549, 1.3261952687937644, 0.3440020565671146, -1.024023927456685, -0.026135700939124245], \"xaxis\": \"x2\", \"y\": [0.7921346859019157, 1.946825695054702, 1.4163203147173689, 0.1161272154136565, 0.7557025036279604, -0.7350872131145143, 1.6071158265686813, -0.6369620656059007, 0.8497778207394941, -0.33749859130626686, 1.2280973838411833, 0.036716134725273894, -0.3037665937695192, 0.8239925184967525, -1.3538724565017246, -0.45194949085156416, -1.913074905602045, 0.17762581698740607, -0.7004150163916316, 0.03188946476696092, -0.7719163151332366, 0.2905161338207252, 1.4934765893559856, 1.1517359541867793, 1.4005117647742198, -0.6275397842825213, 0.8926363946884873, -1.0677207378979978, -0.19471466043106184, 0.1529956333359573, -0.8218180765611363, -0.8503299315540951, 2.746705232928189, 0.8121025992904255, 2.1918060723428723, 0.1828701452483579, 0.4455028799628107, -0.5193802210214439, 1.104547831058544, 0.6594367637087866, -1.313520282034992, 1.190998233995262, -0.49647494111496654, 0.06890857086669673, 0.8211669474128339, -0.6181956721468078, -0.31902044193029055, -0.19023723733723844, 0.6886533928938934, -0.9332439063027611, -0.17051026893912857, 0.051544294241111815, -0.4159263649641647, 0.8566264197567114, 0.29402607091862265, -1.099818139175731, -1.1314940858303717, 0.9281480352753586, -0.13439689942833424, 0.045604618865690276, -0.9979314517757257, -0.07269042102427148, -0.5356990006428285, -1.1990026834526482, 0.1976306802793206, -0.6760867737177405, -0.4370643149105769, 1.7123117467895295, 1.8799972780063177, -0.07036592754360131, 1.903342736762849, -0.7909243457034956, -0.21648795712901556, -0.18759480763157985, -0.17191582545359513, 1.2163634807475439, 1.1517611276683175, -0.7984270716400544, 0.7817741035366015, 2.2456629185031023, 1.389344614456707, 0.5726770872579274, -0.05996906126751653, 0.3420213779390641, -0.2379680007605113, 0.3649105284334666, 0.263804800291932, 0.3277197543628306, -0.2530061140131053, 1.1758363314661346, -0.08852367242694675, -0.22481209189451987, 0.15802992649044043, -1.5061386445028795, 0.6729920524858238, -0.3211746441519791, 1.018943249519832, -1.7824913063580343, 0.891561971167367, -1.1815199382522332], \"yaxis\": \"y2\"}, {\"line\": {\"color\": \"rgba(128, 128, 128, 1.0)\", \"dash\": \"solid\", \"shape\": \"linear\", \"width\": 1.3}, \"marker\": {\"size\": 2, \"symbol\": \"circle\"}, \"mode\": \"markers\", \"name\": \"A\", \"text\": \"\", \"type\": \"scatter\", \"x\": [1.3625069996408685, 0.9144952248887764, -0.04379371033273974, 0.09926340152837985, 1.2439724798159724, 1.1541745177710157, 0.8903331224676148, -0.266292290561748, -0.04175051493955355, 1.0301172806259171, -0.5928166169608095, -1.7103241908806828, 1.5518485422560453, -0.8470507769567207, 1.2270784178865735, 0.5965754556850948, -0.4758371563683018, 0.872427010018932, -1.792956333172518, -0.38186421963418965, -2.1181936570248463, 0.04830933305814722, -0.2377517243843703, 1.180649111475662, 0.750538260223122, 0.9987999439705197, -0.3746257593686016, 1.67463871096551, -0.7603667656154767, -0.07638038847929986, 0.4166224532956056, -0.6113448167098882, -0.5619164790482407, -0.5299474677729248, -0.6454235969449024, -1.5844963110045438, 1.7958848004195698, 0.05725658047593841, 0.2721754274360363, 1.2775937537343836, -1.090054521555069, -0.42179786795174207, 1.2423180080467975, -0.010861564683631282, 0.15506944960313332, -0.17041242917319238, -0.40178919529776935, 0.31202362583184595, 0.9130877026457608, 0.6979280217528265, -0.3744751044346249, -0.3356760147211475, 0.48003599789582946, 0.519507398890785, -1.3585467086201315, -1.3681957134473788, 0.5749568613249194, 0.6692379140807965, 1.377450523387284, 1.9966917262315202, 0.5426288454362674, 0.8272004758045935, -0.4366866732935288, -0.30638253901940254, 1.1722894324864024, 0.6870803694725929, -1.5676196674203213, 1.4476838161089778, -1.68998241695538, -0.6374153838701762, -0.4442773346777854, 0.34665700385127446, -0.9714136879825543, -0.306819209481289, -0.9333384010003253, -0.15705929393017123, -0.8621365632898269, 1.8982151081219376, -1.9557762436737225, -0.45832500451598934, 0.9914760514765695, 0.320091570765724, 0.8031181822203135, -0.3923864355104031, -0.45168071389999304, 0.22009011992701982, 0.5955333007411939, -0.18003516240607267, -1.0297839283237813, -0.35674347150142727, 0.5010231233276244, 3.0244816886034616, -1.4518354545370757, -0.7238706064189212, -1.9546467592720356, 1.6750188451554895, 0.9591556681989486, -0.5368549291145766, 0.8130714085694476, -0.31847863880302585], \"xaxis\": \"x3\", \"y\": [0.7921346859019157, 1.946825695054702, 1.4163203147173689, 0.1161272154136565, 0.7557025036279604, -0.7350872131145143, 1.6071158265686813, -0.6369620656059007, 0.8497778207394941, -0.33749859130626686, 1.2280973838411833, 0.036716134725273894, -0.3037665937695192, 0.8239925184967525, -1.3538724565017246, -0.45194949085156416, -1.913074905602045, 0.17762581698740607, -0.7004150163916316, 0.03188946476696092, -0.7719163151332366, 0.2905161338207252, 1.4934765893559856, 1.1517359541867793, 1.4005117647742198, -0.6275397842825213, 0.8926363946884873, -1.0677207378979978, -0.19471466043106184, 0.1529956333359573, -0.8218180765611363, -0.8503299315540951, 2.746705232928189, 0.8121025992904255, 2.1918060723428723, 0.1828701452483579, 0.4455028799628107, -0.5193802210214439, 1.104547831058544, 0.6594367637087866, -1.313520282034992, 1.190998233995262, -0.49647494111496654, 0.06890857086669673, 0.8211669474128339, -0.6181956721468078, -0.31902044193029055, -0.19023723733723844, 0.6886533928938934, -0.9332439063027611, -0.17051026893912857, 0.051544294241111815, -0.4159263649641647, 0.8566264197567114, 0.29402607091862265, -1.099818139175731, -1.1314940858303717, 0.9281480352753586, -0.13439689942833424, 0.045604618865690276, -0.9979314517757257, -0.07269042102427148, -0.5356990006428285, -1.1990026834526482, 0.1976306802793206, -0.6760867737177405, -0.4370643149105769, 1.7123117467895295, 1.8799972780063177, -0.07036592754360131, 1.903342736762849, -0.7909243457034956, -0.21648795712901556, -0.18759480763157985, -0.17191582545359513, 1.2163634807475439, 1.1517611276683175, -0.7984270716400544, 0.7817741035366015, 2.2456629185031023, 1.389344614456707, 0.5726770872579274, -0.05996906126751653, 0.3420213779390641, -0.2379680007605113, 0.3649105284334666, 0.263804800291932, 0.3277197543628306, -0.2530061140131053, 1.1758363314661346, -0.08852367242694675, -0.22481209189451987, 0.15802992649044043, -1.5061386445028795, 0.6729920524858238, -0.3211746441519791, 1.018943249519832, -1.7824913063580343, 0.891561971167367, -1.1815199382522332], \"yaxis\": \"y3\"}, {\"line\": {\"color\": \"rgba(128, 128, 128, 1.0)\", \"dash\": \"solid\", \"shape\": \"linear\", \"width\": 1.3}, \"marker\": {\"size\": 2, \"symbol\": \"circle\"}, \"mode\": \"markers\", \"name\": \"A\", \"text\": \"\", \"type\": \"scatter\", \"x\": [0.1678688456852729, -0.7660755490375207, -0.24033995622475704, -0.1682834967212138, -0.7071182614203896, -0.7681995890374017, -2.033746607587051, -0.13645665960025008, 0.8853957116965118, 0.7684011089760281, 1.3331923437966315, -0.6313108008149433, -0.1990810753545615, -0.9362029443403491, -0.48602397477900594, 0.6943936691591144, -1.3138802802680032, 0.2392164800781996, 1.0907698280119023, 1.8965747576752692, 0.442885360234719, -0.6864410326378556, -0.8427733927849178, 1.879280752642242, -0.8766615576635849, -0.7968093327132704, 0.48471521549216495, 0.6680262768318319, 0.928831286436281, -0.3097847577236534, 0.11246450934781085, -1.3215886940461292, 0.08853158506239107, 1.1598699817635334, 1.466549647872314, -1.1640330918656165, -1.61767356039815, -1.609374924580595, -0.3678068225477947, 0.6721842330036858, -0.5394995077186759, -0.6191387319020631, 0.23897827009090414, -0.4560648370029805, -0.5130532625487461, 0.04869945067598958, 0.7945450847747928, 0.9463268407815968, -0.056612104084040674, -0.8617504834866899, 1.4845618102402878, 3.145860220342536, -1.9041065545592328, 1.5350121393448692, 0.6627933498060756, 0.09675705889637655, -0.8923072027447188, -0.5525401182438261, 0.8290980738948833, 1.470022690133724, -0.8860840655185193, -0.09681710155206424, 0.30865486290318156, 0.21943714014526172, 0.11341629867977683, -1.2266711866065867, 0.22103297889399115, 0.06725162810266645, 0.5580915971155165, 1.0105818532027613, -0.15753228208829775, 0.3938749268228596, 1.08155031642873, -0.04125426043324729, -0.4169155318556582, 1.2679845140404256, 0.08705806488006085, 0.21120171595670129, 0.15821498663748168, -0.5356086125675361, 3.251672425388064, 1.4102313844205876, 0.24108712582044428, -0.5686913122244588, 0.7059547425843715, -0.29410301722008786, -0.537492381963061, -0.4583903711628853, 0.31492293193018556, 0.5599066087163566, 1.0843010187485178, 0.020497693627848947, 0.5921960317117614, -0.7774516166862487, 1.050757571631062, 2.6606214337424148, 0.4164070043407307, 1.058442534293066, 0.7592181641268156, 0.41374422308068587], \"xaxis\": \"x4\", \"y\": [0.7921346859019157, 1.946825695054702, 1.4163203147173689, 0.1161272154136565, 0.7557025036279604, -0.7350872131145143, 1.6071158265686813, -0.6369620656059007, 0.8497778207394941, -0.33749859130626686, 1.2280973838411833, 0.036716134725273894, -0.3037665937695192, 0.8239925184967525, -1.3538724565017246, -0.45194949085156416, -1.913074905602045, 0.17762581698740607, -0.7004150163916316, 0.03188946476696092, -0.7719163151332366, 0.2905161338207252, 1.4934765893559856, 1.1517359541867793, 1.4005117647742198, -0.6275397842825213, 0.8926363946884873, -1.0677207378979978, -0.19471466043106184, 0.1529956333359573, -0.8218180765611363, -0.8503299315540951, 2.746705232928189, 0.8121025992904255, 2.1918060723428723, 0.1828701452483579, 0.4455028799628107, -0.5193802210214439, 1.104547831058544, 0.6594367637087866, -1.313520282034992, 1.190998233995262, -0.49647494111496654, 0.06890857086669673, 0.8211669474128339, -0.6181956721468078, -0.31902044193029055, -0.19023723733723844, 0.6886533928938934, -0.9332439063027611, -0.17051026893912857, 0.051544294241111815, -0.4159263649641647, 0.8566264197567114, 0.29402607091862265, -1.099818139175731, -1.1314940858303717, 0.9281480352753586, -0.13439689942833424, 0.045604618865690276, -0.9979314517757257, -0.07269042102427148, -0.5356990006428285, -1.1990026834526482, 0.1976306802793206, -0.6760867737177405, -0.4370643149105769, 1.7123117467895295, 1.8799972780063177, -0.07036592754360131, 1.903342736762849, -0.7909243457034956, -0.21648795712901556, -0.18759480763157985, -0.17191582545359513, 1.2163634807475439, 1.1517611276683175, -0.7984270716400544, 0.7817741035366015, 2.2456629185031023, 1.389344614456707, 0.5726770872579274, -0.05996906126751653, 0.3420213779390641, -0.2379680007605113, 0.3649105284334666, 0.263804800291932, 0.3277197543628306, -0.2530061140131053, 1.1758363314661346, -0.08852367242694675, -0.22481209189451987, 0.15802992649044043, -1.5061386445028795, 0.6729920524858238, -0.3211746441519791, 1.018943249519832, -1.7824913063580343, 0.891561971167367, -1.1815199382522332], \"yaxis\": \"y4\"}, {\"line\": {\"color\": \"rgba(128, 128, 128, 1.0)\", \"dash\": \"solid\", \"shape\": \"linear\", \"width\": 1.3}, \"marker\": {\"size\": 2, \"symbol\": \"circle\"}, \"mode\": \"markers\", \"name\": \"B\", \"text\": \"\", \"type\": \"scatter\", \"x\": [0.7921346859019157, 1.946825695054702, 1.4163203147173689, 0.1161272154136565, 0.7557025036279604, -0.7350872131145143, 1.6071158265686813, -0.6369620656059007, 0.8497778207394941, -0.33749859130626686, 1.2280973838411833, 0.036716134725273894, -0.3037665937695192, 0.8239925184967525, -1.3538724565017246, -0.45194949085156416, -1.913074905602045, 0.17762581698740607, -0.7004150163916316, 0.03188946476696092, -0.7719163151332366, 0.2905161338207252, 1.4934765893559856, 1.1517359541867793, 1.4005117647742198, -0.6275397842825213, 0.8926363946884873, -1.0677207378979978, -0.19471466043106184, 0.1529956333359573, -0.8218180765611363, -0.8503299315540951, 2.746705232928189, 0.8121025992904255, 2.1918060723428723, 0.1828701452483579, 0.4455028799628107, -0.5193802210214439, 1.104547831058544, 0.6594367637087866, -1.313520282034992, 1.190998233995262, -0.49647494111496654, 0.06890857086669673, 0.8211669474128339, -0.6181956721468078, -0.31902044193029055, -0.19023723733723844, 0.6886533928938934, -0.9332439063027611, -0.17051026893912857, 0.051544294241111815, -0.4159263649641647, 0.8566264197567114, 0.29402607091862265, -1.099818139175731, -1.1314940858303717, 0.9281480352753586, -0.13439689942833424, 0.045604618865690276, -0.9979314517757257, -0.07269042102427148, -0.5356990006428285, -1.1990026834526482, 0.1976306802793206, -0.6760867737177405, -0.4370643149105769, 1.7123117467895295, 1.8799972780063177, -0.07036592754360131, 1.903342736762849, -0.7909243457034956, -0.21648795712901556, -0.18759480763157985, -0.17191582545359513, 1.2163634807475439, 1.1517611276683175, -0.7984270716400544, 0.7817741035366015, 2.2456629185031023, 1.389344614456707, 0.5726770872579274, -0.05996906126751653, 0.3420213779390641, -0.2379680007605113, 0.3649105284334666, 0.263804800291932, 0.3277197543628306, -0.2530061140131053, 1.1758363314661346, -0.08852367242694675, -0.22481209189451987, 0.15802992649044043, -1.5061386445028795, 0.6729920524858238, -0.3211746441519791, 1.018943249519832, -1.7824913063580343, 0.891561971167367, -1.1815199382522332], \"xaxis\": \"x5\", \"y\": [-0.755353873179904, -0.4256767679096191, 0.8157780024246971, -2.2541977161527247, -0.7233269440454809, -0.3786556373601695, -0.4195600810812267, -1.0793100455317586, 0.8220363590786557, 0.48768333438156214, 1.3906112268818829, -1.660562236233282, 1.2811839261911535, -0.8915535733622445, -0.42391847699293117, 0.1113894103911496, 1.141630830605558, -1.2483726382556115, 0.8449777733211241, -0.5021909158980505, 1.8137801708054053, -1.0325995855976582, 1.2385329606445827, 0.2742951614108968, -0.04380311529890623, -0.3111212097926691, 0.21211975876158917, 1.3149102153503898, 2.4643229801701025, -0.619603592493676, -0.747113629066319, 0.5431806643475502, -0.2734201992074562, -1.3360418266526963, 0.8090919933441999, -0.031279339706645655, -0.037058879582681205, 1.0157389257755776, -0.48043568443838675, 0.31485240310950013, -0.7130777817802696, 0.5197397848035694, -1.418160664078292, 1.1033388571762677, 0.9979752730335754, 2.83369159311136, 1.9073160281621018, 0.38186024604961033, -1.1806003432890024, -0.5143575584503659, -0.3957816536562888, -0.5268066455809626, -0.15014706606849018, 0.13173277087200919, 1.93981894214876, -0.3902593736360637, 1.6358481423378353, 0.8115150249350609, -0.8555629872017407, 0.18761674013119092, -0.7905156503572589, -0.4615672762918858, 0.34482776614752947, 0.19434981423092712, 0.8244631807844324, 0.1701337758593794, 1.8909263075644804, -0.6636415622048087, 0.6314810168714927, 0.36476490047848975, 0.47866952971355303, 1.2887293734556127, -0.266023327476621, -0.1502322605674205, -1.1503150530123967, 0.08230965925441752, -0.562349929195335, -1.9553643072289255, 0.5447662913675482, 0.8458391678364608, -0.3923223744037829, -0.4830673950348278, 0.9697117616204505, -0.6558959572087942, -0.1786710138083607, 0.4673075927125077, 0.5895188619517944, -1.644346405559177, 1.018096940218595, 0.3002176019003145, -0.26036541607405717, -0.3552758805482968, 1.138262275081289, 0.16586658168269822, -1.5356808881214654, -2.525725571839549, 1.3261952687937644, 0.3440020565671146, -1.024023927456685, -0.026135700939124245], \"yaxis\": \"y5\"}, {\"histfunc\": \"count\", \"histnorm\": \"\", \"marker\": {\"color\": \"rgba(55, 128, 191, 1.0)\", \"line\": {\"color\": \"#4D5663\", \"width\": 1.3}}, \"name\": \"B\", \"nbinsx\": 10, \"opacity\": 0.8, \"orientation\": \"v\", \"type\": \"histogram\", \"x\": [-0.755353873179904, -0.4256767679096191, 0.8157780024246971, -2.2541977161527247, -0.7233269440454809, -0.3786556373601695, -0.4195600810812267, -1.0793100455317586, 0.8220363590786557, 0.48768333438156214, 1.3906112268818829, -1.660562236233282, 1.2811839261911535, -0.8915535733622445, -0.42391847699293117, 0.1113894103911496, 1.141630830605558, -1.2483726382556115, 0.8449777733211241, -0.5021909158980505, 1.8137801708054053, -1.0325995855976582, 1.2385329606445827, 0.2742951614108968, -0.04380311529890623, -0.3111212097926691, 0.21211975876158917, 1.3149102153503898, 2.4643229801701025, -0.619603592493676, -0.747113629066319, 0.5431806643475502, -0.2734201992074562, -1.3360418266526963, 0.8090919933441999, -0.031279339706645655, -0.037058879582681205, 1.0157389257755776, -0.48043568443838675, 0.31485240310950013, -0.7130777817802696, 0.5197397848035694, -1.418160664078292, 1.1033388571762677, 0.9979752730335754, 2.83369159311136, 1.9073160281621018, 0.38186024604961033, -1.1806003432890024, -0.5143575584503659, -0.3957816536562888, -0.5268066455809626, -0.15014706606849018, 0.13173277087200919, 1.93981894214876, -0.3902593736360637, 1.6358481423378353, 0.8115150249350609, -0.8555629872017407, 0.18761674013119092, -0.7905156503572589, -0.4615672762918858, 0.34482776614752947, 0.19434981423092712, 0.8244631807844324, 0.1701337758593794, 1.8909263075644804, -0.6636415622048087, 0.6314810168714927, 0.36476490047848975, 0.47866952971355303, 1.2887293734556127, -0.266023327476621, -0.1502322605674205, -1.1503150530123967, 0.08230965925441752, -0.562349929195335, -1.9553643072289255, 0.5447662913675482, 0.8458391678364608, -0.3923223744037829, -0.4830673950348278, 0.9697117616204505, -0.6558959572087942, -0.1786710138083607, 0.4673075927125077, 0.5895188619517944, -1.644346405559177, 1.018096940218595, 0.3002176019003145, -0.26036541607405717, -0.3552758805482968, 1.138262275081289, 0.16586658168269822, -1.5356808881214654, -2.525725571839549, 1.3261952687937644, 0.3440020565671146, -1.024023927456685, -0.026135700939124245], \"xaxis\": \"x6\", \"yaxis\": \"y6\"}, {\"line\": {\"color\": \"rgba(128, 128, 128, 1.0)\", \"dash\": \"solid\", \"shape\": \"linear\", \"width\": 1.3}, \"marker\": {\"size\": 2, \"symbol\": \"circle\"}, \"mode\": \"markers\", \"name\": \"B\", \"text\": \"\", \"type\": \"scatter\", \"x\": [1.3625069996408685, 0.9144952248887764, -0.04379371033273974, 0.09926340152837985, 1.2439724798159724, 1.1541745177710157, 0.8903331224676148, -0.266292290561748, -0.04175051493955355, 1.0301172806259171, -0.5928166169608095, -1.7103241908806828, 1.5518485422560453, -0.8470507769567207, 1.2270784178865735, 0.5965754556850948, -0.4758371563683018, 0.872427010018932, -1.792956333172518, -0.38186421963418965, -2.1181936570248463, 0.04830933305814722, -0.2377517243843703, 1.180649111475662, 0.750538260223122, 0.9987999439705197, -0.3746257593686016, 1.67463871096551, -0.7603667656154767, -0.07638038847929986, 0.4166224532956056, -0.6113448167098882, -0.5619164790482407, -0.5299474677729248, -0.6454235969449024, -1.5844963110045438, 1.7958848004195698, 0.05725658047593841, 0.2721754274360363, 1.2775937537343836, -1.090054521555069, -0.42179786795174207, 1.2423180080467975, -0.010861564683631282, 0.15506944960313332, -0.17041242917319238, -0.40178919529776935, 0.31202362583184595, 0.9130877026457608, 0.6979280217528265, -0.3744751044346249, -0.3356760147211475, 0.48003599789582946, 0.519507398890785, -1.3585467086201315, -1.3681957134473788, 0.5749568613249194, 0.6692379140807965, 1.377450523387284, 1.9966917262315202, 0.5426288454362674, 0.8272004758045935, -0.4366866732935288, -0.30638253901940254, 1.1722894324864024, 0.6870803694725929, -1.5676196674203213, 1.4476838161089778, -1.68998241695538, -0.6374153838701762, -0.4442773346777854, 0.34665700385127446, -0.9714136879825543, -0.306819209481289, -0.9333384010003253, -0.15705929393017123, -0.8621365632898269, 1.8982151081219376, -1.9557762436737225, -0.45832500451598934, 0.9914760514765695, 0.320091570765724, 0.8031181822203135, -0.3923864355104031, -0.45168071389999304, 0.22009011992701982, 0.5955333007411939, -0.18003516240607267, -1.0297839283237813, -0.35674347150142727, 0.5010231233276244, 3.0244816886034616, -1.4518354545370757, -0.7238706064189212, -1.9546467592720356, 1.6750188451554895, 0.9591556681989486, -0.5368549291145766, 0.8130714085694476, -0.31847863880302585], \"xaxis\": \"x7\", \"y\": [-0.755353873179904, -0.4256767679096191, 0.8157780024246971, -2.2541977161527247, -0.7233269440454809, -0.3786556373601695, -0.4195600810812267, -1.0793100455317586, 0.8220363590786557, 0.48768333438156214, 1.3906112268818829, -1.660562236233282, 1.2811839261911535, -0.8915535733622445, -0.42391847699293117, 0.1113894103911496, 1.141630830605558, -1.2483726382556115, 0.8449777733211241, -0.5021909158980505, 1.8137801708054053, -1.0325995855976582, 1.2385329606445827, 0.2742951614108968, -0.04380311529890623, -0.3111212097926691, 0.21211975876158917, 1.3149102153503898, 2.4643229801701025, -0.619603592493676, -0.747113629066319, 0.5431806643475502, -0.2734201992074562, -1.3360418266526963, 0.8090919933441999, -0.031279339706645655, -0.037058879582681205, 1.0157389257755776, -0.48043568443838675, 0.31485240310950013, -0.7130777817802696, 0.5197397848035694, -1.418160664078292, 1.1033388571762677, 0.9979752730335754, 2.83369159311136, 1.9073160281621018, 0.38186024604961033, -1.1806003432890024, -0.5143575584503659, -0.3957816536562888, -0.5268066455809626, -0.15014706606849018, 0.13173277087200919, 1.93981894214876, -0.3902593736360637, 1.6358481423378353, 0.8115150249350609, -0.8555629872017407, 0.18761674013119092, -0.7905156503572589, -0.4615672762918858, 0.34482776614752947, 0.19434981423092712, 0.8244631807844324, 0.1701337758593794, 1.8909263075644804, -0.6636415622048087, 0.6314810168714927, 0.36476490047848975, 0.47866952971355303, 1.2887293734556127, -0.266023327476621, -0.1502322605674205, -1.1503150530123967, 0.08230965925441752, -0.562349929195335, -1.9553643072289255, 0.5447662913675482, 0.8458391678364608, -0.3923223744037829, -0.4830673950348278, 0.9697117616204505, -0.6558959572087942, -0.1786710138083607, 0.4673075927125077, 0.5895188619517944, -1.644346405559177, 1.018096940218595, 0.3002176019003145, -0.26036541607405717, -0.3552758805482968, 1.138262275081289, 0.16586658168269822, -1.5356808881214654, -2.525725571839549, 1.3261952687937644, 0.3440020565671146, -1.024023927456685, -0.026135700939124245], \"yaxis\": \"y7\"}, {\"line\": {\"color\": \"rgba(128, 128, 128, 1.0)\", \"dash\": \"solid\", \"shape\": \"linear\", \"width\": 1.3}, \"marker\": {\"size\": 2, \"symbol\": \"circle\"}, \"mode\": \"markers\", \"name\": \"B\", \"text\": \"\", \"type\": \"scatter\", \"x\": [0.1678688456852729, -0.7660755490375207, -0.24033995622475704, -0.1682834967212138, -0.7071182614203896, -0.7681995890374017, -2.033746607587051, -0.13645665960025008, 0.8853957116965118, 0.7684011089760281, 1.3331923437966315, -0.6313108008149433, -0.1990810753545615, -0.9362029443403491, -0.48602397477900594, 0.6943936691591144, -1.3138802802680032, 0.2392164800781996, 1.0907698280119023, 1.8965747576752692, 0.442885360234719, -0.6864410326378556, -0.8427733927849178, 1.879280752642242, -0.8766615576635849, -0.7968093327132704, 0.48471521549216495, 0.6680262768318319, 0.928831286436281, -0.3097847577236534, 0.11246450934781085, -1.3215886940461292, 0.08853158506239107, 1.1598699817635334, 1.466549647872314, -1.1640330918656165, -1.61767356039815, -1.609374924580595, -0.3678068225477947, 0.6721842330036858, -0.5394995077186759, -0.6191387319020631, 0.23897827009090414, -0.4560648370029805, -0.5130532625487461, 0.04869945067598958, 0.7945450847747928, 0.9463268407815968, -0.056612104084040674, -0.8617504834866899, 1.4845618102402878, 3.145860220342536, -1.9041065545592328, 1.5350121393448692, 0.6627933498060756, 0.09675705889637655, -0.8923072027447188, -0.5525401182438261, 0.8290980738948833, 1.470022690133724, -0.8860840655185193, -0.09681710155206424, 0.30865486290318156, 0.21943714014526172, 0.11341629867977683, -1.2266711866065867, 0.22103297889399115, 0.06725162810266645, 0.5580915971155165, 1.0105818532027613, -0.15753228208829775, 0.3938749268228596, 1.08155031642873, -0.04125426043324729, -0.4169155318556582, 1.2679845140404256, 0.08705806488006085, 0.21120171595670129, 0.15821498663748168, -0.5356086125675361, 3.251672425388064, 1.4102313844205876, 0.24108712582044428, -0.5686913122244588, 0.7059547425843715, -0.29410301722008786, -0.537492381963061, -0.4583903711628853, 0.31492293193018556, 0.5599066087163566, 1.0843010187485178, 0.020497693627848947, 0.5921960317117614, -0.7774516166862487, 1.050757571631062, 2.6606214337424148, 0.4164070043407307, 1.058442534293066, 0.7592181641268156, 0.41374422308068587], \"xaxis\": \"x8\", \"y\": [-0.755353873179904, -0.4256767679096191, 0.8157780024246971, -2.2541977161527247, -0.7233269440454809, -0.3786556373601695, -0.4195600810812267, -1.0793100455317586, 0.8220363590786557, 0.48768333438156214, 1.3906112268818829, -1.660562236233282, 1.2811839261911535, -0.8915535733622445, -0.42391847699293117, 0.1113894103911496, 1.141630830605558, -1.2483726382556115, 0.8449777733211241, -0.5021909158980505, 1.8137801708054053, -1.0325995855976582, 1.2385329606445827, 0.2742951614108968, -0.04380311529890623, -0.3111212097926691, 0.21211975876158917, 1.3149102153503898, 2.4643229801701025, -0.619603592493676, -0.747113629066319, 0.5431806643475502, -0.2734201992074562, -1.3360418266526963, 0.8090919933441999, -0.031279339706645655, -0.037058879582681205, 1.0157389257755776, -0.48043568443838675, 0.31485240310950013, -0.7130777817802696, 0.5197397848035694, -1.418160664078292, 1.1033388571762677, 0.9979752730335754, 2.83369159311136, 1.9073160281621018, 0.38186024604961033, -1.1806003432890024, -0.5143575584503659, -0.3957816536562888, -0.5268066455809626, -0.15014706606849018, 0.13173277087200919, 1.93981894214876, -0.3902593736360637, 1.6358481423378353, 0.8115150249350609, -0.8555629872017407, 0.18761674013119092, -0.7905156503572589, -0.4615672762918858, 0.34482776614752947, 0.19434981423092712, 0.8244631807844324, 0.1701337758593794, 1.8909263075644804, -0.6636415622048087, 0.6314810168714927, 0.36476490047848975, 0.47866952971355303, 1.2887293734556127, -0.266023327476621, -0.1502322605674205, -1.1503150530123967, 0.08230965925441752, -0.562349929195335, -1.9553643072289255, 0.5447662913675482, 0.8458391678364608, -0.3923223744037829, -0.4830673950348278, 0.9697117616204505, -0.6558959572087942, -0.1786710138083607, 0.4673075927125077, 0.5895188619517944, -1.644346405559177, 1.018096940218595, 0.3002176019003145, -0.26036541607405717, -0.3552758805482968, 1.138262275081289, 0.16586658168269822, -1.5356808881214654, -2.525725571839549, 1.3261952687937644, 0.3440020565671146, -1.024023927456685, -0.026135700939124245], \"yaxis\": \"y8\"}, {\"line\": {\"color\": \"rgba(128, 128, 128, 1.0)\", \"dash\": \"solid\", \"shape\": \"linear\", \"width\": 1.3}, \"marker\": {\"size\": 2, \"symbol\": \"circle\"}, \"mode\": \"markers\", \"name\": \"C\", \"text\": \"\", \"type\": \"scatter\", \"x\": [0.7921346859019157, 1.946825695054702, 1.4163203147173689, 0.1161272154136565, 0.7557025036279604, -0.7350872131145143, 1.6071158265686813, -0.6369620656059007, 0.8497778207394941, -0.33749859130626686, 1.2280973838411833, 0.036716134725273894, -0.3037665937695192, 0.8239925184967525, -1.3538724565017246, -0.45194949085156416, -1.913074905602045, 0.17762581698740607, -0.7004150163916316, 0.03188946476696092, -0.7719163151332366, 0.2905161338207252, 1.4934765893559856, 1.1517359541867793, 1.4005117647742198, -0.6275397842825213, 0.8926363946884873, -1.0677207378979978, -0.19471466043106184, 0.1529956333359573, -0.8218180765611363, -0.8503299315540951, 2.746705232928189, 0.8121025992904255, 2.1918060723428723, 0.1828701452483579, 0.4455028799628107, -0.5193802210214439, 1.104547831058544, 0.6594367637087866, -1.313520282034992, 1.190998233995262, -0.49647494111496654, 0.06890857086669673, 0.8211669474128339, -0.6181956721468078, -0.31902044193029055, -0.19023723733723844, 0.6886533928938934, -0.9332439063027611, -0.17051026893912857, 0.051544294241111815, -0.4159263649641647, 0.8566264197567114, 0.29402607091862265, -1.099818139175731, -1.1314940858303717, 0.9281480352753586, -0.13439689942833424, 0.045604618865690276, -0.9979314517757257, -0.07269042102427148, -0.5356990006428285, -1.1990026834526482, 0.1976306802793206, -0.6760867737177405, -0.4370643149105769, 1.7123117467895295, 1.8799972780063177, -0.07036592754360131, 1.903342736762849, -0.7909243457034956, -0.21648795712901556, -0.18759480763157985, -0.17191582545359513, 1.2163634807475439, 1.1517611276683175, -0.7984270716400544, 0.7817741035366015, 2.2456629185031023, 1.389344614456707, 0.5726770872579274, -0.05996906126751653, 0.3420213779390641, -0.2379680007605113, 0.3649105284334666, 0.263804800291932, 0.3277197543628306, -0.2530061140131053, 1.1758363314661346, -0.08852367242694675, -0.22481209189451987, 0.15802992649044043, -1.5061386445028795, 0.6729920524858238, -0.3211746441519791, 1.018943249519832, -1.7824913063580343, 0.891561971167367, -1.1815199382522332], \"xaxis\": \"x9\", \"y\": [1.3625069996408685, 0.9144952248887764, -0.04379371033273974, 0.09926340152837985, 1.2439724798159724, 1.1541745177710157, 0.8903331224676148, -0.266292290561748, -0.04175051493955355, 1.0301172806259171, -0.5928166169608095, -1.7103241908806828, 1.5518485422560453, -0.8470507769567207, 1.2270784178865735, 0.5965754556850948, -0.4758371563683018, 0.872427010018932, -1.792956333172518, -0.38186421963418965, -2.1181936570248463, 0.04830933305814722, -0.2377517243843703, 1.180649111475662, 0.750538260223122, 0.9987999439705197, -0.3746257593686016, 1.67463871096551, -0.7603667656154767, -0.07638038847929986, 0.4166224532956056, -0.6113448167098882, -0.5619164790482407, -0.5299474677729248, -0.6454235969449024, -1.5844963110045438, 1.7958848004195698, 0.05725658047593841, 0.2721754274360363, 1.2775937537343836, -1.090054521555069, -0.42179786795174207, 1.2423180080467975, -0.010861564683631282, 0.15506944960313332, -0.17041242917319238, -0.40178919529776935, 0.31202362583184595, 0.9130877026457608, 0.6979280217528265, -0.3744751044346249, -0.3356760147211475, 0.48003599789582946, 0.519507398890785, -1.3585467086201315, -1.3681957134473788, 0.5749568613249194, 0.6692379140807965, 1.377450523387284, 1.9966917262315202, 0.5426288454362674, 0.8272004758045935, -0.4366866732935288, -0.30638253901940254, 1.1722894324864024, 0.6870803694725929, -1.5676196674203213, 1.4476838161089778, -1.68998241695538, -0.6374153838701762, -0.4442773346777854, 0.34665700385127446, -0.9714136879825543, -0.306819209481289, -0.9333384010003253, -0.15705929393017123, -0.8621365632898269, 1.8982151081219376, -1.9557762436737225, -0.45832500451598934, 0.9914760514765695, 0.320091570765724, 0.8031181822203135, -0.3923864355104031, -0.45168071389999304, 0.22009011992701982, 0.5955333007411939, -0.18003516240607267, -1.0297839283237813, -0.35674347150142727, 0.5010231233276244, 3.0244816886034616, -1.4518354545370757, -0.7238706064189212, -1.9546467592720356, 1.6750188451554895, 0.9591556681989486, -0.5368549291145766, 0.8130714085694476, -0.31847863880302585], \"yaxis\": \"y9\"}, {\"line\": {\"color\": \"rgba(128, 128, 128, 1.0)\", \"dash\": \"solid\", \"shape\": \"linear\", \"width\": 1.3}, \"marker\": {\"size\": 2, \"symbol\": \"circle\"}, \"mode\": \"markers\", \"name\": \"C\", \"text\": \"\", \"type\": \"scatter\", \"x\": [-0.755353873179904, -0.4256767679096191, 0.8157780024246971, -2.2541977161527247, -0.7233269440454809, -0.3786556373601695, -0.4195600810812267, -1.0793100455317586, 0.8220363590786557, 0.48768333438156214, 1.3906112268818829, -1.660562236233282, 1.2811839261911535, -0.8915535733622445, -0.42391847699293117, 0.1113894103911496, 1.141630830605558, -1.2483726382556115, 0.8449777733211241, -0.5021909158980505, 1.8137801708054053, -1.0325995855976582, 1.2385329606445827, 0.2742951614108968, -0.04380311529890623, -0.3111212097926691, 0.21211975876158917, 1.3149102153503898, 2.4643229801701025, -0.619603592493676, -0.747113629066319, 0.5431806643475502, -0.2734201992074562, -1.3360418266526963, 0.8090919933441999, -0.031279339706645655, -0.037058879582681205, 1.0157389257755776, -0.48043568443838675, 0.31485240310950013, -0.7130777817802696, 0.5197397848035694, -1.418160664078292, 1.1033388571762677, 0.9979752730335754, 2.83369159311136, 1.9073160281621018, 0.38186024604961033, -1.1806003432890024, -0.5143575584503659, -0.3957816536562888, -0.5268066455809626, -0.15014706606849018, 0.13173277087200919, 1.93981894214876, -0.3902593736360637, 1.6358481423378353, 0.8115150249350609, -0.8555629872017407, 0.18761674013119092, -0.7905156503572589, -0.4615672762918858, 0.34482776614752947, 0.19434981423092712, 0.8244631807844324, 0.1701337758593794, 1.8909263075644804, -0.6636415622048087, 0.6314810168714927, 0.36476490047848975, 0.47866952971355303, 1.2887293734556127, -0.266023327476621, -0.1502322605674205, -1.1503150530123967, 0.08230965925441752, -0.562349929195335, -1.9553643072289255, 0.5447662913675482, 0.8458391678364608, -0.3923223744037829, -0.4830673950348278, 0.9697117616204505, -0.6558959572087942, -0.1786710138083607, 0.4673075927125077, 0.5895188619517944, -1.644346405559177, 1.018096940218595, 0.3002176019003145, -0.26036541607405717, -0.3552758805482968, 1.138262275081289, 0.16586658168269822, -1.5356808881214654, -2.525725571839549, 1.3261952687937644, 0.3440020565671146, -1.024023927456685, -0.026135700939124245], \"xaxis\": \"x10\", \"y\": [1.3625069996408685, 0.9144952248887764, -0.04379371033273974, 0.09926340152837985, 1.2439724798159724, 1.1541745177710157, 0.8903331224676148, -0.266292290561748, -0.04175051493955355, 1.0301172806259171, -0.5928166169608095, -1.7103241908806828, 1.5518485422560453, -0.8470507769567207, 1.2270784178865735, 0.5965754556850948, -0.4758371563683018, 0.872427010018932, -1.792956333172518, -0.38186421963418965, -2.1181936570248463, 0.04830933305814722, -0.2377517243843703, 1.180649111475662, 0.750538260223122, 0.9987999439705197, -0.3746257593686016, 1.67463871096551, -0.7603667656154767, -0.07638038847929986, 0.4166224532956056, -0.6113448167098882, -0.5619164790482407, -0.5299474677729248, -0.6454235969449024, -1.5844963110045438, 1.7958848004195698, 0.05725658047593841, 0.2721754274360363, 1.2775937537343836, -1.090054521555069, -0.42179786795174207, 1.2423180080467975, -0.010861564683631282, 0.15506944960313332, -0.17041242917319238, -0.40178919529776935, 0.31202362583184595, 0.9130877026457608, 0.6979280217528265, -0.3744751044346249, -0.3356760147211475, 0.48003599789582946, 0.519507398890785, -1.3585467086201315, -1.3681957134473788, 0.5749568613249194, 0.6692379140807965, 1.377450523387284, 1.9966917262315202, 0.5426288454362674, 0.8272004758045935, -0.4366866732935288, -0.30638253901940254, 1.1722894324864024, 0.6870803694725929, -1.5676196674203213, 1.4476838161089778, -1.68998241695538, -0.6374153838701762, -0.4442773346777854, 0.34665700385127446, -0.9714136879825543, -0.306819209481289, -0.9333384010003253, -0.15705929393017123, -0.8621365632898269, 1.8982151081219376, -1.9557762436737225, -0.45832500451598934, 0.9914760514765695, 0.320091570765724, 0.8031181822203135, -0.3923864355104031, -0.45168071389999304, 0.22009011992701982, 0.5955333007411939, -0.18003516240607267, -1.0297839283237813, -0.35674347150142727, 0.5010231233276244, 3.0244816886034616, -1.4518354545370757, -0.7238706064189212, -1.9546467592720356, 1.6750188451554895, 0.9591556681989486, -0.5368549291145766, 0.8130714085694476, -0.31847863880302585], \"yaxis\": \"y10\"}, {\"histfunc\": \"count\", \"histnorm\": \"\", \"marker\": {\"color\": \"rgba(50, 171, 96, 1.0)\", \"line\": {\"color\": \"#4D5663\", \"width\": 1.3}}, \"name\": \"C\", \"nbinsx\": 10, \"opacity\": 0.8, \"orientation\": \"v\", \"type\": \"histogram\", \"x\": [1.3625069996408685, 0.9144952248887764, -0.04379371033273974, 0.09926340152837985, 1.2439724798159724, 1.1541745177710157, 0.8903331224676148, -0.266292290561748, -0.04175051493955355, 1.0301172806259171, -0.5928166169608095, -1.7103241908806828, 1.5518485422560453, -0.8470507769567207, 1.2270784178865735, 0.5965754556850948, -0.4758371563683018, 0.872427010018932, -1.792956333172518, -0.38186421963418965, -2.1181936570248463, 0.04830933305814722, -0.2377517243843703, 1.180649111475662, 0.750538260223122, 0.9987999439705197, -0.3746257593686016, 1.67463871096551, -0.7603667656154767, -0.07638038847929986, 0.4166224532956056, -0.6113448167098882, -0.5619164790482407, -0.5299474677729248, -0.6454235969449024, -1.5844963110045438, 1.7958848004195698, 0.05725658047593841, 0.2721754274360363, 1.2775937537343836, -1.090054521555069, -0.42179786795174207, 1.2423180080467975, -0.010861564683631282, 0.15506944960313332, -0.17041242917319238, -0.40178919529776935, 0.31202362583184595, 0.9130877026457608, 0.6979280217528265, -0.3744751044346249, -0.3356760147211475, 0.48003599789582946, 0.519507398890785, -1.3585467086201315, -1.3681957134473788, 0.5749568613249194, 0.6692379140807965, 1.377450523387284, 1.9966917262315202, 0.5426288454362674, 0.8272004758045935, -0.4366866732935288, -0.30638253901940254, 1.1722894324864024, 0.6870803694725929, -1.5676196674203213, 1.4476838161089778, -1.68998241695538, -0.6374153838701762, -0.4442773346777854, 0.34665700385127446, -0.9714136879825543, -0.306819209481289, -0.9333384010003253, -0.15705929393017123, -0.8621365632898269, 1.8982151081219376, -1.9557762436737225, -0.45832500451598934, 0.9914760514765695, 0.320091570765724, 0.8031181822203135, -0.3923864355104031, -0.45168071389999304, 0.22009011992701982, 0.5955333007411939, -0.18003516240607267, -1.0297839283237813, -0.35674347150142727, 0.5010231233276244, 3.0244816886034616, -1.4518354545370757, -0.7238706064189212, -1.9546467592720356, 1.6750188451554895, 0.9591556681989486, -0.5368549291145766, 0.8130714085694476, -0.31847863880302585], \"xaxis\": \"x11\", \"yaxis\": \"y11\"}, {\"line\": {\"color\": \"rgba(128, 128, 128, 1.0)\", \"dash\": \"solid\", \"shape\": \"linear\", \"width\": 1.3}, \"marker\": {\"size\": 2, \"symbol\": \"circle\"}, \"mode\": \"markers\", \"name\": \"C\", \"text\": \"\", \"type\": \"scatter\", \"x\": [0.1678688456852729, -0.7660755490375207, -0.24033995622475704, -0.1682834967212138, -0.7071182614203896, -0.7681995890374017, -2.033746607587051, -0.13645665960025008, 0.8853957116965118, 0.7684011089760281, 1.3331923437966315, -0.6313108008149433, -0.1990810753545615, -0.9362029443403491, -0.48602397477900594, 0.6943936691591144, -1.3138802802680032, 0.2392164800781996, 1.0907698280119023, 1.8965747576752692, 0.442885360234719, -0.6864410326378556, -0.8427733927849178, 1.879280752642242, -0.8766615576635849, -0.7968093327132704, 0.48471521549216495, 0.6680262768318319, 0.928831286436281, -0.3097847577236534, 0.11246450934781085, -1.3215886940461292, 0.08853158506239107, 1.1598699817635334, 1.466549647872314, -1.1640330918656165, -1.61767356039815, -1.609374924580595, -0.3678068225477947, 0.6721842330036858, -0.5394995077186759, -0.6191387319020631, 0.23897827009090414, -0.4560648370029805, -0.5130532625487461, 0.04869945067598958, 0.7945450847747928, 0.9463268407815968, -0.056612104084040674, -0.8617504834866899, 1.4845618102402878, 3.145860220342536, -1.9041065545592328, 1.5350121393448692, 0.6627933498060756, 0.09675705889637655, -0.8923072027447188, -0.5525401182438261, 0.8290980738948833, 1.470022690133724, -0.8860840655185193, -0.09681710155206424, 0.30865486290318156, 0.21943714014526172, 0.11341629867977683, -1.2266711866065867, 0.22103297889399115, 0.06725162810266645, 0.5580915971155165, 1.0105818532027613, -0.15753228208829775, 0.3938749268228596, 1.08155031642873, -0.04125426043324729, -0.4169155318556582, 1.2679845140404256, 0.08705806488006085, 0.21120171595670129, 0.15821498663748168, -0.5356086125675361, 3.251672425388064, 1.4102313844205876, 0.24108712582044428, -0.5686913122244588, 0.7059547425843715, -0.29410301722008786, -0.537492381963061, -0.4583903711628853, 0.31492293193018556, 0.5599066087163566, 1.0843010187485178, 0.020497693627848947, 0.5921960317117614, -0.7774516166862487, 1.050757571631062, 2.6606214337424148, 0.4164070043407307, 1.058442534293066, 0.7592181641268156, 0.41374422308068587], \"xaxis\": \"x12\", \"y\": [1.3625069996408685, 0.9144952248887764, -0.04379371033273974, 0.09926340152837985, 1.2439724798159724, 1.1541745177710157, 0.8903331224676148, -0.266292290561748, -0.04175051493955355, 1.0301172806259171, -0.5928166169608095, -1.7103241908806828, 1.5518485422560453, -0.8470507769567207, 1.2270784178865735, 0.5965754556850948, -0.4758371563683018, 0.872427010018932, -1.792956333172518, -0.38186421963418965, -2.1181936570248463, 0.04830933305814722, -0.2377517243843703, 1.180649111475662, 0.750538260223122, 0.9987999439705197, -0.3746257593686016, 1.67463871096551, -0.7603667656154767, -0.07638038847929986, 0.4166224532956056, -0.6113448167098882, -0.5619164790482407, -0.5299474677729248, -0.6454235969449024, -1.5844963110045438, 1.7958848004195698, 0.05725658047593841, 0.2721754274360363, 1.2775937537343836, -1.090054521555069, -0.42179786795174207, 1.2423180080467975, -0.010861564683631282, 0.15506944960313332, -0.17041242917319238, -0.40178919529776935, 0.31202362583184595, 0.9130877026457608, 0.6979280217528265, -0.3744751044346249, -0.3356760147211475, 0.48003599789582946, 0.519507398890785, -1.3585467086201315, -1.3681957134473788, 0.5749568613249194, 0.6692379140807965, 1.377450523387284, 1.9966917262315202, 0.5426288454362674, 0.8272004758045935, -0.4366866732935288, -0.30638253901940254, 1.1722894324864024, 0.6870803694725929, -1.5676196674203213, 1.4476838161089778, -1.68998241695538, -0.6374153838701762, -0.4442773346777854, 0.34665700385127446, -0.9714136879825543, -0.306819209481289, -0.9333384010003253, -0.15705929393017123, -0.8621365632898269, 1.8982151081219376, -1.9557762436737225, -0.45832500451598934, 0.9914760514765695, 0.320091570765724, 0.8031181822203135, -0.3923864355104031, -0.45168071389999304, 0.22009011992701982, 0.5955333007411939, -0.18003516240607267, -1.0297839283237813, -0.35674347150142727, 0.5010231233276244, 3.0244816886034616, -1.4518354545370757, -0.7238706064189212, -1.9546467592720356, 1.6750188451554895, 0.9591556681989486, -0.5368549291145766, 0.8130714085694476, -0.31847863880302585], \"yaxis\": \"y12\"}, {\"line\": {\"color\": \"rgba(128, 128, 128, 1.0)\", \"dash\": \"solid\", \"shape\": \"linear\", \"width\": 1.3}, \"marker\": {\"size\": 2, \"symbol\": \"circle\"}, \"mode\": \"markers\", \"name\": \"D\", \"text\": \"\", \"type\": \"scatter\", \"x\": [0.7921346859019157, 1.946825695054702, 1.4163203147173689, 0.1161272154136565, 0.7557025036279604, -0.7350872131145143, 1.6071158265686813, -0.6369620656059007, 0.8497778207394941, -0.33749859130626686, 1.2280973838411833, 0.036716134725273894, -0.3037665937695192, 0.8239925184967525, -1.3538724565017246, -0.45194949085156416, -1.913074905602045, 0.17762581698740607, -0.7004150163916316, 0.03188946476696092, -0.7719163151332366, 0.2905161338207252, 1.4934765893559856, 1.1517359541867793, 1.4005117647742198, -0.6275397842825213, 0.8926363946884873, -1.0677207378979978, -0.19471466043106184, 0.1529956333359573, -0.8218180765611363, -0.8503299315540951, 2.746705232928189, 0.8121025992904255, 2.1918060723428723, 0.1828701452483579, 0.4455028799628107, -0.5193802210214439, 1.104547831058544, 0.6594367637087866, -1.313520282034992, 1.190998233995262, -0.49647494111496654, 0.06890857086669673, 0.8211669474128339, -0.6181956721468078, -0.31902044193029055, -0.19023723733723844, 0.6886533928938934, -0.9332439063027611, -0.17051026893912857, 0.051544294241111815, -0.4159263649641647, 0.8566264197567114, 0.29402607091862265, -1.099818139175731, -1.1314940858303717, 0.9281480352753586, -0.13439689942833424, 0.045604618865690276, -0.9979314517757257, -0.07269042102427148, -0.5356990006428285, -1.1990026834526482, 0.1976306802793206, -0.6760867737177405, -0.4370643149105769, 1.7123117467895295, 1.8799972780063177, -0.07036592754360131, 1.903342736762849, -0.7909243457034956, -0.21648795712901556, -0.18759480763157985, -0.17191582545359513, 1.2163634807475439, 1.1517611276683175, -0.7984270716400544, 0.7817741035366015, 2.2456629185031023, 1.389344614456707, 0.5726770872579274, -0.05996906126751653, 0.3420213779390641, -0.2379680007605113, 0.3649105284334666, 0.263804800291932, 0.3277197543628306, -0.2530061140131053, 1.1758363314661346, -0.08852367242694675, -0.22481209189451987, 0.15802992649044043, -1.5061386445028795, 0.6729920524858238, -0.3211746441519791, 1.018943249519832, -1.7824913063580343, 0.891561971167367, -1.1815199382522332], \"xaxis\": \"x13\", \"y\": [0.1678688456852729, -0.7660755490375207, -0.24033995622475704, -0.1682834967212138, -0.7071182614203896, -0.7681995890374017, -2.033746607587051, -0.13645665960025008, 0.8853957116965118, 0.7684011089760281, 1.3331923437966315, -0.6313108008149433, -0.1990810753545615, -0.9362029443403491, -0.48602397477900594, 0.6943936691591144, -1.3138802802680032, 0.2392164800781996, 1.0907698280119023, 1.8965747576752692, 0.442885360234719, -0.6864410326378556, -0.8427733927849178, 1.879280752642242, -0.8766615576635849, -0.7968093327132704, 0.48471521549216495, 0.6680262768318319, 0.928831286436281, -0.3097847577236534, 0.11246450934781085, -1.3215886940461292, 0.08853158506239107, 1.1598699817635334, 1.466549647872314, -1.1640330918656165, -1.61767356039815, -1.609374924580595, -0.3678068225477947, 0.6721842330036858, -0.5394995077186759, -0.6191387319020631, 0.23897827009090414, -0.4560648370029805, -0.5130532625487461, 0.04869945067598958, 0.7945450847747928, 0.9463268407815968, -0.056612104084040674, -0.8617504834866899, 1.4845618102402878, 3.145860220342536, -1.9041065545592328, 1.5350121393448692, 0.6627933498060756, 0.09675705889637655, -0.8923072027447188, -0.5525401182438261, 0.8290980738948833, 1.470022690133724, -0.8860840655185193, -0.09681710155206424, 0.30865486290318156, 0.21943714014526172, 0.11341629867977683, -1.2266711866065867, 0.22103297889399115, 0.06725162810266645, 0.5580915971155165, 1.0105818532027613, -0.15753228208829775, 0.3938749268228596, 1.08155031642873, -0.04125426043324729, -0.4169155318556582, 1.2679845140404256, 0.08705806488006085, 0.21120171595670129, 0.15821498663748168, -0.5356086125675361, 3.251672425388064, 1.4102313844205876, 0.24108712582044428, -0.5686913122244588, 0.7059547425843715, -0.29410301722008786, -0.537492381963061, -0.4583903711628853, 0.31492293193018556, 0.5599066087163566, 1.0843010187485178, 0.020497693627848947, 0.5921960317117614, -0.7774516166862487, 1.050757571631062, 2.6606214337424148, 0.4164070043407307, 1.058442534293066, 0.7592181641268156, 0.41374422308068587], \"yaxis\": \"y13\"}, {\"line\": {\"color\": \"rgba(128, 128, 128, 1.0)\", \"dash\": \"solid\", \"shape\": \"linear\", \"width\": 1.3}, \"marker\": {\"size\": 2, \"symbol\": \"circle\"}, \"mode\": \"markers\", \"name\": \"D\", \"text\": \"\", \"type\": \"scatter\", \"x\": [-0.755353873179904, -0.4256767679096191, 0.8157780024246971, -2.2541977161527247, -0.7233269440454809, -0.3786556373601695, -0.4195600810812267, -1.0793100455317586, 0.8220363590786557, 0.48768333438156214, 1.3906112268818829, -1.660562236233282, 1.2811839261911535, -0.8915535733622445, -0.42391847699293117, 0.1113894103911496, 1.141630830605558, -1.2483726382556115, 0.8449777733211241, -0.5021909158980505, 1.8137801708054053, -1.0325995855976582, 1.2385329606445827, 0.2742951614108968, -0.04380311529890623, -0.3111212097926691, 0.21211975876158917, 1.3149102153503898, 2.4643229801701025, -0.619603592493676, -0.747113629066319, 0.5431806643475502, -0.2734201992074562, -1.3360418266526963, 0.8090919933441999, -0.031279339706645655, -0.037058879582681205, 1.0157389257755776, -0.48043568443838675, 0.31485240310950013, -0.7130777817802696, 0.5197397848035694, -1.418160664078292, 1.1033388571762677, 0.9979752730335754, 2.83369159311136, 1.9073160281621018, 0.38186024604961033, -1.1806003432890024, -0.5143575584503659, -0.3957816536562888, -0.5268066455809626, -0.15014706606849018, 0.13173277087200919, 1.93981894214876, -0.3902593736360637, 1.6358481423378353, 0.8115150249350609, -0.8555629872017407, 0.18761674013119092, -0.7905156503572589, -0.4615672762918858, 0.34482776614752947, 0.19434981423092712, 0.8244631807844324, 0.1701337758593794, 1.8909263075644804, -0.6636415622048087, 0.6314810168714927, 0.36476490047848975, 0.47866952971355303, 1.2887293734556127, -0.266023327476621, -0.1502322605674205, -1.1503150530123967, 0.08230965925441752, -0.562349929195335, -1.9553643072289255, 0.5447662913675482, 0.8458391678364608, -0.3923223744037829, -0.4830673950348278, 0.9697117616204505, -0.6558959572087942, -0.1786710138083607, 0.4673075927125077, 0.5895188619517944, -1.644346405559177, 1.018096940218595, 0.3002176019003145, -0.26036541607405717, -0.3552758805482968, 1.138262275081289, 0.16586658168269822, -1.5356808881214654, -2.525725571839549, 1.3261952687937644, 0.3440020565671146, -1.024023927456685, -0.026135700939124245], \"xaxis\": \"x14\", \"y\": [0.1678688456852729, -0.7660755490375207, -0.24033995622475704, -0.1682834967212138, -0.7071182614203896, -0.7681995890374017, -2.033746607587051, -0.13645665960025008, 0.8853957116965118, 0.7684011089760281, 1.3331923437966315, -0.6313108008149433, -0.1990810753545615, -0.9362029443403491, -0.48602397477900594, 0.6943936691591144, -1.3138802802680032, 0.2392164800781996, 1.0907698280119023, 1.8965747576752692, 0.442885360234719, -0.6864410326378556, -0.8427733927849178, 1.879280752642242, -0.8766615576635849, -0.7968093327132704, 0.48471521549216495, 0.6680262768318319, 0.928831286436281, -0.3097847577236534, 0.11246450934781085, -1.3215886940461292, 0.08853158506239107, 1.1598699817635334, 1.466549647872314, -1.1640330918656165, -1.61767356039815, -1.609374924580595, -0.3678068225477947, 0.6721842330036858, -0.5394995077186759, -0.6191387319020631, 0.23897827009090414, -0.4560648370029805, -0.5130532625487461, 0.04869945067598958, 0.7945450847747928, 0.9463268407815968, -0.056612104084040674, -0.8617504834866899, 1.4845618102402878, 3.145860220342536, -1.9041065545592328, 1.5350121393448692, 0.6627933498060756, 0.09675705889637655, -0.8923072027447188, -0.5525401182438261, 0.8290980738948833, 1.470022690133724, -0.8860840655185193, -0.09681710155206424, 0.30865486290318156, 0.21943714014526172, 0.11341629867977683, -1.2266711866065867, 0.22103297889399115, 0.06725162810266645, 0.5580915971155165, 1.0105818532027613, -0.15753228208829775, 0.3938749268228596, 1.08155031642873, -0.04125426043324729, -0.4169155318556582, 1.2679845140404256, 0.08705806488006085, 0.21120171595670129, 0.15821498663748168, -0.5356086125675361, 3.251672425388064, 1.4102313844205876, 0.24108712582044428, -0.5686913122244588, 0.7059547425843715, -0.29410301722008786, -0.537492381963061, -0.4583903711628853, 0.31492293193018556, 0.5599066087163566, 1.0843010187485178, 0.020497693627848947, 0.5921960317117614, -0.7774516166862487, 1.050757571631062, 2.6606214337424148, 0.4164070043407307, 1.058442534293066, 0.7592181641268156, 0.41374422308068587], \"yaxis\": \"y14\"}, {\"line\": {\"color\": \"rgba(128, 128, 128, 1.0)\", \"dash\": \"solid\", \"shape\": \"linear\", \"width\": 1.3}, \"marker\": {\"size\": 2, \"symbol\": \"circle\"}, \"mode\": \"markers\", \"name\": \"D\", \"text\": \"\", \"type\": \"scatter\", \"x\": [1.3625069996408685, 0.9144952248887764, -0.04379371033273974, 0.09926340152837985, 1.2439724798159724, 1.1541745177710157, 0.8903331224676148, -0.266292290561748, -0.04175051493955355, 1.0301172806259171, -0.5928166169608095, -1.7103241908806828, 1.5518485422560453, -0.8470507769567207, 1.2270784178865735, 0.5965754556850948, -0.4758371563683018, 0.872427010018932, -1.792956333172518, -0.38186421963418965, -2.1181936570248463, 0.04830933305814722, -0.2377517243843703, 1.180649111475662, 0.750538260223122, 0.9987999439705197, -0.3746257593686016, 1.67463871096551, -0.7603667656154767, -0.07638038847929986, 0.4166224532956056, -0.6113448167098882, -0.5619164790482407, -0.5299474677729248, -0.6454235969449024, -1.5844963110045438, 1.7958848004195698, 0.05725658047593841, 0.2721754274360363, 1.2775937537343836, -1.090054521555069, -0.42179786795174207, 1.2423180080467975, -0.010861564683631282, 0.15506944960313332, -0.17041242917319238, -0.40178919529776935, 0.31202362583184595, 0.9130877026457608, 0.6979280217528265, -0.3744751044346249, -0.3356760147211475, 0.48003599789582946, 0.519507398890785, -1.3585467086201315, -1.3681957134473788, 0.5749568613249194, 0.6692379140807965, 1.377450523387284, 1.9966917262315202, 0.5426288454362674, 0.8272004758045935, -0.4366866732935288, -0.30638253901940254, 1.1722894324864024, 0.6870803694725929, -1.5676196674203213, 1.4476838161089778, -1.68998241695538, -0.6374153838701762, -0.4442773346777854, 0.34665700385127446, -0.9714136879825543, -0.306819209481289, -0.9333384010003253, -0.15705929393017123, -0.8621365632898269, 1.8982151081219376, -1.9557762436737225, -0.45832500451598934, 0.9914760514765695, 0.320091570765724, 0.8031181822203135, -0.3923864355104031, -0.45168071389999304, 0.22009011992701982, 0.5955333007411939, -0.18003516240607267, -1.0297839283237813, -0.35674347150142727, 0.5010231233276244, 3.0244816886034616, -1.4518354545370757, -0.7238706064189212, -1.9546467592720356, 1.6750188451554895, 0.9591556681989486, -0.5368549291145766, 0.8130714085694476, -0.31847863880302585], \"xaxis\": \"x15\", \"y\": [0.1678688456852729, -0.7660755490375207, -0.24033995622475704, -0.1682834967212138, -0.7071182614203896, -0.7681995890374017, -2.033746607587051, -0.13645665960025008, 0.8853957116965118, 0.7684011089760281, 1.3331923437966315, -0.6313108008149433, -0.1990810753545615, -0.9362029443403491, -0.48602397477900594, 0.6943936691591144, -1.3138802802680032, 0.2392164800781996, 1.0907698280119023, 1.8965747576752692, 0.442885360234719, -0.6864410326378556, -0.8427733927849178, 1.879280752642242, -0.8766615576635849, -0.7968093327132704, 0.48471521549216495, 0.6680262768318319, 0.928831286436281, -0.3097847577236534, 0.11246450934781085, -1.3215886940461292, 0.08853158506239107, 1.1598699817635334, 1.466549647872314, -1.1640330918656165, -1.61767356039815, -1.609374924580595, -0.3678068225477947, 0.6721842330036858, -0.5394995077186759, -0.6191387319020631, 0.23897827009090414, -0.4560648370029805, -0.5130532625487461, 0.04869945067598958, 0.7945450847747928, 0.9463268407815968, -0.056612104084040674, -0.8617504834866899, 1.4845618102402878, 3.145860220342536, -1.9041065545592328, 1.5350121393448692, 0.6627933498060756, 0.09675705889637655, -0.8923072027447188, -0.5525401182438261, 0.8290980738948833, 1.470022690133724, -0.8860840655185193, -0.09681710155206424, 0.30865486290318156, 0.21943714014526172, 0.11341629867977683, -1.2266711866065867, 0.22103297889399115, 0.06725162810266645, 0.5580915971155165, 1.0105818532027613, -0.15753228208829775, 0.3938749268228596, 1.08155031642873, -0.04125426043324729, -0.4169155318556582, 1.2679845140404256, 0.08705806488006085, 0.21120171595670129, 0.15821498663748168, -0.5356086125675361, 3.251672425388064, 1.4102313844205876, 0.24108712582044428, -0.5686913122244588, 0.7059547425843715, -0.29410301722008786, -0.537492381963061, -0.4583903711628853, 0.31492293193018556, 0.5599066087163566, 1.0843010187485178, 0.020497693627848947, 0.5921960317117614, -0.7774516166862487, 1.050757571631062, 2.6606214337424148, 0.4164070043407307, 1.058442534293066, 0.7592181641268156, 0.41374422308068587], \"yaxis\": \"y15\"}, {\"histfunc\": \"count\", \"histnorm\": \"\", \"marker\": {\"color\": \"rgba(128, 0, 128, 1.0)\", \"line\": {\"color\": \"#4D5663\", \"width\": 1.3}}, \"name\": \"D\", \"nbinsx\": 10, \"opacity\": 0.8, \"orientation\": \"v\", \"type\": \"histogram\", \"x\": [0.1678688456852729, -0.7660755490375207, -0.24033995622475704, -0.1682834967212138, -0.7071182614203896, -0.7681995890374017, -2.033746607587051, -0.13645665960025008, 0.8853957116965118, 0.7684011089760281, 1.3331923437966315, -0.6313108008149433, -0.1990810753545615, -0.9362029443403491, -0.48602397477900594, 0.6943936691591144, -1.3138802802680032, 0.2392164800781996, 1.0907698280119023, 1.8965747576752692, 0.442885360234719, -0.6864410326378556, -0.8427733927849178, 1.879280752642242, -0.8766615576635849, -0.7968093327132704, 0.48471521549216495, 0.6680262768318319, 0.928831286436281, -0.3097847577236534, 0.11246450934781085, -1.3215886940461292, 0.08853158506239107, 1.1598699817635334, 1.466549647872314, -1.1640330918656165, -1.61767356039815, -1.609374924580595, -0.3678068225477947, 0.6721842330036858, -0.5394995077186759, -0.6191387319020631, 0.23897827009090414, -0.4560648370029805, -0.5130532625487461, 0.04869945067598958, 0.7945450847747928, 0.9463268407815968, -0.056612104084040674, -0.8617504834866899, 1.4845618102402878, 3.145860220342536, -1.9041065545592328, 1.5350121393448692, 0.6627933498060756, 0.09675705889637655, -0.8923072027447188, -0.5525401182438261, 0.8290980738948833, 1.470022690133724, -0.8860840655185193, -0.09681710155206424, 0.30865486290318156, 0.21943714014526172, 0.11341629867977683, -1.2266711866065867, 0.22103297889399115, 0.06725162810266645, 0.5580915971155165, 1.0105818532027613, -0.15753228208829775, 0.3938749268228596, 1.08155031642873, -0.04125426043324729, -0.4169155318556582, 1.2679845140404256, 0.08705806488006085, 0.21120171595670129, 0.15821498663748168, -0.5356086125675361, 3.251672425388064, 1.4102313844205876, 0.24108712582044428, -0.5686913122244588, 0.7059547425843715, -0.29410301722008786, -0.537492381963061, -0.4583903711628853, 0.31492293193018556, 0.5599066087163566, 1.0843010187485178, 0.020497693627848947, 0.5921960317117614, -0.7774516166862487, 1.050757571631062, 2.6606214337424148, 0.4164070043407307, 1.058442534293066, 0.7592181641268156, 0.41374422308068587], \"xaxis\": \"x16\", \"yaxis\": \"y16\"}],\n",
       "                        {\"bargap\": 0.02, \"legend\": {\"bgcolor\": \"#F5F6F9\", \"font\": {\"color\": \"#4D5663\"}}, \"paper_bgcolor\": \"#F5F6F9\", \"plot_bgcolor\": \"#F5F6F9\", \"showlegend\": false, \"template\": {\"data\": {\"bar\": [{\"error_x\": {\"color\": \"#2a3f5f\"}, \"error_y\": {\"color\": \"#2a3f5f\"}, \"marker\": {\"line\": {\"color\": \"#E5ECF6\", \"width\": 0.5}}, \"type\": \"bar\"}], \"barpolar\": [{\"marker\": {\"line\": {\"color\": \"#E5ECF6\", \"width\": 0.5}}, \"type\": \"barpolar\"}], \"carpet\": [{\"aaxis\": {\"endlinecolor\": \"#2a3f5f\", \"gridcolor\": \"white\", \"linecolor\": \"white\", \"minorgridcolor\": \"white\", \"startlinecolor\": \"#2a3f5f\"}, \"baxis\": {\"endlinecolor\": \"#2a3f5f\", \"gridcolor\": \"white\", \"linecolor\": \"white\", \"minorgridcolor\": \"white\", \"startlinecolor\": \"#2a3f5f\"}, \"type\": \"carpet\"}], \"choropleth\": [{\"colorbar\": {\"outlinewidth\": 0, \"ticks\": \"\"}, \"type\": \"choropleth\"}], \"contour\": [{\"colorbar\": {\"outlinewidth\": 0, \"ticks\": \"\"}, \"colorscale\": [[0.0, \"#0d0887\"], [0.1111111111111111, \"#46039f\"], [0.2222222222222222, \"#7201a8\"], [0.3333333333333333, \"#9c179e\"], [0.4444444444444444, \"#bd3786\"], [0.5555555555555556, \"#d8576b\"], [0.6666666666666666, \"#ed7953\"], [0.7777777777777778, \"#fb9f3a\"], [0.8888888888888888, \"#fdca26\"], [1.0, \"#f0f921\"]], \"type\": \"contour\"}], \"contourcarpet\": [{\"colorbar\": {\"outlinewidth\": 0, \"ticks\": \"\"}, \"type\": \"contourcarpet\"}], \"heatmap\": [{\"colorbar\": {\"outlinewidth\": 0, \"ticks\": \"\"}, \"colorscale\": [[0.0, \"#0d0887\"], [0.1111111111111111, \"#46039f\"], [0.2222222222222222, \"#7201a8\"], [0.3333333333333333, \"#9c179e\"], [0.4444444444444444, \"#bd3786\"], [0.5555555555555556, \"#d8576b\"], [0.6666666666666666, \"#ed7953\"], [0.7777777777777778, \"#fb9f3a\"], [0.8888888888888888, \"#fdca26\"], [1.0, \"#f0f921\"]], \"type\": \"heatmap\"}], \"heatmapgl\": [{\"colorbar\": {\"outlinewidth\": 0, \"ticks\": \"\"}, \"colorscale\": [[0.0, \"#0d0887\"], [0.1111111111111111, \"#46039f\"], [0.2222222222222222, \"#7201a8\"], [0.3333333333333333, \"#9c179e\"], [0.4444444444444444, \"#bd3786\"], [0.5555555555555556, \"#d8576b\"], [0.6666666666666666, \"#ed7953\"], [0.7777777777777778, \"#fb9f3a\"], [0.8888888888888888, \"#fdca26\"], [1.0, \"#f0f921\"]], \"type\": \"heatmapgl\"}], \"histogram\": [{\"marker\": {\"colorbar\": {\"outlinewidth\": 0, \"ticks\": \"\"}}, \"type\": \"histogram\"}], \"histogram2d\": [{\"colorbar\": {\"outlinewidth\": 0, \"ticks\": \"\"}, \"colorscale\": [[0.0, \"#0d0887\"], [0.1111111111111111, \"#46039f\"], [0.2222222222222222, \"#7201a8\"], [0.3333333333333333, \"#9c179e\"], [0.4444444444444444, \"#bd3786\"], [0.5555555555555556, \"#d8576b\"], [0.6666666666666666, \"#ed7953\"], [0.7777777777777778, \"#fb9f3a\"], [0.8888888888888888, \"#fdca26\"], [1.0, \"#f0f921\"]], \"type\": \"histogram2d\"}], \"histogram2dcontour\": [{\"colorbar\": {\"outlinewidth\": 0, \"ticks\": \"\"}, \"colorscale\": [[0.0, \"#0d0887\"], [0.1111111111111111, \"#46039f\"], [0.2222222222222222, \"#7201a8\"], [0.3333333333333333, \"#9c179e\"], [0.4444444444444444, \"#bd3786\"], [0.5555555555555556, \"#d8576b\"], [0.6666666666666666, \"#ed7953\"], [0.7777777777777778, \"#fb9f3a\"], [0.8888888888888888, \"#fdca26\"], [1.0, \"#f0f921\"]], \"type\": \"histogram2dcontour\"}], \"mesh3d\": [{\"colorbar\": {\"outlinewidth\": 0, \"ticks\": \"\"}, \"type\": \"mesh3d\"}], \"parcoords\": [{\"line\": {\"colorbar\": {\"outlinewidth\": 0, \"ticks\": \"\"}}, \"type\": \"parcoords\"}], \"pie\": [{\"automargin\": true, \"type\": \"pie\"}], \"scatter\": [{\"marker\": {\"colorbar\": {\"outlinewidth\": 0, \"ticks\": \"\"}}, \"type\": \"scatter\"}], \"scatter3d\": [{\"line\": {\"colorbar\": {\"outlinewidth\": 0, \"ticks\": \"\"}}, \"marker\": {\"colorbar\": {\"outlinewidth\": 0, \"ticks\": \"\"}}, \"type\": \"scatter3d\"}], \"scattercarpet\": [{\"marker\": {\"colorbar\": {\"outlinewidth\": 0, \"ticks\": \"\"}}, \"type\": \"scattercarpet\"}], \"scattergeo\": [{\"marker\": {\"colorbar\": {\"outlinewidth\": 0, \"ticks\": \"\"}}, \"type\": \"scattergeo\"}], \"scattergl\": [{\"marker\": {\"colorbar\": {\"outlinewidth\": 0, \"ticks\": \"\"}}, \"type\": \"scattergl\"}], \"scattermapbox\": [{\"marker\": {\"colorbar\": {\"outlinewidth\": 0, \"ticks\": \"\"}}, \"type\": \"scattermapbox\"}], \"scatterpolar\": [{\"marker\": {\"colorbar\": {\"outlinewidth\": 0, \"ticks\": \"\"}}, \"type\": \"scatterpolar\"}], \"scatterpolargl\": [{\"marker\": {\"colorbar\": {\"outlinewidth\": 0, \"ticks\": \"\"}}, \"type\": \"scatterpolargl\"}], \"scatterternary\": [{\"marker\": {\"colorbar\": {\"outlinewidth\": 0, \"ticks\": \"\"}}, \"type\": \"scatterternary\"}], \"surface\": [{\"colorbar\": {\"outlinewidth\": 0, \"ticks\": \"\"}, \"colorscale\": [[0.0, \"#0d0887\"], [0.1111111111111111, \"#46039f\"], [0.2222222222222222, \"#7201a8\"], [0.3333333333333333, \"#9c179e\"], [0.4444444444444444, \"#bd3786\"], [0.5555555555555556, \"#d8576b\"], [0.6666666666666666, \"#ed7953\"], [0.7777777777777778, \"#fb9f3a\"], [0.8888888888888888, \"#fdca26\"], [1.0, \"#f0f921\"]], \"type\": \"surface\"}], \"table\": [{\"cells\": {\"fill\": {\"color\": \"#EBF0F8\"}, \"line\": {\"color\": \"white\"}}, \"header\": {\"fill\": {\"color\": \"#C8D4E3\"}, \"line\": {\"color\": \"white\"}}, \"type\": \"table\"}]}, \"layout\": {\"annotationdefaults\": {\"arrowcolor\": \"#2a3f5f\", \"arrowhead\": 0, \"arrowwidth\": 1}, \"coloraxis\": {\"colorbar\": {\"outlinewidth\": 0, \"ticks\": \"\"}}, \"colorscale\": {\"diverging\": [[0, \"#8e0152\"], [0.1, \"#c51b7d\"], [0.2, \"#de77ae\"], [0.3, \"#f1b6da\"], [0.4, \"#fde0ef\"], [0.5, \"#f7f7f7\"], [0.6, \"#e6f5d0\"], [0.7, \"#b8e186\"], [0.8, \"#7fbc41\"], [0.9, \"#4d9221\"], [1, \"#276419\"]], \"sequential\": [[0.0, \"#0d0887\"], [0.1111111111111111, \"#46039f\"], [0.2222222222222222, \"#7201a8\"], [0.3333333333333333, \"#9c179e\"], [0.4444444444444444, \"#bd3786\"], [0.5555555555555556, \"#d8576b\"], [0.6666666666666666, \"#ed7953\"], [0.7777777777777778, \"#fb9f3a\"], [0.8888888888888888, \"#fdca26\"], [1.0, \"#f0f921\"]], \"sequentialminus\": [[0.0, \"#0d0887\"], [0.1111111111111111, \"#46039f\"], [0.2222222222222222, \"#7201a8\"], [0.3333333333333333, \"#9c179e\"], [0.4444444444444444, \"#bd3786\"], [0.5555555555555556, \"#d8576b\"], [0.6666666666666666, \"#ed7953\"], [0.7777777777777778, \"#fb9f3a\"], [0.8888888888888888, \"#fdca26\"], [1.0, \"#f0f921\"]]}, \"colorway\": [\"#636efa\", \"#EF553B\", \"#00cc96\", \"#ab63fa\", \"#FFA15A\", \"#19d3f3\", \"#FF6692\", \"#B6E880\", \"#FF97FF\", \"#FECB52\"], \"font\": {\"color\": \"#2a3f5f\"}, \"geo\": {\"bgcolor\": \"white\", \"lakecolor\": \"white\", \"landcolor\": \"#E5ECF6\", \"showlakes\": true, \"showland\": true, \"subunitcolor\": \"white\"}, \"hoverlabel\": {\"align\": \"left\"}, \"hovermode\": \"closest\", \"mapbox\": {\"style\": \"light\"}, \"paper_bgcolor\": \"white\", \"plot_bgcolor\": \"#E5ECF6\", \"polar\": {\"angularaxis\": {\"gridcolor\": \"white\", \"linecolor\": \"white\", \"ticks\": \"\"}, \"bgcolor\": \"#E5ECF6\", \"radialaxis\": {\"gridcolor\": \"white\", \"linecolor\": \"white\", \"ticks\": \"\"}}, \"scene\": {\"xaxis\": {\"backgroundcolor\": \"#E5ECF6\", \"gridcolor\": \"white\", \"gridwidth\": 2, \"linecolor\": \"white\", \"showbackground\": true, \"ticks\": \"\", \"zerolinecolor\": \"white\"}, \"yaxis\": {\"backgroundcolor\": \"#E5ECF6\", \"gridcolor\": \"white\", \"gridwidth\": 2, \"linecolor\": \"white\", \"showbackground\": true, \"ticks\": \"\", \"zerolinecolor\": \"white\"}, \"zaxis\": {\"backgroundcolor\": \"#E5ECF6\", \"gridcolor\": \"white\", \"gridwidth\": 2, \"linecolor\": \"white\", \"showbackground\": true, \"ticks\": \"\", \"zerolinecolor\": \"white\"}}, \"shapedefaults\": {\"line\": {\"color\": \"#2a3f5f\"}}, \"ternary\": {\"aaxis\": {\"gridcolor\": \"white\", \"linecolor\": \"white\", \"ticks\": \"\"}, \"baxis\": {\"gridcolor\": \"white\", \"linecolor\": \"white\", \"ticks\": \"\"}, \"bgcolor\": \"#E5ECF6\", \"caxis\": {\"gridcolor\": \"white\", \"linecolor\": \"white\", \"ticks\": \"\"}}, \"title\": {\"x\": 0.05}, \"xaxis\": {\"automargin\": true, \"gridcolor\": \"white\", \"linecolor\": \"white\", \"ticks\": \"\", \"title\": {\"standoff\": 15}, \"zerolinecolor\": \"white\", \"zerolinewidth\": 2}, \"yaxis\": {\"automargin\": true, \"gridcolor\": \"white\", \"linecolor\": \"white\", \"ticks\": \"\", \"title\": {\"standoff\": 15}, \"zerolinecolor\": \"white\", \"zerolinewidth\": 2}}}, \"title\": {\"font\": {\"color\": \"#4D5663\"}}, \"xaxis\": {\"anchor\": \"y\", \"domain\": [0.0, 0.2125], \"gridcolor\": \"#E1E5ED\", \"showgrid\": false, \"tickfont\": {\"color\": \"#4D5663\"}, \"title\": {\"font\": {\"color\": \"#4D5663\"}, \"text\": \"\"}, \"zerolinecolor\": \"#E1E5ED\"}, \"xaxis10\": {\"anchor\": \"y10\", \"domain\": [0.2625, 0.475], \"gridcolor\": \"#E1E5ED\", \"showgrid\": false, \"tickfont\": {\"color\": \"#4D5663\"}, \"title\": {\"font\": {\"color\": \"#4D5663\"}, \"text\": \"\"}, \"zerolinecolor\": \"#E1E5ED\"}, \"xaxis11\": {\"anchor\": \"y11\", \"domain\": [0.525, 0.7375], \"gridcolor\": \"#E1E5ED\", \"showgrid\": false, \"tickfont\": {\"color\": \"#4D5663\"}, \"title\": {\"font\": {\"color\": \"#4D5663\"}, \"text\": \"\"}, \"zerolinecolor\": \"#E1E5ED\"}, \"xaxis12\": {\"anchor\": \"y12\", \"domain\": [0.7875, 1.0], \"gridcolor\": \"#E1E5ED\", \"showgrid\": false, \"tickfont\": {\"color\": \"#4D5663\"}, \"title\": {\"font\": {\"color\": \"#4D5663\"}, \"text\": \"\"}, \"zerolinecolor\": \"#E1E5ED\"}, \"xaxis13\": {\"anchor\": \"y13\", \"domain\": [0.0, 0.2125], \"gridcolor\": \"#E1E5ED\", \"showgrid\": false, \"tickfont\": {\"color\": \"#4D5663\"}, \"title\": {\"font\": {\"color\": \"#4D5663\"}, \"text\": \"\"}, \"zerolinecolor\": \"#E1E5ED\"}, \"xaxis14\": {\"anchor\": \"y14\", \"domain\": [0.2625, 0.475], \"gridcolor\": \"#E1E5ED\", \"showgrid\": false, \"tickfont\": {\"color\": \"#4D5663\"}, \"title\": {\"font\": {\"color\": \"#4D5663\"}, \"text\": \"\"}, \"zerolinecolor\": \"#E1E5ED\"}, \"xaxis15\": {\"anchor\": \"y15\", \"domain\": [0.525, 0.7375], \"gridcolor\": \"#E1E5ED\", \"showgrid\": false, \"tickfont\": {\"color\": \"#4D5663\"}, \"title\": {\"font\": {\"color\": \"#4D5663\"}, \"text\": \"\"}, \"zerolinecolor\": \"#E1E5ED\"}, \"xaxis16\": {\"anchor\": \"y16\", \"domain\": [0.7875, 1.0], \"gridcolor\": \"#E1E5ED\", \"showgrid\": false, \"tickfont\": {\"color\": \"#4D5663\"}, \"title\": {\"font\": {\"color\": \"#4D5663\"}, \"text\": \"\"}, \"zerolinecolor\": \"#E1E5ED\"}, \"xaxis2\": {\"anchor\": \"y2\", \"domain\": [0.2625, 0.475], \"gridcolor\": \"#E1E5ED\", \"showgrid\": false, \"tickfont\": {\"color\": \"#4D5663\"}, \"title\": {\"font\": {\"color\": \"#4D5663\"}, \"text\": \"\"}, \"zerolinecolor\": \"#E1E5ED\"}, \"xaxis3\": {\"anchor\": \"y3\", \"domain\": [0.525, 0.7375], \"gridcolor\": \"#E1E5ED\", \"showgrid\": false, \"tickfont\": {\"color\": \"#4D5663\"}, \"title\": {\"font\": {\"color\": \"#4D5663\"}, \"text\": \"\"}, \"zerolinecolor\": \"#E1E5ED\"}, \"xaxis4\": {\"anchor\": \"y4\", \"domain\": [0.7875, 1.0], \"gridcolor\": \"#E1E5ED\", \"showgrid\": false, \"tickfont\": {\"color\": \"#4D5663\"}, \"title\": {\"font\": {\"color\": \"#4D5663\"}, \"text\": \"\"}, \"zerolinecolor\": \"#E1E5ED\"}, \"xaxis5\": {\"anchor\": \"y5\", \"domain\": [0.0, 0.2125], \"gridcolor\": \"#E1E5ED\", \"showgrid\": false, \"tickfont\": {\"color\": \"#4D5663\"}, \"title\": {\"font\": {\"color\": \"#4D5663\"}, \"text\": \"\"}, \"zerolinecolor\": \"#E1E5ED\"}, \"xaxis6\": {\"anchor\": \"y6\", \"domain\": [0.2625, 0.475], \"gridcolor\": \"#E1E5ED\", \"showgrid\": false, \"tickfont\": {\"color\": \"#4D5663\"}, \"title\": {\"font\": {\"color\": \"#4D5663\"}, \"text\": \"\"}, \"zerolinecolor\": \"#E1E5ED\"}, \"xaxis7\": {\"anchor\": \"y7\", \"domain\": [0.525, 0.7375], \"gridcolor\": \"#E1E5ED\", \"showgrid\": false, \"tickfont\": {\"color\": \"#4D5663\"}, \"title\": {\"font\": {\"color\": \"#4D5663\"}, \"text\": \"\"}, \"zerolinecolor\": \"#E1E5ED\"}, \"xaxis8\": {\"anchor\": \"y8\", \"domain\": [0.7875, 1.0], \"gridcolor\": \"#E1E5ED\", \"showgrid\": false, \"tickfont\": {\"color\": \"#4D5663\"}, \"title\": {\"font\": {\"color\": \"#4D5663\"}, \"text\": \"\"}, \"zerolinecolor\": \"#E1E5ED\"}, \"xaxis9\": {\"anchor\": \"y9\", \"domain\": [0.0, 0.2125], \"gridcolor\": \"#E1E5ED\", \"showgrid\": false, \"tickfont\": {\"color\": \"#4D5663\"}, \"title\": {\"font\": {\"color\": \"#4D5663\"}, \"text\": \"\"}, \"zerolinecolor\": \"#E1E5ED\"}, \"yaxis\": {\"anchor\": \"x\", \"domain\": [0.8025, 1.0], \"gridcolor\": \"#E1E5ED\", \"showgrid\": false, \"tickfont\": {\"color\": \"#4D5663\"}, \"title\": {\"font\": {\"color\": \"#4D5663\"}, \"text\": \"\"}, \"zerolinecolor\": \"#E1E5ED\"}, \"yaxis10\": {\"anchor\": \"x10\", \"domain\": [0.2675, 0.465], \"gridcolor\": \"#E1E5ED\", \"showgrid\": false, \"tickfont\": {\"color\": \"#4D5663\"}, \"title\": {\"font\": {\"color\": \"#4D5663\"}, \"text\": \"\"}, \"zerolinecolor\": \"#E1E5ED\"}, \"yaxis11\": {\"anchor\": \"x11\", \"domain\": [0.2675, 0.465], \"gridcolor\": \"#E1E5ED\", \"showgrid\": false, \"tickfont\": {\"color\": \"#4D5663\"}, \"title\": {\"font\": {\"color\": \"#4D5663\"}, \"text\": \"\"}, \"zerolinecolor\": \"#E1E5ED\"}, \"yaxis12\": {\"anchor\": \"x12\", \"domain\": [0.2675, 0.465], \"gridcolor\": \"#E1E5ED\", \"showgrid\": false, \"tickfont\": {\"color\": \"#4D5663\"}, \"title\": {\"font\": {\"color\": \"#4D5663\"}, \"text\": \"\"}, \"zerolinecolor\": \"#E1E5ED\"}, \"yaxis13\": {\"anchor\": \"x13\", \"domain\": [0.0, 0.1975], \"gridcolor\": \"#E1E5ED\", \"showgrid\": false, \"tickfont\": {\"color\": \"#4D5663\"}, \"title\": {\"font\": {\"color\": \"#4D5663\"}, \"text\": \"\"}, \"zerolinecolor\": \"#E1E5ED\"}, \"yaxis14\": {\"anchor\": \"x14\", \"domain\": [0.0, 0.1975], \"gridcolor\": \"#E1E5ED\", \"showgrid\": false, \"tickfont\": {\"color\": \"#4D5663\"}, \"title\": {\"font\": {\"color\": \"#4D5663\"}, \"text\": \"\"}, \"zerolinecolor\": \"#E1E5ED\"}, \"yaxis15\": {\"anchor\": \"x15\", \"domain\": [0.0, 0.1975], \"gridcolor\": \"#E1E5ED\", \"showgrid\": false, \"tickfont\": {\"color\": \"#4D5663\"}, \"title\": {\"font\": {\"color\": \"#4D5663\"}, \"text\": \"\"}, \"zerolinecolor\": \"#E1E5ED\"}, \"yaxis16\": {\"anchor\": \"x16\", \"domain\": [0.0, 0.1975], \"gridcolor\": \"#E1E5ED\", \"showgrid\": false, \"tickfont\": {\"color\": \"#4D5663\"}, \"title\": {\"font\": {\"color\": \"#4D5663\"}, \"text\": \"\"}, \"zerolinecolor\": \"#E1E5ED\"}, \"yaxis2\": {\"anchor\": \"x2\", \"domain\": [0.8025, 1.0], \"gridcolor\": \"#E1E5ED\", \"showgrid\": false, \"tickfont\": {\"color\": \"#4D5663\"}, \"title\": {\"font\": {\"color\": \"#4D5663\"}, \"text\": \"\"}, \"zerolinecolor\": \"#E1E5ED\"}, \"yaxis3\": {\"anchor\": \"x3\", \"domain\": [0.8025, 1.0], \"gridcolor\": \"#E1E5ED\", \"showgrid\": false, \"tickfont\": {\"color\": \"#4D5663\"}, \"title\": {\"font\": {\"color\": \"#4D5663\"}, \"text\": \"\"}, \"zerolinecolor\": \"#E1E5ED\"}, \"yaxis4\": {\"anchor\": \"x4\", \"domain\": [0.8025, 1.0], \"gridcolor\": \"#E1E5ED\", \"showgrid\": false, \"tickfont\": {\"color\": \"#4D5663\"}, \"title\": {\"font\": {\"color\": \"#4D5663\"}, \"text\": \"\"}, \"zerolinecolor\": \"#E1E5ED\"}, \"yaxis5\": {\"anchor\": \"x5\", \"domain\": [0.535, 0.7325], \"gridcolor\": \"#E1E5ED\", \"showgrid\": false, \"tickfont\": {\"color\": \"#4D5663\"}, \"title\": {\"font\": {\"color\": \"#4D5663\"}, \"text\": \"\"}, \"zerolinecolor\": \"#E1E5ED\"}, \"yaxis6\": {\"anchor\": \"x6\", \"domain\": [0.535, 0.7325], \"gridcolor\": \"#E1E5ED\", \"showgrid\": false, \"tickfont\": {\"color\": \"#4D5663\"}, \"title\": {\"font\": {\"color\": \"#4D5663\"}, \"text\": \"\"}, \"zerolinecolor\": \"#E1E5ED\"}, \"yaxis7\": {\"anchor\": \"x7\", \"domain\": [0.535, 0.7325], \"gridcolor\": \"#E1E5ED\", \"showgrid\": false, \"tickfont\": {\"color\": \"#4D5663\"}, \"title\": {\"font\": {\"color\": \"#4D5663\"}, \"text\": \"\"}, \"zerolinecolor\": \"#E1E5ED\"}, \"yaxis8\": {\"anchor\": \"x8\", \"domain\": [0.535, 0.7325], \"gridcolor\": \"#E1E5ED\", \"showgrid\": false, \"tickfont\": {\"color\": \"#4D5663\"}, \"title\": {\"font\": {\"color\": \"#4D5663\"}, \"text\": \"\"}, \"zerolinecolor\": \"#E1E5ED\"}, \"yaxis9\": {\"anchor\": \"x9\", \"domain\": [0.2675, 0.465], \"gridcolor\": \"#E1E5ED\", \"showgrid\": false, \"tickfont\": {\"color\": \"#4D5663\"}, \"title\": {\"font\": {\"color\": \"#4D5663\"}, \"text\": \"\"}, \"zerolinecolor\": \"#E1E5ED\"}},\n",
       "                        {\"showLink\": true, \"linkText\": \"Export to plot.ly\", \"plotlyServerURL\": \"https://plot.ly\", \"responsive\": true}\n",
       "                    ).then(function(){\n",
       "                            \n",
       "var gd = document.getElementById('3f78d78c-c5ce-4868-b782-2f21c7da1e6e');\n",
       "var x = new MutationObserver(function (mutations, observer) {{\n",
       "        var display = window.getComputedStyle(gd).display;\n",
       "        if (!display || display === 'none') {{\n",
       "            console.log([gd, 'removed!']);\n",
       "            Plotly.purge(gd);\n",
       "            observer.disconnect();\n",
       "        }}\n",
       "}});\n",
       "\n",
       "// Listen for the removal of the full notebook cells\n",
       "var notebookContainer = gd.closest('#notebook-container');\n",
       "if (notebookContainer) {{\n",
       "    x.observe(notebookContainer, {childList: true});\n",
       "}}\n",
       "\n",
       "// Listen for the clearing of the current output cell\n",
       "var outputEl = gd.closest('.output');\n",
       "if (outputEl) {{\n",
       "    x.observe(outputEl, {childList: true});\n",
       "}}\n",
       "\n",
       "                        })\n",
       "                };\n",
       "                });\n",
       "            </script>\n",
       "        </div>"
      ]
     },
     "metadata": {},
     "output_type": "display_data"
    }
   ],
   "source": [
    "df.scatter_matrix()"
   ]
  },
  {
   "cell_type": "code",
   "execution_count": null,
   "metadata": {},
   "outputs": [],
   "source": []
  }
 ],
 "metadata": {
  "kernelspec": {
   "display_name": "Python 3",
   "language": "python",
   "name": "python3"
  },
  "language_info": {
   "codemirror_mode": {
    "name": "ipython",
    "version": 3
   },
   "file_extension": ".py",
   "mimetype": "text/x-python",
   "name": "python",
   "nbconvert_exporter": "python",
   "pygments_lexer": "ipython3",
   "version": "3.7.4"
  }
 },
 "nbformat": 4,
 "nbformat_minor": 2
}
